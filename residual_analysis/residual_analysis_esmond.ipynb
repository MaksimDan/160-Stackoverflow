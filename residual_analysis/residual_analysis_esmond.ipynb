{
 "cells": [
  {
   "cell_type": "markdown",
   "metadata": {},
   "source": [
    "# Load data"
   ]
  },
  {
   "cell_type": "code",
   "execution_count": 9,
   "metadata": {
    "collapsed": true
   },
   "outputs": [],
   "source": [
    "import pandas as pd"
   ]
  },
  {
   "cell_type": "code",
   "execution_count": 57,
   "metadata": {},
   "outputs": [],
   "source": [
    "#activities\n",
    "residual_800 = pd.read_csv('/Users/esmondchu/Dropbox/UC_Davis/STAT/STA160Spring18/160-Stackoverflow-Data/residuals/data/residuals_800_q.csv')"
   ]
  },
  {
   "cell_type": "code",
   "execution_count": 58,
   "metadata": {
    "collapsed": true
   },
   "outputs": [],
   "source": [
    "#questions\n",
    "x_train_800 = pd.read_csv('/Users/esmondchu/Dropbox/UC_Davis/STAT/STA160Spring18/160-Stackoverflow-Data/residuals/data/X_train_800.csv')"
   ]
  },
  {
   "cell_type": "code",
   "execution_count": 60,
   "metadata": {},
   "outputs": [
    {
     "data": {
      "text/html": [
       "<div>\n",
       "<style scoped>\n",
       "    .dataframe tbody tr th:only-of-type {\n",
       "        vertical-align: middle;\n",
       "    }\n",
       "\n",
       "    .dataframe tbody tr th {\n",
       "        vertical-align: top;\n",
       "    }\n",
       "\n",
       "    .dataframe thead th {\n",
       "        text-align: right;\n",
       "    }\n",
       "</style>\n",
       "<table border=\"1\" class=\"dataframe\">\n",
       "  <thead>\n",
       "    <tr style=\"text-align: right;\">\n",
       "      <th></th>\n",
       "      <th>activity</th>\n",
       "      <th>q_num</th>\n",
       "      <th>rank</th>\n",
       "      <th>score</th>\n",
       "      <th>userid</th>\n",
       "    </tr>\n",
       "  </thead>\n",
       "  <tbody>\n",
       "    <tr>\n",
       "      <th>0</th>\n",
       "      <td>answer</td>\n",
       "      <td>0</td>\n",
       "      <td>1</td>\n",
       "      <td>1.234562</td>\n",
       "      <td>571407</td>\n",
       "    </tr>\n",
       "    <tr>\n",
       "      <th>1</th>\n",
       "      <td>comment</td>\n",
       "      <td>0</td>\n",
       "      <td>3952</td>\n",
       "      <td>0.120353</td>\n",
       "      <td>1381767</td>\n",
       "    </tr>\n",
       "    <tr>\n",
       "      <th>2</th>\n",
       "      <td>comment</td>\n",
       "      <td>0</td>\n",
       "      <td>1</td>\n",
       "      <td>1.234562</td>\n",
       "      <td>571407</td>\n",
       "    </tr>\n",
       "    <tr>\n",
       "      <th>3</th>\n",
       "      <td>comment</td>\n",
       "      <td>0</td>\n",
       "      <td>2840</td>\n",
       "      <td>0.206159</td>\n",
       "      <td>1292401</td>\n",
       "    </tr>\n",
       "    <tr>\n",
       "      <th>4</th>\n",
       "      <td>comment</td>\n",
       "      <td>0</td>\n",
       "      <td>2821</td>\n",
       "      <td>0.208532</td>\n",
       "      <td>1025201</td>\n",
       "    </tr>\n",
       "  </tbody>\n",
       "</table>\n",
       "</div>"
      ],
      "text/plain": [
       "  activity  q_num  rank     score   userid\n",
       "0   answer      0     1  1.234562   571407\n",
       "1  comment      0  3952  0.120353  1381767\n",
       "2  comment      0     1  1.234562   571407\n",
       "3  comment      0  2840  0.206159  1292401\n",
       "4  comment      0  2821  0.208532  1025201"
      ]
     },
     "execution_count": 60,
     "metadata": {},
     "output_type": "execute_result"
    }
   ],
   "source": [
    "residual_800.head()"
   ]
  },
  {
   "cell_type": "markdown",
   "metadata": {},
   "source": [
    "# FInd outliers"
   ]
  },
  {
   "cell_type": "code",
   "execution_count": 82,
   "metadata": {},
   "outputs": [],
   "source": [
    "import numpy as np"
   ]
  },
  {
   "cell_type": "code",
   "execution_count": 83,
   "metadata": {
    "collapsed": true
   },
   "outputs": [],
   "source": [
    "def outliers(li):\n",
    "    qua1, qua3 = np.percentile(li, [25, 75])\n",
    "    iqr = qua3 - qua1\n",
    "    upper_bound = qua3 + (iqr * 1.5)\n",
    "    li_outlier = [i for i in li if i >= upper_bound]\n",
    "    return li_outlier"
   ]
  },
  {
   "cell_type": "code",
   "execution_count": 87,
   "metadata": {},
   "outputs": [],
   "source": [
    "outlier_rank = outliers(list(residual_800['rank']))"
   ]
  },
  {
   "cell_type": "code",
   "execution_count": 114,
   "metadata": {},
   "outputs": [],
   "source": [
    "#dataframe with outliers\n",
    "activities_outliers = residual_800[residual_800['rank'].isin(outlier_rank)]"
   ]
  },
  {
   "cell_type": "markdown",
   "metadata": {},
   "source": [
    "# Proportion of each activities in outliers"
   ]
  },
  {
   "cell_type": "code",
   "execution_count": 138,
   "metadata": {
    "collapsed": true
   },
   "outputs": [],
   "source": [
    "import matplotlib.pyplot as plt"
   ]
  },
  {
   "cell_type": "code",
   "execution_count": 139,
   "metadata": {},
   "outputs": [
    {
     "data": {
      "text/plain": [
       "answer      219\n",
       "favorite     97\n",
       "edit         43\n",
       "comment      30\n",
       "Name: activity, dtype: int64"
      ]
     },
     "execution_count": 139,
     "metadata": {},
     "output_type": "execute_result"
    }
   ],
   "source": [
    "activities_outliers.activity.value_counts()"
   ]
  },
  {
   "cell_type": "markdown",
   "metadata": {},
   "source": [
    "# Questions of these observed outlier ranks"
   ]
  },
  {
   "cell_type": "code",
   "execution_count": 127,
   "metadata": {},
   "outputs": [],
   "source": [
    "outlier_question = x_train_800[x_train_800.index.isin(activities_outliers.q_num.unique())]"
   ]
  },
  {
   "cell_type": "code",
   "execution_count": 133,
   "metadata": {
    "scrolled": false
   },
   "outputs": [
    {
     "data": {
      "text/html": [
       "<div>\n",
       "<style scoped>\n",
       "    .dataframe tbody tr th:only-of-type {\n",
       "        vertical-align: middle;\n",
       "    }\n",
       "\n",
       "    .dataframe tbody tr th {\n",
       "        vertical-align: top;\n",
       "    }\n",
       "\n",
       "    .dataframe thead th {\n",
       "        text-align: right;\n",
       "    }\n",
       "</style>\n",
       "<table border=\"1\" class=\"dataframe\">\n",
       "  <thead>\n",
       "    <tr style=\"text-align: right;\">\n",
       "      <th></th>\n",
       "      <th>Unnamed: 0</th>\n",
       "      <th>Unnamed: 0.1</th>\n",
       "      <th>Id</th>\n",
       "      <th>ParentId</th>\n",
       "      <th>AcceptedAnswerId</th>\n",
       "      <th>CreationDate</th>\n",
       "      <th>Score</th>\n",
       "      <th>ViewCount</th>\n",
       "      <th>Body</th>\n",
       "      <th>OwnerUserId</th>\n",
       "      <th>OwnerDisplayName</th>\n",
       "      <th>LastEditorUserId</th>\n",
       "      <th>Title</th>\n",
       "      <th>Tags</th>\n",
       "      <th>AnswerCount</th>\n",
       "      <th>CommentCount</th>\n",
       "      <th>FavoriteCount</th>\n",
       "      <th>ClosedDate</th>\n",
       "    </tr>\n",
       "  </thead>\n",
       "  <tbody>\n",
       "    <tr>\n",
       "      <th>2</th>\n",
       "      <td>2</td>\n",
       "      <td>67737</td>\n",
       "      <td>11209935</td>\n",
       "      <td>NaN</td>\n",
       "      <td>NaN</td>\n",
       "      <td>2012-06-26T14:46:59.163</td>\n",
       "      <td>2</td>\n",
       "      <td>10504.0</td>\n",
       "      <td>&lt;p&gt;I 'm getting the date in the following form...</td>\n",
       "      <td>964819.0</td>\n",
       "      <td>NaN</td>\n",
       "      <td>904049.0</td>\n",
       "      <td>Changing one date format to another</td>\n",
       "      <td>java date format</td>\n",
       "      <td>4.0</td>\n",
       "      <td>1</td>\n",
       "      <td>NaN</td>\n",
       "      <td>NaN</td>\n",
       "    </tr>\n",
       "    <tr>\n",
       "      <th>13</th>\n",
       "      <td>13</td>\n",
       "      <td>1296</td>\n",
       "      <td>8741054</td>\n",
       "      <td>NaN</td>\n",
       "      <td>8741143.0</td>\n",
       "      <td>2012-01-05T10:37:18.253</td>\n",
       "      <td>0</td>\n",
       "      <td>1732.0</td>\n",
       "      <td>&lt;p&gt;How to resolve warning message coming in ec...</td>\n",
       "      <td>374199.0</td>\n",
       "      <td>NaN</td>\n",
       "      <td>1977903.0</td>\n",
       "      <td>Eclipse Warning message</td>\n",
       "      <td>java eclipse</td>\n",
       "      <td>5.0</td>\n",
       "      <td>6</td>\n",
       "      <td>0.0</td>\n",
       "      <td>NaN</td>\n",
       "    </tr>\n",
       "    <tr>\n",
       "      <th>14</th>\n",
       "      <td>14</td>\n",
       "      <td>43834</td>\n",
       "      <td>10314404</td>\n",
       "      <td>NaN</td>\n",
       "      <td>10314451.0</td>\n",
       "      <td>2012-04-25T11:09:04.190</td>\n",
       "      <td>-2</td>\n",
       "      <td>2842.0</td>\n",
       "      <td>&lt;p&gt;I am working on Galaxy Nexus(Android 4.0.3)...</td>\n",
       "      <td>896579.0</td>\n",
       "      <td>NaN</td>\n",
       "      <td>136445.0</td>\n",
       "      <td>How to save captured image to gallery</td>\n",
       "      <td>java android emulation samsung-mobile</td>\n",
       "      <td>2.0</td>\n",
       "      <td>1</td>\n",
       "      <td>NaN</td>\n",
       "      <td>NaN</td>\n",
       "    </tr>\n",
       "    <tr>\n",
       "      <th>23</th>\n",
       "      <td>23</td>\n",
       "      <td>68460</td>\n",
       "      <td>11239086</td>\n",
       "      <td>NaN</td>\n",
       "      <td>11239128.0</td>\n",
       "      <td>2012-06-28T06:23:16.197</td>\n",
       "      <td>132</td>\n",
       "      <td>291504.0</td>\n",
       "      <td>&lt;blockquote&gt;\\r\\r\\r\\n  &lt;p&gt;&lt;strong&gt;Possible Dupl...</td>\n",
       "      <td>1439243.0</td>\n",
       "      <td>NaN</td>\n",
       "      <td>-1.0</td>\n",
       "      <td>java.lang.UnsupportedClassVersionError Unsuppo...</td>\n",
       "      <td>java</td>\n",
       "      <td>7.0</td>\n",
       "      <td>0</td>\n",
       "      <td>33.0</td>\n",
       "      <td>2013-02-04T07:29:18.850</td>\n",
       "    </tr>\n",
       "    <tr>\n",
       "      <th>24</th>\n",
       "      <td>24</td>\n",
       "      <td>20678</td>\n",
       "      <td>9484820</td>\n",
       "      <td>NaN</td>\n",
       "      <td>NaN</td>\n",
       "      <td>2012-02-28T15:33:14.167</td>\n",
       "      <td>-1</td>\n",
       "      <td>1488.0</td>\n",
       "      <td>&lt;p&gt;I have an html file called basic.html and w...</td>\n",
       "      <td>1178770.0</td>\n",
       "      <td>NaN</td>\n",
       "      <td>1400768.0</td>\n",
       "      <td>Regex - find various strings from an HTML file</td>\n",
       "      <td>java html regex</td>\n",
       "      <td>2.0</td>\n",
       "      <td>4</td>\n",
       "      <td>NaN</td>\n",
       "      <td>2014-09-27T14:44:12.220</td>\n",
       "    </tr>\n",
       "  </tbody>\n",
       "</table>\n",
       "</div>"
      ],
      "text/plain": [
       "    Unnamed: 0  Unnamed: 0.1        Id  ParentId  AcceptedAnswerId  \\\n",
       "2            2         67737  11209935       NaN               NaN   \n",
       "13          13          1296   8741054       NaN         8741143.0   \n",
       "14          14         43834  10314404       NaN        10314451.0   \n",
       "23          23         68460  11239086       NaN        11239128.0   \n",
       "24          24         20678   9484820       NaN               NaN   \n",
       "\n",
       "               CreationDate  Score  ViewCount  \\\n",
       "2   2012-06-26T14:46:59.163      2    10504.0   \n",
       "13  2012-01-05T10:37:18.253      0     1732.0   \n",
       "14  2012-04-25T11:09:04.190     -2     2842.0   \n",
       "23  2012-06-28T06:23:16.197    132   291504.0   \n",
       "24  2012-02-28T15:33:14.167     -1     1488.0   \n",
       "\n",
       "                                                 Body  OwnerUserId  \\\n",
       "2   <p>I 'm getting the date in the following form...     964819.0   \n",
       "13  <p>How to resolve warning message coming in ec...     374199.0   \n",
       "14  <p>I am working on Galaxy Nexus(Android 4.0.3)...     896579.0   \n",
       "23  <blockquote>\\r\\r\\r\\n  <p><strong>Possible Dupl...    1439243.0   \n",
       "24  <p>I have an html file called basic.html and w...    1178770.0   \n",
       "\n",
       "    OwnerDisplayName  LastEditorUserId  \\\n",
       "2                NaN          904049.0   \n",
       "13               NaN         1977903.0   \n",
       "14               NaN          136445.0   \n",
       "23               NaN              -1.0   \n",
       "24               NaN         1400768.0   \n",
       "\n",
       "                                                Title  \\\n",
       "2                 Changing one date format to another   \n",
       "13                            Eclipse Warning message   \n",
       "14              How to save captured image to gallery   \n",
       "23  java.lang.UnsupportedClassVersionError Unsuppo...   \n",
       "24     Regex - find various strings from an HTML file   \n",
       "\n",
       "                                     Tags  AnswerCount  CommentCount  \\\n",
       "2                        java date format          4.0             1   \n",
       "13                           java eclipse          5.0             6   \n",
       "14  java android emulation samsung-mobile          2.0             1   \n",
       "23                                   java          7.0             0   \n",
       "24                        java html regex          2.0             4   \n",
       "\n",
       "    FavoriteCount               ClosedDate  \n",
       "2             NaN                      NaN  \n",
       "13            0.0                      NaN  \n",
       "14            NaN                      NaN  \n",
       "23           33.0  2013-02-04T07:29:18.850  \n",
       "24            NaN  2014-09-27T14:44:12.220  "
      ]
     },
     "execution_count": 133,
     "metadata": {},
     "output_type": "execute_result"
    }
   ],
   "source": [
    "outlier_question.head()"
   ]
  },
  {
   "cell_type": "code",
   "execution_count": 163,
   "metadata": {},
   "outputs": [],
   "source": [
    "y_train = pd.read_csv('/Users/esmondchu/Dropbox/UC_Davis/STAT/STA160Spring18/160-Stackoverflow-Data/residuals/data/y_train.csv')"
   ]
  },
  {
   "cell_type": "markdown",
   "metadata": {},
   "source": [
    "# map activity for feature matrix (question number)"
   ]
  },
  {
   "cell_type": "code",
   "execution_count": 331,
   "metadata": {},
   "outputs": [],
   "source": [
    "def map_activity(file_name):\n",
    "    \"\"\" Modify Feature Matrix (Ranks of users for each question) to add activities.\n",
    "    \n",
    "    Argument: file_name (int) - the question number\n",
    "    \n",
    "    Return: pd.dataframe - the modified feature matrix\n",
    "    \"\"\"\n",
    "    \n",
    "    path = '/Users/esmondchu/Dropbox/UC_Davis/STAT/STA160Spring18/160-Stackoverflow-Data/residuals/feature_matrices/'\\\n",
    "    + 'q_' + str(file_name) + '_feature_matrix.csv'\n",
    "    \n",
    "    que = pd.read_csv(path, header = None)\n",
    "    user_activity = residual_800[residual_800.q_num == file_name]\n",
    "    user_activity_dict = {i:j for i, j in zip(user_activity.userid, user_activity.activity)}\n",
    "\n",
    "    activity_que = []\n",
    "    for i in que[0]:\n",
    "        if i in user_activity_dict.keys():\n",
    "            activity_que.append(user_activity_dict.get(i))\n",
    "        else:\n",
    "            activity_que.append('no_act')\n",
    "    que['activity'] = activity_que\n",
    "    \n",
    "    que.sort_values(4)\n",
    "    que['rank'] = que.index\n",
    "    return que"
   ]
  },
  {
   "cell_type": "code",
   "execution_count": 525,
   "metadata": {},
   "outputs": [],
   "source": [
    "def get_feature_rank(num):\n",
    "    \"\"\" Use function: map_activity to run\n",
    "    \n",
    "    Argument: num (int) - question number (feature matrid file)\n",
    "    \n",
    "    Return: pd.DataFrame - the dataframe with sorted feature rank\n",
    "    \"\"\"\n",
    "    que_no_white = map_activity(num)[map_activity(num).activity != 'no_act']\n",
    "\n",
    "    q_num = []\n",
    "    user = []\n",
    "    feature_rank = []\n",
    "    activity = []\n",
    "    rank = []\n",
    "\n",
    "    for i in que_no_white.index:\n",
    "        users = que_no_white.loc[i][1:4]\n",
    "        users_dic = {i:j for i, j in zip(users.index, users.values)}\n",
    "        sorted_dic = sorted(users_dic, key=users_dic.get)\n",
    "    \n",
    "        q_num.append(num)\n",
    "        user.append(que_no_white.loc[i,0])\n",
    "        feature_rank.append(sorted_dic)\n",
    "        activity.append(que_no_white.loc[i]['activity'])\n",
    "        rank.append(que_no_white.loc[i, 'rank'])\n",
    "    \n",
    "    out_dict = {'q_num':q_num, 'user':user, 'feature_rank':feature_rank, 'activity':activity, 'rank':rank}\n",
    "    out_df = pd.DataFrame(out_dict)\n",
    "    out_df = out_df[['q_num','user','rank','feature_rank','activity']]\n",
    "    \n",
    "    return out_df"
   ]
  },
  {
   "cell_type": "code",
   "execution_count": 526,
   "metadata": {},
   "outputs": [
    {
     "data": {
      "text/html": [
       "<div>\n",
       "<style scoped>\n",
       "    .dataframe tbody tr th:only-of-type {\n",
       "        vertical-align: middle;\n",
       "    }\n",
       "\n",
       "    .dataframe tbody tr th {\n",
       "        vertical-align: top;\n",
       "    }\n",
       "\n",
       "    .dataframe thead th {\n",
       "        text-align: right;\n",
       "    }\n",
       "</style>\n",
       "<table border=\"1\" class=\"dataframe\">\n",
       "  <thead>\n",
       "    <tr style=\"text-align: right;\">\n",
       "      <th></th>\n",
       "      <th>q_num</th>\n",
       "      <th>user</th>\n",
       "      <th>rank</th>\n",
       "      <th>feature_rank</th>\n",
       "      <th>activity</th>\n",
       "    </tr>\n",
       "  </thead>\n",
       "  <tbody>\n",
       "    <tr>\n",
       "      <th>0</th>\n",
       "      <td>101</td>\n",
       "      <td>571407.0</td>\n",
       "      <td>2</td>\n",
       "      <td>[1, 3, 2]</td>\n",
       "      <td>comment</td>\n",
       "    </tr>\n",
       "    <tr>\n",
       "      <th>1</th>\n",
       "      <td>101</td>\n",
       "      <td>537445.0</td>\n",
       "      <td>309</td>\n",
       "      <td>[3, 2, 1]</td>\n",
       "      <td>favorite</td>\n",
       "    </tr>\n",
       "    <tr>\n",
       "      <th>2</th>\n",
       "      <td>101</td>\n",
       "      <td>177800.0</td>\n",
       "      <td>1792</td>\n",
       "      <td>[1, 3, 2]</td>\n",
       "      <td>edit</td>\n",
       "    </tr>\n",
       "    <tr>\n",
       "      <th>3</th>\n",
       "      <td>101</td>\n",
       "      <td>422437.0</td>\n",
       "      <td>4452</td>\n",
       "      <td>[1, 3, 2]</td>\n",
       "      <td>favorite</td>\n",
       "    </tr>\n",
       "  </tbody>\n",
       "</table>\n",
       "</div>"
      ],
      "text/plain": [
       "   q_num      user  rank feature_rank  activity\n",
       "0    101  571407.0     2    [1, 3, 2]   comment\n",
       "1    101  537445.0   309    [3, 2, 1]  favorite\n",
       "2    101  177800.0  1792    [1, 3, 2]      edit\n",
       "3    101  422437.0  4452    [1, 3, 2]  favorite"
      ]
     },
     "execution_count": 526,
     "metadata": {},
     "output_type": "execute_result"
    }
   ],
   "source": [
    "#example\n",
    "get_feature_rank(101)"
   ]
  }
 ],
 "metadata": {
  "kernelspec": {
   "display_name": "Python 3",
   "language": "python",
   "name": "python3"
  },
  "language_info": {
   "codemirror_mode": {
    "name": "ipython",
    "version": 3
   },
   "file_extension": ".py",
   "mimetype": "text/x-python",
   "name": "python",
   "nbconvert_exporter": "python",
   "pygments_lexer": "ipython3",
   "version": "3.6.5"
  },
  "toc": {
   "base_numbering": 1,
   "nav_menu": {},
   "number_sections": true,
   "sideBar": true,
   "skip_h1_title": false,
   "title_cell": "Table of Contents",
   "title_sidebar": "Contents",
   "toc_cell": false,
   "toc_position": {},
   "toc_section_display": true,
   "toc_window_display": false
  }
 },
 "nbformat": 4,
 "nbformat_minor": 2
}
