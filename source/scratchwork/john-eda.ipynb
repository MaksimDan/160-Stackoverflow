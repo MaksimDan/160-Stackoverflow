{
 "cells": [
  {
   "cell_type": "code",
   "execution_count": null,
   "metadata": {
    "collapsed": true
   },
   "outputs": [],
   "source": [
    "\"\"\"\n",
    "TODOs:\n",
    "Build a graph where nodes are master tags, and edges are relational strength between two tags \n",
    "(for example, np-array and np-matrix as two individual tags that are highly coorelated with one another). \n",
    "As a measure of strength between tags, see cosine similiarity. \n",
    "Since there are a constant number of tags (roughly 6000), represent the graph as an adjacency matrix.\n",
    "\n",
    "Notes:\n",
    "https://tinyurl.com/y9hcxglo\n",
    "\"\"\""
   ]
  },
  {
   "cell_type": "code",
   "execution_count": 2,
   "metadata": {
    "collapsed": true
   },
   "outputs": [],
   "source": [
    "import pandas as pd\n",
    "from collections import Counter, defaultdict\n",
    "import json\n",
    "from pprint import pprint\n",
    "import seaborn as sns\n",
    "import matplotlib.pyplot as plt\n",
    "import numpy as np\n",
    "PATH = '/Users/John/PycharmProjects/160-Stackoverflow/source/sandbox/300000_rows/'\n",
    "QUESTION = 1\n",
    "ANSWER = 2\n",
    "UP = 2\n",
    "DOWN = 3\n",
    "path = lambda x: PATH + x"
   ]
  },
  {
   "cell_type": "code",
   "execution_count": 2,
   "metadata": {
    "collapsed": false
   },
   "outputs": [
    {
     "name": "stderr",
     "output_type": "stream",
     "text": [
      "/Users/John/Dropbox/ECS171/HW3/venv/lib/python3.6/site-packages/IPython/core/interactiveshell.py:2728: DtypeWarning: Columns (10) have mixed types. Specify dtype option on import or set low_memory=False.\n",
      "  interactivity=interactivity, compiler=compiler, result=result)\n"
     ]
    }
   ],
   "source": [
    "posts = pd.read_csv(path('Posts.csv'))\n",
    "votes = pd.read_csv(path('Votes.csv'))"
   ]
  },
  {
   "cell_type": "code",
   "execution_count": null,
   "metadata": {
    "collapsed": true
   },
   "outputs": [],
   "source": [
    "posts['ParentID'] = posts['ParentID'].fillna(0).astype(int)\n",
    "posts['AcceptedAnswerId'] = posts['AcceptedAnswerId'].fillna(0).astype(int)"
   ]
  },
  {
   "cell_type": "markdown",
   "metadata": {},
   "source": [
    "### What is the ratio of questions left answered?"
   ]
  },
  {
   "cell_type": "code",
   "execution_count": null,
   "metadata": {
    "collapsed": true
   },
   "outputs": [],
   "source": [
    "questions = posts[posts['PostTypeId'] == QUESTION]\n",
    "unanswered = questions[questions['AcceptedAnswerId'] == 0]\n",
    "#len(questions[questions['AnswerCount'] == 0]) / len(questions)"
   ]
  },
  {
   "cell_type": "markdown",
   "metadata": {},
   "source": [
    "### What is the ratio of questions without an accepted answer?"
   ]
  },
  {
   "cell_type": "code",
   "execution_count": null,
   "metadata": {
    "collapsed": true
   },
   "outputs": [],
   "source": [
    "len(unanswered) / len(questions)"
   ]
  },
  {
   "cell_type": "code",
   "execution_count": null,
   "metadata": {
    "collapsed": true
   },
   "outputs": [],
   "source": [
    "unanswered.rename(columns = {'Id':'PostId'}, inplace = True)\n",
    "upvotes = votes[votes['VoteTypeId'] == UP]"
   ]
  },
  {
   "cell_type": "code",
   "execution_count": null,
   "metadata": {
    "collapsed": true
   },
   "outputs": [],
   "source": [
    "no_ans_q = questions[questions['AnswerCount'] == 0]\n",
    "no_ans_q.rename(columns = {'Id':'PostId'}, inplace = True)\n",
    "uv_no_ans = upvotes.join(no_ans_q.set_index('PostId'), on='PostId', how='inner', lsuffix='_x')"
   ]
  },
  {
   "cell_type": "code",
   "execution_count": null,
   "metadata": {
    "collapsed": true
   },
   "outputs": [],
   "source": [
    "# List the 15 most upvoted questions that are unanswered.\n",
    "top_uv_no_ans = Counter(uv_no_ans['PostId']).most_common(15)"
   ]
  },
  {
   "cell_type": "markdown",
   "metadata": {},
   "source": [
    "### List the 15 most upvoted questions that are unanswered."
   ]
  },
  {
   "cell_type": "code",
   "execution_count": null,
   "metadata": {
    "collapsed": true
   },
   "outputs": [],
   "source": [
    "unanswered.sort_values(by='Score',ascending=False)[:15]"
   ]
  },
  {
   "cell_type": "code",
   "execution_count": null,
   "metadata": {
    "collapsed": true
   },
   "outputs": [],
   "source": [
    "posts['CreationDate'] = pd.to_datetime(posts.CreationDate)\n",
    "#posts.sort_values(by='CreationDate')[:10]"
   ]
  },
  {
   "cell_type": "markdown",
   "metadata": {},
   "source": [
    "### What is the mean and median response for a question for each of the 20 most popular tags?\n",
    "The mean and median response is the difference between when the question is asked and when the first answer is. "
   ]
  },
  {
   "cell_type": "code",
   "execution_count": null,
   "metadata": {
    "collapsed": true
   },
   "outputs": [],
   "source": [
    "tags = pd.read_csv('/Users/John/PycharmProjects/160-Stackoverflow/source/sandbox/tags/tag_distribution.csv')"
   ]
  },
  {
   "cell_type": "code",
   "execution_count": null,
   "metadata": {
    "collapsed": true
   },
   "outputs": [],
   "source": [
    "top_tags = tags.sort_values(by='frequency', ascending=False)[:20]"
   ]
  },
  {
   "cell_type": "markdown",
   "metadata": {},
   "source": [
    "#### Getting the time between the question is asked and the accepted answer "
   ]
  },
  {
   "cell_type": "code",
   "execution_count": null,
   "metadata": {
    "collapsed": true
   },
   "outputs": [],
   "source": [
    "answers = posts[posts['PostTypeId'] == ANSWER] \n",
    "def time_diff(question_row):\n",
    "    answer_row = answers.loc[answers['Id'] == question_row['AcceptedAnswerId']]\n",
    "    return answer_row.get_value(answer_row.index.values[0], 'CreationDate') - question_row.get_value(4)"
   ]
  },
  {
   "cell_type": "code",
   "execution_count": null,
   "metadata": {
    "collapsed": true
   },
   "outputs": [],
   "source": [
    "questions['CreationDate'] = pd.to_datetime(questions['CreationDate'])"
   ]
  },
  {
   "cell_type": "code",
   "execution_count": null,
   "metadata": {
    "collapsed": true,
    "scrolled": true
   },
   "outputs": [],
   "source": [
    "answered_questions = questions[questions['AcceptedAnswerId'] != 0]\n",
    "answered_questions['AcceptedAnswerTime'] = answered_questions.apply(time_diff, axis=1)"
   ]
  },
  {
   "cell_type": "code",
   "execution_count": null,
   "metadata": {
    "collapsed": true
   },
   "outputs": [],
   "source": [
    "tag_dict = json.load(open('/Users/John/PycharmProjects/160-Stackoverflow/source/sandbox/tag_network_load.json'))"
   ]
  },
  {
   "cell_type": "code",
   "execution_count": null,
   "metadata": {
    "collapsed": true
   },
   "outputs": [],
   "source": [
    "# tag with accepted answer time in hours\n",
    "post_by_tags = pd.DataFrame(columns=list(top_tags['tag']))\n",
    "for tag in top_tags['tag']:\n",
    "    rows = answered_questions.loc[posts['Id'].isin(tag_dict[tag])]\n",
    "    # convert to hours\n",
    "    post_by_tags[tag] = rows['AcceptedAnswerTime'].apply(lambda x: x.seconds / 3600)"
   ]
  },
  {
   "cell_type": "code",
   "execution_count": null,
   "metadata": {
    "collapsed": true
   },
   "outputs": [],
   "source": [
    "fig=plt.figure(figsize=(18, 16), dpi= 80, facecolor='w', edgecolor='k')\n",
    "mean_responses = post_by_tags.mean().sort_values()\n",
    "sns.set(context='notebook', style='whitegrid')\n",
    "sns.utils.axlabel(xlabel=\"Tags\", ylabel=\"Time in Hours\",fontsize=16)\n",
    "ax = sns.boxplot(x=mean_responses.axes[0].values, y=list(mean_responses),palette=\"Set3\")\n",
    "ax.set_title('Top 20 Tags Mean Accepted Answer Response Time')\n",
    "plt.show()"
   ]
  },
  {
   "cell_type": "code",
   "execution_count": null,
   "metadata": {
    "collapsed": true
   },
   "outputs": [],
   "source": [
    "fig=plt.figure(figsize=(18, 16), dpi= 80, facecolor='w', edgecolor='k')\n",
    "median_responses = post_by_tags.median().sort_values()\n",
    "sns.set(context='notebook', style='whitegrid')\n",
    "sns.utils.axlabel(xlabel=\"Tags\", ylabel=\"Time in Hours\",fontsize=16)\n",
    "ax = sns.boxplot(x=median_responses.axes[0].values, y=list(median_responses),palette=\"Set3\")\n",
    "ax.set_title('Top 20 Tags Median Accepted Answer Response Time')\n",
    "plt.show()"
   ]
  },
  {
   "cell_type": "markdown",
   "metadata": {},
   "source": [
    "## Tag Network\n",
    "\n",
    "https://trello.com/c/kxI21E3n"
   ]
  },
  {
   "cell_type": "code",
   "execution_count": 14,
   "metadata": {
    "collapsed": false
   },
   "outputs": [],
   "source": [
    "tags = pd.read_csv('/Users/John/PycharmProjects/160-Stackoverflow/source/sandbox/tags/tag_distribution.csv')\n",
    "tag_dict = json.load(open('/Users/John/Dropbox/160-Stackoverflow-Data/tags/tag_index_network.json'))"
   ]
  },
  {
   "cell_type": "code",
   "execution_count": null,
   "metadata": {
    "collapsed": false
   },
   "outputs": [],
   "source": [
    "# store the cosine(tag1, tag2)\n",
    "n = 100\n",
    "tag_similarity = pd.DataFrame([],columns=all_tags[:n], index=all_tags[:n])\n",
    "\n",
    "def cosine_sim(tag1, tag2, tag_dict):\n",
    "    tag1_set = set(tag_dict[tag1])\n",
    "    tag2_set = set(tag_dict[tag2])\n",
    "    num =  len(tag1_set & tag2_set)\n",
    "    den = (len(tag1_set)**2)**5 * (len(tag2_set)**2)**.5\n",
    "    return num / den \n",
    "\n",
    "for i in range(n-1):\n",
    "    tag1 = all_tags[i]\n",
    "    for j in range(i+1, n-1):\n",
    "        tag2 = all_tags[j]\n",
    "        tag_similarity.at[tag1,tag2] = cosine_sim(tag1, tag2, tag_dict)\n",
    "        \n",
    "def build_graph():\n",
    "    graph = defaultdict(dict)\n",
    "    for i in range(n):\n",
    "        tag = all_tags[i]\n",
    "        similar_tags = tag_similarity.loc[tag,:].nlargest(n=15)\n",
    "        \n",
    "        graph[tag] = {'similar_tags' : [(a, b) for a, b in zip(similar_tags.axes[0].tolist(), similar_tags.values.tolist())\\\n",
    "                                       if b > 0]}\n",
    "    return graph\n",
    "\n",
    "tag_similarity = tag_similarity.astype(float)\n",
    "graph = build_graph()\n",
    "\n",
    "import json\n",
    "with open('tag_network.json', 'w+') as outfile:\n",
    "    json.dump(graph, outfile)"
   ]
  },
  {
   "cell_type": "code",
   "execution_count": 7,
   "metadata": {
    "collapsed": false
   },
   "outputs": [],
   "source": [
    "with open('/Users/John/Dropbox/160-Stackoverflow-Data/tags/tag_network.json') as json_file:\n",
    "    graph = json.load(json_file)"
   ]
  },
  {
   "cell_type": "code",
   "execution_count": null,
   "metadata": {
    "collapsed": false
   },
   "outputs": [],
   "source": [
    "tag_dict = json.load(open('/Users/John/Dropbox/160-Stackoverflow-Data/tags/tag_index_network.json'))"
   ]
  },
  {
   "cell_type": "code",
   "execution_count": 3,
   "metadata": {
    "collapsed": true
   },
   "outputs": [],
   "source": [
    "users = pd.read_csv(path('Users.csv'))"
   ]
  },
  {
   "cell_type": "code",
   "execution_count": 4,
   "metadata": {
    "collapsed": false
   },
   "outputs": [
    {
     "data": {
      "text/html": [
       "<div>\n",
       "<style scoped>\n",
       "    .dataframe tbody tr th:only-of-type {\n",
       "        vertical-align: middle;\n",
       "    }\n",
       "\n",
       "    .dataframe tbody tr th {\n",
       "        vertical-align: top;\n",
       "    }\n",
       "\n",
       "    .dataframe thead th {\n",
       "        text-align: right;\n",
       "    }\n",
       "</style>\n",
       "<table border=\"1\" class=\"dataframe\">\n",
       "  <thead>\n",
       "    <tr style=\"text-align: right;\">\n",
       "      <th></th>\n",
       "      <th>Id</th>\n",
       "      <th>Reputation</th>\n",
       "      <th>CreationDate</th>\n",
       "      <th>DisplayName</th>\n",
       "      <th>EmailHash</th>\n",
       "      <th>LastAccessDate</th>\n",
       "      <th>WebsiteUrl</th>\n",
       "      <th>Location</th>\n",
       "      <th>Age</th>\n",
       "      <th>AboutMe</th>\n",
       "      <th>Views</th>\n",
       "      <th>UpVotes</th>\n",
       "      <th>DownVotes</th>\n",
       "    </tr>\n",
       "  </thead>\n",
       "  <tbody>\n",
       "    <tr>\n",
       "      <th>0</th>\n",
       "      <td>9169319</td>\n",
       "      <td>1</td>\n",
       "      <td>2018-01-03T17:30:02.617</td>\n",
       "      <td>Robert Kirkwood</td>\n",
       "      <td>NaN</td>\n",
       "      <td>2018-01-03T21:47:46.450</td>\n",
       "      <td>NaN</td>\n",
       "      <td>NaN</td>\n",
       "      <td>NaN</td>\n",
       "      <td>NaN</td>\n",
       "      <td>0</td>\n",
       "      <td>0</td>\n",
       "      <td>0</td>\n",
       "    </tr>\n",
       "    <tr>\n",
       "      <th>1</th>\n",
       "      <td>9169320</td>\n",
       "      <td>1</td>\n",
       "      <td>2018-01-03T17:30:06.987</td>\n",
       "      <td>nirmpate</td>\n",
       "      <td>NaN</td>\n",
       "      <td>2018-02-16T15:12:18.370</td>\n",
       "      <td>NaN</td>\n",
       "      <td>NaN</td>\n",
       "      <td>NaN</td>\n",
       "      <td>NaN</td>\n",
       "      <td>0</td>\n",
       "      <td>0</td>\n",
       "      <td>0</td>\n",
       "    </tr>\n",
       "    <tr>\n",
       "      <th>2</th>\n",
       "      <td>9169321</td>\n",
       "      <td>1</td>\n",
       "      <td>2018-01-03T17:30:35.420</td>\n",
       "      <td>Raphael Pinheiro</td>\n",
       "      <td>NaN</td>\n",
       "      <td>2018-01-04T19:47:26.713</td>\n",
       "      <td>NaN</td>\n",
       "      <td>Curitiba - PR, Brasil</td>\n",
       "      <td>NaN</td>\n",
       "      <td>NaN</td>\n",
       "      <td>0</td>\n",
       "      <td>0</td>\n",
       "      <td>0</td>\n",
       "    </tr>\n",
       "    <tr>\n",
       "      <th>3</th>\n",
       "      <td>9169322</td>\n",
       "      <td>1</td>\n",
       "      <td>2018-01-03T17:31:00.230</td>\n",
       "      <td>Mohanad AL Ansary</td>\n",
       "      <td>NaN</td>\n",
       "      <td>2018-01-03T17:31:00.230</td>\n",
       "      <td>NaN</td>\n",
       "      <td>Sudan</td>\n",
       "      <td>NaN</td>\n",
       "      <td>NaN</td>\n",
       "      <td>0</td>\n",
       "      <td>0</td>\n",
       "      <td>0</td>\n",
       "    </tr>\n",
       "    <tr>\n",
       "      <th>4</th>\n",
       "      <td>9169323</td>\n",
       "      <td>1</td>\n",
       "      <td>2018-01-03T17:31:36.103</td>\n",
       "      <td>Karina Grzeszkiewicz</td>\n",
       "      <td>NaN</td>\n",
       "      <td>2018-01-08T20:35:14.267</td>\n",
       "      <td>NaN</td>\n",
       "      <td>NaN</td>\n",
       "      <td>NaN</td>\n",
       "      <td>NaN</td>\n",
       "      <td>0</td>\n",
       "      <td>0</td>\n",
       "      <td>0</td>\n",
       "    </tr>\n",
       "  </tbody>\n",
       "</table>\n",
       "</div>"
      ],
      "text/plain": [
       "        Id  Reputation             CreationDate           DisplayName  \\\n",
       "0  9169319           1  2018-01-03T17:30:02.617       Robert Kirkwood   \n",
       "1  9169320           1  2018-01-03T17:30:06.987              nirmpate   \n",
       "2  9169321           1  2018-01-03T17:30:35.420      Raphael Pinheiro   \n",
       "3  9169322           1  2018-01-03T17:31:00.230     Mohanad AL Ansary   \n",
       "4  9169323           1  2018-01-03T17:31:36.103  Karina Grzeszkiewicz   \n",
       "\n",
       "   EmailHash           LastAccessDate WebsiteUrl               Location  Age  \\\n",
       "0        NaN  2018-01-03T21:47:46.450        NaN                    NaN  NaN   \n",
       "1        NaN  2018-02-16T15:12:18.370        NaN                    NaN  NaN   \n",
       "2        NaN  2018-01-04T19:47:26.713        NaN  Curitiba - PR, Brasil  NaN   \n",
       "3        NaN  2018-01-03T17:31:00.230        NaN                  Sudan  NaN   \n",
       "4        NaN  2018-01-08T20:35:14.267        NaN                    NaN  NaN   \n",
       "\n",
       "  AboutMe  Views  UpVotes  DownVotes  \n",
       "0     NaN      0        0          0  \n",
       "1     NaN      0        0          0  \n",
       "2     NaN      0        0          0  \n",
       "3     NaN      0        0          0  \n",
       "4     NaN      0        0          0  "
      ]
     },
     "execution_count": 4,
     "metadata": {},
     "output_type": "execute_result"
    }
   ],
   "source": [
    "users.head()"
   ]
  },
  {
   "cell_type": "code",
   "execution_count": 10,
   "metadata": {
    "collapsed": false
   },
   "outputs": [],
   "source": [
    "users = pd.read_csv('/Users/John/Dropbox/160-Stackoverflow-Data/train_test/Users.csv')\n",
    "posts = pd.read_csv('/Users/John/Dropbox/160-Stackoverflow-Data/train_test/X.csv')"
   ]
  },
  {
   "cell_type": "code",
   "execution_count": 14,
   "metadata": {
    "collapsed": false
   },
   "outputs": [
    {
     "data": {
      "image/png": "[encoded data removed]",
      "text/plain": [
       "<matplotlib.figure.Figure at 0x11d531c50>"
      ]
     },
     "metadata": {},
     "output_type": "display_data"
    }
   ],
   "source": [
    "fig = sns.distplot(users['Reputation'].dropna()))\n",
    "fig.set(title=\"Distribution of User Reputation\", xlabel='Log(Reputation)', ylabel='Percentage of Users')\n",
    "plt.show()"
   ]
  },
  {
   "cell_type": "code",
   "execution_count": 19,
   "metadata": {
    "collapsed": false
   },
   "outputs": [
    {
     "data": {
      "image/png": "[encoded data removed]",
      "text/plain": [
       "<matplotlib.figure.Figure at 0x119e337b8>"
      ]
     },
     "metadata": {},
     "output_type": "display_data"
    }
   ],
   "source": [
    "fig = sns.distplot(posts['AnswerCount'].dropna())\n",
    "fig.set(title=\"Distribution of Answer Count\", xlabel='Answer Count', ylabel='Percentage of Questions')\n",
    "plt.show()"
   ]
  },
  {
   "cell_type": "code",
   "execution_count": 20,
   "metadata": {
    "collapsed": false
   },
   "outputs": [
    {
     "data": {
      "image/png": "[encoded data removed]",
      "text/plain": [
       "<matplotlib.figure.Figure at 0x11d3440f0>"
      ]
     },
     "metadata": {},
     "output_type": "display_data"
    }
   ],
   "source": [
    "fig = sns.distplot(posts['CommentCount'].dropna())\n",
    "fig.set(title=\"Distribution of Comment Count\", xlabel='Comment Count', ylabel='Percentage of Questions')\n",
    "plt.show()"
   ]
  },
  {
   "cell_type": "code",
   "execution_count": 21,
   "metadata": {
    "collapsed": false
   },
   "outputs": [
    {
     "data": {
      "text/plain": [
       "0.04779663757438567"
      ]
     },
     "execution_count": 21,
     "metadata": {},
     "output_type": "execute_result"
    }
   ],
   "source": [
    "len(posts[posts['AnswerCount'] == 0]) / len(posts)"
   ]
  },
  {
   "cell_type": "code",
   "execution_count": null,
   "metadata": {
    "collapsed": true
   },
   "outputs": [],
   "source": []
  }
 ],
 "metadata": {
  "kernelspec": {
   "display_name": "venv",
   "language": "python",
   "name": "venv"
  },
  "language_info": {
   "codemirror_mode": {
    "name": "ipython",
    "version": 3
   },
   "file_extension": ".py",
   "mimetype": "text/x-python",
   "name": "python",
   "nbconvert_exporter": "python",
   "pygments_lexer": "ipython3",
   "version": "3.6.3"
  },
  "toc": {
   "nav_menu": {},
   "number_sections": true,
   "sideBar": true,
   "skip_h1_title": false,
   "title_cell": "Table of Contents",
   "title_sidebar": "Contents",
   "toc_cell": false,
   "toc_position": {},
   "toc_section_display": true,
   "toc_window_display": true
  }
 },
 "nbformat": 4,
 "nbformat_minor": 1
}
