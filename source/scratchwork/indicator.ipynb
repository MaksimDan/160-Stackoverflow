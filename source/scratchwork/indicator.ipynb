{
 "cells": [
  {
   "cell_type": "markdown",
   "metadata": {},
   "source": [
    "# Indicator Variables"
   ]
  },
  {
   "cell_type": "code",
   "execution_count": 1,
   "metadata": {},
   "outputs": [],
   "source": [
    "import pandas as pd\n",
    "import numpy as np\n",
    "import pickle"
   ]
  },
  {
   "cell_type": "code",
<<<<<<< HEAD
   "execution_count": 3,
=======
   "execution_count": 2,
>>>>>>> 901709588ef2d9313e22a4333b8b5be7fa3c8b99
   "metadata": {},
   "outputs": [
    {
     "ename": "FileNotFoundError",
     "evalue": "File b'../../160-Stackoverflow-Data/train_test/Users.csv' does not exist",
     "output_type": "error",
     "traceback": [
      "\u001b[1;31m---------------------------------------------------------------------------\u001b[0m",
      "\u001b[1;31mFileNotFoundError\u001b[0m                         Traceback (most recent call last)",
      "\u001b[1;32m<ipython-input-2-811aca364a73>\u001b[0m in \u001b[0;36m<module>\u001b[1;34m()\u001b[0m\n\u001b[1;32m----> 1\u001b[1;33m \u001b[0mUsers\u001b[0m \u001b[1;33m=\u001b[0m \u001b[0mpd\u001b[0m\u001b[1;33m.\u001b[0m\u001b[0mread_csv\u001b[0m\u001b[1;33m(\u001b[0m\u001b[1;34m'../../160-Stackoverflow-Data/train_test/Users.csv'\u001b[0m\u001b[1;33m)\u001b[0m\u001b[1;33m\u001b[0m\u001b[0m\n\u001b[0m",
      "\u001b[1;32m~\\Anaconda3\\lib\\site-packages\\pandas\\io\\parsers.py\u001b[0m in \u001b[0;36mparser_f\u001b[1;34m(filepath_or_buffer, sep, delimiter, header, names, index_col, usecols, squeeze, prefix, mangle_dupe_cols, dtype, engine, converters, true_values, false_values, skipinitialspace, skiprows, nrows, na_values, keep_default_na, na_filter, verbose, skip_blank_lines, parse_dates, infer_datetime_format, keep_date_col, date_parser, dayfirst, iterator, chunksize, compression, thousands, decimal, lineterminator, quotechar, quoting, escapechar, comment, encoding, dialect, tupleize_cols, error_bad_lines, warn_bad_lines, skipfooter, skip_footer, doublequote, delim_whitespace, as_recarray, compact_ints, use_unsigned, low_memory, buffer_lines, memory_map, float_precision)\u001b[0m\n\u001b[0;32m    707\u001b[0m                     skip_blank_lines=skip_blank_lines)\n\u001b[0;32m    708\u001b[0m \u001b[1;33m\u001b[0m\u001b[0m\n\u001b[1;32m--> 709\u001b[1;33m         \u001b[1;32mreturn\u001b[0m \u001b[0m_read\u001b[0m\u001b[1;33m(\u001b[0m\u001b[0mfilepath_or_buffer\u001b[0m\u001b[1;33m,\u001b[0m \u001b[0mkwds\u001b[0m\u001b[1;33m)\u001b[0m\u001b[1;33m\u001b[0m\u001b[0m\n\u001b[0m\u001b[0;32m    710\u001b[0m \u001b[1;33m\u001b[0m\u001b[0m\n\u001b[0;32m    711\u001b[0m     \u001b[0mparser_f\u001b[0m\u001b[1;33m.\u001b[0m\u001b[0m__name__\u001b[0m \u001b[1;33m=\u001b[0m \u001b[0mname\u001b[0m\u001b[1;33m\u001b[0m\u001b[0m\n",
      "\u001b[1;32m~\\Anaconda3\\lib\\site-packages\\pandas\\io\\parsers.py\u001b[0m in \u001b[0;36m_read\u001b[1;34m(filepath_or_buffer, kwds)\u001b[0m\n\u001b[0;32m    447\u001b[0m \u001b[1;33m\u001b[0m\u001b[0m\n\u001b[0;32m    448\u001b[0m     \u001b[1;31m# Create the parser.\u001b[0m\u001b[1;33m\u001b[0m\u001b[1;33m\u001b[0m\u001b[0m\n\u001b[1;32m--> 449\u001b[1;33m     \u001b[0mparser\u001b[0m \u001b[1;33m=\u001b[0m \u001b[0mTextFileReader\u001b[0m\u001b[1;33m(\u001b[0m\u001b[0mfilepath_or_buffer\u001b[0m\u001b[1;33m,\u001b[0m \u001b[1;33m**\u001b[0m\u001b[0mkwds\u001b[0m\u001b[1;33m)\u001b[0m\u001b[1;33m\u001b[0m\u001b[0m\n\u001b[0m\u001b[0;32m    450\u001b[0m \u001b[1;33m\u001b[0m\u001b[0m\n\u001b[0;32m    451\u001b[0m     \u001b[1;32mif\u001b[0m \u001b[0mchunksize\u001b[0m \u001b[1;32mor\u001b[0m \u001b[0miterator\u001b[0m\u001b[1;33m:\u001b[0m\u001b[1;33m\u001b[0m\u001b[0m\n",
      "\u001b[1;32m~\\Anaconda3\\lib\\site-packages\\pandas\\io\\parsers.py\u001b[0m in \u001b[0;36m__init__\u001b[1;34m(self, f, engine, **kwds)\u001b[0m\n\u001b[0;32m    816\u001b[0m             \u001b[0mself\u001b[0m\u001b[1;33m.\u001b[0m\u001b[0moptions\u001b[0m\u001b[1;33m[\u001b[0m\u001b[1;34m'has_index_names'\u001b[0m\u001b[1;33m]\u001b[0m \u001b[1;33m=\u001b[0m \u001b[0mkwds\u001b[0m\u001b[1;33m[\u001b[0m\u001b[1;34m'has_index_names'\u001b[0m\u001b[1;33m]\u001b[0m\u001b[1;33m\u001b[0m\u001b[0m\n\u001b[0;32m    817\u001b[0m \u001b[1;33m\u001b[0m\u001b[0m\n\u001b[1;32m--> 818\u001b[1;33m         \u001b[0mself\u001b[0m\u001b[1;33m.\u001b[0m\u001b[0m_make_engine\u001b[0m\u001b[1;33m(\u001b[0m\u001b[0mself\u001b[0m\u001b[1;33m.\u001b[0m\u001b[0mengine\u001b[0m\u001b[1;33m)\u001b[0m\u001b[1;33m\u001b[0m\u001b[0m\n\u001b[0m\u001b[0;32m    819\u001b[0m \u001b[1;33m\u001b[0m\u001b[0m\n\u001b[0;32m    820\u001b[0m     \u001b[1;32mdef\u001b[0m \u001b[0mclose\u001b[0m\u001b[1;33m(\u001b[0m\u001b[0mself\u001b[0m\u001b[1;33m)\u001b[0m\u001b[1;33m:\u001b[0m\u001b[1;33m\u001b[0m\u001b[0m\n",
      "\u001b[1;32m~\\Anaconda3\\lib\\site-packages\\pandas\\io\\parsers.py\u001b[0m in \u001b[0;36m_make_engine\u001b[1;34m(self, engine)\u001b[0m\n\u001b[0;32m   1047\u001b[0m     \u001b[1;32mdef\u001b[0m \u001b[0m_make_engine\u001b[0m\u001b[1;33m(\u001b[0m\u001b[0mself\u001b[0m\u001b[1;33m,\u001b[0m \u001b[0mengine\u001b[0m\u001b[1;33m=\u001b[0m\u001b[1;34m'c'\u001b[0m\u001b[1;33m)\u001b[0m\u001b[1;33m:\u001b[0m\u001b[1;33m\u001b[0m\u001b[0m\n\u001b[0;32m   1048\u001b[0m         \u001b[1;32mif\u001b[0m \u001b[0mengine\u001b[0m \u001b[1;33m==\u001b[0m \u001b[1;34m'c'\u001b[0m\u001b[1;33m:\u001b[0m\u001b[1;33m\u001b[0m\u001b[0m\n\u001b[1;32m-> 1049\u001b[1;33m             \u001b[0mself\u001b[0m\u001b[1;33m.\u001b[0m\u001b[0m_engine\u001b[0m \u001b[1;33m=\u001b[0m \u001b[0mCParserWrapper\u001b[0m\u001b[1;33m(\u001b[0m\u001b[0mself\u001b[0m\u001b[1;33m.\u001b[0m\u001b[0mf\u001b[0m\u001b[1;33m,\u001b[0m \u001b[1;33m**\u001b[0m\u001b[0mself\u001b[0m\u001b[1;33m.\u001b[0m\u001b[0moptions\u001b[0m\u001b[1;33m)\u001b[0m\u001b[1;33m\u001b[0m\u001b[0m\n\u001b[0m\u001b[0;32m   1050\u001b[0m         \u001b[1;32melse\u001b[0m\u001b[1;33m:\u001b[0m\u001b[1;33m\u001b[0m\u001b[0m\n\u001b[0;32m   1051\u001b[0m             \u001b[1;32mif\u001b[0m \u001b[0mengine\u001b[0m \u001b[1;33m==\u001b[0m \u001b[1;34m'python'\u001b[0m\u001b[1;33m:\u001b[0m\u001b[1;33m\u001b[0m\u001b[0m\n",
      "\u001b[1;32m~\\Anaconda3\\lib\\site-packages\\pandas\\io\\parsers.py\u001b[0m in \u001b[0;36m__init__\u001b[1;34m(self, src, **kwds)\u001b[0m\n\u001b[0;32m   1693\u001b[0m         \u001b[0mkwds\u001b[0m\u001b[1;33m[\u001b[0m\u001b[1;34m'allow_leading_cols'\u001b[0m\u001b[1;33m]\u001b[0m \u001b[1;33m=\u001b[0m \u001b[0mself\u001b[0m\u001b[1;33m.\u001b[0m\u001b[0mindex_col\u001b[0m \u001b[1;32mis\u001b[0m \u001b[1;32mnot\u001b[0m \u001b[1;32mFalse\u001b[0m\u001b[1;33m\u001b[0m\u001b[0m\n\u001b[0;32m   1694\u001b[0m \u001b[1;33m\u001b[0m\u001b[0m\n\u001b[1;32m-> 1695\u001b[1;33m         \u001b[0mself\u001b[0m\u001b[1;33m.\u001b[0m\u001b[0m_reader\u001b[0m \u001b[1;33m=\u001b[0m \u001b[0mparsers\u001b[0m\u001b[1;33m.\u001b[0m\u001b[0mTextReader\u001b[0m\u001b[1;33m(\u001b[0m\u001b[0msrc\u001b[0m\u001b[1;33m,\u001b[0m \u001b[1;33m**\u001b[0m\u001b[0mkwds\u001b[0m\u001b[1;33m)\u001b[0m\u001b[1;33m\u001b[0m\u001b[0m\n\u001b[0m\u001b[0;32m   1696\u001b[0m \u001b[1;33m\u001b[0m\u001b[0m\n\u001b[0;32m   1697\u001b[0m         \u001b[1;31m# XXX\u001b[0m\u001b[1;33m\u001b[0m\u001b[1;33m\u001b[0m\u001b[0m\n",
      "\u001b[1;32mpandas/_libs/parsers.pyx\u001b[0m in \u001b[0;36mpandas._libs.parsers.TextReader.__cinit__\u001b[1;34m()\u001b[0m\n",
      "\u001b[1;32mpandas/_libs/parsers.pyx\u001b[0m in \u001b[0;36mpandas._libs.parsers.TextReader._setup_parser_source\u001b[1;34m()\u001b[0m\n",
      "\u001b[1;31mFileNotFoundError\u001b[0m: File b'../../160-Stackoverflow-Data/train_test/Users.csv' does not exist"
     ]
    }
   ],
   "source": [
    "Users = pd.read_csv('../../../160-Stackoverflow-Data/train_test/raw_query/Users.csv')"
   ]
  },
  {
   "cell_type": "code",
   "execution_count": 4,
   "metadata": {},
   "outputs": [
    {
     "name": "stderr",
     "output_type": "stream",
     "text": [
      "C:\\Users\\seungmi\\Anaconda3\\lib\\site-packages\\IPython\\core\\interactiveshell.py:2728: DtypeWarning: Columns (16,17,21) have mixed types. Specify dtype option on import or set low_memory=False.\n",
      "  interactivity=interactivity, compiler=compiler, result=result)\n"
     ]
    }
   ],
   "source": [
    "Posts = pd.read_csv('../../../160-Stackoverflow-Data/train_test/raw_query/Posts.csv')"
   ]
  },
  {
   "cell_type": "code",
   "execution_count": 16,
   "metadata": {},
   "outputs": [
    {
     "data": {
      "text/plain": [
       "Timestamp('2018-03-10 02:51:17.810000')"
      ]
     },
     "execution_count": 16,
     "metadata": {},
     "output_type": "execute_result"
    }
   ],
   "source": [
    "Posts.CreationDate = pd.to_datetime(Posts.CreationDate, format=\"%Y-%m-%dT%H:%M:%S\")\n",
    "Users.CreationDate = pd.to_datetime(Users.LastAccessDate, format=\"%Y-%m-%dT%H:%M:%S\")\n",
    "\n",
    "    # date subsetting\n",
    "Questions = Posts.loc[Posts.PostTypeId == 1]\n",
    "Answers = Posts.loc[Posts.PostTypeId == 2]\n",
    "\n",
    "\n",
    "def user_created_account_after_question(user_id, question_id):\n",
    "    question_creation_date = Questions.loc[Questions.Id == question_id].CreationDate\n",
    "    user_creation_date = Users.loc[Users.Id == user_id].CreationDate\n",
    "    return int(user_creation_date > question_creation_date)\n",
    "\n",
    "user_creation_date = Users.loc[Users.Id == 22].CreationDate\n",
    "user_creation_date.iloc[0]"
   ]
  },
  {
   "cell_type": "code",
   "execution_count": 17,
   "metadata": {},
   "outputs": [
    {
     "data": {
      "text/html": [
       "<div>\n",
       "<style scoped>\n",
       "    .dataframe tbody tr th:only-of-type {\n",
       "        vertical-align: middle;\n",
       "    }\n",
       "\n",
       "    .dataframe tbody tr th {\n",
       "        vertical-align: top;\n",
       "    }\n",
       "\n",
       "    .dataframe thead th {\n",
       "        text-align: right;\n",
       "    }\n",
       "</style>\n",
       "<table border=\"1\" class=\"dataframe\">\n",
       "  <thead>\n",
       "    <tr style=\"text-align: right;\">\n",
       "      <th></th>\n",
       "      <th>Id</th>\n",
       "      <th>Reputation</th>\n",
       "      <th>CreationDate</th>\n",
       "      <th>DisplayName</th>\n",
       "      <th>LastAccessDate</th>\n",
       "      <th>WebsiteUrl</th>\n",
       "      <th>Location</th>\n",
       "      <th>Age</th>\n",
       "      <th>AboutMe</th>\n",
       "      <th>Views</th>\n",
       "      <th>UpVotes</th>\n",
       "      <th>DownVotes</th>\n",
       "      <th>AccountId</th>\n",
       "      <th>ProfileImageUrl</th>\n",
       "    </tr>\n",
       "  </thead>\n",
       "  <tbody>\n",
       "    <tr>\n",
       "      <th>0</th>\n",
       "      <td>22</td>\n",
       "      <td>11886</td>\n",
       "      <td>2018-03-10 02:51:17.810</td>\n",
       "      <td>Matt MacLean</td>\n",
       "      <td>2018-03-10T02:51:17.810</td>\n",
       "      <td>NaN</td>\n",
       "      <td>Calgary, Canada</td>\n",
       "      <td>32.0</td>\n",
       "      <td>&lt;p&gt;&lt;a href=\"https://www.certmetrics.com/amazon...</td>\n",
       "      <td>1023</td>\n",
       "      <td>200</td>\n",
       "      <td>5</td>\n",
       "      <td>15</td>\n",
       "      <td>NaN</td>\n",
       "    </tr>\n",
       "    <tr>\n",
       "      <th>1</th>\n",
       "      <td>77</td>\n",
       "      <td>52838</td>\n",
       "      <td>2018-03-10 16:37:30.863</td>\n",
       "      <td>Darren Kopp</td>\n",
       "      <td>2018-03-10T16:37:30.863</td>\n",
       "      <td>http://darrenkopp.com</td>\n",
       "      <td>Layton, UT</td>\n",
       "      <td>33.0</td>\n",
       "      <td>&lt;p&gt;I'm a software developer located in Layton,...</td>\n",
       "      <td>2728</td>\n",
       "      <td>428</td>\n",
       "      <td>49</td>\n",
       "      <td>63</td>\n",
       "      <td>NaN</td>\n",
       "    </tr>\n",
       "    <tr>\n",
       "      <th>2</th>\n",
       "      <td>85</td>\n",
       "      <td>22750</td>\n",
       "      <td>2018-03-09 00:46:10.907</td>\n",
       "      <td>Paul Wicks</td>\n",
       "      <td>2018-03-09T00:46:10.907</td>\n",
       "      <td>NaN</td>\n",
       "      <td>United States</td>\n",
       "      <td>NaN</td>\n",
       "      <td>NaN</td>\n",
       "      <td>1052</td>\n",
       "      <td>470</td>\n",
       "      <td>86</td>\n",
       "      <td>70</td>\n",
       "      <td>NaN</td>\n",
       "    </tr>\n",
       "    <tr>\n",
       "      <th>3</th>\n",
       "      <td>91</td>\n",
       "      <td>109600</td>\n",
       "      <td>2018-03-10 23:41:25.377</td>\n",
       "      <td>Michael Stum</td>\n",
       "      <td>2018-03-10T23:41:25.377</td>\n",
       "      <td>https://www.Stum.de</td>\n",
       "      <td>Raleigh, NC, United States</td>\n",
       "      <td>NaN</td>\n",
       "      <td>&lt;p&gt;The same thing we do every night, Pinky. Tr...</td>\n",
       "      <td>11151</td>\n",
       "      <td>7018</td>\n",
       "      <td>54</td>\n",
       "      <td>75</td>\n",
       "      <td>NaN</td>\n",
       "    </tr>\n",
       "    <tr>\n",
       "      <th>4</th>\n",
       "      <td>118</td>\n",
       "      <td>12405</td>\n",
       "      <td>2017-12-01 21:10:47.780</td>\n",
       "      <td>Brian Willis</td>\n",
       "      <td>2017-12-01T21:10:47.780</td>\n",
       "      <td>http://brianwillis.com</td>\n",
       "      <td>Wellington, New Zealand</td>\n",
       "      <td>34.0</td>\n",
       "      <td>&lt;p&gt;I live over at brianwillis.com&lt;/p&gt;\\r\\r\\n\\r\\...</td>\n",
       "      <td>570</td>\n",
       "      <td>2202</td>\n",
       "      <td>14</td>\n",
       "      <td>99</td>\n",
       "      <td>https://i.stack.imgur.com/LVNuH.png</td>\n",
       "    </tr>\n",
       "  </tbody>\n",
       "</table>\n",
       "</div>"
      ],
      "text/plain": [
       "    Id  Reputation            CreationDate   DisplayName  \\\n",
       "0   22       11886 2018-03-10 02:51:17.810  Matt MacLean   \n",
       "1   77       52838 2018-03-10 16:37:30.863   Darren Kopp   \n",
       "2   85       22750 2018-03-09 00:46:10.907    Paul Wicks   \n",
       "3   91      109600 2018-03-10 23:41:25.377  Michael Stum   \n",
       "4  118       12405 2017-12-01 21:10:47.780  Brian Willis   \n",
       "\n",
       "            LastAccessDate              WebsiteUrl  \\\n",
       "0  2018-03-10T02:51:17.810                     NaN   \n",
       "1  2018-03-10T16:37:30.863   http://darrenkopp.com   \n",
       "2  2018-03-09T00:46:10.907                     NaN   \n",
       "3  2018-03-10T23:41:25.377     https://www.Stum.de   \n",
       "4  2017-12-01T21:10:47.780  http://brianwillis.com   \n",
       "\n",
       "                     Location   Age  \\\n",
       "0             Calgary, Canada  32.0   \n",
       "1                  Layton, UT  33.0   \n",
       "2               United States   NaN   \n",
       "3  Raleigh, NC, United States   NaN   \n",
       "4     Wellington, New Zealand  34.0   \n",
       "\n",
       "                                             AboutMe  Views  UpVotes  \\\n",
       "0  <p><a href=\"https://www.certmetrics.com/amazon...   1023      200   \n",
       "1  <p>I'm a software developer located in Layton,...   2728      428   \n",
       "2                                                NaN   1052      470   \n",
       "3  <p>The same thing we do every night, Pinky. Tr...  11151     7018   \n",
       "4  <p>I live over at brianwillis.com</p>\\r\\r\\n\\r\\...    570     2202   \n",
       "\n",
       "   DownVotes  AccountId                      ProfileImageUrl  \n",
       "0          5         15                                  NaN  \n",
       "1         49         63                                  NaN  \n",
       "2         86         70                                  NaN  \n",
       "3         54         75                                  NaN  \n",
       "4         14         99  https://i.stack.imgur.com/LVNuH.png  "
      ]
     },
     "execution_count": 17,
     "metadata": {},
     "output_type": "execute_result"
    }
   ],
   "source": [
    "Users.head()"
   ]
  },
  {
   "cell_type": "code",
   "execution_count": null,
   "metadata": {},
   "outputs": [],
   "source": [
    "Answers2012.head()"
   ]
  },
  {
   "cell_type": "code",
   "execution_count": null,
   "metadata": {
    "scrolled": true
   },
   "outputs": [],
   "source": [
    "Questions2012 = pd.read_csv('../../160-Stackoverflow-Data/train_test/X_train.csv')"
   ]
  },
  {
   "cell_type": "code",
   "execution_count": null,
   "metadata": {},
   "outputs": [],
   "source": [
    "Questions2012.head()"
   ]
  },
  {
   "cell_type": "code",
   "execution_count": null,
   "metadata": {},
   "outputs": [],
   "source": [
    "Users.loc[Users.Id == 2]"
   ]
  },
  {
   "cell_type": "markdown",
   "metadata": {},
   "source": [
    "## User's account was created before a question being asked"
   ]
  },
  {
   "cell_type": "code",
   "execution_count": null,
   "metadata": {},
   "outputs": [],
   "source": [
    "def before_question(user_id, question_id):\n",
    "    return int(Users.loc[Users.Id == user_id]['CreationDate'] < Questions2012.loc[Questions2012.Id == question_id]['CreationDate'])  "
   ]
  },
  {
   "cell_type": "markdown",
   "metadata": {},
   "source": [
    "## User has ever answered"
   ]
  },
  {
   "cell_type": "code",
   "execution_count": null,
   "metadata": {},
   "outputs": [],
   "source": [
    "def ever_ans(user_id):\n",
    "    return int(len(Answers2012.loc[Answers.OwnerUseId == user_id]) > 0 )"
   ]
  },
  {
   "cell_type": "markdown",
   "metadata": {},
   "source": [
    "## User is active"
   ]
  },
  {
   "cell_type": "code",
   "execution_count": null,
   "metadata": {},
   "outputs": [],
   "source": [
    "import datetime as dt"
   ]
  },
  {
   "cell_type": "code",
   "execution_count": null,
   "metadata": {},
   "outputs": [],
   "source": [
    "def active(user_id, question_id):\n",
    "    last_access = pd.to_datetime(Users.loc[Users.Id == user_id]['LastAccessDate'] )\n",
    "    question_created = pd.Timestamp(Questions2012.loc[Questions2012.Id == question_id]['CreationDate'])\n",
    "    if last_access >= question_created :\n",
    "        return 1\n",
    "    else:\n",
    "        return int((question_created-last_access) <= dt.timedelta(days=3))"
   ]
  },
  {
   "cell_type": "markdown",
   "metadata": {},
   "source": [
    "## residual color matrix"
   ]
  },
  {
   "cell_type": "code",
<<<<<<< HEAD
   "execution_count": 4,
=======
   "execution_count": 3,
>>>>>>> 901709588ef2d9313e22a4333b8b5be7fa3c8b99
   "metadata": {},
   "outputs": [],
   "source": [
    "import matplotlib.pyplot as plt\n",
    "import matplotlib.colors"
   ]
  },
  {
   "cell_type": "code",
   "execution_count": 4,
   "metadata": {},
   "outputs": [],
   "source": [
    "rbg = {'GREEN': (0, 255, 0), 'CYAN': (0, 255, 255),'BLUE': (0, 128, 255), 'PURPLE': (127, 0, 255),\n",
    "         'LIGHT_GREY': (224, 224, 224), 'ORANGE': (255, 128, 0), 'YELLOW': (255, 255, 0), 'RED': (255, 0, 0)}\n",
    "colormap = {'base': {'label': 0, 'rgb': rbg['LIGHT_GREY']},\n",
    "            'i_answer': {'label': 1, 'rgb': rbg['BLUE']},\n",
    "            'i_comment': {'label': 2, 'rgb': rbg['CYAN']},\n",
    "            'i_upvote': {'label': 3, 'rgb': rbg['GREEN']},\n",
    "            'i_downvote': {'label': 4, 'rgb': rbg['RED']},\n",
    "            'i_favorite': {'label': 5, 'rgb': rbg['YELLOW']},\n",
    "            'i_edit': {'label': 6, 'rgb': rbg['PURPLE']}}"
   ]
  },
  {
   "cell_type": "code",
   "execution_count": 5,
   "metadata": {},
   "outputs": [],
   "source": [
    "def residual_color_mat(mat):\n",
    "    ca = []\n",
    "    for x in colormap.keys():\n",
    "        ca.append(list(colormap[x]['rgb']))\n",
    "    colors = np.matrix(ca)/255 \n",
    "    cmap = matplotlib.colors.ListedColormap(colors)\n",
    "    norm = matplotlib.colors.BoundaryNorm(np.arange(len(ca)+1)-0.5, len(ca))\n",
    "\n",
    "    plt.imshow(mat, cmap=cmap, norm=norm)\n",
    "    plt.axis('off')\n",
    "    cb = plt.colorbar(ticks=np.arange(len(ca)))\n",
    "    cb.ax.set_yticklabels(colormap.keys())\n",
    "    plt.title('Residual Color Matrix')\n",
    "    plt.show()"
   ]
  },
  {
   "cell_type": "code",
   "execution_count": 6,
   "metadata": {},
   "outputs": [
    {
     "data": {
      "text/plain": [
       "array([[0, 0, 0, 0, 1, 2, 2, 1, 2, 3],\n",
       "       [1, 2, 2, 0, 0, 1, 2, 2, 1, 2],\n",
       "       [5, 4, 5, 4, 1, 2, 2, 1, 2, 4]])"
      ]
     },
     "execution_count": 6,
     "metadata": {},
     "output_type": "execute_result"
    }
   ],
   "source": [
    "# example\n",
    "samp = np.array([[0,0,0,0,1,2,2,1,2,3],[1,2,2,0,0,1,2,2,1,2],[5,4,5,4,1,2,2,1,2,4]])\n",
    "samp"
   ]
  },
  {
   "cell_type": "code",
   "execution_count": 7,
   "metadata": {
    "scrolled": true
   },
   "outputs": [
    {
     "data": {
      "image/png": "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\n",
      "text/plain": [
       "<matplotlib.figure.Figure at 0x1e53f4ccdd8>"
      ]
     },
     "metadata": {},
     "output_type": "display_data"
    }
   ],
   "source": [
    "residual_color_mat(samp)"
   ]
  },
  {
   "cell_type": "code",
   "execution_count": 8,
   "metadata": {},
   "outputs": [
    {
     "data": {
      "image/png": "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\n",
      "text/plain": [
       "<matplotlib.figure.Figure at 0x1e540043470>"
      ]
     },
     "metadata": {},
     "output_type": "display_data"
    }
   ],
   "source": [
    "#plt.figure(figsize = (20,15))\n",
    "residual_color_mat(np.random.randint(6, size=(250,250)))"
   ]
  },
  {
   "cell_type": "markdown",
   "metadata": {},
   "source": [
    "## scatter plot"
   ]
  },
  {
   "cell_type": "code",
<<<<<<< HEAD
   "execution_count": 5,
=======
   "execution_count": 9,
>>>>>>> 901709588ef2d9313e22a4333b8b5be7fa3c8b99
   "metadata": {},
   "outputs": [],
   "source": [
    "from sklearn.preprocessing import MinMaxScaler\n",
    "import seaborn as sns\n",
    "\n",
    "d= {0: {'i_answer': np.random.randint(100000,size=(1,30))[0], 'i_comment': np.random.randint(100000,size=(1,30))[0], 'i_upvote':[4534],'i_downvote':[43,3454,26345],'i_favorite':[],'i_edit':[]}, \n",
    "  1: {'i_answer': [14, 81346], 'i_comment': [81346, 81346, 81346],'i_edit':np.random.randint(100000,size=(1,30))[0]}, \n",
    "  2: {'i_answer': [5042], 'i_upvote':[4534],'i_comment': [],'i_favorite':[3,142]}, \n",
    "  3: {'i_answer': [], 'i_comment': [9, 57907, 57907, 57907, 14952, 9]}, \n",
    "  4: {'i_answer': [13283, 73], 'i_comment': [9, 73, 5649],'i_downvote':np.random.randint(100000,size=(1,30))[0]}, \n",
    "  5: {'i_answer': [], 'i_comment': np.random.randint(100000,size=(1,30))[0]},\n",
    "  6: {'i_answer': [34,125], 'i_upvote':[],'i_favorite':[2345,65456]},\n",
    "  7: {'i_answer': np.random.randint(100000,size=(1,10))[0], 'i_upvote':[54894],'i_comment': [],'i_edit':[46543]},\n",
    "  8: {'i_answer': [], 'i_upvote':np.random.randint(100000,size=(1,30))[0],'i_comment': [],'i_favorite':np.random.randint(100000,size=(1,30))[0]},\n",
    "  9: {'i_answer': [35,796,5042], 'i_upvote':[2],'i_comment': [354,6786,86665],'i_favorite':[2234]}}"
   ]
  },
  {
   "cell_type": "code",
<<<<<<< HEAD
   "execution_count": 6,
=======
   "execution_count": 10,
>>>>>>> 901709588ef2d9313e22a4333b8b5be7fa3c8b99
   "metadata": {},
   "outputs": [
    {
     "data": {
      "image/png": "iVBORw0KGgoAAAANSUhEUgAAAWQAAABLCAYAAABHlv13AAAABHNCSVQICAgIfAhkiAAAAAlwSFlzAAALEgAACxIB0t1+/AAAADl0RVh0U29mdHdhcmUAbWF0cGxvdGxpYiB2ZXJzaW9uIDIuMS4yLCBodHRwOi8vbWF0cGxvdGxpYi5vcmcvNQv5yAAAAiBJREFUeJzt2zFqVUEYhuF/TLRIYZXbaBFBsBCxSXAdLkLuNgQr1+AuTO0SFERtLbSITQprRcZCGxtPLmGY7x6epwtM8f2QvMWBtN57ATDfjdkDAPhDkAFCCDJACEEGCCHIACEEGSCEIAOEEGSAEIIMEOJw6UFrbVtV26qqOjg6raP7ozfN8+DW7AVDHX7/MHvCMA8//5w9Yaibp4t/qnvt4uPd2ROG+vbjy2XvfbP0ru3yr9Pt9uN+8OT8WsOS/Xpzb/aEoTav1/tL//7pxewJQ93px7MnDPX85OXsCUO9+PrsXe/9bOmdTxYAIQQZIIQgA4QQZIAQggwQQpABQggyQAhBBgghyAAhBBkghCADhBBkgBCCDBBCkAFCCDJACEEGCCHIACEEGSCEIAOEEGSAEIIMEEKQAUIIMkAIQQYIIcgAIQQZIIQgA4QQZIAQggwQQpABQggyQAhBBgghyAAhBBkghCADhBBkgBCCDBBCkAFCCDJACEEGCCHIACEEGSCEIAOEEGSAEIIMEEKQAUIIMkAIQQYIIcgAIQQZIIQgA4QQZIAQrff+/wetbatq+/fHR1X1afSoiY6r6nL2iEHWfFuV+/bd2u876b1vlh4tBvmfx6297b2fXWtWsDXft+bbqty379Z+31X5ZAEQQpABQuwa5FdDVuRY831rvq3Kfftu7fddyU7fkAEYxycLgBCCDBBCkAFCCDJACEEGCPEblg9SIXH9c+0AAAAASUVORK5CYII=\n",
      "text/plain": [
<<<<<<< HEAD
       "<matplotlib.figure.Figure at 0x21e4a1d5390>"
=======
       "<matplotlib.figure.Figure at 0x1e540050748>"
>>>>>>> 901709588ef2d9313e22a4333b8b5be7fa3c8b99
      ]
     },
     "metadata": {},
     "output_type": "display_data"
    }
   ],
   "source": [
    "# colors with activities\n",
    "col_list = [\"blue\", \"cyan\",\"green\", \n",
    "            \"red\", \"yellow\",\"purple\" ]\n",
    "sns.palplot(sns.xkcd_palette(col_list))\n",
    "col_list_palette = sns.xkcd_palette(col_list)\n",
    "sns.set_palette(col_list_palette)"
   ]
  },
  {
   "cell_type": "code",
<<<<<<< HEAD
   "execution_count": 52,
=======
   "execution_count": 11,
>>>>>>> 901709588ef2d9313e22a4333b8b5be7fa3c8b99
   "metadata": {},
   "outputs": [
    {
     "name": "stderr",
     "output_type": "stream",
     "text": [
      "C:\\Users\\maksi\\Anaconda3\\lib\\site-packages\\sklearn\\utils\\validation.py:475: DataConversionWarning: Data with input dtype int64 was converted to float64 by MinMaxScaler.\n",
      "  warnings.warn(msg, DataConversionWarning)\n"
     ]
    }
   ],
   "source": [
    "class residual_visualization:\n",
    "    flatted_d = []\n",
    "    for question_i, activities in d.items():\n",
    "        for activity, index_list in activities.items():\n",
    "            for rank in index_list:\n",
    "                flatted_d.append({'question_number': question_i, 'rank': rank, 'activity': activity})\n",
    "\n",
    "    df = pd.DataFrame(flatted_d)\n",
    "    scaler = MinMaxScaler()\n",
    "    df['rank'] = scaler.fit_transform(df['rank'].values.reshape(-1,1))\n",
    "    # colors for vertiical lines\n",
    "    keys = ['i_answer', 'i_comment', 'i_upvote', 'i_downvote', 'i_edit', 'i_favorite']\n",
    "    array = col_list\n",
    "    dic = dict(zip(keys, array))\n",
    "    \n",
    "    def residual_scatter_plot(d): \n",
    "        g = sns.lmplot('rank', 'question_number', data=residual_visualization.df, hue='activity', fit_reg=False, palette = col_list_palette, \n",
    "                       markers = 's',scatter_kws={\"s\": 10})\n",
    "        g.set(xticks=[])\n",
    "        g.set(yticks=[])\n",
    "        ax = plt.gca()\n",
    "        ax.invert_yaxis()\n",
    "\n",
    "        grouped = residual_visualization.df.groupby('activity')\n",
    "        avg_error = grouped['rank'].mean()\n",
    "        for err in avg_error:\n",
    "            plt.axvline(x=err,ymax=0.96, color = residual_visualization.dic.get(avg_error[avg_error == err].index[0]))\n",
    "         \n",
    "        plt.gcf().suptitle(\"Residual Matrix\")\n",
    "        plt.show()"
   ]
  },
  {
   "cell_type": "code",
<<<<<<< HEAD
   "execution_count": 53,
=======
   "execution_count": 12,
>>>>>>> 901709588ef2d9313e22a4333b8b5be7fa3c8b99
   "metadata": {},
   "outputs": [
    {
     "ename": "NameError",
     "evalue": "name 'dic' is not defined",
     "output_type": "error",
     "traceback": [
      "\u001b[1;31m---------------------------------------------------------------------------\u001b[0m",
      "\u001b[1;31mNameError\u001b[0m                                 Traceback (most recent call last)",
      "\u001b[1;32m<ipython-input-12-6b1d075f4262>\u001b[0m in \u001b[0;36m<module>\u001b[1;34m()\u001b[0m\n\u001b[1;32m----> 1\u001b[1;33m \u001b[0mresidual_visualization\u001b[0m\u001b[1;33m.\u001b[0m\u001b[0mresidual_scatter_plot\u001b[0m\u001b[1;33m(\u001b[0m\u001b[0md\u001b[0m\u001b[1;33m)\u001b[0m\u001b[1;33m\u001b[0m\u001b[0m\n\u001b[0m",
      "\u001b[1;32m<ipython-input-11-8b87e4551286>\u001b[0m in \u001b[0;36mresidual_scatter_plot\u001b[1;34m(d)\u001b[0m\n\u001b[0;32m     26\u001b[0m \u001b[1;33m\u001b[0m\u001b[0m\n\u001b[0;32m     27\u001b[0m         \u001b[1;32mfor\u001b[0m \u001b[0merr\u001b[0m \u001b[1;32min\u001b[0m \u001b[0mavg_error\u001b[0m\u001b[1;33m:\u001b[0m\u001b[1;33m\u001b[0m\u001b[0m\n\u001b[1;32m---> 28\u001b[1;33m             \u001b[0mplt\u001b[0m\u001b[1;33m.\u001b[0m\u001b[0maxvline\u001b[0m\u001b[1;33m(\u001b[0m\u001b[0mx\u001b[0m\u001b[1;33m=\u001b[0m\u001b[0merr\u001b[0m\u001b[1;33m,\u001b[0m\u001b[0mymax\u001b[0m\u001b[1;33m=\u001b[0m\u001b[1;36m0.96\u001b[0m\u001b[1;33m,\u001b[0m \u001b[0mcolor\u001b[0m \u001b[1;33m=\u001b[0m \u001b[0mdic\u001b[0m\u001b[1;33m.\u001b[0m\u001b[0mget\u001b[0m\u001b[1;33m(\u001b[0m\u001b[0mavg_error\u001b[0m\u001b[1;33m[\u001b[0m\u001b[0mavg_error\u001b[0m \u001b[1;33m==\u001b[0m \u001b[0merr\u001b[0m\u001b[1;33m]\u001b[0m\u001b[1;33m.\u001b[0m\u001b[0mindex\u001b[0m\u001b[1;33m[\u001b[0m\u001b[1;36m0\u001b[0m\u001b[1;33m]\u001b[0m\u001b[1;33m)\u001b[0m\u001b[1;33m)\u001b[0m\u001b[1;33m\u001b[0m\u001b[0m\n\u001b[0m\u001b[0;32m     29\u001b[0m         \u001b[0mplt\u001b[0m\u001b[1;33m.\u001b[0m\u001b[0mgcf\u001b[0m\u001b[1;33m(\u001b[0m\u001b[1;33m)\u001b[0m\u001b[1;33m.\u001b[0m\u001b[0msuptitle\u001b[0m\u001b[1;33m(\u001b[0m\u001b[1;34m\"Residual Matrix\"\u001b[0m\u001b[1;33m)\u001b[0m\u001b[1;33m\u001b[0m\u001b[0m\n\u001b[0;32m     30\u001b[0m         \u001b[0mplt\u001b[0m\u001b[1;33m.\u001b[0m\u001b[0mshow\u001b[0m\u001b[1;33m(\u001b[0m\u001b[1;33m)\u001b[0m\u001b[1;33m\u001b[0m\u001b[0m\n",
      "\u001b[1;31mNameError\u001b[0m: name 'dic' is not defined"
     ]
    },
    {
     "data": {
<<<<<<< HEAD
      "image/png": "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\n",
      "text/plain": [
       "<matplotlib.figure.Figure at 0x21e4a91b4a8>"
=======
      "image/png": "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\n",
      "text/plain": [
       "<matplotlib.figure.Figure at 0x1e53b19f908>"
>>>>>>> 901709588ef2d9313e22a4333b8b5be7fa3c8b99
      ]
     },
     "metadata": {},
     "output_type": "display_data"
    }
   ],
   "source": [
    "residual_visualization.residual_scatter_plot(d)"
   ]
  },
  {
   "cell_type": "code",
   "execution_count": null,
   "metadata": {},
   "outputs": [],
   "source": []
  },
  {
   "cell_type": "code",
   "execution_count": null,
   "metadata": {},
   "outputs": [],
   "source": []
  },
  {
   "cell_type": "code",
   "execution_count": null,
   "metadata": {},
   "outputs": [],
   "source": [
    "#etc"
   ]
  },
  {
   "cell_type": "code",
   "execution_count": null,
   "metadata": {},
   "outputs": [],
   "source": [
    "import scipy.sparse as sps\n",
    "import matplotlib.pyplot as plt\n",
    "from scipy.sparse import coo_matrix"
   ]
  },
  {
   "cell_type": "code",
   "execution_count": null,
   "metadata": {},
   "outputs": [],
   "source": [
    "def plot_coo_matrix(m):\n",
    "    if not isinstance(m, coo_matrix):\n",
    "        m = coo_matrix(m)\n",
    "    fig = plt.figure()\n",
    "    ax = fig.add_subplot(111, axisbg='blue')\n",
    "    ax.plot(m.col, m.row, 's', color='white', ms=1)\n",
    "    ax.set_xlim(0, m.shape[1])\n",
    "    ax.set_ylim(0, m.shape[0])\n",
    "    ax.set_aspect('equal')\n",
    "    for spine in ax.spines.values():\n",
    "        spine.set_visible(False)\n",
    "    ax.invert_yaxis()\n",
    "    ax.set_aspect('equal')\n",
    "    ax.set_xticks([])\n",
    "    ax.set_yticks([])\n",
    "    return ax"
   ]
  },
  {
   "cell_type": "code",
   "execution_count": null,
   "metadata": {},
   "outputs": [],
   "source": [
    "shape = (100000, 100000)\n",
    "rows = np.int_(np.round_(shape[0]*np.random.random(1000)))\n",
    "cols = np.int_(np.round_(shape[1]*np.random.random(1000)))\n",
    "vals = np.ones_like(rows)\n",
    "\n",
    "m = coo_matrix((vals, (rows, cols)), shape=shape)\n",
    "ax = plot_coo_matrix(m)\n",
    "plt.show()"
   ]
  },
  {
   "cell_type": "code",
   "execution_count": null,
   "metadata": {},
   "outputs": [],
   "source": [
    "# csr matrix\n",
    "A = sps.rand(20000,100000,density=0.00000003)\n",
    "M = sps.csr_matrix(A)\n",
    "plt.spy(M)\n",
    "plt.show()"
   ]
  }
 ],
 "metadata": {
  "kernelspec": {
   "display_name": "Python 3",
   "language": "python",
   "name": "python3"
  },
  "language_info": {
   "codemirror_mode": {
    "name": "ipython",
    "version": 3
   },
   "file_extension": ".py",
   "mimetype": "text/x-python",
   "name": "python",
   "nbconvert_exporter": "python",
   "pygments_lexer": "ipython3",
   "version": "3.6.4"
  },
  "toc": {
   "nav_menu": {},
   "number_sections": true,
   "sideBar": true,
   "skip_h1_title": false,
   "title_cell": "Table of Contents",
   "title_sidebar": "Contents",
   "toc_cell": false,
   "toc_position": {},
   "toc_section_display": true,
   "toc_window_display": false
  }
 },
 "nbformat": 4,
 "nbformat_minor": 2
}
