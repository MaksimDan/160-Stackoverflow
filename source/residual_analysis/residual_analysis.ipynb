{
 "cells": [
  {
   "cell_type": "markdown",
   "metadata": {},
   "source": [
    "# Load data"
   ]
  },
  {
   "cell_type": "code",
   "execution_count": 1,
   "metadata": {
    "collapsed": true
   },
   "outputs": [],
   "source": [
    "import pandas as pd"
   ]
  },
  {
   "cell_type": "code",
   "execution_count": 2,
   "metadata": {
    "collapsed": true
   },
   "outputs": [],
   "source": [
    "#activities\n",
    "residual_800 = pd.read_csv('../../../160-Stackoverflow-Data/residuals/data/residuals_800_q.csv')"
   ]
  },
  {
   "cell_type": "code",
   "execution_count": 3,
   "metadata": {
    "collapsed": true
   },
   "outputs": [],
   "source": [
    "#questions\n",
    "x_train_800 = pd.read_csv('../../../160-Stackoverflow-Data/residuals/data/X_train_800.csv')"
   ]
  },
  {
   "cell_type": "code",
   "execution_count": 4,
   "metadata": {},
   "outputs": [
    {
     "data": {
      "text/html": [
       "<div>\n",
       "<style scoped>\n",
       "    .dataframe tbody tr th:only-of-type {\n",
       "        vertical-align: middle;\n",
       "    }\n",
       "\n",
       "    .dataframe tbody tr th {\n",
       "        vertical-align: top;\n",
       "    }\n",
       "\n",
       "    .dataframe thead th {\n",
       "        text-align: right;\n",
       "    }\n",
       "</style>\n",
       "<table border=\"1\" class=\"dataframe\">\n",
       "  <thead>\n",
       "    <tr style=\"text-align: right;\">\n",
       "      <th></th>\n",
       "      <th>activity</th>\n",
       "      <th>q_num</th>\n",
       "      <th>rank</th>\n",
       "      <th>score</th>\n",
       "      <th>userid</th>\n",
       "    </tr>\n",
       "  </thead>\n",
       "  <tbody>\n",
       "    <tr>\n",
       "      <th>0</th>\n",
       "      <td>answer</td>\n",
       "      <td>0</td>\n",
       "      <td>1</td>\n",
       "      <td>1.234562</td>\n",
       "      <td>571407</td>\n",
       "    </tr>\n",
       "    <tr>\n",
       "      <th>1</th>\n",
       "      <td>comment</td>\n",
       "      <td>0</td>\n",
       "      <td>3952</td>\n",
       "      <td>0.120353</td>\n",
       "      <td>1381767</td>\n",
       "    </tr>\n",
       "    <tr>\n",
       "      <th>2</th>\n",
       "      <td>comment</td>\n",
       "      <td>0</td>\n",
       "      <td>1</td>\n",
       "      <td>1.234562</td>\n",
       "      <td>571407</td>\n",
       "    </tr>\n",
       "    <tr>\n",
       "      <th>3</th>\n",
       "      <td>comment</td>\n",
       "      <td>0</td>\n",
       "      <td>2840</td>\n",
       "      <td>0.206159</td>\n",
       "      <td>1292401</td>\n",
       "    </tr>\n",
       "    <tr>\n",
       "      <th>4</th>\n",
       "      <td>comment</td>\n",
       "      <td>0</td>\n",
       "      <td>2821</td>\n",
       "      <td>0.208532</td>\n",
       "      <td>1025201</td>\n",
       "    </tr>\n",
       "  </tbody>\n",
       "</table>\n",
       "</div>"
      ],
      "text/plain": [
       "  activity  q_num  rank     score   userid\n",
       "0   answer      0     1  1.234562   571407\n",
       "1  comment      0  3952  0.120353  1381767\n",
       "2  comment      0     1  1.234562   571407\n",
       "3  comment      0  2840  0.206159  1292401\n",
       "4  comment      0  2821  0.208532  1025201"
      ]
     },
     "execution_count": 4,
     "metadata": {},
     "output_type": "execute_result"
    }
   ],
   "source": [
    "residual_800.head()"
   ]
  },
  {
   "cell_type": "markdown",
   "metadata": {},
   "source": [
    "# Find outliers"
   ]
  },
  {
   "cell_type": "code",
   "execution_count": 5,
   "metadata": {
    "collapsed": true
   },
   "outputs": [],
   "source": [
    "import numpy as np"
   ]
  },
  {
   "cell_type": "code",
   "execution_count": 6,
   "metadata": {
    "collapsed": true
   },
   "outputs": [],
   "source": [
    "def outliers(li):\n",
    "    qua1, qua3 = np.percentile(li, [25, 75])\n",
    "    iqr = qua3 - qua1\n",
    "    upper_bound = qua3 + (iqr * 1.5)\n",
    "    li_outlier = [i for i in li if i >= upper_bound]\n",
    "    return li_outlier"
   ]
  },
  {
   "cell_type": "code",
   "execution_count": 7,
   "metadata": {
    "collapsed": true
   },
   "outputs": [],
   "source": [
    "outlier_rank = outliers(list(residual_800['rank']))"
   ]
  },
  {
   "cell_type": "code",
   "execution_count": 8,
   "metadata": {
    "collapsed": true
   },
   "outputs": [],
   "source": [
    "#dataframe with outliers\n",
    "activities_outliers = residual_800[residual_800['rank'].isin(outlier_rank)]"
   ]
  },
  {
   "cell_type": "markdown",
   "metadata": {},
   "source": [
    "# Questions of these observed outlier ranks"
   ]
  },
  {
   "cell_type": "code",
   "execution_count": 9,
   "metadata": {
    "collapsed": true
   },
   "outputs": [],
   "source": [
    "outlier_question = x_train_800[x_train_800.index.isin(activities_outliers.q_num.unique())]"
   ]
  },
  {
   "cell_type": "code",
   "execution_count": 10,
   "metadata": {
    "scrolled": false
   },
   "outputs": [
    {
     "data": {
      "text/html": [
       "<div>\n",
       "<style scoped>\n",
       "    .dataframe tbody tr th:only-of-type {\n",
       "        vertical-align: middle;\n",
       "    }\n",
       "\n",
       "    .dataframe tbody tr th {\n",
       "        vertical-align: top;\n",
       "    }\n",
       "\n",
       "    .dataframe thead th {\n",
       "        text-align: right;\n",
       "    }\n",
       "</style>\n",
       "<table border=\"1\" class=\"dataframe\">\n",
       "  <thead>\n",
       "    <tr style=\"text-align: right;\">\n",
       "      <th></th>\n",
       "      <th>Unnamed: 0</th>\n",
       "      <th>Unnamed: 0.1</th>\n",
       "      <th>Id</th>\n",
       "      <th>ParentId</th>\n",
       "      <th>AcceptedAnswerId</th>\n",
       "      <th>CreationDate</th>\n",
       "      <th>Score</th>\n",
       "      <th>ViewCount</th>\n",
       "      <th>Body</th>\n",
       "      <th>OwnerUserId</th>\n",
       "      <th>OwnerDisplayName</th>\n",
       "      <th>LastEditorUserId</th>\n",
       "      <th>Title</th>\n",
       "      <th>Tags</th>\n",
       "      <th>AnswerCount</th>\n",
       "      <th>CommentCount</th>\n",
       "      <th>FavoriteCount</th>\n",
       "      <th>ClosedDate</th>\n",
       "    </tr>\n",
       "  </thead>\n",
       "  <tbody>\n",
       "    <tr>\n",
       "      <th>2</th>\n",
       "      <td>2</td>\n",
       "      <td>67737</td>\n",
       "      <td>11209935</td>\n",
       "      <td>NaN</td>\n",
       "      <td>NaN</td>\n",
       "      <td>2012-06-26T14:46:59.163</td>\n",
       "      <td>2</td>\n",
       "      <td>10504.0</td>\n",
       "      <td>&lt;p&gt;I 'm getting the date in the following form...</td>\n",
       "      <td>964819.0</td>\n",
       "      <td>NaN</td>\n",
       "      <td>904049.0</td>\n",
       "      <td>Changing one date format to another</td>\n",
       "      <td>java date format</td>\n",
       "      <td>4.0</td>\n",
       "      <td>1</td>\n",
       "      <td>NaN</td>\n",
       "      <td>NaN</td>\n",
       "    </tr>\n",
       "    <tr>\n",
       "      <th>13</th>\n",
       "      <td>13</td>\n",
       "      <td>1296</td>\n",
       "      <td>8741054</td>\n",
       "      <td>NaN</td>\n",
       "      <td>8741143.0</td>\n",
       "      <td>2012-01-05T10:37:18.253</td>\n",
       "      <td>0</td>\n",
       "      <td>1732.0</td>\n",
       "      <td>&lt;p&gt;How to resolve warning message coming in ec...</td>\n",
       "      <td>374199.0</td>\n",
       "      <td>NaN</td>\n",
       "      <td>1977903.0</td>\n",
       "      <td>Eclipse Warning message</td>\n",
       "      <td>java eclipse</td>\n",
       "      <td>5.0</td>\n",
       "      <td>6</td>\n",
       "      <td>0.0</td>\n",
       "      <td>NaN</td>\n",
       "    </tr>\n",
       "    <tr>\n",
       "      <th>14</th>\n",
       "      <td>14</td>\n",
       "      <td>43834</td>\n",
       "      <td>10314404</td>\n",
       "      <td>NaN</td>\n",
       "      <td>10314451.0</td>\n",
       "      <td>2012-04-25T11:09:04.190</td>\n",
       "      <td>-2</td>\n",
       "      <td>2842.0</td>\n",
       "      <td>&lt;p&gt;I am working on Galaxy Nexus(Android 4.0.3)...</td>\n",
       "      <td>896579.0</td>\n",
       "      <td>NaN</td>\n",
       "      <td>136445.0</td>\n",
       "      <td>How to save captured image to gallery</td>\n",
       "      <td>java android emulation samsung-mobile</td>\n",
       "      <td>2.0</td>\n",
       "      <td>1</td>\n",
       "      <td>NaN</td>\n",
       "      <td>NaN</td>\n",
       "    </tr>\n",
       "    <tr>\n",
       "      <th>23</th>\n",
       "      <td>23</td>\n",
       "      <td>68460</td>\n",
       "      <td>11239086</td>\n",
       "      <td>NaN</td>\n",
       "      <td>11239128.0</td>\n",
       "      <td>2012-06-28T06:23:16.197</td>\n",
       "      <td>132</td>\n",
       "      <td>291504.0</td>\n",
       "      <td>&lt;blockquote&gt;\\r\\r\\r\\n  &lt;p&gt;&lt;strong&gt;Possible Dupl...</td>\n",
       "      <td>1439243.0</td>\n",
       "      <td>NaN</td>\n",
       "      <td>-1.0</td>\n",
       "      <td>java.lang.UnsupportedClassVersionError Unsuppo...</td>\n",
       "      <td>java</td>\n",
       "      <td>7.0</td>\n",
       "      <td>0</td>\n",
       "      <td>33.0</td>\n",
       "      <td>2013-02-04T07:29:18.850</td>\n",
       "    </tr>\n",
       "    <tr>\n",
       "      <th>24</th>\n",
       "      <td>24</td>\n",
       "      <td>20678</td>\n",
       "      <td>9484820</td>\n",
       "      <td>NaN</td>\n",
       "      <td>NaN</td>\n",
       "      <td>2012-02-28T15:33:14.167</td>\n",
       "      <td>-1</td>\n",
       "      <td>1488.0</td>\n",
       "      <td>&lt;p&gt;I have an html file called basic.html and w...</td>\n",
       "      <td>1178770.0</td>\n",
       "      <td>NaN</td>\n",
       "      <td>1400768.0</td>\n",
       "      <td>Regex - find various strings from an HTML file</td>\n",
       "      <td>java html regex</td>\n",
       "      <td>2.0</td>\n",
       "      <td>4</td>\n",
       "      <td>NaN</td>\n",
       "      <td>2014-09-27T14:44:12.220</td>\n",
       "    </tr>\n",
       "  </tbody>\n",
       "</table>\n",
       "</div>"
      ],
      "text/plain": [
       "    Unnamed: 0  Unnamed: 0.1        Id  ParentId  AcceptedAnswerId  \\\n",
       "2            2         67737  11209935       NaN               NaN   \n",
       "13          13          1296   8741054       NaN         8741143.0   \n",
       "14          14         43834  10314404       NaN        10314451.0   \n",
       "23          23         68460  11239086       NaN        11239128.0   \n",
       "24          24         20678   9484820       NaN               NaN   \n",
       "\n",
       "               CreationDate  Score  ViewCount  \\\n",
       "2   2012-06-26T14:46:59.163      2    10504.0   \n",
       "13  2012-01-05T10:37:18.253      0     1732.0   \n",
       "14  2012-04-25T11:09:04.190     -2     2842.0   \n",
       "23  2012-06-28T06:23:16.197    132   291504.0   \n",
       "24  2012-02-28T15:33:14.167     -1     1488.0   \n",
       "\n",
       "                                                 Body  OwnerUserId  \\\n",
       "2   <p>I 'm getting the date in the following form...     964819.0   \n",
       "13  <p>How to resolve warning message coming in ec...     374199.0   \n",
       "14  <p>I am working on Galaxy Nexus(Android 4.0.3)...     896579.0   \n",
       "23  <blockquote>\\r\\r\\r\\n  <p><strong>Possible Dupl...    1439243.0   \n",
       "24  <p>I have an html file called basic.html and w...    1178770.0   \n",
       "\n",
       "    OwnerDisplayName  LastEditorUserId  \\\n",
       "2                NaN          904049.0   \n",
       "13               NaN         1977903.0   \n",
       "14               NaN          136445.0   \n",
       "23               NaN              -1.0   \n",
       "24               NaN         1400768.0   \n",
       "\n",
       "                                                Title  \\\n",
       "2                 Changing one date format to another   \n",
       "13                            Eclipse Warning message   \n",
       "14              How to save captured image to gallery   \n",
       "23  java.lang.UnsupportedClassVersionError Unsuppo...   \n",
       "24     Regex - find various strings from an HTML file   \n",
       "\n",
       "                                     Tags  AnswerCount  CommentCount  \\\n",
       "2                        java date format          4.0             1   \n",
       "13                           java eclipse          5.0             6   \n",
       "14  java android emulation samsung-mobile          2.0             1   \n",
       "23                                   java          7.0             0   \n",
       "24                        java html regex          2.0             4   \n",
       "\n",
       "    FavoriteCount               ClosedDate  \n",
       "2             NaN                      NaN  \n",
       "13            0.0                      NaN  \n",
       "14            NaN                      NaN  \n",
       "23           33.0  2013-02-04T07:29:18.850  \n",
       "24            NaN  2014-09-27T14:44:12.220  "
      ]
     },
     "execution_count": 10,
     "metadata": {},
     "output_type": "execute_result"
    }
   ],
   "source": [
    "outlier_question.head()"
   ]
  },
  {
   "cell_type": "code",
   "execution_count": 11,
   "metadata": {
    "collapsed": true
   },
   "outputs": [],
   "source": [
    "y_train = pd.read_csv('../../../160-Stackoverflow-Data/residuals/data/y_train.csv')"
   ]
  },
  {
   "cell_type": "markdown",
   "metadata": {},
   "source": [
    "# map activity for feature matrix (question number)"
   ]
  },
  {
   "cell_type": "code",
   "execution_count": 12,
   "metadata": {
    "collapsed": true
   },
   "outputs": [],
   "source": [
    "def map_activity(file_name):\n",
    "    \"\"\" Modify Feature Matrix (Ranks of users for each question) to add activities.\n",
    "    \n",
    "    Argument: file_name (int) - the question number\n",
    "    \n",
    "    Return: pd.dataframe - the modified feature matrix\n",
    "    \"\"\"\n",
    "    \n",
    "    path = '../../../160-Stackoverflow-Data/residuals/feature_matrices/'\\\n",
    "    + 'q_' + str(file_name) + '_feature_matrix.csv'\n",
    "    \n",
    "    que = pd.read_csv(path, header = None)\n",
    "    user_activity = residual_800[residual_800.q_num == file_name]\n",
    "    user_activity_dict = {i:j for i, j in zip(user_activity.userid, user_activity.activity)}\n",
    "\n",
    "    activity_que = []\n",
    "    for i in que[0]:\n",
    "        if i in user_activity_dict.keys():\n",
    "            activity_que.append(user_activity_dict.get(i))\n",
    "        else:\n",
    "            activity_que.append('no_act')\n",
    "    que['activity'] = activity_que\n",
    "    \n",
    "    que.sort_values(4)\n",
    "    que['rank'] = que.index\n",
    "    return que"
   ]
  },
  {
   "cell_type": "code",
   "execution_count": 13,
   "metadata": {
    "collapsed": true
   },
   "outputs": [],
   "source": [
    "num = 101\n",
    "def get_feature_rank(num):\n",
    "    \"\"\" Use function: map_activity to run\n",
    "    \n",
    "    Argument: num (int) - question number (feature matrid file)\n",
    "    \n",
    "    Return: pd.DataFrame - the dataframe with sorted feature rank\n",
    "    \"\"\"\n",
    "    \n",
    "    que_no_white = map_activity(num)[map_activity(num).activity != 'no_act']\n",
    "\n",
    "    q_num = []\n",
    "    user = []\n",
    "    feature_score = []\n",
    "    feature_rank = []\n",
    "    activity = []\n",
    "    rank = []\n",
    "\n",
    "    for i in que_no_white.index:\n",
    "        users = que_no_white.loc[i][1:4]\n",
    "        users_dic = {i:j for i, j in zip(users.index, users.values)}\n",
    "        sorted_dic = sorted(users_dic, key=users_dic.get)\n",
    "    \n",
    "        q_num.append(num)\n",
    "        user.append(que_no_white.loc[i,0])\n",
    "        feature_score.append(list(que_no_white.loc[i][1:4]))\n",
    "        feature_rank.append(sorted_dic)\n",
    "        activity.append(que_no_white.loc[i]['activity'])\n",
    "        rank.append(que_no_white.loc[i, 'rank'])\n",
    "\n",
    "    out_dict = {'q_num':q_num, 'user':user, 'feature_score':feature_score,'feature_rank':feature_rank, 'activity':activity, 'rank':rank}\n",
    "    out_df = pd.DataFrame(out_dict)\n",
    "    out_df = out_df[['q_num','user','rank', 'feature_score','feature_rank','activity']]\n",
    "    \n",
    "    return out_df"
   ]
  },
  {
   "cell_type": "code",
   "execution_count": 14,
   "metadata": {},
   "outputs": [
    {
     "data": {
      "text/html": [
       "<div>\n",
       "<style scoped>\n",
       "    .dataframe tbody tr th:only-of-type {\n",
       "        vertical-align: middle;\n",
       "    }\n",
       "\n",
       "    .dataframe tbody tr th {\n",
       "        vertical-align: top;\n",
       "    }\n",
       "\n",
       "    .dataframe thead th {\n",
       "        text-align: right;\n",
       "    }\n",
       "</style>\n",
       "<table border=\"1\" class=\"dataframe\">\n",
       "  <thead>\n",
       "    <tr style=\"text-align: right;\">\n",
       "      <th></th>\n",
       "      <th>q_num</th>\n",
       "      <th>user</th>\n",
       "      <th>rank</th>\n",
       "      <th>feature_score</th>\n",
       "      <th>feature_rank</th>\n",
       "      <th>activity</th>\n",
       "    </tr>\n",
       "  </thead>\n",
       "  <tbody>\n",
       "    <tr>\n",
       "      <th>0</th>\n",
       "      <td>101</td>\n",
       "      <td>571407.0</td>\n",
       "      <td>2</td>\n",
       "      <td>[0.0, 0.576923076923, 0.470818346108]</td>\n",
       "      <td>[1, 3, 2]</td>\n",
       "      <td>comment</td>\n",
       "    </tr>\n",
       "    <tr>\n",
       "      <th>1</th>\n",
       "      <td>101</td>\n",
       "      <td>537445.0</td>\n",
       "      <td>309</td>\n",
       "      <td>[1.0, 0.000253036437247, 0.0]</td>\n",
       "      <td>[3, 2, 1]</td>\n",
       "      <td>favorite</td>\n",
       "    </tr>\n",
       "    <tr>\n",
       "      <th>2</th>\n",
       "      <td>101</td>\n",
       "      <td>177800.0</td>\n",
       "      <td>1792</td>\n",
       "      <td>[0.0224719101124, 0.0435222672065, 0.029429828...</td>\n",
       "      <td>[1, 3, 2]</td>\n",
       "      <td>edit</td>\n",
       "    </tr>\n",
       "    <tr>\n",
       "      <th>3</th>\n",
       "      <td>101</td>\n",
       "      <td>422437.0</td>\n",
       "      <td>4452</td>\n",
       "      <td>[0.0, 0.00278340080972, 0.00232245523213]</td>\n",
       "      <td>[1, 3, 2]</td>\n",
       "      <td>favorite</td>\n",
       "    </tr>\n",
       "  </tbody>\n",
       "</table>\n",
       "</div>"
      ],
      "text/plain": [
       "   q_num      user  rank                                      feature_score  \\\n",
       "0    101  571407.0     2              [0.0, 0.576923076923, 0.470818346108]   \n",
       "1    101  537445.0   309                      [1.0, 0.000253036437247, 0.0]   \n",
       "2    101  177800.0  1792  [0.0224719101124, 0.0435222672065, 0.029429828...   \n",
       "3    101  422437.0  4452          [0.0, 0.00278340080972, 0.00232245523213]   \n",
       "\n",
       "  feature_rank  activity  \n",
       "0    [1, 3, 2]   comment  \n",
       "1    [3, 2, 1]  favorite  \n",
       "2    [1, 3, 2]      edit  \n",
       "3    [1, 3, 2]  favorite  "
      ]
     },
     "execution_count": 14,
     "metadata": {},
     "output_type": "execute_result"
    }
   ],
   "source": [
    "#example\n",
    "get_feature_rank(101)"
   ]
  },
  {
   "cell_type": "markdown",
   "metadata": {},
   "source": [
    "# Feature Score Rank and Frequency "
   ]
  },
  {
   "cell_type": "code",
   "execution_count": 15,
   "metadata": {},
   "outputs": [
    {
     "name": "stdout",
     "output_type": "stream",
     "text": [
      "Run Time: 192.90563702583313\n"
     ]
    }
   ],
   "source": [
    "import time\n",
    "\n",
    "start = time.time()\n",
    "que_df = [get_feature_rank(i) for i in range(0,800)]\n",
    "end = time.time()\n",
    "print('Run Time:', end-start)"
   ]
  },
  {
   "cell_type": "code",
   "execution_count": 16,
   "metadata": {
    "collapsed": true
   },
   "outputs": [],
   "source": [
    "feature_rank = pd.concat(que_df)"
   ]
  },
  {
   "cell_type": "code",
   "execution_count": 17,
   "metadata": {
    "collapsed": true
   },
   "outputs": [],
   "source": [
    "# result_t = result[result['rank'] > 0.17 * len(map_activity(0))]\n",
    "# result_before_t = result[result['rank'] < 0.17 * len(map_activity(0))]"
   ]
  },
  {
   "cell_type": "code",
   "execution_count": 18,
   "metadata": {
    "collapsed": true
   },
   "outputs": [],
   "source": [
    "# f_rank = result_t.feature_rank.astype(str)\n",
    "# f_rank_before_t = result_before_t.feature_rank.astype(str)"
   ]
  },
  {
   "cell_type": "markdown",
   "metadata": {},
   "source": [
    "# Scatter Plot"
   ]
  },
  {
   "cell_type": "code",
   "execution_count": 19,
   "metadata": {},
   "outputs": [
    {
     "data": {
      "text/html": [
       "<div>\n",
       "<style scoped>\n",
       "    .dataframe tbody tr th:only-of-type {\n",
       "        vertical-align: middle;\n",
       "    }\n",
       "\n",
       "    .dataframe tbody tr th {\n",
       "        vertical-align: top;\n",
       "    }\n",
       "\n",
       "    .dataframe thead th {\n",
       "        text-align: right;\n",
       "    }\n",
       "</style>\n",
       "<table border=\"1\" class=\"dataframe\">\n",
       "  <thead>\n",
       "    <tr style=\"text-align: right;\">\n",
       "      <th></th>\n",
       "      <th>q_num</th>\n",
       "      <th>user</th>\n",
       "      <th>rank</th>\n",
       "      <th>feature_score</th>\n",
       "      <th>feature_rank</th>\n",
       "      <th>activity</th>\n",
       "    </tr>\n",
       "  </thead>\n",
       "  <tbody>\n",
       "    <tr>\n",
       "      <th>0</th>\n",
       "      <td>0.0</td>\n",
       "      <td>571407.0</td>\n",
       "      <td>1.0</td>\n",
       "      <td>[0.0578446909667, 0.674033149171, 0.502684338248]</td>\n",
       "      <td>[1, 3, 2]</td>\n",
       "      <td>comment</td>\n",
       "    </tr>\n",
       "    <tr>\n",
       "      <th>1</th>\n",
       "      <td>0.0</td>\n",
       "      <td>1025201.0</td>\n",
       "      <td>2821.0</td>\n",
       "      <td>[0.0588235294118, 0.0858864892014, 0.063822032...</td>\n",
       "      <td>[1, 3, 2]</td>\n",
       "      <td>edit</td>\n",
       "    </tr>\n",
       "    <tr>\n",
       "      <th>2</th>\n",
       "      <td>0.0</td>\n",
       "      <td>1292401.0</td>\n",
       "      <td>2840.0</td>\n",
       "      <td>[0.2, 0.00452034153692, 0.00163885762655]</td>\n",
       "      <td>[3, 2, 1]</td>\n",
       "      <td>edit</td>\n",
       "    </tr>\n",
       "    <tr>\n",
       "      <th>3</th>\n",
       "      <td>0.0</td>\n",
       "      <td>1381767.0</td>\n",
       "      <td>3952.0</td>\n",
       "      <td>[0.103448275862, 0.0105474635861, 0.0063574394...</td>\n",
       "      <td>[3, 2, 1]</td>\n",
       "      <td>comment</td>\n",
       "    </tr>\n",
       "    <tr>\n",
       "      <th>0</th>\n",
       "      <td>1.0</td>\n",
       "      <td>157882.0</td>\n",
       "      <td>1111.0</td>\n",
       "      <td>[0.0, 0.310728744939, 0.262338484571]</td>\n",
       "      <td>[1, 3, 2]</td>\n",
       "      <td>edit</td>\n",
       "    </tr>\n",
       "  </tbody>\n",
       "</table>\n",
       "</div>"
      ],
      "text/plain": [
       "   q_num       user    rank  \\\n",
       "0    0.0   571407.0     1.0   \n",
       "1    0.0  1025201.0  2821.0   \n",
       "2    0.0  1292401.0  2840.0   \n",
       "3    0.0  1381767.0  3952.0   \n",
       "0    1.0   157882.0  1111.0   \n",
       "\n",
       "                                       feature_score feature_rank activity  \n",
       "0  [0.0578446909667, 0.674033149171, 0.502684338248]    [1, 3, 2]  comment  \n",
       "1  [0.0588235294118, 0.0858864892014, 0.063822032...    [1, 3, 2]     edit  \n",
       "2          [0.2, 0.00452034153692, 0.00163885762655]    [3, 2, 1]     edit  \n",
       "3  [0.103448275862, 0.0105474635861, 0.0063574394...    [3, 2, 1]  comment  \n",
       "0              [0.0, 0.310728744939, 0.262338484571]    [1, 3, 2]     edit  "
      ]
     },
     "execution_count": 19,
     "metadata": {},
     "output_type": "execute_result"
    }
   ],
   "source": [
    "feature_rank.head()"
   ]
  },
  {
   "cell_type": "code",
   "execution_count": 20,
   "metadata": {
    "collapsed": true
   },
   "outputs": [],
   "source": [
    "# split the data based on the t*\n",
    "under_thres = feature_rank[feature_rank['rank'] < 0.17*max(feature_rank['rank'])]\n",
    "over_thres = feature_rank[feature_rank['rank'] >= 0.17*max(feature_rank['rank'])]"
   ]
  },
  {
   "cell_type": "code",
   "execution_count": 21,
   "metadata": {},
   "outputs": [
    {
     "data": {
      "text/plain": [
       "activity\n",
       "answer      1093\n",
       "comment      854\n",
       "edit         562\n",
       "favorite     146\n",
       "dtype: int64"
      ]
     },
     "execution_count": 21,
     "metadata": {},
     "output_type": "execute_result"
    }
   ],
   "source": [
    "under_thres.groupby('activity').size()"
   ]
  },
  {
   "cell_type": "code",
   "execution_count": 22,
   "metadata": {},
   "outputs": [
    {
     "data": {
      "text/plain": [
       "activity\n",
       "answer      206\n",
       "comment      26\n",
       "edit         40\n",
       "favorite     94\n",
       "dtype: int64"
      ]
     },
     "execution_count": 22,
     "metadata": {},
     "output_type": "execute_result"
    }
   ],
   "source": [
    "over_thres.groupby('activity').size()"
   ]
  },
  {
   "cell_type": "code",
   "execution_count": 23,
   "metadata": {},
   "outputs": [
    {
     "data": {
      "text/plain": [
       "answer      219\n",
       "favorite     97\n",
       "edit         43\n",
       "comment      30\n",
       "Name: activity, dtype: int64"
      ]
     },
     "execution_count": 23,
     "metadata": {},
     "output_type": "execute_result"
    }
   ],
   "source": [
    "activities_outliers.activity.value_counts()"
   ]
  },
  {
   "cell_type": "code",
   "execution_count": 24,
   "metadata": {
    "collapsed": true
   },
   "outputs": [],
   "source": [
    "import re\n",
    "import matplotlib.pyplot as plt\n",
    "import matplotlib.colors"
   ]
  },
  {
   "cell_type": "code",
   "execution_count": 25,
   "metadata": {
    "collapsed": true
   },
   "outputs": [],
   "source": [
    "def stacked_thres(data,activity):\n",
    "    \"\"\"give frequency of rank for each feature\n",
    "    \n",
    "    Argument: input data (pd DataFrame) -  the input data\n",
    "    \n",
    "    Return: pd.DataFrame - table with frequency \n",
    "    \"\"\"\n",
    "    f_ranks = data[data['activity'] == activity]['feature_rank']\n",
    "    fmin = []\n",
    "    fmed = []\n",
    "    fmax = []\n",
    "\n",
    "    for i in range(len(f_ranks)):\n",
    "        ranks = list(map(str, f_ranks.iloc[i]))\n",
    "        fmin.append(ranks[0])\n",
    "        fmed.append(ranks[1])\n",
    "        fmax.append(ranks[2])\n",
    "    d1 = pd.DataFrame([{x:fmin.count(x) for x in fmin}])\n",
    "    d2 = pd.DataFrame([{x:fmed.count(x) for x in fmed}])\n",
    "    d3 = pd.DataFrame([{x:fmax.count(x) for x in fmax}])\n",
    "    df = pd.concat([d1,d2,d3]).fillna(0).set_index([['min','med','max']])\n",
    "    return df"
   ]
  },
  {
   "cell_type": "code",
   "execution_count": 26,
   "metadata": {
    "collapsed": true
   },
   "outputs": [],
   "source": [
    "# scatter plot \n",
    "def stacked_bar(data, suptitle):\n",
    "    \"\"\" input data in a pd dataframe to plot graph, suptitle (str) - graph suptitle\n",
    "    \"\"\"\n",
    "    plt.figure()\n",
    "    cmap = [\"#28385E\",\"#973574\",\"DarkKhaki\"]\n",
    "    for i in range(len(feature_rank.activity.unique())):\n",
    "        activity = feature_rank.activity.unique()[i]\n",
    "        df = stacked_thres(data,activity)\n",
    "        ax = plt.subplot(1,4,i+1)\n",
    "        plt.tight_layout(rect=[0, 0.03, 1, 0.95])\n",
    "        for i in range(3):\n",
    "            values = df.iloc[i]\n",
    "            ax.scatter(df.index, values, color = cmap[i])\n",
    "        plt.title(activity)\n",
    "    ax.legend(df.columns,loc='center left', bbox_to_anchor=(1, 0.5))\n",
    "    plt.suptitle(suptitle)\n",
    "    plt.show()"
   ]
  },
  {
   "cell_type": "code",
   "execution_count": 35,
   "metadata": {},
   "outputs": [
    {
     "data": {
      "image/png": "[encoded data removed]",
      "text/plain": [
       "<matplotlib.figure.Figure at 0x111cf4be0>"
      ]
     },
     "metadata": {},
     "output_type": "display_data"
    }
   ],
   "source": [
    "stacked_bar(over_thres, \"Feature Effects on Scores Against Activities x>t*\")"
   ]
  },
  {
   "cell_type": "code",
   "execution_count": 36,
   "metadata": {},
   "outputs": [
    {
     "data": {
      "image/png": "[encoded data removed]",
      "text/plain": [
       "<matplotlib.figure.Figure at 0x112011da0>"
      ]
     },
     "metadata": {},
     "output_type": "display_data"
    }
   ],
   "source": [
    "stacked_bar(under_thres, \"Feature Effects on Scores Against Activities x<t*\")"
   ]
  },
  {
   "cell_type": "markdown",
   "metadata": {},
   "source": [
    "# Feature Score for Feature 1,2 and 3 for under and above threshold"
   ]
  },
  {
   "cell_type": "code",
   "execution_count": 37,
   "metadata": {
    "collapsed": true
   },
   "outputs": [],
   "source": [
    "over_thres.reset_index(inplace=True)\n",
    "under_thres.reset_index(inplace=True)"
   ]
  },
  {
   "cell_type": "code",
   "execution_count": 38,
   "metadata": {
    "collapsed": true
   },
   "outputs": [],
   "source": [
    "f1_score_ot = [i[0] for i in over_thres.feature_score]\n",
    "f2_score_ot = [i[1] for i in over_thres.feature_score]\n",
    "f3_score_ot = [i[2] for i in over_thres.feature_score]\n",
    "\n",
    "f1_score_ut = [i[0] for i in under_thres.feature_score]\n",
    "f2_score_ut = [i[1] for i in under_thres.feature_score]\n",
    "f3_score_ut = [i[2] for i in under_thres.feature_score]"
   ]
  },
  {
   "cell_type": "code",
   "execution_count": 39,
   "metadata": {
    "collapsed": true
   },
   "outputs": [],
   "source": [
    "from mpl_toolkits.mplot3d import Axes3D"
   ]
  },
  {
   "cell_type": "code",
   "execution_count": 46,
   "metadata": {},
   "outputs": [
    {
     "data": {
      "image/png": "[encoded data removed]",
      "text/plain": [
       "<matplotlib.figure.Figure at 0x1123971d0>"
      ]
     },
     "metadata": {},
     "output_type": "display_data"
    }
   ],
   "source": [
    "#fig = plt.figure(figsize=plt.figaspect(0.5))\n",
    "fig = plt.figure(figsize=(10,5))\n",
    "\n",
    "#x<t*\n",
    "ax1 = fig.add_subplot(1, 2, 1, projection = '3d')\n",
    "ax1.scatter(f1_score_ot, f2_score_ot, f3_score_ot, marker=\"o\", color = 'Blue', s = 10, alpha = 1)\n",
    "ax1.set_ylim(0,1)\n",
    "ax1.set_zlim(0,1)\n",
    "ax1.set_title('x>t*')\n",
    "ax1.set_xlabel('Feature 1')\n",
    "ax1.set_ylabel('Feature 2')\n",
    "ax1.set_zlabel('Feature 3')\n",
    "\n",
    "#x>t*\n",
    "ax1 = fig.add_subplot(1, 2, 2, projection = '3d')\n",
    "ax1.scatter(f1_score_ut, f2_score_ut, f3_score_ut, marker=\"o\", color = 'Red', s = 10, alpha = 1)\n",
    "ax1.set_title('x<t*')\n",
    "ax1.set_xlabel('Feature 1')\n",
    "ax1.set_ylabel('Feature 2')\n",
    "ax1.set_zlabel('Feature 3')\n",
    "\n",
    "fig.suptitle('Feature Score for Feature 1,2 and 3 for under and above threshold')\n",
    "plt.show()"
   ]
  },
  {
   "cell_type": "markdown",
   "metadata": {},
   "source": [
    "# Mean score for feature 1"
   ]
  },
  {
   "cell_type": "code",
   "execution_count": 29,
   "metadata": {},
   "outputs": [
    {
     "data": {
      "text/plain": [
       "0.031372394487763029"
      ]
     },
     "execution_count": 29,
     "metadata": {},
     "output_type": "execute_result"
    }
   ],
   "source": [
    "#feature 1 after t\n",
    "f1_t = [i[0] for i in over_thres.feature_score]\n",
    "np.mean(f1_t)"
   ]
  },
  {
   "cell_type": "code",
   "execution_count": 45,
   "metadata": {},
   "outputs": [
    {
     "name": "stdout",
     "output_type": "stream",
     "text": [
      "There are 348 zeros out of 366 .\n"
     ]
    }
   ],
   "source": [
    "counter = 0\n",
    "for i in f1_t:\n",
    "    if i == 0.0:\n",
    "        counter += 1\n",
    "        \n",
    "print('There are', counter, 'zeros out of', len(f1_t),'.')"
   ]
  },
  {
   "cell_type": "code",
   "execution_count": 31,
   "metadata": {},
   "outputs": [
    {
     "data": {
      "text/plain": [
       "0.15883309969441023"
      ]
     },
     "execution_count": 31,
     "metadata": {},
     "output_type": "execute_result"
    }
   ],
   "source": [
    "#feature 1 after t\n",
    "f1_before_t = [i[0] for i in under_thres.feature_score]\n",
    "np.mean(f1_before_t)"
   ]
  },
  {
   "cell_type": "code",
   "execution_count": 32,
   "metadata": {},
   "outputs": [
    {
     "name": "stdout",
     "output_type": "stream",
     "text": [
      "There are 447 zeros out of 2655 .\n"
     ]
    }
   ],
   "source": [
    "counter = 0\n",
    "for i in f1_before_t:\n",
    "    if i == 0.0:\n",
    "        counter += 1\n",
    "        \n",
    "print('There are', counter, 'zeros out of', len(f1_before_t), '.')"
   ]
  },
  {
   "cell_type": "markdown",
   "metadata": {},
   "source": [
    "Using number of views to determine the number of email to send, use this number to be the threshold "
   ]
  },
  {
   "cell_type": "code",
   "execution_count": null,
   "metadata": {
    "collapsed": true
   },
   "outputs": [],
   "source": []
  }
 ],
 "metadata": {
  "kernelspec": {
   "display_name": "Python 3",
   "language": "python",
   "name": "python3"
  },
  "language_info": {
   "codemirror_mode": {
    "name": "ipython",
    "version": 3
   },
   "file_extension": ".py",
   "mimetype": "text/x-python",
   "name": "python",
   "nbconvert_exporter": "python",
   "pygments_lexer": "ipython3",
   "version": "3.6.5"
  },
  "toc": {
   "base_numbering": 1,
   "nav_menu": {},
   "number_sections": true,
   "sideBar": true,
   "skip_h1_title": false,
   "title_cell": "Table of Contents",
   "title_sidebar": "Contents",
   "toc_cell": false,
   "toc_position": {},
   "toc_section_display": true,
   "toc_window_display": false
  }
 },
 "nbformat": 4,
 "nbformat_minor": 2
}
