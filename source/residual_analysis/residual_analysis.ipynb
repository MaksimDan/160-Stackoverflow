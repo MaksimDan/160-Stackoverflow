{
 "cells": [
  {
   "cell_type": "markdown",
   "metadata": {},
   "source": [
    "# Load data"
   ]
  },
  {
   "cell_type": "code",
   "execution_count": 1,
   "metadata": {
    "collapsed": true
   },
   "outputs": [],
   "source": [
    "import pandas as pd"
   ]
  },
  {
   "cell_type": "code",
   "execution_count": 2,
   "metadata": {
    "collapsed": true
   },
   "outputs": [],
   "source": [
    "#activities\n",
    "residual_800 = pd.read_csv('/Users/seungmi/Dropbox/160-Stackoverflow-Data/residuals/data/residuals_800_q.csv')"
   ]
  },
  {
   "cell_type": "code",
   "execution_count": 3,
   "metadata": {
    "collapsed": true
   },
   "outputs": [],
   "source": [
    "#questions\n",
    "x_train_800 = pd.read_csv('/Users/seungmi/Dropbox/160-Stackoverflow-Data/residuals/data/X_train_800.csv')"
   ]
  },
  {
   "cell_type": "code",
   "execution_count": 4,
   "metadata": {},
   "outputs": [
    {
     "data": {
      "text/html": [
       "<div>\n",
       "<style scoped>\n",
       "    .dataframe tbody tr th:only-of-type {\n",
       "        vertical-align: middle;\n",
       "    }\n",
       "\n",
       "    .dataframe tbody tr th {\n",
       "        vertical-align: top;\n",
       "    }\n",
       "\n",
       "    .dataframe thead th {\n",
       "        text-align: right;\n",
       "    }\n",
       "</style>\n",
       "<table border=\"1\" class=\"dataframe\">\n",
       "  <thead>\n",
       "    <tr style=\"text-align: right;\">\n",
       "      <th></th>\n",
       "      <th>activity</th>\n",
       "      <th>q_num</th>\n",
       "      <th>rank</th>\n",
       "      <th>score</th>\n",
       "      <th>userid</th>\n",
       "    </tr>\n",
       "  </thead>\n",
       "  <tbody>\n",
       "    <tr>\n",
       "      <th>0</th>\n",
       "      <td>answer</td>\n",
       "      <td>0</td>\n",
       "      <td>1</td>\n",
       "      <td>1.234562</td>\n",
       "      <td>571407</td>\n",
       "    </tr>\n",
       "    <tr>\n",
       "      <th>1</th>\n",
       "      <td>comment</td>\n",
       "      <td>0</td>\n",
       "      <td>3952</td>\n",
       "      <td>0.120353</td>\n",
       "      <td>1381767</td>\n",
       "    </tr>\n",
       "    <tr>\n",
       "      <th>2</th>\n",
       "      <td>comment</td>\n",
       "      <td>0</td>\n",
       "      <td>1</td>\n",
       "      <td>1.234562</td>\n",
       "      <td>571407</td>\n",
       "    </tr>\n",
       "    <tr>\n",
       "      <th>3</th>\n",
       "      <td>comment</td>\n",
       "      <td>0</td>\n",
       "      <td>2840</td>\n",
       "      <td>0.206159</td>\n",
       "      <td>1292401</td>\n",
       "    </tr>\n",
       "    <tr>\n",
       "      <th>4</th>\n",
       "      <td>comment</td>\n",
       "      <td>0</td>\n",
       "      <td>2821</td>\n",
       "      <td>0.208532</td>\n",
       "      <td>1025201</td>\n",
       "    </tr>\n",
       "  </tbody>\n",
       "</table>\n",
       "</div>"
      ],
      "text/plain": [
       "  activity  q_num  rank     score   userid\n",
       "0   answer      0     1  1.234562   571407\n",
       "1  comment      0  3952  0.120353  1381767\n",
       "2  comment      0     1  1.234562   571407\n",
       "3  comment      0  2840  0.206159  1292401\n",
       "4  comment      0  2821  0.208532  1025201"
      ]
     },
     "execution_count": 4,
     "metadata": {},
     "output_type": "execute_result"
    }
   ],
   "source": [
    "residual_800.head()"
   ]
  },
  {
   "cell_type": "markdown",
   "metadata": {},
   "source": [
    "# FInd outliers"
   ]
  },
  {
   "cell_type": "code",
   "execution_count": 5,
   "metadata": {
    "collapsed": true
   },
   "outputs": [],
   "source": [
    "import numpy as np"
   ]
  },
  {
   "cell_type": "code",
   "execution_count": 6,
   "metadata": {
    "collapsed": true
   },
   "outputs": [],
   "source": [
    "def outliers(li):\n",
    "    qua1, qua3 = np.percentile(li, [25, 75])\n",
    "    iqr = qua3 - qua1\n",
    "    upper_bound = qua3 + (iqr * 1.5)\n",
    "    li_outlier = [i for i in li if i >= upper_bound]\n",
    "    return li_outlier"
   ]
  },
  {
   "cell_type": "code",
   "execution_count": 7,
   "metadata": {
    "collapsed": true
   },
   "outputs": [],
   "source": [
    "outlier_rank = outliers(list(residual_800['rank']))"
   ]
  },
  {
   "cell_type": "code",
   "execution_count": 8,
   "metadata": {
    "collapsed": true
   },
   "outputs": [],
   "source": [
    "#dataframe with outliers\n",
    "activities_outliers = residual_800[residual_800['rank'].isin(outlier_rank)]"
   ]
  },
  {
   "cell_type": "markdown",
   "metadata": {},
   "source": [
    "# Questions of these observed outlier ranks"
   ]
  },
  {
   "cell_type": "code",
   "execution_count": 9,
<<<<<<< HEAD
   "metadata": {},
=======
   "metadata": {
    "collapsed": true
   },
>>>>>>> 68325c17d650dc5c038cc23c9911d2b1096a1eac
   "outputs": [],
   "source": [
    "outlier_question = x_train_800[x_train_800.index.isin(activities_outliers.q_num.unique())]"
   ]
  },
  {
   "cell_type": "code",
   "execution_count": 10,
   "metadata": {
    "scrolled": false
   },
   "outputs": [
    {
     "data": {
      "text/html": [
       "<div>\n",
       "<style scoped>\n",
       "    .dataframe tbody tr th:only-of-type {\n",
       "        vertical-align: middle;\n",
       "    }\n",
       "\n",
       "    .dataframe tbody tr th {\n",
       "        vertical-align: top;\n",
       "    }\n",
       "\n",
       "    .dataframe thead th {\n",
       "        text-align: right;\n",
       "    }\n",
       "</style>\n",
       "<table border=\"1\" class=\"dataframe\">\n",
       "  <thead>\n",
       "    <tr style=\"text-align: right;\">\n",
       "      <th></th>\n",
       "      <th>Unnamed: 0</th>\n",
       "      <th>Unnamed: 0.1</th>\n",
       "      <th>Id</th>\n",
       "      <th>ParentId</th>\n",
       "      <th>AcceptedAnswerId</th>\n",
       "      <th>CreationDate</th>\n",
       "      <th>Score</th>\n",
       "      <th>ViewCount</th>\n",
       "      <th>Body</th>\n",
       "      <th>OwnerUserId</th>\n",
       "      <th>OwnerDisplayName</th>\n",
       "      <th>LastEditorUserId</th>\n",
       "      <th>Title</th>\n",
       "      <th>Tags</th>\n",
       "      <th>AnswerCount</th>\n",
       "      <th>CommentCount</th>\n",
       "      <th>FavoriteCount</th>\n",
       "      <th>ClosedDate</th>\n",
       "    </tr>\n",
       "  </thead>\n",
       "  <tbody>\n",
       "    <tr>\n",
       "      <th>2</th>\n",
       "      <td>2</td>\n",
       "      <td>67737</td>\n",
       "      <td>11209935</td>\n",
       "      <td>NaN</td>\n",
       "      <td>NaN</td>\n",
       "      <td>2012-06-26T14:46:59.163</td>\n",
       "      <td>2</td>\n",
       "      <td>10504.0</td>\n",
       "      <td>&lt;p&gt;I 'm getting the date in the following form...</td>\n",
       "      <td>964819.0</td>\n",
       "      <td>NaN</td>\n",
       "      <td>904049.0</td>\n",
       "      <td>Changing one date format to another</td>\n",
       "      <td>java date format</td>\n",
       "      <td>4.0</td>\n",
       "      <td>1</td>\n",
       "      <td>NaN</td>\n",
       "      <td>NaN</td>\n",
       "    </tr>\n",
       "    <tr>\n",
       "      <th>13</th>\n",
       "      <td>13</td>\n",
       "      <td>1296</td>\n",
       "      <td>8741054</td>\n",
       "      <td>NaN</td>\n",
       "      <td>8741143.0</td>\n",
       "      <td>2012-01-05T10:37:18.253</td>\n",
       "      <td>0</td>\n",
       "      <td>1732.0</td>\n",
       "      <td>&lt;p&gt;How to resolve warning message coming in ec...</td>\n",
       "      <td>374199.0</td>\n",
       "      <td>NaN</td>\n",
       "      <td>1977903.0</td>\n",
       "      <td>Eclipse Warning message</td>\n",
       "      <td>java eclipse</td>\n",
       "      <td>5.0</td>\n",
       "      <td>6</td>\n",
       "      <td>0.0</td>\n",
       "      <td>NaN</td>\n",
       "    </tr>\n",
       "    <tr>\n",
       "      <th>14</th>\n",
       "      <td>14</td>\n",
       "      <td>43834</td>\n",
       "      <td>10314404</td>\n",
       "      <td>NaN</td>\n",
       "      <td>10314451.0</td>\n",
       "      <td>2012-04-25T11:09:04.190</td>\n",
       "      <td>-2</td>\n",
       "      <td>2842.0</td>\n",
       "      <td>&lt;p&gt;I am working on Galaxy Nexus(Android 4.0.3)...</td>\n",
       "      <td>896579.0</td>\n",
       "      <td>NaN</td>\n",
       "      <td>136445.0</td>\n",
       "      <td>How to save captured image to gallery</td>\n",
       "      <td>java android emulation samsung-mobile</td>\n",
       "      <td>2.0</td>\n",
       "      <td>1</td>\n",
       "      <td>NaN</td>\n",
       "      <td>NaN</td>\n",
       "    </tr>\n",
       "    <tr>\n",
       "      <th>23</th>\n",
       "      <td>23</td>\n",
       "      <td>68460</td>\n",
       "      <td>11239086</td>\n",
       "      <td>NaN</td>\n",
       "      <td>11239128.0</td>\n",
       "      <td>2012-06-28T06:23:16.197</td>\n",
       "      <td>132</td>\n",
       "      <td>291504.0</td>\n",
       "      <td>&lt;blockquote&gt;\\r\\r\\r\\n  &lt;p&gt;&lt;strong&gt;Possible Dupl...</td>\n",
       "      <td>1439243.0</td>\n",
       "      <td>NaN</td>\n",
       "      <td>-1.0</td>\n",
       "      <td>java.lang.UnsupportedClassVersionError Unsuppo...</td>\n",
       "      <td>java</td>\n",
       "      <td>7.0</td>\n",
       "      <td>0</td>\n",
       "      <td>33.0</td>\n",
       "      <td>2013-02-04T07:29:18.850</td>\n",
       "    </tr>\n",
       "    <tr>\n",
       "      <th>24</th>\n",
       "      <td>24</td>\n",
       "      <td>20678</td>\n",
       "      <td>9484820</td>\n",
       "      <td>NaN</td>\n",
       "      <td>NaN</td>\n",
       "      <td>2012-02-28T15:33:14.167</td>\n",
       "      <td>-1</td>\n",
       "      <td>1488.0</td>\n",
       "      <td>&lt;p&gt;I have an html file called basic.html and w...</td>\n",
       "      <td>1178770.0</td>\n",
       "      <td>NaN</td>\n",
       "      <td>1400768.0</td>\n",
       "      <td>Regex - find various strings from an HTML file</td>\n",
       "      <td>java html regex</td>\n",
       "      <td>2.0</td>\n",
       "      <td>4</td>\n",
       "      <td>NaN</td>\n",
       "      <td>2014-09-27T14:44:12.220</td>\n",
       "    </tr>\n",
       "  </tbody>\n",
       "</table>\n",
       "</div>"
      ],
      "text/plain": [
       "    Unnamed: 0  Unnamed: 0.1        Id  ParentId  AcceptedAnswerId  \\\n",
       "2            2         67737  11209935       NaN               NaN   \n",
       "13          13          1296   8741054       NaN         8741143.0   \n",
       "14          14         43834  10314404       NaN        10314451.0   \n",
       "23          23         68460  11239086       NaN        11239128.0   \n",
       "24          24         20678   9484820       NaN               NaN   \n",
       "\n",
       "               CreationDate  Score  ViewCount  \\\n",
       "2   2012-06-26T14:46:59.163      2    10504.0   \n",
       "13  2012-01-05T10:37:18.253      0     1732.0   \n",
       "14  2012-04-25T11:09:04.190     -2     2842.0   \n",
       "23  2012-06-28T06:23:16.197    132   291504.0   \n",
       "24  2012-02-28T15:33:14.167     -1     1488.0   \n",
       "\n",
       "                                                 Body  OwnerUserId  \\\n",
       "2   <p>I 'm getting the date in the following form...     964819.0   \n",
       "13  <p>How to resolve warning message coming in ec...     374199.0   \n",
       "14  <p>I am working on Galaxy Nexus(Android 4.0.3)...     896579.0   \n",
       "23  <blockquote>\\r\\r\\r\\n  <p><strong>Possible Dupl...    1439243.0   \n",
       "24  <p>I have an html file called basic.html and w...    1178770.0   \n",
       "\n",
       "    OwnerDisplayName  LastEditorUserId  \\\n",
       "2                NaN          904049.0   \n",
       "13               NaN         1977903.0   \n",
       "14               NaN          136445.0   \n",
       "23               NaN              -1.0   \n",
       "24               NaN         1400768.0   \n",
       "\n",
       "                                                Title  \\\n",
       "2                 Changing one date format to another   \n",
       "13                            Eclipse Warning message   \n",
       "14              How to save captured image to gallery   \n",
       "23  java.lang.UnsupportedClassVersionError Unsuppo...   \n",
       "24     Regex - find various strings from an HTML file   \n",
       "\n",
       "                                     Tags  AnswerCount  CommentCount  \\\n",
       "2                        java date format          4.0             1   \n",
       "13                           java eclipse          5.0             6   \n",
       "14  java android emulation samsung-mobile          2.0             1   \n",
       "23                                   java          7.0             0   \n",
       "24                        java html regex          2.0             4   \n",
       "\n",
       "    FavoriteCount               ClosedDate  \n",
       "2             NaN                      NaN  \n",
       "13            0.0                      NaN  \n",
       "14            NaN                      NaN  \n",
       "23           33.0  2013-02-04T07:29:18.850  \n",
       "24            NaN  2014-09-27T14:44:12.220  "
      ]
     },
     "execution_count": 10,
     "metadata": {},
     "output_type": "execute_result"
    }
   ],
   "source": [
    "outlier_question.head()"
   ]
  },
  {
   "cell_type": "code",
<<<<<<< HEAD
   "execution_count": 12,
   "metadata": {},
=======
   "execution_count": 11,
   "metadata": {
    "collapsed": true
   },
>>>>>>> 68325c17d650dc5c038cc23c9911d2b1096a1eac
   "outputs": [],
   "source": [
    "y_train = pd.read_csv('/Users/seungmi/Dropbox/160-Stackoverflow-Data/residuals/data/y_train.csv')"
   ]
  },
  {
   "cell_type": "markdown",
   "metadata": {},
   "source": [
    "# map activity for feature matrix (question number)"
   ]
  },
  {
   "cell_type": "code",
<<<<<<< HEAD
   "execution_count": 13,
   "metadata": {},
=======
   "execution_count": 12,
   "metadata": {
    "collapsed": true
   },
>>>>>>> 68325c17d650dc5c038cc23c9911d2b1096a1eac
   "outputs": [],
   "source": [
    "def map_activity(file_name):\n",
    "    \"\"\" Modify Feature Matrix (Ranks of users for each question) to add activities.\n",
    "    \n",
    "    Argument: file_name (int) - the question number\n",
    "    \n",
    "    Return: pd.dataframe - the modified feature matrix\n",
    "    \"\"\"\n",
    "    \n",
    "    path = '/Users/seungmi/Dropbox/160-Stackoverflow-Data/residuals/feature_matrices/'\\\n",
    "    + 'q_' + str(file_name) + '_feature_matrix.csv'\n",
    "    \n",
    "    que = pd.read_csv(path, header = None)\n",
    "    user_activity = residual_800[residual_800.q_num == file_name]\n",
    "    user_activity_dict = {i:j for i, j in zip(user_activity.userid, user_activity.activity)}\n",
    "\n",
    "    activity_que = []\n",
    "    for i in que[0]:\n",
    "        if i in user_activity_dict.keys():\n",
    "            activity_que.append(user_activity_dict.get(i))\n",
    "        else:\n",
    "            activity_que.append('no_act')\n",
    "    que['activity'] = activity_que\n",
    "    \n",
    "    que.sort_values(4)\n",
    "    que['rank'] = que.index\n",
    "    return que"
   ]
  },
  {
   "cell_type": "code",
<<<<<<< HEAD
   "execution_count": 14,
   "metadata": {},
=======
   "execution_count": 13,
   "metadata": {
    "collapsed": true
   },
>>>>>>> 68325c17d650dc5c038cc23c9911d2b1096a1eac
   "outputs": [],
   "source": [
    "num = 101\n",
    "def get_feature_rank(num):\n",
    "    \"\"\" Use function: map_activity to run\n",
    "    \n",
    "    Argument: num (int) - question number (feature matrid file)\n",
    "    \n",
    "    Return: pd.DataFrame - the dataframe with sorted feature rank\n",
    "    \"\"\"\n",
    "    \n",
    "    que_no_white = map_activity(num)[map_activity(num).activity != 'no_act']\n",
    "\n",
    "    q_num = []\n",
    "    user = []\n",
    "    feature_score = []\n",
    "    feature_rank = []\n",
    "    activity = []\n",
    "    rank = []\n",
    "\n",
    "    for i in que_no_white.index:\n",
    "        users = que_no_white.loc[i][1:4]\n",
    "        users_dic = {i:j for i, j in zip(users.index, users.values)}\n",
    "        sorted_dic = sorted(users_dic, key=users_dic.get)\n",
    "    \n",
    "        q_num.append(num)\n",
    "        user.append(que_no_white.loc[i,0])\n",
    "        feature_score.append(list(que_no_white.loc[i][1:4]))\n",
    "        feature_rank.append(sorted_dic)\n",
    "        activity.append(que_no_white.loc[i]['activity'])\n",
    "        rank.append(que_no_white.loc[i, 'rank'])\n",
    "\n",
    "    out_dict = {'q_num':q_num, 'user':user, 'feature_score':feature_score,'feature_rank':feature_rank, 'activity':activity, 'rank':rank}\n",
    "    out_df = pd.DataFrame(out_dict)\n",
    "    out_df = out_df[['q_num','user','rank', 'feature_score','feature_rank','activity']]\n",
    "    \n",
    "    return out_df"
   ]
  },
  {
   "cell_type": "code",
<<<<<<< HEAD
   "execution_count": 15,
=======
   "execution_count": 14,
>>>>>>> 68325c17d650dc5c038cc23c9911d2b1096a1eac
   "metadata": {},
   "outputs": [
    {
     "data": {
      "text/html": [
       "<div>\n",
       "<style scoped>\n",
       "    .dataframe tbody tr th:only-of-type {\n",
       "        vertical-align: middle;\n",
       "    }\n",
       "\n",
       "    .dataframe tbody tr th {\n",
       "        vertical-align: top;\n",
       "    }\n",
       "\n",
       "    .dataframe thead th {\n",
       "        text-align: right;\n",
       "    }\n",
       "</style>\n",
       "<table border=\"1\" class=\"dataframe\">\n",
       "  <thead>\n",
       "    <tr style=\"text-align: right;\">\n",
       "      <th></th>\n",
       "      <th>q_num</th>\n",
       "      <th>user</th>\n",
       "      <th>rank</th>\n",
       "      <th>feature_score</th>\n",
       "      <th>feature_rank</th>\n",
       "      <th>activity</th>\n",
       "    </tr>\n",
       "  </thead>\n",
       "  <tbody>\n",
       "    <tr>\n",
       "      <th>0</th>\n",
       "      <td>101</td>\n",
       "      <td>571407.0</td>\n",
       "      <td>2</td>\n",
       "      <td>[0.0, 0.576923076923077, 0.4708183461080127]</td>\n",
       "      <td>[1, 3, 2]</td>\n",
       "      <td>comment</td>\n",
       "    </tr>\n",
       "    <tr>\n",
       "      <th>1</th>\n",
       "      <td>101</td>\n",
       "      <td>537445.0</td>\n",
       "      <td>309</td>\n",
       "      <td>[1.0, 0.0002530364372469636, 0.0]</td>\n",
       "      <td>[3, 2, 1]</td>\n",
       "      <td>favorite</td>\n",
       "    </tr>\n",
       "    <tr>\n",
       "      <th>2</th>\n",
       "      <td>101</td>\n",
       "      <td>177800.0</td>\n",
       "      <td>1792</td>\n",
       "      <td>[0.02247191011235955, 0.04352226720647773, 0.0...</td>\n",
       "      <td>[1, 3, 2]</td>\n",
       "      <td>edit</td>\n",
       "    </tr>\n",
       "    <tr>\n",
       "      <th>3</th>\n",
       "      <td>101</td>\n",
       "      <td>422437.0</td>\n",
       "      <td>4452</td>\n",
       "      <td>[0.0, 0.0027834008097165994, 0.002322455232130...</td>\n",
       "      <td>[1, 3, 2]</td>\n",
       "      <td>favorite</td>\n",
       "    </tr>\n",
       "  </tbody>\n",
       "</table>\n",
       "</div>"
      ],
      "text/plain": [
       "   q_num      user  rank                                      feature_score  \\\n",
       "0    101  571407.0     2       [0.0, 0.576923076923077, 0.4708183461080127]   \n",
       "1    101  537445.0   309                  [1.0, 0.0002530364372469636, 0.0]   \n",
       "2    101  177800.0  1792  [0.02247191011235955, 0.04352226720647773, 0.0...   \n",
       "3    101  422437.0  4452  [0.0, 0.0027834008097165994, 0.002322455232130...   \n",
       "\n",
       "  feature_rank  activity  \n",
       "0    [1, 3, 2]   comment  \n",
       "1    [3, 2, 1]  favorite  \n",
       "2    [1, 3, 2]      edit  \n",
       "3    [1, 3, 2]  favorite  "
      ]
     },
<<<<<<< HEAD
     "execution_count": 15,
=======
     "execution_count": 14,
>>>>>>> 68325c17d650dc5c038cc23c9911d2b1096a1eac
     "metadata": {},
     "output_type": "execute_result"
    }
   ],
   "source": [
    "#example\n",
    "get_feature_rank(101)"
   ]
  },
  {
   "cell_type": "markdown",
   "metadata": {},
   "source": [
    "# Feature Score Rank and Frequency "
   ]
  },
  {
   "cell_type": "code",
<<<<<<< HEAD
   "execution_count": 16,
=======
   "execution_count": 15,
>>>>>>> 68325c17d650dc5c038cc23c9911d2b1096a1eac
   "metadata": {},
   "outputs": [
    {
     "name": "stdout",
     "output_type": "stream",
     "text": [
<<<<<<< HEAD
      "Run Time: 376.2955584526062\n"
=======
      "Run Time: 193.5887098312378\n"
>>>>>>> 68325c17d650dc5c038cc23c9911d2b1096a1eac
     ]
    }
   ],
   "source": [
    "import time\n",
    "\n",
    "start = time.time()\n",
    "que_df = [get_feature_rank(i) for i in range(0,800)]\n",
    "end = time.time()\n",
    "print('Run Time:', end-start)"
   ]
  },
  {
   "cell_type": "code",
<<<<<<< HEAD
   "execution_count": 17,
   "metadata": {},
=======
   "execution_count": 16,
   "metadata": {
    "collapsed": true
   },
>>>>>>> 68325c17d650dc5c038cc23c9911d2b1096a1eac
   "outputs": [],
   "source": [
    "feature_rank = pd.concat(que_df)"
   ]
  },
  {
   "cell_type": "code",
<<<<<<< HEAD
   "execution_count": 18,
   "metadata": {},
=======
   "execution_count": 17,
   "metadata": {
    "collapsed": true
   },
>>>>>>> 68325c17d650dc5c038cc23c9911d2b1096a1eac
   "outputs": [],
   "source": [
    "# result_t = result[result['rank'] > 0.17 * len(map_activity(0))]\n",
    "# result_before_t = result[result['rank'] < 0.17 * len(map_activity(0))]"
   ]
  },
  {
   "cell_type": "code",
<<<<<<< HEAD
   "execution_count": 19,
   "metadata": {},
=======
   "execution_count": 18,
   "metadata": {
    "collapsed": true
   },
>>>>>>> 68325c17d650dc5c038cc23c9911d2b1096a1eac
   "outputs": [],
   "source": [
    "# f_rank = result_t.feature_rank.astype(str)\n",
    "# f_rank_before_t = result_before_t.feature_rank.astype(str)"
   ]
  },
  {
   "cell_type": "markdown",
   "metadata": {},
   "source": [
    "# Stacked Bar Plot"
   ]
  },
  {
   "cell_type": "code",
<<<<<<< HEAD
   "execution_count": 20,
=======
   "execution_count": 19,
>>>>>>> 68325c17d650dc5c038cc23c9911d2b1096a1eac
   "metadata": {},
   "outputs": [
    {
     "data": {
      "text/html": [
       "<div>\n",
       "<style scoped>\n",
       "    .dataframe tbody tr th:only-of-type {\n",
       "        vertical-align: middle;\n",
       "    }\n",
       "\n",
       "    .dataframe tbody tr th {\n",
       "        vertical-align: top;\n",
       "    }\n",
       "\n",
       "    .dataframe thead th {\n",
       "        text-align: right;\n",
       "    }\n",
       "</style>\n",
       "<table border=\"1\" class=\"dataframe\">\n",
       "  <thead>\n",
       "    <tr style=\"text-align: right;\">\n",
       "      <th></th>\n",
       "      <th>q_num</th>\n",
       "      <th>user</th>\n",
       "      <th>rank</th>\n",
       "      <th>feature_score</th>\n",
       "      <th>feature_rank</th>\n",
       "      <th>activity</th>\n",
       "    </tr>\n",
       "  </thead>\n",
       "  <tbody>\n",
       "    <tr>\n",
       "      <th>0</th>\n",
       "      <td>0.0</td>\n",
       "      <td>571407.0</td>\n",
       "      <td>1.0</td>\n",
       "      <td>[0.057844690966719486, 0.6740331491712708, 0.5...</td>\n",
       "      <td>[1, 3, 2]</td>\n",
       "      <td>comment</td>\n",
       "    </tr>\n",
       "    <tr>\n",
       "      <th>1</th>\n",
       "      <td>0.0</td>\n",
       "      <td>1025201.0</td>\n",
       "      <td>2821.0</td>\n",
       "      <td>[0.05882352941176471, 0.08588648920140633, 0.0...</td>\n",
       "      <td>[1, 3, 2]</td>\n",
       "      <td>edit</td>\n",
       "    </tr>\n",
       "    <tr>\n",
       "      <th>2</th>\n",
       "      <td>0.0</td>\n",
       "      <td>1292401.0</td>\n",
       "      <td>2840.0</td>\n",
       "      <td>[0.2, 0.0045203415369161224, 0.001638857626554...</td>\n",
       "      <td>[3, 2, 1]</td>\n",
       "      <td>edit</td>\n",
       "    </tr>\n",
       "    <tr>\n",
       "      <th>3</th>\n",
       "      <td>0.0</td>\n",
       "      <td>1381767.0</td>\n",
       "      <td>3952.0</td>\n",
       "      <td>[0.10344827586206896, 0.01054746358613762, 0.0...</td>\n",
       "      <td>[3, 2, 1]</td>\n",
       "      <td>comment</td>\n",
       "    </tr>\n",
       "    <tr>\n",
       "      <th>0</th>\n",
       "      <td>1.0</td>\n",
       "      <td>157882.0</td>\n",
       "      <td>1111.0</td>\n",
       "      <td>[0.0, 0.3107287449392713, 0.2623384845712786]</td>\n",
       "      <td>[1, 3, 2]</td>\n",
       "      <td>edit</td>\n",
       "    </tr>\n",
       "  </tbody>\n",
       "</table>\n",
       "</div>"
      ],
      "text/plain": [
       "   q_num       user    rank  \\\n",
       "0    0.0   571407.0     1.0   \n",
       "1    0.0  1025201.0  2821.0   \n",
       "2    0.0  1292401.0  2840.0   \n",
       "3    0.0  1381767.0  3952.0   \n",
       "0    1.0   157882.0  1111.0   \n",
       "\n",
       "                                       feature_score feature_rank activity  \n",
       "0  [0.057844690966719486, 0.6740331491712708, 0.5...    [1, 3, 2]  comment  \n",
       "1  [0.05882352941176471, 0.08588648920140633, 0.0...    [1, 3, 2]     edit  \n",
       "2  [0.2, 0.0045203415369161224, 0.001638857626554...    [3, 2, 1]     edit  \n",
       "3  [0.10344827586206896, 0.01054746358613762, 0.0...    [3, 2, 1]  comment  \n",
       "0      [0.0, 0.3107287449392713, 0.2623384845712786]    [1, 3, 2]     edit  "
      ]
     },
<<<<<<< HEAD
     "execution_count": 20,
=======
     "execution_count": 19,
>>>>>>> 68325c17d650dc5c038cc23c9911d2b1096a1eac
     "metadata": {},
     "output_type": "execute_result"
    }
   ],
   "source": [
    "feature_rank.head()"
   ]
  },
  {
   "cell_type": "code",
<<<<<<< HEAD
   "execution_count": 21,
   "metadata": {},
=======
   "execution_count": 20,
   "metadata": {
    "collapsed": true
   },
>>>>>>> 68325c17d650dc5c038cc23c9911d2b1096a1eac
   "outputs": [],
   "source": [
    "# split the data based on the t*\n",
    "under_thres = feature_rank[feature_rank['rank'] < 0.17*max(feature_rank['rank'])]\n",
    "over_thres = feature_rank[feature_rank['rank'] >= 0.17*max(feature_rank['rank'])]"
   ]
  },
  {
   "cell_type": "code",
<<<<<<< HEAD
   "execution_count": 22,
=======
   "execution_count": 21,
>>>>>>> 68325c17d650dc5c038cc23c9911d2b1096a1eac
   "metadata": {},
   "outputs": [
    {
     "data": {
      "text/plain": [
       "activity\n",
       "answer      1093\n",
       "comment      854\n",
       "edit         562\n",
       "favorite     146\n",
       "dtype: int64"
      ]
     },
<<<<<<< HEAD
     "execution_count": 22,
=======
     "execution_count": 21,
>>>>>>> 68325c17d650dc5c038cc23c9911d2b1096a1eac
     "metadata": {},
     "output_type": "execute_result"
    }
   ],
   "source": [
    "under_thres.groupby('activity').size()"
   ]
  },
  {
   "cell_type": "code",
<<<<<<< HEAD
   "execution_count": 23,
=======
   "execution_count": 22,
>>>>>>> 68325c17d650dc5c038cc23c9911d2b1096a1eac
   "metadata": {},
   "outputs": [
    {
     "data": {
      "text/plain": [
       "activity\n",
       "answer      206\n",
       "comment      26\n",
       "edit         40\n",
       "favorite     94\n",
       "dtype: int64"
      ]
     },
<<<<<<< HEAD
     "execution_count": 23,
=======
     "execution_count": 22,
>>>>>>> 68325c17d650dc5c038cc23c9911d2b1096a1eac
     "metadata": {},
     "output_type": "execute_result"
    }
   ],
   "source": [
    "over_thres.groupby('activity').size()"
   ]
  },
  {
   "cell_type": "code",
<<<<<<< HEAD
   "execution_count": 24,
=======
   "execution_count": 23,
>>>>>>> 68325c17d650dc5c038cc23c9911d2b1096a1eac
   "metadata": {},
   "outputs": [
    {
     "data": {
      "text/plain": [
       "answer      219\n",
       "favorite     97\n",
       "edit         43\n",
       "comment      30\n",
       "Name: activity, dtype: int64"
      ]
     },
<<<<<<< HEAD
     "execution_count": 24,
=======
     "execution_count": 23,
>>>>>>> 68325c17d650dc5c038cc23c9911d2b1096a1eac
     "metadata": {},
     "output_type": "execute_result"
    }
   ],
   "source": [
    "activities_outliers.activity.value_counts()"
   ]
  },
  {
   "cell_type": "code",
<<<<<<< HEAD
   "execution_count": 31,
   "metadata": {},
=======
   "execution_count": 24,
   "metadata": {
    "collapsed": true
   },
>>>>>>> 68325c17d650dc5c038cc23c9911d2b1096a1eac
   "outputs": [],
   "source": [
    "import re\n",
    "import matplotlib.pyplot as plt\n",
    "import matplotlib.colors"
   ]
  },
  {
   "cell_type": "code",
<<<<<<< HEAD
   "execution_count": 32,
   "metadata": {},
=======
   "execution_count": 25,
   "metadata": {
    "collapsed": true
   },
>>>>>>> 68325c17d650dc5c038cc23c9911d2b1096a1eac
   "outputs": [],
   "source": [
    "def stacked_thres(data,activity):\n",
    "    \"\"\"give frequency of rank for each feature\n",
    "    \n",
    "    Argument: input data (pd DataFrame) -  the input data\n",
    "    \n",
    "    Return: pd.DataFrame - table with frequency \n",
    "    \"\"\"\n",
    "    f_ranks = data[data['activity'] == activity]['feature_rank']\n",
    "    fmin = []\n",
    "    fmed = []\n",
    "    fmax = []\n",
    "\n",
    "    for i in range(len(f_ranks)):\n",
    "        ranks = list(map(str, f_ranks.iloc[i]))\n",
    "        fmin.append(ranks[0])\n",
    "        fmed.append(ranks[1])\n",
    "        fmax.append(ranks[2])\n",
    "    d1 = pd.DataFrame([{x:fmin.count(x) for x in fmin}])\n",
    "    d2 = pd.DataFrame([{x:fmed.count(x) for x in fmed}])\n",
    "    d3 = pd.DataFrame([{x:fmax.count(x) for x in fmax}])\n",
    "    df = pd.concat([d1,d2,d3]).fillna(0).set_index([['min','med','max']])\n",
    "    return df"
   ]
  },
  {
   "cell_type": "code",
<<<<<<< HEAD
   "execution_count": 33,
   "metadata": {},
=======
   "execution_count": 26,
   "metadata": {
    "collapsed": true
   },
>>>>>>> 68325c17d650dc5c038cc23c9911d2b1096a1eac
   "outputs": [],
   "source": [
    "# stacked bar plot \n",
    "def stacked_bar(data, suptitle):\n",
    "    \"\"\" input data in a pd dataframe to plot graph, suuptitle (str) - graph suptitle\n",
    "    \"\"\"\n",
    "    plt.figure()\n",
    "    cmap = matplotlib.colors.LinearSegmentedColormap.from_list(\"\", [\"#28385E\",\"#973574\",\"DarkKhaki\"])\n",
    "    for i in range(len(feature_rank.activity.unique())):\n",
    "        activity = feature_rank.activity.unique()[i]\n",
    "        df = stacked_thres(data,activity)\n",
    "        ax = plt.subplot(2,2,i+1)\n",
    "        plt.tight_layout(rect=[0, 0.03, 1, 0.95])\n",
    "        ax = df.plot(kind=\"bar\",linewidth=0, stacked=True,\n",
    "                              ax=ax,legend=False,grid=False, cmap = cmap)\n",
    "        ax.set_xticklabels(df.index, rotation = 0)\n",
    "        plt.title(activity)\n",
    "    ax.legend(loc='center left', bbox_to_anchor=(1, 0.5))\n",
    "    plt.suptitle(suptitle)\n",
    "    plt.show()"
   ]
  },
  {
   "cell_type": "code",
<<<<<<< HEAD
   "execution_count": 34,
=======
   "execution_count": 27,
>>>>>>> 68325c17d650dc5c038cc23c9911d2b1096a1eac
   "metadata": {},
   "outputs": [
    {
     "data": {
<<<<<<< HEAD
      "image/png": "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\n",
      "text/plain": [
       "<matplotlib.figure.Figure at 0x21fb4bdb080>"
=======
      "image/png": "iVBORw0KGgoAAAANSUhEUgAAAdAAAAEVCAYAAABQeLQHAAAABHNCSVQICAgIfAhkiAAAAAlwSFlz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\nCf8f7JzXAoT+rMgAAAAASUVORK5CYII=\n",
      "text/plain": [
       "<matplotlib.figure.Figure at 0x1143046a0>"
>>>>>>> 68325c17d650dc5c038cc23c9911d2b1096a1eac
      ]
     },
     "metadata": {},
     "output_type": "display_data"
    }
   ],
   "source": [
    "stacked_bar(over_thres, \"Feature Effects on Scores Against Activities x<t*\")"
   ]
  },
  {
   "cell_type": "code",
<<<<<<< HEAD
   "execution_count": 35,
=======
   "execution_count": 28,
>>>>>>> 68325c17d650dc5c038cc23c9911d2b1096a1eac
   "metadata": {},
   "outputs": [
    {
     "data": {
<<<<<<< HEAD
      "image/png": "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\n",
      "text/plain": [
       "<matplotlib.figure.Figure at 0x21fb4f71ba8>"
=======
      "image/png": "iVBORw0KGgoAAAANSUhEUgAAAdAAAAEVCAYAAABQeLQHAAAABHNCSVQICAgIfAhkiAAAAAlwSFlz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\nZmZWggOomZlZCf8fL/iLH1hBv6wAAAAASUVORK5CYII=\n",
      "text/plain": [
       "<matplotlib.figure.Figure at 0x114304a90>"
>>>>>>> 68325c17d650dc5c038cc23c9911d2b1096a1eac
      ]
     },
     "metadata": {},
     "output_type": "display_data"
    }
   ],
   "source": [
    "stacked_bar(under_thres, \"Feature Effects on Scores Against Activities x>t*\")"
   ]
  },
  {
   "cell_type": "markdown",
   "metadata": {},
   "source": [
    "# Mean score for feature 1"
   ]
  },
  {
   "cell_type": "code",
   "execution_count": 29,
   "metadata": {},
   "outputs": [
    {
     "data": {
      "text/plain": [
       "0.031372394487763029"
      ]
     },
     "execution_count": 29,
     "metadata": {},
     "output_type": "execute_result"
    }
   ],
   "source": [
    "#feature 1 after t\n",
    "f1_t = [i[0] for i in over_thres.feature_score]\n",
    "np.mean(f1_t)"
   ]
  },
  {
   "cell_type": "code",
   "execution_count": 30,
   "metadata": {},
   "outputs": [
    {
     "name": "stdout",
     "output_type": "stream",
     "text": [
      "There are 348 zeros out of 366 .\n"
     ]
    }
   ],
   "source": [
    "counter = 0\n",
    "for i in f1_t:\n",
    "    if i == 0.0:\n",
    "        counter += 1\n",
    "        \n",
    "print('There are', counter, 'zeros out of', len(f1_t), '.')"
   ]
  },
  {
   "cell_type": "code",
   "execution_count": 31,
   "metadata": {},
   "outputs": [
    {
     "data": {
      "text/plain": [
       "0.15883309969441023"
      ]
     },
     "execution_count": 31,
     "metadata": {},
     "output_type": "execute_result"
    }
   ],
   "source": [
    "#feature 1 after t\n",
    "f1_before_t = [i[0] for i in under_thres.feature_score]\n",
    "np.mean(f1_before_t)"
   ]
  },
  {
   "cell_type": "code",
   "execution_count": 32,
   "metadata": {},
   "outputs": [
    {
     "name": "stdout",
     "output_type": "stream",
     "text": [
      "There are 447 zeros out of 2655 .\n"
     ]
    }
   ],
   "source": [
    "counter = 0\n",
    "for i in f1_before_t:\n",
    "    if i == 0.0:\n",
    "        counter += 1\n",
    "        \n",
    "print('There are', counter, 'zeros out of', len(f1_before_t), '.')"
   ]
  },
  {
   "cell_type": "markdown",
   "metadata": {},
   "source": [
    "# Users who got 0 score in feature 1"
   ]
  },
  {
   "cell_type": "code",
   "execution_count": 33,
   "metadata": {
    "collapsed": true
   },
   "outputs": [],
   "source": [
    "user_id_0_index_t = []\n",
    "for i in range(len(f1_t)):\n",
    "    if f1_t[i] == 0:\n",
    "        user_id_0_index_t.append(i)"
   ]
  },
  {
   "cell_type": "code",
   "execution_count": 35,
   "metadata": {},
   "outputs": [],
   "source": [
    "user_id_0_t = [list(over_thres.user)[i] for i in user_id_0_index_t]"
   ]
  },
  {
   "cell_type": "code",
   "execution_count": null,
   "metadata": {
    "collapsed": true
   },
   "outputs": [],
   "source": [
    "# import simplejson\n",
    "# f = open('output.txt', 'w')\n",
    "# simplejson.dump(user_id_0_t, f)\n",
    "# f.close()"
   ]
  },
  {
   "cell_type": "markdown",
   "metadata": {},
   "source": [
    "# 3D Plane on score for Feature 1, 2 and 3 "
   ]
  },
  {
   "cell_type": "code",
   "execution_count": 50,
   "metadata": {},
   "outputs": [
    {
     "data": {
      "text/html": [
       "<div>\n",
       "<style scoped>\n",
       "    .dataframe tbody tr th:only-of-type {\n",
       "        vertical-align: middle;\n",
       "    }\n",
       "\n",
       "    .dataframe tbody tr th {\n",
       "        vertical-align: top;\n",
       "    }\n",
       "\n",
       "    .dataframe thead th {\n",
       "        text-align: right;\n",
       "    }\n",
       "</style>\n",
       "<table border=\"1\" class=\"dataframe\">\n",
       "  <thead>\n",
       "    <tr style=\"text-align: right;\">\n",
       "      <th></th>\n",
       "      <th>level_0</th>\n",
       "      <th>index</th>\n",
       "      <th>q_num</th>\n",
       "      <th>user</th>\n",
       "      <th>rank</th>\n",
       "      <th>feature_score</th>\n",
       "      <th>feature_rank</th>\n",
       "      <th>activity</th>\n",
       "    </tr>\n",
       "  </thead>\n",
       "  <tbody>\n",
       "    <tr>\n",
       "      <th>0</th>\n",
       "      <td>0</td>\n",
       "      <td>5</td>\n",
       "      <td>2.0</td>\n",
       "      <td>1429832.0</td>\n",
       "      <td>18145.0</td>\n",
       "      <td>[0.0, 0.000757958564932, 0.000248712883974]</td>\n",
       "      <td>[1, 3, 2]</td>\n",
       "      <td>answer</td>\n",
       "    </tr>\n",
       "    <tr>\n",
       "      <th>1</th>\n",
       "      <td>1</td>\n",
       "      <td>7</td>\n",
       "      <td>13.0</td>\n",
       "      <td>1977903.0</td>\n",
       "      <td>11534.0</td>\n",
       "      <td>[0.0, 0.000739644970414, 0.000439310214251]</td>\n",
       "      <td>[1, 3, 2]</td>\n",
       "      <td>edit</td>\n",
       "    </tr>\n",
       "    <tr>\n",
       "      <th>2</th>\n",
       "      <td>2</td>\n",
       "      <td>8</td>\n",
       "      <td>13.0</td>\n",
       "      <td>1291727.0</td>\n",
       "      <td>36285.0</td>\n",
       "      <td>[0.0, 0.000739644970414, 0.000437875834865]</td>\n",
       "      <td>[1, 3, 2]</td>\n",
       "      <td>answer</td>\n",
       "    </tr>\n",
       "    <tr>\n",
       "      <th>3</th>\n",
       "      <td>3</td>\n",
       "      <td>2</td>\n",
       "      <td>14.0</td>\n",
       "      <td>4993880.0</td>\n",
       "      <td>49244.0</td>\n",
       "      <td>[0.0, 0.00100250626566, 0.000507133264621]</td>\n",
       "      <td>[1, 3, 2]</td>\n",
       "      <td>answer</td>\n",
       "    </tr>\n",
       "    <tr>\n",
       "      <th>4</th>\n",
       "      <td>4</td>\n",
       "      <td>9</td>\n",
       "      <td>23.0</td>\n",
       "      <td>946224.0</td>\n",
       "      <td>19780.0</td>\n",
       "      <td>[0.0, 0.000759109311741, 0.0]</td>\n",
       "      <td>[1, 3, 2]</td>\n",
       "      <td>favorite</td>\n",
       "    </tr>\n",
       "  </tbody>\n",
       "</table>\n",
       "</div>"
      ],
      "text/plain": [
       "   level_0  index  q_num       user     rank  \\\n",
       "0        0      5    2.0  1429832.0  18145.0   \n",
       "1        1      7   13.0  1977903.0  11534.0   \n",
       "2        2      8   13.0  1291727.0  36285.0   \n",
       "3        3      2   14.0  4993880.0  49244.0   \n",
       "4        4      9   23.0   946224.0  19780.0   \n",
       "\n",
       "                                 feature_score feature_rank  activity  \n",
       "0  [0.0, 0.000757958564932, 0.000248712883974]    [1, 3, 2]    answer  \n",
       "1  [0.0, 0.000739644970414, 0.000439310214251]    [1, 3, 2]      edit  \n",
       "2  [0.0, 0.000739644970414, 0.000437875834865]    [1, 3, 2]    answer  \n",
       "3   [0.0, 0.00100250626566, 0.000507133264621]    [1, 3, 2]    answer  \n",
       "4                [0.0, 0.000759109311741, 0.0]    [1, 3, 2]  favorite  "
      ]
     },
     "execution_count": 50,
     "metadata": {},
     "output_type": "execute_result"
    }
   ],
   "source": [
    "over_thres.reset_index(inplace=True)\n",
    "over_thres.head()"
   ]
  },
  {
   "cell_type": "code",
   "execution_count": 66,
   "metadata": {
    "collapsed": true
   },
   "outputs": [],
   "source": [
    "f1_score_ot = [i[0] for i in over_thres.feature_score]\n",
    "f2_score_ot = [i[1] for i in over_thres.feature_score]\n",
    "f3_score_ot = [i[2] for i in over_thres.feature_score]\n",
    "\n",
    "f1_score_ut = [i[0] for i in under_thres.feature_score]\n",
    "f2_score_ut = [i[1] for i in under_thres.feature_score]\n",
    "f3_score_ut = [i[2] for i in under_thres.feature_score]"
   ]
  },
  {
   "cell_type": "code",
   "execution_count": 68,
   "metadata": {},
   "outputs": [],
   "source": [
    "from mpl_toolkits.mplot3d import Axes3D"
   ]
  },
  {
   "cell_type": "code",
   "execution_count": 139,
   "metadata": {},
   "outputs": [
    {
     "data": {
      "image/png": "iVBORw0KGgoAAAANSUhEUgAAAkMAAAFFCAYAAADviOkbAAAABHNCSVQICAgIfAhkiAAAAAlwSFlz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\n6+p5vjdMoEcAAAAASUVORK5CYII=\n",
      "text/plain": [
       "<matplotlib.figure.Figure at 0x1207122e8>"
      ]
     },
     "metadata": {},
     "output_type": "display_data"
    }
   ],
   "source": [
    "#fig = plt.figure(figsize=plt.figaspect(0.5))\n",
    "fig = plt.figure(figsize=(10,5))\n",
    "ax.set\n",
    "\n",
    "#x<t*\n",
    "ax1 = fig.add_subplot(1, 2, 1, projection = '3d')\n",
    "ax1.scatter(f1_score_ot, f2_score_ot, f3_score_ot, marker=\"o\", color = 'Blue', s = 10, alpha = 1)\n",
    "ax1.set_ylim(0,1)\n",
    "ax1.set_title('x<t*')\n",
    "ax1.set_xlabel('Feature 1')\n",
    "ax1.set_ylabel('Feature 2')\n",
    "ax1.set_zlabel('Feature 3')\n",
    "\n",
    "#x>t*\n",
    "ax1 = fig.add_subplot(1, 2, 2, projection = '3d')\n",
    "ax1.scatter(f1_score_ut, f2_score_ut, f3_score_ut, marker=\"o\", color = 'Red', s = 10, alpha = 1)\n",
    "ax1.set_title('x>t*')\n",
    "ax1.set_xlabel('Feature 1')\n",
    "ax1.set_ylabel('Feature 2')\n",
    "ax1.set_zlabel('Feature 3')\n",
    "\n",
    "fig.suptitle('Feature Score for Feature 1,2 and 3 for under and above threshold')\n",
    "plt.show()"
   ]
  }
 ],
 "metadata": {
  "kernelspec": {
   "display_name": "Python 3",
   "language": "python",
   "name": "python3"
  },
  "language_info": {
   "codemirror_mode": {
    "name": "ipython",
    "version": 3
   },
   "file_extension": ".py",
   "mimetype": "text/x-python",
   "name": "python",
   "nbconvert_exporter": "python",
   "pygments_lexer": "ipython3",
   "version": "3.6.5"
  },
  "toc": {
   "base_numbering": 1,
   "nav_menu": {},
   "number_sections": true,
   "sideBar": true,
   "skip_h1_title": false,
   "title_cell": "Table of Contents",
   "title_sidebar": "Contents",
   "toc_cell": false,
   "toc_position": {},
   "toc_section_display": true,
   "toc_window_display": false
  }
 },
 "nbformat": 4,
 "nbformat_minor": 2
}
