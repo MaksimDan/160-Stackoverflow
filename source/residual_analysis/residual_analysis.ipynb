{
 "cells": [
  {
   "cell_type": "markdown",
   "metadata": {},
   "source": [
    "# Load data"
   ]
  },
  {
   "cell_type": "code",
   "execution_count": 1,
   "metadata": {
    "collapsed": true
   },
   "outputs": [],
   "source": [
    "import pandas as pd"
   ]
  },
  {
   "cell_type": "code",
   "execution_count": 2,
   "metadata": {
    "collapsed": true
   },
   "outputs": [],
   "source": [
    "#activities\n",
    "residual_800 = pd.read_csv('../../../160-Stackoverflow-Data/residuals/residuals_800_q.csv')"
   ]
  },
  {
   "cell_type": "code",
   "execution_count": 3,
   "metadata": {
    "collapsed": true
   },
   "outputs": [],
   "source": [
    "#questions\n",
    "x_train_800 = pd.read_csv('../../../160-Stackoverflow-Data/residuals/data/X_train_800.csv')"
   ]
  },
  {
   "cell_type": "code",
   "execution_count": 4,
   "metadata": {},
   "outputs": [
    {
     "data": {
      "text/html": [
       "<div>\n",
       "<style scoped>\n",
       "    .dataframe tbody tr th:only-of-type {\n",
       "        vertical-align: middle;\n",
       "    }\n",
       "\n",
       "    .dataframe tbody tr th {\n",
       "        vertical-align: top;\n",
       "    }\n",
       "\n",
       "    .dataframe thead th {\n",
       "        text-align: right;\n",
       "    }\n",
       "</style>\n",
       "<table border=\"1\" class=\"dataframe\">\n",
       "  <thead>\n",
       "    <tr style=\"text-align: right;\">\n",
       "      <th></th>\n",
       "      <th>activity</th>\n",
       "      <th>q_num</th>\n",
       "      <th>rank</th>\n",
       "      <th>score</th>\n",
       "      <th>userid</th>\n",
       "    </tr>\n",
       "  </thead>\n",
       "  <tbody>\n",
       "    <tr>\n",
       "      <th>0</th>\n",
       "      <td>answer</td>\n",
       "      <td>0</td>\n",
       "      <td>0</td>\n",
       "      <td>3.735215</td>\n",
       "      <td>571407</td>\n",
       "    </tr>\n",
       "    <tr>\n",
       "      <th>1</th>\n",
       "      <td>comment</td>\n",
       "      <td>0</td>\n",
       "      <td>4036</td>\n",
       "      <td>0.585390</td>\n",
       "      <td>1381767</td>\n",
       "    </tr>\n",
       "    <tr>\n",
       "      <th>2</th>\n",
       "      <td>comment</td>\n",
       "      <td>0</td>\n",
       "      <td>0</td>\n",
       "      <td>3.735215</td>\n",
       "      <td>571407</td>\n",
       "    </tr>\n",
       "    <tr>\n",
       "      <th>3</th>\n",
       "      <td>comment</td>\n",
       "      <td>0</td>\n",
       "      <td>4</td>\n",
       "      <td>2.580984</td>\n",
       "      <td>1292401</td>\n",
       "    </tr>\n",
       "    <tr>\n",
       "      <th>4</th>\n",
       "      <td>comment</td>\n",
       "      <td>0</td>\n",
       "      <td>1888</td>\n",
       "      <td>0.928075</td>\n",
       "      <td>1025201</td>\n",
       "    </tr>\n",
       "  </tbody>\n",
       "</table>\n",
       "</div>"
      ],
      "text/plain": [
       "  activity  q_num  rank     score   userid\n",
       "0   answer      0     0  3.735215   571407\n",
       "1  comment      0  4036  0.585390  1381767\n",
       "2  comment      0     0  3.735215   571407\n",
       "3  comment      0     4  2.580984  1292401\n",
       "4  comment      0  1888  0.928075  1025201"
      ]
     },
     "execution_count": 4,
     "metadata": {},
     "output_type": "execute_result"
    }
   ],
   "source": [
    "residual_800.head()"
   ]
  },
  {
   "cell_type": "markdown",
   "metadata": {},
   "source": [
    "# Find outliers"
   ]
  },
  {
   "cell_type": "code",
   "execution_count": 5,
   "metadata": {
    "collapsed": true
   },
   "outputs": [],
   "source": [
    "import numpy as np"
   ]
  },
  {
   "cell_type": "code",
   "execution_count": 6,
   "metadata": {
    "collapsed": true
   },
   "outputs": [],
   "source": [
    "def outliers(li):\n",
    "    qua1, qua3 = np.percentile(li, [25, 75])\n",
    "    iqr = qua3 - qua1\n",
    "    upper_bound = qua3 + (iqr * 1.5)\n",
    "    li_outlier = [i for i in li if i >= upper_bound]\n",
    "    return li_outlier"
   ]
  },
  {
   "cell_type": "code",
   "execution_count": 7,
   "metadata": {
    "collapsed": true
   },
   "outputs": [],
   "source": [
    "outlier_rank = outliers(list(residual_800['rank']))"
   ]
  },
  {
   "cell_type": "code",
   "execution_count": 8,
   "metadata": {
    "collapsed": true
   },
   "outputs": [],
   "source": [
    "#dataframe with outliers\n",
    "activities_outliers = residual_800[residual_800['rank'].isin(outlier_rank)]"
   ]
  },
  {
   "cell_type": "markdown",
   "metadata": {},
   "source": [
    "# Questions of these observed outlier ranks"
   ]
  },
  {
   "cell_type": "code",
   "execution_count": 9,
   "metadata": {
    "collapsed": true
   },
   "outputs": [],
   "source": [
    "outlier_question = x_train_800[x_train_800.index.isin(activities_outliers.q_num.unique())]"
   ]
  },
  {
   "cell_type": "code",
   "execution_count": 10,
   "metadata": {
    "scrolled": false
   },
   "outputs": [
    {
     "data": {
      "text/html": [
       "<div>\n",
       "<style scoped>\n",
       "    .dataframe tbody tr th:only-of-type {\n",
       "        vertical-align: middle;\n",
       "    }\n",
       "\n",
       "    .dataframe tbody tr th {\n",
       "        vertical-align: top;\n",
       "    }\n",
       "\n",
       "    .dataframe thead th {\n",
       "        text-align: right;\n",
       "    }\n",
       "</style>\n",
       "<table border=\"1\" class=\"dataframe\">\n",
       "  <thead>\n",
       "    <tr style=\"text-align: right;\">\n",
       "      <th></th>\n",
       "      <th>Unnamed: 0</th>\n",
       "      <th>Unnamed: 0.1</th>\n",
       "      <th>Id</th>\n",
       "      <th>ParentId</th>\n",
       "      <th>AcceptedAnswerId</th>\n",
       "      <th>CreationDate</th>\n",
       "      <th>Score</th>\n",
       "      <th>ViewCount</th>\n",
       "      <th>Body</th>\n",
       "      <th>OwnerUserId</th>\n",
       "      <th>OwnerDisplayName</th>\n",
       "      <th>LastEditorUserId</th>\n",
       "      <th>Title</th>\n",
       "      <th>Tags</th>\n",
       "      <th>AnswerCount</th>\n",
       "      <th>CommentCount</th>\n",
       "      <th>FavoriteCount</th>\n",
       "      <th>ClosedDate</th>\n",
       "    </tr>\n",
       "  </thead>\n",
       "  <tbody>\n",
       "    <tr>\n",
       "      <th>7</th>\n",
       "      <td>7</td>\n",
       "      <td>55985</td>\n",
       "      <td>10758806</td>\n",
       "      <td>NaN</td>\n",
       "      <td>NaN</td>\n",
       "      <td>2012-05-25T17:23:02.617</td>\n",
       "      <td>3</td>\n",
       "      <td>462.0</td>\n",
       "      <td>&lt;p&gt;I have a project \"core\" that is mavenized.\\...</td>\n",
       "      <td>1417932.0</td>\n",
       "      <td>NaN</td>\n",
       "      <td>50049.0</td>\n",
       "      <td>Playframework 2.0 with maven and sub-project</td>\n",
       "      <td>java maven playframework sbt subproject</td>\n",
       "      <td>1.0</td>\n",
       "      <td>0</td>\n",
       "      <td>1.0</td>\n",
       "      <td>NaN</td>\n",
       "    </tr>\n",
       "    <tr>\n",
       "      <th>13</th>\n",
       "      <td>13</td>\n",
       "      <td>1296</td>\n",
       "      <td>8741054</td>\n",
       "      <td>NaN</td>\n",
       "      <td>8741143.0</td>\n",
       "      <td>2012-01-05T10:37:18.253</td>\n",
       "      <td>0</td>\n",
       "      <td>1732.0</td>\n",
       "      <td>&lt;p&gt;How to resolve warning message coming in ec...</td>\n",
       "      <td>374199.0</td>\n",
       "      <td>NaN</td>\n",
       "      <td>1977903.0</td>\n",
       "      <td>Eclipse Warning message</td>\n",
       "      <td>java eclipse</td>\n",
       "      <td>5.0</td>\n",
       "      <td>6</td>\n",
       "      <td>0.0</td>\n",
       "      <td>NaN</td>\n",
       "    </tr>\n",
       "    <tr>\n",
       "      <th>14</th>\n",
       "      <td>14</td>\n",
       "      <td>43834</td>\n",
       "      <td>10314404</td>\n",
       "      <td>NaN</td>\n",
       "      <td>10314451.0</td>\n",
       "      <td>2012-04-25T11:09:04.190</td>\n",
       "      <td>-2</td>\n",
       "      <td>2842.0</td>\n",
       "      <td>&lt;p&gt;I am working on Galaxy Nexus(Android 4.0.3)...</td>\n",
       "      <td>896579.0</td>\n",
       "      <td>NaN</td>\n",
       "      <td>136445.0</td>\n",
       "      <td>How to save captured image to gallery</td>\n",
       "      <td>java android emulation samsung-mobile</td>\n",
       "      <td>2.0</td>\n",
       "      <td>1</td>\n",
       "      <td>NaN</td>\n",
       "      <td>NaN</td>\n",
       "    </tr>\n",
       "    <tr>\n",
       "      <th>23</th>\n",
       "      <td>23</td>\n",
       "      <td>68460</td>\n",
       "      <td>11239086</td>\n",
       "      <td>NaN</td>\n",
       "      <td>11239128.0</td>\n",
       "      <td>2012-06-28T06:23:16.197</td>\n",
       "      <td>132</td>\n",
       "      <td>291504.0</td>\n",
       "      <td>&lt;blockquote&gt;\\r\\r\\r\\n  &lt;p&gt;&lt;strong&gt;Possible Dupl...</td>\n",
       "      <td>1439243.0</td>\n",
       "      <td>NaN</td>\n",
       "      <td>-1.0</td>\n",
       "      <td>java.lang.UnsupportedClassVersionError Unsuppo...</td>\n",
       "      <td>java</td>\n",
       "      <td>7.0</td>\n",
       "      <td>0</td>\n",
       "      <td>33.0</td>\n",
       "      <td>2013-02-04T07:29:18.850</td>\n",
       "    </tr>\n",
       "    <tr>\n",
       "      <th>24</th>\n",
       "      <td>24</td>\n",
       "      <td>20678</td>\n",
       "      <td>9484820</td>\n",
       "      <td>NaN</td>\n",
       "      <td>NaN</td>\n",
       "      <td>2012-02-28T15:33:14.167</td>\n",
       "      <td>-1</td>\n",
       "      <td>1488.0</td>\n",
       "      <td>&lt;p&gt;I have an html file called basic.html and w...</td>\n",
       "      <td>1178770.0</td>\n",
       "      <td>NaN</td>\n",
       "      <td>1400768.0</td>\n",
       "      <td>Regex - find various strings from an HTML file</td>\n",
       "      <td>java html regex</td>\n",
       "      <td>2.0</td>\n",
       "      <td>4</td>\n",
       "      <td>NaN</td>\n",
       "      <td>2014-09-27T14:44:12.220</td>\n",
       "    </tr>\n",
       "  </tbody>\n",
       "</table>\n",
       "</div>"
      ],
      "text/plain": [
       "    Unnamed: 0  Unnamed: 0.1        Id  ParentId  AcceptedAnswerId  \\\n",
       "7            7         55985  10758806       NaN               NaN   \n",
       "13          13          1296   8741054       NaN         8741143.0   \n",
       "14          14         43834  10314404       NaN        10314451.0   \n",
       "23          23         68460  11239086       NaN        11239128.0   \n",
       "24          24         20678   9484820       NaN               NaN   \n",
       "\n",
       "               CreationDate  Score  ViewCount  \\\n",
       "7   2012-05-25T17:23:02.617      3      462.0   \n",
       "13  2012-01-05T10:37:18.253      0     1732.0   \n",
       "14  2012-04-25T11:09:04.190     -2     2842.0   \n",
       "23  2012-06-28T06:23:16.197    132   291504.0   \n",
       "24  2012-02-28T15:33:14.167     -1     1488.0   \n",
       "\n",
       "                                                 Body  OwnerUserId  \\\n",
       "7   <p>I have a project \"core\" that is mavenized.\\...    1417932.0   \n",
       "13  <p>How to resolve warning message coming in ec...     374199.0   \n",
       "14  <p>I am working on Galaxy Nexus(Android 4.0.3)...     896579.0   \n",
       "23  <blockquote>\\r\\r\\r\\n  <p><strong>Possible Dupl...    1439243.0   \n",
       "24  <p>I have an html file called basic.html and w...    1178770.0   \n",
       "\n",
       "    OwnerDisplayName  LastEditorUserId  \\\n",
       "7                NaN           50049.0   \n",
       "13               NaN         1977903.0   \n",
       "14               NaN          136445.0   \n",
       "23               NaN              -1.0   \n",
       "24               NaN         1400768.0   \n",
       "\n",
       "                                                Title  \\\n",
       "7        Playframework 2.0 with maven and sub-project   \n",
       "13                            Eclipse Warning message   \n",
       "14              How to save captured image to gallery   \n",
       "23  java.lang.UnsupportedClassVersionError Unsuppo...   \n",
       "24     Regex - find various strings from an HTML file   \n",
       "\n",
       "                                       Tags  AnswerCount  CommentCount  \\\n",
       "7   java maven playframework sbt subproject          1.0             0   \n",
       "13                             java eclipse          5.0             6   \n",
       "14    java android emulation samsung-mobile          2.0             1   \n",
       "23                                     java          7.0             0   \n",
       "24                          java html regex          2.0             4   \n",
       "\n",
       "    FavoriteCount               ClosedDate  \n",
       "7             1.0                      NaN  \n",
       "13            0.0                      NaN  \n",
       "14            NaN                      NaN  \n",
       "23           33.0  2013-02-04T07:29:18.850  \n",
       "24            NaN  2014-09-27T14:44:12.220  "
      ]
     },
     "execution_count": 10,
     "metadata": {},
     "output_type": "execute_result"
    }
   ],
   "source": [
    "outlier_question.head()"
   ]
  },
  {
   "cell_type": "code",
   "execution_count": 11,
   "metadata": {
    "collapsed": true
   },
   "outputs": [],
   "source": [
    "y_train = pd.read_csv('../../../160-Stackoverflow-Data/residuals/data/y_train.csv')"
   ]
  },
  {
   "cell_type": "code",
   "execution_count": 56,
   "metadata": {
    "collapsed": true
   },
   "outputs": [],
   "source": [
    "file = pd.read_csv('../../../160-Stackoverflow-Data/residuals/feature_matrices/q_0_feature_matrix.csv', header=None)"
   ]
  },
  {
   "cell_type": "markdown",
   "metadata": {},
   "source": [
    "# map activity for feature matrix (question number)"
   ]
  },
  {
   "cell_type": "code",
   "execution_count": 12,
   "metadata": {
    "collapsed": true
   },
   "outputs": [],
   "source": [
    "def map_activity(file_name):\n",
    "    \"\"\" Modify Feature Matrix (Ranks of users for each question) to add activities.\n",
    "    \n",
    "    Argument: file_name (int) - the question number\n",
    "    \n",
    "    Return: pd.dataframe - the modified feature matrix\n",
    "    \"\"\"\n",
    "    \n",
    "    path = '../../../160-Stackoverflow-Data/residuals/feature_matrices/'\\\n",
    "    + 'q_' + str(file_name) + '_feature_matrix.csv'\n",
    "    \n",
    "    que = pd.read_csv(path, header = None)\n",
    "    user_activity = residual_800[residual_800.q_num == file_name]\n",
    "    user_activity_dict = {i:j for i, j in zip(user_activity.userid, user_activity.activity)}\n",
    "\n",
    "    activity_que = []\n",
    "    for i in que[0]:\n",
    "        if i in user_activity_dict.keys():\n",
    "            activity_que.append(user_activity_dict.get(i))\n",
    "        else:\n",
    "            activity_que.append('no_act')\n",
    "    que['activity'] = activity_que\n",
    "    \n",
    "    que.sort_values(4)\n",
    "    que['rank'] = que.index\n",
    "    return que"
   ]
  },
  {
   "cell_type": "code",
   "execution_count": 60,
   "metadata": {},
   "outputs": [
    {
     "data": {
      "text/html": [
       "<div>\n",
       "<style scoped>\n",
       "    .dataframe tbody tr th:only-of-type {\n",
       "        vertical-align: middle;\n",
       "    }\n",
       "\n",
       "    .dataframe tbody tr th {\n",
       "        vertical-align: top;\n",
       "    }\n",
       "\n",
       "    .dataframe thead th {\n",
       "        text-align: right;\n",
       "    }\n",
       "</style>\n",
       "<table border=\"1\" class=\"dataframe\">\n",
       "  <thead>\n",
       "    <tr style=\"text-align: right;\">\n",
       "      <th></th>\n",
       "      <th>0</th>\n",
       "      <th>1</th>\n",
       "      <th>2</th>\n",
       "      <th>3</th>\n",
       "      <th>4</th>\n",
       "      <th>5</th>\n",
       "      <th>6</th>\n",
       "      <th>7</th>\n",
       "      <th>8</th>\n",
       "      <th>9</th>\n",
       "      <th>10</th>\n",
       "      <th>11</th>\n",
       "      <th>12</th>\n",
       "      <th>activity</th>\n",
       "      <th>rank</th>\n",
       "    </tr>\n",
       "  </thead>\n",
       "  <tbody>\n",
       "    <tr>\n",
       "      <th>0</th>\n",
       "      <td>571407.0</td>\n",
       "      <td>0.057845</td>\n",
       "      <td>1.000000</td>\n",
       "      <td>0.383799</td>\n",
       "      <td>0.000000</td>\n",
       "      <td>1.000000</td>\n",
       "      <td>0.290600</td>\n",
       "      <td>0.000000</td>\n",
       "      <td>0.491131</td>\n",
       "      <td>0.000000</td>\n",
       "      <td>0.000000</td>\n",
       "      <td>0.511840</td>\n",
       "      <td>3.735215</td>\n",
       "      <td>comment</td>\n",
       "      <td>0</td>\n",
       "    </tr>\n",
       "    <tr>\n",
       "      <th>1</th>\n",
       "      <td>418556.0</td>\n",
       "      <td>0.056322</td>\n",
       "      <td>0.584564</td>\n",
       "      <td>1.000000</td>\n",
       "      <td>0.009709</td>\n",
       "      <td>0.823162</td>\n",
       "      <td>1.000000</td>\n",
       "      <td>0.009365</td>\n",
       "      <td>0.096544</td>\n",
       "      <td>0.004086</td>\n",
       "      <td>0.000000</td>\n",
       "      <td>0.087583</td>\n",
       "      <td>3.671334</td>\n",
       "      <td>no_act</td>\n",
       "      <td>1</td>\n",
       "    </tr>\n",
       "    <tr>\n",
       "      <th>2</th>\n",
       "      <td>892029.0</td>\n",
       "      <td>0.000000</td>\n",
       "      <td>0.006040</td>\n",
       "      <td>0.027965</td>\n",
       "      <td>1.000000</td>\n",
       "      <td>0.006517</td>\n",
       "      <td>0.027477</td>\n",
       "      <td>1.000000</td>\n",
       "      <td>0.482462</td>\n",
       "      <td>0.227725</td>\n",
       "      <td>0.170854</td>\n",
       "      <td>0.162565</td>\n",
       "      <td>3.111606</td>\n",
       "      <td>no_act</td>\n",
       "      <td>2</td>\n",
       "    </tr>\n",
       "    <tr>\n",
       "      <th>3</th>\n",
       "      <td>57695.0</td>\n",
       "      <td>0.103571</td>\n",
       "      <td>0.943624</td>\n",
       "      <td>0.327547</td>\n",
       "      <td>0.009709</td>\n",
       "      <td>0.859432</td>\n",
       "      <td>0.206922</td>\n",
       "      <td>0.009468</td>\n",
       "      <td>0.184499</td>\n",
       "      <td>0.131908</td>\n",
       "      <td>0.000000</td>\n",
       "      <td>0.154127</td>\n",
       "      <td>2.930809</td>\n",
       "      <td>no_act</td>\n",
       "      <td>3</td>\n",
       "    </tr>\n",
       "    <tr>\n",
       "      <th>4</th>\n",
       "      <td>1292401.0</td>\n",
       "      <td>0.200000</td>\n",
       "      <td>0.001342</td>\n",
       "      <td>0.005143</td>\n",
       "      <td>0.053398</td>\n",
       "      <td>0.000831</td>\n",
       "      <td>0.001826</td>\n",
       "      <td>0.019847</td>\n",
       "      <td>0.000000</td>\n",
       "      <td>0.993322</td>\n",
       "      <td>1.000000</td>\n",
       "      <td>0.305273</td>\n",
       "      <td>2.580984</td>\n",
       "      <td>edit</td>\n",
       "      <td>4</td>\n",
       "    </tr>\n",
       "  </tbody>\n",
       "</table>\n",
       "</div>"
      ],
      "text/plain": [
       "           0         1         2         3         4         5         6  \\\n",
       "0   571407.0  0.057845  1.000000  0.383799  0.000000  1.000000  0.290600   \n",
       "1   418556.0  0.056322  0.584564  1.000000  0.009709  0.823162  1.000000   \n",
       "2   892029.0  0.000000  0.006040  0.027965  1.000000  0.006517  0.027477   \n",
       "3    57695.0  0.103571  0.943624  0.327547  0.009709  0.859432  0.206922   \n",
       "4  1292401.0  0.200000  0.001342  0.005143  0.053398  0.000831  0.001826   \n",
       "\n",
       "          7         8         9        10        11        12 activity  rank  \n",
       "0  0.000000  0.491131  0.000000  0.000000  0.511840  3.735215  comment     0  \n",
       "1  0.009365  0.096544  0.004086  0.000000  0.087583  3.671334   no_act     1  \n",
       "2  1.000000  0.482462  0.227725  0.170854  0.162565  3.111606   no_act     2  \n",
       "3  0.009468  0.184499  0.131908  0.000000  0.154127  2.930809   no_act     3  \n",
       "4  0.019847  0.000000  0.993322  1.000000  0.305273  2.580984     edit     4  "
      ]
     },
     "execution_count": 60,
     "metadata": {},
     "output_type": "execute_result"
    }
   ],
   "source": [
    "map_activity(0).head()"
   ]
  },
  {
   "cell_type": "code",
   "execution_count": 69,
   "metadata": {
    "collapsed": true
   },
   "outputs": [],
   "source": [
    "def get_feature_rank(num):\n",
    "    \"\"\" Use function: map_activity to run\n",
    "    \n",
    "    Argument: num (int) - question number (feature matrid file)\n",
    "    \n",
    "    Return: pd.DataFrame - the dataframe with sorted feature rank\n",
    "    \"\"\"\n",
    "    \n",
    "    que_no_white = map_activity(num)[map_activity(num).activity != 'no_act']\n",
    "\n",
    "    q_num = []\n",
    "    user = []\n",
    "    feature_score = []\n",
    "    feature_rank = []\n",
    "    activity = []\n",
    "    rank = []\n",
    "\n",
    "    for i in que_no_white.index:\n",
    "        users = que_no_white.loc[i][1:12]\n",
    "        users_dic = {i:j for i, j in zip(users.index, users.values)}\n",
    "        sorted_dic = sorted(users_dic, key=users_dic.get)\n",
    "    \n",
    "        q_num.append(num)\n",
    "        user.append(que_no_white.loc[i,0])\n",
    "        feature_score.append(list(que_no_white.loc[i][1:12]))\n",
    "        feature_rank.append(sorted_dic)\n",
    "        activity.append(que_no_white.loc[i]['activity'])\n",
    "        rank.append(que_no_white.loc[i, 'rank'])\n",
    "\n",
    "    out_dict = {'q_num':q_num, 'user':user, 'feature_score':feature_score,'feature_rank':feature_rank, 'activity':activity, 'rank':rank}\n",
    "    out_df = pd.DataFrame(out_dict)\n",
    "    out_df = out_df[['q_num','user','rank', 'feature_score','feature_rank','activity']]\n",
    "    \n",
    "    return out_df"
   ]
  },
  {
   "cell_type": "code",
   "execution_count": 73,
   "metadata": {},
   "outputs": [
    {
     "data": {
      "text/html": [
       "<div>\n",
       "<style scoped>\n",
       "    .dataframe tbody tr th:only-of-type {\n",
       "        vertical-align: middle;\n",
       "    }\n",
       "\n",
       "    .dataframe tbody tr th {\n",
       "        vertical-align: top;\n",
       "    }\n",
       "\n",
       "    .dataframe thead th {\n",
       "        text-align: right;\n",
       "    }\n",
       "</style>\n",
       "<table border=\"1\" class=\"dataframe\">\n",
       "  <thead>\n",
       "    <tr style=\"text-align: right;\">\n",
       "      <th></th>\n",
       "      <th>q_num</th>\n",
       "      <th>user</th>\n",
       "      <th>rank</th>\n",
       "      <th>feature_score</th>\n",
       "      <th>feature_rank</th>\n",
       "      <th>activity</th>\n",
       "    </tr>\n",
       "  </thead>\n",
       "  <tbody>\n",
       "    <tr>\n",
       "      <th>0</th>\n",
       "      <td>101</td>\n",
       "      <td>571407.0</td>\n",
       "      <td>1</td>\n",
       "      <td>[0.0, 0.903502501787, 0.329549140448, 0.0, 1.0...</td>\n",
       "      <td>[1, 4, 7, 9, 10, 8, 11, 6, 3, 2, 5]</td>\n",
       "      <td>comment</td>\n",
       "    </tr>\n",
       "    <tr>\n",
       "      <th>1</th>\n",
       "      <td>101</td>\n",
       "      <td>537445.0</td>\n",
       "      <td>3</td>\n",
       "      <td>[1.0, 0.0, 0.000324359390204, 0.0049504950495,...</td>\n",
       "      <td>[2, 5, 6, 7, 8, 11, 3, 4, 9, 10, 1]</td>\n",
       "      <td>favorite</td>\n",
       "    </tr>\n",
       "    <tr>\n",
       "      <th>2</th>\n",
       "      <td>101</td>\n",
       "      <td>177800.0</td>\n",
       "      <td>1282</td>\n",
       "      <td>[0.0224719101124, 0.0636168691923, 0.026921829...</td>\n",
       "      <td>[4, 7, 9, 10, 6, 1, 3, 5, 2, 11, 8]</td>\n",
       "      <td>edit</td>\n",
       "    </tr>\n",
       "    <tr>\n",
       "      <th>3</th>\n",
       "      <td>101</td>\n",
       "      <td>422437.0</td>\n",
       "      <td>11455</td>\n",
       "      <td>[0.0, 0.00500357398142, 0.00129743756082, 0.00...</td>\n",
       "      <td>[1, 9, 6, 3, 7, 4, 2, 5, 11, 10, 8]</td>\n",
       "      <td>favorite</td>\n",
       "    </tr>\n",
       "  </tbody>\n",
       "</table>\n",
       "</div>"
      ],
      "text/plain": [
       "   q_num      user   rank                                      feature_score  \\\n",
       "0    101  571407.0      1  [0.0, 0.903502501787, 0.329549140448, 0.0, 1.0...   \n",
       "1    101  537445.0      3  [1.0, 0.0, 0.000324359390204, 0.0049504950495,...   \n",
       "2    101  177800.0   1282  [0.0224719101124, 0.0636168691923, 0.026921829...   \n",
       "3    101  422437.0  11455  [0.0, 0.00500357398142, 0.00129743756082, 0.00...   \n",
       "\n",
       "                          feature_rank  activity  \n",
       "0  [1, 4, 7, 9, 10, 8, 11, 6, 3, 2, 5]   comment  \n",
       "1  [2, 5, 6, 7, 8, 11, 3, 4, 9, 10, 1]  favorite  \n",
       "2  [4, 7, 9, 10, 6, 1, 3, 5, 2, 11, 8]      edit  \n",
       "3  [1, 9, 6, 3, 7, 4, 2, 5, 11, 10, 8]  favorite  "
      ]
     },
     "execution_count": 73,
     "metadata": {},
     "output_type": "execute_result"
    }
   ],
   "source": [
    "#example\n",
    "get_feature_rank(101)"
   ]
  },
  {
   "cell_type": "markdown",
   "metadata": {},
   "source": [
    "# Feature Score Rank and Frequency "
   ]
  },
  {
   "cell_type": "code",
   "execution_count": 74,
   "metadata": {},
   "outputs": [
    {
     "name": "stdout",
     "output_type": "stream",
     "text": [
      "Run Time: 421.18468403816223\n"
     ]
    }
   ],
   "source": [
    "import time\n",
    "\n",
    "start = time.time()\n",
    "que_df = [get_feature_rank(i) for i in range(0,800)]\n",
    "end = time.time()\n",
    "print('Run Time:', end-start)"
   ]
  },
  {
   "cell_type": "code",
   "execution_count": 75,
   "metadata": {
    "collapsed": true
   },
   "outputs": [],
   "source": [
    "feature_rank = pd.concat(que_df)"
   ]
  },
  {
   "cell_type": "markdown",
   "metadata": {},
   "source": [
    "# Scatter Plot"
   ]
  },
  {
   "cell_type": "code",
   "execution_count": 76,
   "metadata": {},
   "outputs": [
    {
     "data": {
      "text/html": [
       "<div>\n",
       "<style scoped>\n",
       "    .dataframe tbody tr th:only-of-type {\n",
       "        vertical-align: middle;\n",
       "    }\n",
       "\n",
       "    .dataframe tbody tr th {\n",
       "        vertical-align: top;\n",
       "    }\n",
       "\n",
       "    .dataframe thead th {\n",
       "        text-align: right;\n",
       "    }\n",
       "</style>\n",
       "<table border=\"1\" class=\"dataframe\">\n",
       "  <thead>\n",
       "    <tr style=\"text-align: right;\">\n",
       "      <th></th>\n",
       "      <th>q_num</th>\n",
       "      <th>user</th>\n",
       "      <th>rank</th>\n",
       "      <th>feature_score</th>\n",
       "      <th>feature_rank</th>\n",
       "      <th>activity</th>\n",
       "    </tr>\n",
       "  </thead>\n",
       "  <tbody>\n",
       "    <tr>\n",
       "      <th>0</th>\n",
       "      <td>0.0</td>\n",
       "      <td>571407.0</td>\n",
       "      <td>0.0</td>\n",
       "      <td>[0.0578446909667, 1.0, 0.383799421408, 0.0, 1....</td>\n",
       "      <td>[4, 7, 9, 10, 1, 6, 3, 8, 11, 2, 5]</td>\n",
       "      <td>comment</td>\n",
       "    </tr>\n",
       "    <tr>\n",
       "      <th>1</th>\n",
       "      <td>0.0</td>\n",
       "      <td>1292401.0</td>\n",
       "      <td>4.0</td>\n",
       "      <td>[0.2, 0.00134228187919, 0.00514304082289, 0.05...</td>\n",
       "      <td>[8, 5, 2, 6, 3, 7, 4, 1, 11, 9, 10]</td>\n",
       "      <td>edit</td>\n",
       "    </tr>\n",
       "    <tr>\n",
       "      <th>2</th>\n",
       "      <td>0.0</td>\n",
       "      <td>1025201.0</td>\n",
       "      <td>1888.0</td>\n",
       "      <td>[0.0588235294118, 0.159731543624, 0.0334297653...</td>\n",
       "      <td>[4, 7, 9, 10, 6, 3, 1, 5, 2, 11, 8]</td>\n",
       "      <td>edit</td>\n",
       "    </tr>\n",
       "    <tr>\n",
       "      <th>3</th>\n",
       "      <td>0.0</td>\n",
       "      <td>1381767.0</td>\n",
       "      <td>4036.0</td>\n",
       "      <td>[0.103448275862, 0.0201342281879, 0.0038572806...</td>\n",
       "      <td>[10, 6, 7, 3, 9, 4, 5, 2, 1, 8, 11]</td>\n",
       "      <td>comment</td>\n",
       "    </tr>\n",
       "    <tr>\n",
       "      <th>0</th>\n",
       "      <td>1.0</td>\n",
       "      <td>157882.0</td>\n",
       "      <td>34.0</td>\n",
       "      <td>[0.0, 0.463902787706, 0.187804086928, 0.0, 0.5...</td>\n",
       "      <td>[1, 4, 7, 9, 10, 11, 6, 3, 8, 2, 5]</td>\n",
       "      <td>edit</td>\n",
       "    </tr>\n",
       "  </tbody>\n",
       "</table>\n",
       "</div>"
      ],
      "text/plain": [
       "   q_num       user    rank  \\\n",
       "0    0.0   571407.0     0.0   \n",
       "1    0.0  1292401.0     4.0   \n",
       "2    0.0  1025201.0  1888.0   \n",
       "3    0.0  1381767.0  4036.0   \n",
       "0    1.0   157882.0    34.0   \n",
       "\n",
       "                                       feature_score  \\\n",
       "0  [0.0578446909667, 1.0, 0.383799421408, 0.0, 1....   \n",
       "1  [0.2, 0.00134228187919, 0.00514304082289, 0.05...   \n",
       "2  [0.0588235294118, 0.159731543624, 0.0334297653...   \n",
       "3  [0.103448275862, 0.0201342281879, 0.0038572806...   \n",
       "0  [0.0, 0.463902787706, 0.187804086928, 0.0, 0.5...   \n",
       "\n",
       "                          feature_rank activity  \n",
       "0  [4, 7, 9, 10, 1, 6, 3, 8, 11, 2, 5]  comment  \n",
       "1  [8, 5, 2, 6, 3, 7, 4, 1, 11, 9, 10]     edit  \n",
       "2  [4, 7, 9, 10, 6, 3, 1, 5, 2, 11, 8]     edit  \n",
       "3  [10, 6, 7, 3, 9, 4, 5, 2, 1, 8, 11]  comment  \n",
       "0  [1, 4, 7, 9, 10, 11, 6, 3, 8, 2, 5]     edit  "
      ]
     },
     "execution_count": 76,
     "metadata": {},
     "output_type": "execute_result"
    }
   ],
   "source": [
    "feature_rank.head()"
   ]
  },
  {
   "cell_type": "code",
   "execution_count": 77,
   "metadata": {
    "collapsed": true
   },
   "outputs": [],
   "source": [
    "# split the data based on the t*\n",
    "under_thres = feature_rank[feature_rank['rank'] < 0.17*max(feature_rank['rank'])]\n",
    "over_thres = feature_rank[feature_rank['rank'] >= 0.17*max(feature_rank['rank'])]"
   ]
  },
  {
   "cell_type": "code",
   "execution_count": 78,
   "metadata": {},
   "outputs": [
    {
     "data": {
      "text/plain": [
       "activity\n",
       "answer      1085\n",
       "comment      812\n",
       "edit         543\n",
       "favorite     134\n",
       "dtype: int64"
      ]
     },
     "execution_count": 78,
     "metadata": {},
     "output_type": "execute_result"
    }
   ],
   "source": [
    "under_thres.groupby('activity').size()"
   ]
  },
  {
   "cell_type": "code",
   "execution_count": 79,
   "metadata": {},
   "outputs": [
    {
     "data": {
      "text/plain": [
       "activity\n",
       "answer      214\n",
       "comment      68\n",
       "edit         59\n",
       "favorite    106\n",
       "dtype: int64"
      ]
     },
     "execution_count": 79,
     "metadata": {},
     "output_type": "execute_result"
    }
   ],
   "source": [
    "over_thres.groupby('activity').size()"
   ]
  },
  {
   "cell_type": "code",
   "execution_count": 80,
   "metadata": {},
   "outputs": [
    {
     "data": {
      "text/plain": [
       "answer      188\n",
       "favorite     94\n",
       "comment      52\n",
       "edit         47\n",
       "Name: activity, dtype: int64"
      ]
     },
     "execution_count": 80,
     "metadata": {},
     "output_type": "execute_result"
    }
   ],
   "source": [
    "activities_outliers.activity.value_counts()"
   ]
  },
  {
   "cell_type": "code",
   "execution_count": 81,
   "metadata": {
    "collapsed": true
   },
   "outputs": [],
   "source": [
    "import matplotlib.pyplot as plt\n",
    "import matplotlib.colors"
   ]
  },
  {
   "cell_type": "code",
   "execution_count": 82,
   "metadata": {
    "collapsed": true
   },
   "outputs": [],
   "source": [
    "# def stacked_thres(data,activity):\n",
    "#     \"\"\"give frequency of rank for each feature\n",
    "    \n",
    "#     Argument: input data (pd DataFrame) -  the input data, activity (str)\n",
    "    \n",
    "#     Return: pd.DataFrame - table with frequency \n",
    "#     \"\"\"\n",
    "#     f_ranks = data[data['activity'] == activity]['feature_rank']\n",
    "#     fmin = []\n",
    "#     fmed = []\n",
    "#     fmax = []\n",
    "\n",
    "#     for i in range(len(f_ranks)):\n",
    "#         ranks = list(map(str, f_ranks.iloc[i]))\n",
    "#         fmin.append(ranks[0])\n",
    "#         fmed.append(ranks[1])\n",
    "#         fmax.append(ranks[2])\n",
    "#     d1 = pd.DataFrame([{x:fmin.count(x) for x in fmin}])\n",
    "#     d2 = pd.DataFrame([{x:fmed.count(x) for x in fmed}])\n",
    "#     d3 = pd.DataFrame([{x:fmax.count(x) for x in fmax}])\n",
    "#     df = pd.concat([d1,d2,d3]).fillna(0).set_index([['min','med','max']])\n",
    "#     return df"
   ]
  },
  {
   "cell_type": "code",
   "execution_count": 83,
   "metadata": {
    "collapsed": true
   },
   "outputs": [],
   "source": [
    "# # scatter plot \n",
    "# def stacked_bar(data, suptitle):\n",
    "#     \"\"\" input data in a pd dataframe to plot graph, suptitle (str) - graph suptitle\n",
    "#     \"\"\"\n",
    "#     plt.figure()\n",
    "#     cmap = [\"#28385E\",\"#973574\",\"DarkKhaki\"]\n",
    "#     for i in range(len(feature_rank.activity.unique())):\n",
    "#         activity = feature_rank.activity.unique()[i]\n",
    "#         df = stacked_thres(data,activity)\n",
    "#         ax = plt.subplot(1,4,i+1)\n",
    "#         plt.tight_layout(rect=[0, 0.03, 1, 0.95])\n",
    "#         for i in range(3):\n",
    "#             values = df.iloc[i]\n",
    "#             ax.scatter(df.index, values, color = cmap[i])\n",
    "#         plt.title(activity)\n",
    "#     ax.legend(df.columns,loc='center left', bbox_to_anchor=(1, 0.5))\n",
    "#     plt.suptitle(suptitle)\n",
    "#     plt.show()"
   ]
  },
  {
   "cell_type": "code",
   "execution_count": 85,
   "metadata": {
    "collapsed": true
   },
   "outputs": [],
   "source": [
    "# # scatter plot \n",
    "# def stacked_bar_per(data, suptitle):\n",
    "#     \"\"\" input data in a pd dataframe to plot graph, suptitle (str) - graph suptitle\n",
    "#     \"\"\"\n",
    "#     plt.figure()\n",
    "#     cmap = [\"#28385E\",\"#973574\",\"DarkKhaki\"]\n",
    "#     for i in range(len(feature_rank.activity.unique())):\n",
    "#         activity = feature_rank.activity.unique()[i]\n",
    "#         df = effects_scores(data,activity)\n",
    "#         ax = plt.subplot(1,4,i+1)\n",
    "#         plt.tight_layout(rect=[0, 0.03, 1, 0.95])\n",
    "#         for i in range(3):\n",
    "#             values = df.iloc[i]\n",
    "#             ax.scatter(df.index, values, color = cmap[i])\n",
    "#         plt.title(activity)\n",
    "#         plt.ylim(0,1)\n",
    "#     ax.legend(df.columns,loc='center left', bbox_to_anchor=(1, 0.5))\n",
    "#     plt.suptitle(suptitle)\n",
    "#     plt.show()"
   ]
  },
  {
   "cell_type": "code",
   "execution_count": 97,
   "metadata": {},
   "outputs": [],
   "source": [
    "def effects_scores(data,activity):\n",
    "    \"\"\"give percentile of rank for each feature\n",
    "    \n",
    "    Argument: input data (pd DataFrame) -  the input data\n",
    "    \n",
    "    Return: pd.DataFrame - table with percentage \n",
    "    \"\"\"\n",
    "    f_ranks = data[data['activity'] == activity]['feature_rank']\n",
    "\n",
    "    ranks = np.array([np.array(xi) for xi in f_ranks])\n",
    "    df = pd.DataFrame([np.bincount(ranks[:,i]) for i in range(11)]).fillna(0).set_index([['min','2nd','3rd','4th','5th','med','7th','8th',\\\n",
    "                                                                                          '9th','10th','max']])\n",
    "                                                                             \n",
    "    df.columns = df.columns.astype(str)\n",
    "    df = df.drop('0',1).apply(lambda x: x/float(sum(x)))\n",
    "    return df"
   ]
  },
  {
   "cell_type": "code",
   "execution_count": 103,
   "metadata": {
    "collapsed": true
   },
   "outputs": [],
   "source": [
    "def scatter_per(data, suptitle):\n",
    "    \"\"\" input data in a pd dataframe to plot graph, suptitle (str) - graph suptitle\n",
    "    \"\"\"\n",
    "    plt.figure(figsize=(20,5))\n",
    "    \n",
    "    for i in range(len(feature_rank.activity.unique())):\n",
    "        activity = feature_rank.activity.unique()[i]\n",
    "        df = effects_scores(data,activity) \n",
    "        ax = plt.subplot(1,4,i+1)\n",
    "        plt.tight_layout(rect=[0, 0.03, 1, 0.95])\n",
    "        for i in range(11):\n",
    "            values = df.iloc[i]\n",
    "            ax.scatter(df.index, values,  cmap = 'tab20b')\n",
    "        plt.title(activity)\n",
    "        plt.ylim(0,1)\n",
    "        plt.grid()\n",
    "    ax.legend(df.columns,loc='center left', bbox_to_anchor=(1, 0.5))\n",
    "    plt.suptitle(suptitle)\n",
    "    plt.show()"
   ]
  },
  {
   "cell_type": "code",
   "execution_count": 104,
   "metadata": {},
   "outputs": [
    {
     "data": {
      "image/png": "[encoded data removed]",
      "text/plain": [
       "<matplotlib.figure.Figure at 0x11557d080>"
      ]
     },
     "metadata": {},
     "output_type": "display_data"
    }
   ],
   "source": [
    "scatter_per(over_thres, 'Feature Effects on Scores Against Activities x>t* (Percentage)')"
   ]
  },
  {
   "cell_type": "code",
   "execution_count": 105,
   "metadata": {},
   "outputs": [
    {
     "data": {
      "image/png": "[encoded data removed]",
      "text/plain": [
       "<matplotlib.figure.Figure at 0x1154b5cf8>"
      ]
     },
     "metadata": {},
     "output_type": "display_data"
    }
   ],
   "source": [
    "scatter_per(under_thres, 'Feature Effects on Scores Against Activities x<t* (Percentage)')"
   ]
  },
  {
   "cell_type": "markdown",
   "metadata": {},
   "source": [
    "# Feature Score for Feature 1,2 and 3 for under and above threshold"
   ]
  },
  {
   "cell_type": "code",
   "execution_count": 87,
   "metadata": {
    "collapsed": true
   },
   "outputs": [],
   "source": [
    "over_thres.reset_index(inplace=True)\n",
    "under_thres.reset_index(inplace=True)"
   ]
  },
  {
   "cell_type": "code",
   "execution_count": 35,
   "metadata": {
    "collapsed": true
   },
   "outputs": [],
   "source": [
    "f1_score_ot = [i[0] for i in over_thres.feature_score]\n",
    "f2_score_ot = [i[1] for i in over_thres.feature_score]\n",
    "f3_score_ot = [i[2] for i in over_thres.feature_score]\n",
    "\n",
    "f1_score_ut = [i[0] for i in under_thres.feature_score]\n",
    "f2_score_ut = [i[1] for i in under_thres.feature_score]\n",
    "f3_score_ut = [i[2] for i in under_thres.feature_score]"
   ]
  },
  {
   "cell_type": "code",
   "execution_count": 36,
   "metadata": {
    "collapsed": true
   },
   "outputs": [],
   "source": [
    "from mpl_toolkits.mplot3d import Axes3D"
   ]
  },
  {
   "cell_type": "code",
   "execution_count": 37,
   "metadata": {},
   "outputs": [
    {
     "data": {
      "image/png": "[encoded data removed]",
      "text/plain": [
       "<matplotlib.figure.Figure at 0x11e7e3940>"
      ]
     },
     "metadata": {},
     "output_type": "display_data"
    }
   ],
   "source": [
    "#fig = plt.figure(figsize=plt.figaspect(0.5))\n",
    "fig = plt.figure(figsize=(10,5))\n",
    "\n",
    "#x<t*\n",
    "ax1 = fig.add_subplot(1, 2, 1, projection = '3d')\n",
    "ax1.scatter(f1_score_ot, f2_score_ot, f3_score_ot, marker=\"o\", color = 'Blue', s = 10, alpha = 1)\n",
    "ax1.set_ylim(0,1)\n",
    "ax1.set_zlim(0,1)\n",
    "ax1.set_title('x>t*')\n",
    "ax1.set_xlabel('Feature 1')\n",
    "ax1.set_ylabel('Feature 2')\n",
    "ax1.set_zlabel('Feature 3')\n",
    "\n",
    "#x>t*\n",
    "ax1 = fig.add_subplot(1, 2, 2, projection = '3d')\n",
    "ax1.scatter(f1_score_ut, f2_score_ut, f3_score_ut, marker=\"o\", color = 'Red', s = 10, alpha = 1)\n",
    "ax1.set_title('x<t*')\n",
    "ax1.set_xlabel('Feature 1')\n",
    "ax1.set_ylabel('Feature 2')\n",
    "ax1.set_zlabel('Feature 3')\n",
    "\n",
    "fig.suptitle('Feature Score for Feature 1,2 and 3 for under and above threshold')\n",
    "plt.show()"
   ]
  },
  {
   "cell_type": "markdown",
   "metadata": {},
   "source": [
    "# Mean score for features"
   ]
  },
  {
   "cell_type": "code",
   "execution_count": 88,
   "metadata": {
    "collapsed": true
   },
   "outputs": [],
   "source": [
    "def feature_mean(feature_num, thres_rank):\n",
    "    \"\"\" calculate mean feature scores for x<t* and x>t*\n",
    "    \n",
    "    Argument: feature_num (int) - the feature number, thres_rank (int) - selected threshold\n",
    "    \n",
    "    Returns: float - to left mean score, float - to right mean score, float - percentage difference\n",
    "    \"\"\"\n",
    "    left = feature_rank[feature_rank['rank'] <= thres_rank]\n",
    "    left_score = [i[feature_num - 1] for i in left.feature_score]\n",
    "    left_mean = np.mean(left_score)\n",
    "\n",
    "    right = feature_rank[feature_rank['rank'] > thres_rank]\n",
    "    right_score = [i[feature_num - 1] for i in right.feature_score]\n",
    "    right_mean = np.mean(right_score)\n",
    "    \n",
    "    percent_diff = ((right_mean - left_mean)/left_mean)*100\n",
    "    \n",
    "#     print('Mean feature score for feature', feature_num,'less than threshold =', left_mean)\n",
    "#     print('Mean feature score for feature', feature_num,'greater than threshold =', right_mean)\n",
    "#     if percent_diff <= 0:\n",
    "#         print('Mean score for greater than threshold is decreased by', abs(percent_diff), '%')\n",
    "#     elif percent_diff > 0:\n",
    "#         print('Mean score for greater than threshold is increased by', abs(percent_diff), '%')\n",
    "    \n",
    "    return left_mean, right_mean, percent_diff"
   ]
  },
  {
   "cell_type": "code",
   "execution_count": 91,
   "metadata": {},
   "outputs": [
    {
     "data": {
      "text/plain": [
       "(0.16252658132359943, 0.034347809466806864, -78.866343470045379)"
      ]
     },
     "execution_count": 91,
     "metadata": {},
     "output_type": "execute_result"
    }
   ],
   "source": [
    "#example for feature 1, threshold = 300\n",
    "feature_mean(1, 10000)"
   ]
  },
  {
   "cell_type": "code",
   "execution_count": 40,
   "metadata": {
    "collapsed": true
   },
   "outputs": [],
   "source": [
    "feature1_thres_comp = [feature_mean(1,i)[2] for i in range(100, int(max(feature_rank['rank'])), 100)]\n",
    "feature2_thres_comp = [feature_mean(2,i)[2] for i in range(100, int(max(feature_rank['rank'])), 100)]\n",
    "feature3_thres_comp = [feature_mean(3,i)[2] for i in range(100, int(max(feature_rank['rank'])), 100)]"
   ]
  },
  {
   "cell_type": "code",
   "execution_count": 90,
   "metadata": {},
   "outputs": [
    {
     "data": {
      "text/plain": [
       "(0.25557587359292133, 0.11616308471272986, -54.548493533566777)"
      ]
     },
     "execution_count": 90,
     "metadata": {},
     "output_type": "execute_result"
    }
   ],
   "source": [
    "feature_mean(11,100)"
   ]
  },
  {
   "cell_type": "code",
   "execution_count": 93,
   "metadata": {},
   "outputs": [],
   "source": [
    "# plt.figure(figsize=(20,15))\n",
    "\n",
    "# plt.subplot(311)\n",
    "# plt.plot(list(range(100, int(max(feature_rank['rank'])), 100)),feature1_thres_comp)\n",
    "# plt.xlim(100,60000)\n",
    "# plt.xlabel('threshold (rank)')\n",
    "# plt.ylabel('percentage diffrent in mean score')\n",
    "# plt.title('Feature 1')\n",
    "# plt.grid()\n",
    "\n",
    "# plt.subplot(312)\n",
    "# plt.plot(list(range(100, int(max(feature_rank['rank'])), 100)),feature2_thres_comp)\n",
    "# plt.xlim(100,60000)\n",
    "# plt.xlabel('threshold (rank)')\n",
    "# plt.ylabel('percentage diffrent in mean score')\n",
    "# plt.title('Feature 2')\n",
    "# plt.grid()\n",
    "\n",
    "# plt.subplot(313)\n",
    "# plt.plot(list(range(100, int(max(feature_rank['rank'])), 100)),feature3_thres_comp)\n",
    "# plt.xlim(100,60000)\n",
    "# plt.xlabel('threshold (rank)')\n",
    "# plt.ylabel('percentage diffrent in mean score')\n",
    "# plt.title('Feature 3')\n",
    "# plt.grid()\n",
    "\n",
    "# plt.suptitle('Percentage Change vs Threshold')\n",
    "# plt.show()"
   ]
  },
  {
   "cell_type": "code",
   "execution_count": 47,
   "metadata": {
    "collapsed": true
   },
   "outputs": [],
   "source": [
    "#Using number of views to determine the number of email to send, use this number to be the threshold "
   ]
  }
 ],
 "metadata": {
  "kernelspec": {
   "display_name": "Python 3",
   "language": "python",
   "name": "python3"
  },
  "language_info": {
   "codemirror_mode": {
    "name": "ipython",
    "version": 3
   },
   "file_extension": ".py",
   "mimetype": "text/x-python",
   "name": "python",
   "nbconvert_exporter": "python",
   "pygments_lexer": "ipython3",
   "version": "3.6.5"
  },
  "toc": {
   "base_numbering": 1,
   "nav_menu": {},
   "number_sections": true,
   "sideBar": true,
   "skip_h1_title": false,
   "title_cell": "Table of Contents",
   "title_sidebar": "Contents",
   "toc_cell": false,
   "toc_position": {},
   "toc_section_display": true,
   "toc_window_display": false
  }
 },
 "nbformat": 4,
 "nbformat_minor": 2
}
