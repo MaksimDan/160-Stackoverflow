{
 "cells": [
  {
   "cell_type": "markdown",
   "metadata": {},
   "source": [
    "# Indicator Variables"
   ]
  },
  {
   "cell_type": "code",
   "execution_count": 1,
   "metadata": {},
   "outputs": [],
   "source": [
    "import pandas as pd\n",
    "import numpy as np"
   ]
  },
  {
   "cell_type": "code",
   "execution_count": 3,
   "metadata": {},
   "outputs": [],
   "source": [
    "Users = pd.read_csv('../../160-Stackoverflow-Data/train_test/Users.csv')"
   ]
  },
  {
   "cell_type": "code",
   "execution_count": 16,
   "metadata": {},
   "outputs": [],
   "source": [
    "Answers2012 = pd.read_csv('../../160-Stackoverflow-Data/train_test/Answers.csv' ,\\\n",
    "                    dtype = {'LastEditorDisplayName': str, 'Tags': str})"
   ]
  },
  {
   "cell_type": "code",
   "execution_count": 6,
   "metadata": {},
   "outputs": [
    {
     "data": {
      "text/html": [
       "<div>\n",
       "<style scoped>\n",
       "    .dataframe tbody tr th:only-of-type {\n",
       "        vertical-align: middle;\n",
       "    }\n",
       "\n",
       "    .dataframe tbody tr th {\n",
       "        vertical-align: top;\n",
       "    }\n",
       "\n",
       "    .dataframe thead th {\n",
       "        text-align: right;\n",
       "    }\n",
       "</style>\n",
       "<table border=\"1\" class=\"dataframe\">\n",
       "  <thead>\n",
       "    <tr style=\"text-align: right;\">\n",
       "      <th></th>\n",
       "      <th>Unnamed: 0</th>\n",
       "      <th>Id</th>\n",
       "      <th>Reputation</th>\n",
       "      <th>CreationDate</th>\n",
       "      <th>DisplayName</th>\n",
       "      <th>LastAccessDate</th>\n",
       "      <th>WebsiteUrl</th>\n",
       "      <th>Location</th>\n",
       "      <th>Age</th>\n",
       "      <th>AboutMe</th>\n",
       "      <th>Views</th>\n",
       "      <th>UpVotes</th>\n",
       "      <th>DownVotes</th>\n",
       "      <th>AccountId</th>\n",
       "      <th>ProfileImageUrl</th>\n",
       "    </tr>\n",
       "  </thead>\n",
       "  <tbody>\n",
       "    <tr>\n",
       "      <th>2</th>\n",
       "      <td>2</td>\n",
       "      <td>2</td>\n",
       "      <td>3345</td>\n",
       "      <td>2008-07-31T14:22:31.287</td>\n",
       "      <td>Geoff Dalgas</td>\n",
       "      <td>2018-03-10T01:20:14.367</td>\n",
       "      <td>http://stackoverflow.com</td>\n",
       "      <td>Corvallis, OR</td>\n",
       "      <td>41.0</td>\n",
       "      <td>&lt;p&gt;Developer on the Stack Overflow team.  Find...</td>\n",
       "      <td>23041</td>\n",
       "      <td>646</td>\n",
       "      <td>88</td>\n",
       "      <td>2</td>\n",
       "      <td>https://www.gravatar.com/avatar/b437f461b3fd27...</td>\n",
       "    </tr>\n",
       "  </tbody>\n",
       "</table>\n",
       "</div>"
      ],
      "text/plain": [
       "   Unnamed: 0  Id  Reputation             CreationDate   DisplayName  \\\n",
       "2           2   2        3345  2008-07-31T14:22:31.287  Geoff Dalgas   \n",
       "\n",
       "            LastAccessDate                WebsiteUrl       Location   Age  \\\n",
       "2  2018-03-10T01:20:14.367  http://stackoverflow.com  Corvallis, OR  41.0   \n",
       "\n",
       "                                             AboutMe  Views  UpVotes  \\\n",
       "2  <p>Developer on the Stack Overflow team.  Find...  23041      646   \n",
       "\n",
       "   DownVotes  AccountId                                    ProfileImageUrl  \n",
       "2         88          2  https://www.gravatar.com/avatar/b437f461b3fd27...  "
      ]
     },
     "execution_count": 6,
     "metadata": {},
     "output_type": "execute_result"
    }
   ],
   "source": [
    "Users.loc[Users.Id == 2]"
   ]
  },
  {
   "cell_type": "markdown",
   "metadata": {},
   "source": [
    "## User's account was created before a question being asked"
   ]
  },
  {
   "cell_type": "code",
   "execution_count": null,
   "metadata": {},
   "outputs": [],
   "source": [
    "def before_question(user_id, question_id):\n",
    "    return int(Users.loc[Users.Id == user_id]['CreationDate'] < Questions2012.loc[Questions2012.Id == question_id]['CreationDate'])  "
   ]
  },
  {
   "cell_type": "markdown",
   "metadata": {},
   "source": [
    "## User has ever answered"
   ]
  },
  {
   "cell_type": "code",
   "execution_count": null,
   "metadata": {},
   "outputs": [],
   "source": [
    "def ever_ans(user_id):\n",
    "    return int(len(Answers2012.loc[Answers.OwnerUseId == user_id]) > 0 )"
   ]
  },
  {
   "cell_type": "markdown",
   "metadata": {},
   "source": [
    "## User is active"
   ]
  },
  {
   "cell_type": "code",
   "execution_count": 30,
   "metadata": {},
   "outputs": [],
   "source": [
    "import datetime as dt"
   ]
  },
  {
   "cell_type": "code",
   "execution_count": 45,
   "metadata": {},
   "outputs": [],
   "source": [
    "def active(user_id, question_id):\n",
    "    last_access = pd.to_datetime(Users.loc[Users.Id == user_id]['LastAccessDate'] )\n",
    "    question_created = pd.Timestamp(Questions2012.loc[Questions2012.Id == question_id]['CreationDate'])\n",
    "    if last_access >= question_created :\n",
    "        return 1\n",
    "    else:\n",
    "        return int((question_created-last_access) <= dt.timedelta(days=3))"
   ]
  },
  {
   "cell_type": "code",
   "execution_count": null,
   "metadata": {},
   "outputs": [],
   "source": []
  }
 ],
 "metadata": {
  "kernelspec": {
   "display_name": "Python 3",
   "language": "python",
   "name": "python3"
  },
  "language_info": {
   "codemirror_mode": {
    "name": "ipython",
    "version": 3
   },
   "file_extension": ".py",
   "mimetype": "text/x-python",
   "name": "python",
   "nbconvert_exporter": "python",
   "pygments_lexer": "ipython3",
   "version": "3.6.4"
  },
  "toc": {
   "nav_menu": {},
   "number_sections": true,
   "sideBar": true,
   "skip_h1_title": false,
   "title_cell": "Table of Contents",
   "title_sidebar": "Contents",
   "toc_cell": false,
   "toc_position": {},
   "toc_section_display": true,
   "toc_window_display": false
  }
 },
 "nbformat": 4,
 "nbformat_minor": 2
}
