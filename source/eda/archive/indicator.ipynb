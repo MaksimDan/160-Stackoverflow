{
 "cells": [
  {
   "cell_type": "markdown",
   "metadata": {},
   "source": [
    "# Indicator Variables"
   ]
  },
  {
   "cell_type": "code",
   "execution_count": 1,
   "metadata": {},
   "outputs": [],
   "source": [
    "import pandas as pd\n",
    "import numpy as np\n",
    "import pickle"
   ]
  },
  {
   "cell_type": "code",
   "execution_count": null,
   "metadata": {},
   "outputs": [],
   "source": [
    "Users = pd.read_csv('../../160-Stackoverflow-Data/train_test/Users.csv')"
   ]
  },
  {
   "cell_type": "code",
   "execution_count": null,
   "metadata": {},
   "outputs": [],
   "source": [
    "Answers2012 = pd.read_csv('../../160-Stackoverflow-Data/train_test/Posts_Clean.csv')"
   ]
  },
  {
   "cell_type": "code",
   "execution_count": null,
   "metadata": {},
   "outputs": [],
   "source": [
    "Users.head()"
   ]
  },
  {
   "cell_type": "code",
   "execution_count": null,
   "metadata": {},
   "outputs": [],
   "source": [
    "Answers2012.head()"
   ]
  },
  {
   "cell_type": "code",
   "execution_count": null,
   "metadata": {
    "scrolled": true
   },
   "outputs": [],
   "source": [
    "Questions2012 = pd.read_csv('../../160-Stackoverflow-Data/train_test/X_train.csv')"
   ]
  },
  {
   "cell_type": "code",
   "execution_count": null,
   "metadata": {},
   "outputs": [],
   "source": [
    "Questions2012.head()"
   ]
  },
  {
   "cell_type": "code",
   "execution_count": null,
   "metadata": {},
   "outputs": [],
   "source": [
    "Users.loc[Users.Id == 2]"
   ]
  },
  {
   "cell_type": "markdown",
   "metadata": {},
   "source": [
    "## User's account was created before a question being asked"
   ]
  },
  {
   "cell_type": "code",
   "execution_count": null,
   "metadata": {},
   "outputs": [],
   "source": [
    "def before_question(user_id, question_id):\n",
    "    return int(Users.loc[Users.Id == user_id]['CreationDate'] < Questions2012.loc[Questions2012.Id == question_id]['CreationDate'])  "
   ]
  },
  {
   "cell_type": "markdown",
   "metadata": {},
   "source": [
    "## User has ever answered"
   ]
  },
  {
   "cell_type": "code",
   "execution_count": null,
   "metadata": {},
   "outputs": [],
   "source": [
    "def ever_ans(user_id):\n",
    "    return int(len(Answers2012.loc[Answers.OwnerUseId == user_id]) > 0 )"
   ]
  },
  {
   "cell_type": "markdown",
   "metadata": {},
   "source": [
    "## User is active"
   ]
  },
  {
   "cell_type": "code",
   "execution_count": null,
   "metadata": {},
   "outputs": [],
   "source": [
    "import datetime as dt"
   ]
  },
  {
   "cell_type": "code",
   "execution_count": null,
   "metadata": {},
   "outputs": [],
   "source": [
    "def active(user_id, question_id):\n",
    "    last_access = pd.to_datetime(Users.loc[Users.Id == user_id]['LastAccessDate'] )\n",
    "    question_created = pd.Timestamp(Questions2012.loc[Questions2012.Id == question_id]['CreationDate'])\n",
    "    if last_access >= question_created :\n",
    "        return 1\n",
    "    else:\n",
    "        return int((question_created-last_access) <= dt.timedelta(days=3))"
   ]
  },
  {
   "cell_type": "markdown",
   "metadata": {},
   "source": [
    "## residual color matrix"
   ]
  },
  {
   "cell_type": "code",
   "execution_count": 2,
   "metadata": {},
   "outputs": [],
   "source": [
    "import matplotlib.pyplot as plt\n",
    "import matplotlib.colors"
   ]
  },
  {
   "cell_type": "code",
   "execution_count": 10,
   "metadata": {},
   "outputs": [],
   "source": [
    "rbg = {'GREEN': (0, 255, 0), 'CYAN': (0, 255, 255),'BLUE': (0, 128, 255), 'PURPLE': (127, 0, 255),\n",
    "         'LIGHT_GREY': (224, 224, 224), 'ORANGE': (255, 128, 0), 'YELLOW': (255, 255, 0), 'RED': (255, 0, 0)}\n",
    "colormap = {'base': {'label': 0, 'rgb': rbg['LIGHT_GREY']},\n",
    "            'i_answer': {'label': 1, 'rgb': rbg['BLUE']},\n",
    "            'i_comment': {'label': 2, 'rgb': rbg['CYAN']},\n",
    "            'i_upvote': {'label': 3, 'rgb': rbg['GREEN']},\n",
    "            'i_downvote': {'label': 4, 'rgb': rbg['RED']},\n",
    "            'i_favorite': {'label': 5, 'rgb': rbg['YELLOW']},\n",
    "            'i_edit': {'label': 6, 'rgb': rbg['PURPLE']}}"
   ]
  },
  {
   "cell_type": "code",
   "execution_count": 11,
   "metadata": {},
   "outputs": [],
   "source": [
    "def residual_color_mat(mat):\n",
    "    ca = []\n",
    "    for x in colormap.keys():\n",
    "        ca.append(list(colormap[x]['rgb']))\n",
    "    colors = np.matrix(ca)/255 \n",
    "    cmap = matplotlib.colors.ListedColormap(colors)\n",
    "    norm = matplotlib.colors.BoundaryNorm(np.arange(len(ca)+1)-0.5, len(ca))\n",
    "\n",
    "    plt.imshow(mat, cmap=cmap, norm=norm)\n",
    "    plt.axis('off')\n",
    "    cb = plt.colorbar(ticks=np.arange(len(ca)))\n",
    "    cb.ax.set_yticklabels(colormap.keys())\n",
    "    plt.title('Residual Color Matrix')\n",
    "    plt.show()"
   ]
  },
  {
   "cell_type": "code",
   "execution_count": 34,
   "metadata": {},
   "outputs": [
    {
     "data": {
      "text/plain": [
       "array([[0, 0, 0, 0, 1, 2, 2, 1, 2, 3],\n",
       "       [1, 2, 2, 0, 0, 1, 2, 2, 1, 2],\n",
       "       [5, 4, 5, 4, 1, 2, 2, 1, 2, 4]])"
      ]
     },
     "execution_count": 34,
     "metadata": {},
     "output_type": "execute_result"
    }
   ],
   "source": [
    "# example\n",
    "samp = np.array([[0,0,0,0,1,2,2,1,2,3],[1,2,2,0,0,1,2,2,1,2],[5,4,5,4,1,2,2,1,2,4]])\n",
    "samp"
   ]
  },
  {
   "cell_type": "code",
   "execution_count": 35,
   "metadata": {
    "scrolled": true
   },
   "outputs": [
    {
     "data": {
      "image/png": "[encoded data removed]",
      "text/plain": [
       "<matplotlib.figure.Figure at 0x1e5eb0aa390>"
      ]
     },
     "metadata": {},
     "output_type": "display_data"
    }
   ],
   "source": [
    "residual_color_mat(samp)"
   ]
  },
  {
   "cell_type": "code",
   "execution_count": 39,
   "metadata": {},
   "outputs": [
    {
     "data": {
      "image/png": "[encoded data removed]",
      "text/plain": [
       "<matplotlib.figure.Figure at 0x1e5ea9582b0>"
      ]
     },
     "metadata": {},
     "output_type": "display_data"
    }
   ],
   "source": [
    "#plt.figure(figsize = (20,15))\n",
    "residual_color_mat(np.random.randint(6, size=(250,250)))"
   ]
  },
  {
   "cell_type": "markdown",
   "metadata": {},
   "source": [
    "## scatter plot"
   ]
  },
  {
   "cell_type": "code",
   "execution_count": 217,
   "metadata": {},
   "outputs": [],
   "source": [
    "from sklearn.preprocessing import MinMaxScaler\n",
    "import seaborn as sns\n",
    "\n",
    "d= {0: {'i_answer': np.random.randint(100000,size=(1,30))[0], 'i_comment': np.random.randint(100000,size=(1,30))[0], 'i_upvote':[4534],'i_downvote':[43,3454,26345],'i_favorite':[],'i_edit':[]}, \n",
    "  1: {'i_answer': [14, 81346], 'i_comment': [81346, 81346, 81346],'i_edit':np.random.randint(100000,size=(1,30))[0]}, \n",
    "  2: {'i_answer': [5042], 'i_upvote':[4534],'i_comment': [],'i_favorite':[3,142]}, \n",
    "  3: {'i_answer': [], 'i_comment': [9, 57907, 57907, 57907, 14952, 9]}, \n",
    "  4: {'i_answer': [13283, 73], 'i_comment': [9, 73, 5649],'i_downvote':np.random.randint(100000,size=(1,30))[0]}, \n",
    "  5: {'i_answer': [], 'i_comment': np.random.randint(100000,size=(1,30))[0]},\n",
    "  6: {'i_answer': [34,125], 'i_upvote':[],'i_favorite':[2345,65456]},\n",
    "  7: {'i_answer': np.random.randint(100000,size=(1,10))[0], 'i_upvote':[54894],'i_comment': [],'i_edit':[46543]},\n",
    "  8: {'i_answer': [], 'i_upvote':np.random.randint(100000,size=(1,30))[0],'i_comment': [],'i_favorite':np.random.randint(100000,size=(1,30))[0]},\n",
    "  9: {'i_answer': [35,796,5042], 'i_upvote':[2],'i_comment': [354,6786,86665],'i_favorite':[2234]}}"
   ]
  },
  {
   "cell_type": "code",
   "execution_count": 218,
   "metadata": {},
   "outputs": [
    {
     "data": {
      "image/png": "[encoded data removed]",
      "text/plain": [
       "<matplotlib.figure.Figure at 0x1e5811554e0>"
      ]
     },
     "metadata": {},
     "output_type": "display_data"
    }
   ],
   "source": [
    "# colors with activities\n",
    "col_list = [\"blue\", \"cyan\",\"green\", \n",
    "            \"red\", \"yellow\",\"purple\" ]\n",
    "sns.palplot(sns.xkcd_palette(col_list))\n",
    "col_list_palette = sns.xkcd_palette(col_list)\n",
    "sns.set_palette(col_list_palette)"
   ]
  },
  {
   "cell_type": "code",
   "execution_count": 227,
   "metadata": {},
   "outputs": [],
   "source": [
    "def residual_scatter_plot(d):\n",
    "    flatted_d = []\n",
    "    for question_i, activities in d.items():\n",
    "        for activity, index_list in activities.items():\n",
    "            for rank in index_list:\n",
    "                flatted_d.append({'question_number': question_i, 'rank': rank, 'activity': activity})\n",
    "\n",
    "    df = pd.DataFrame(flatted_d)\n",
    "    scaler = MinMaxScaler()\n",
    "    df['rank'] = scaler.fit_transform(df['rank'].values.reshape(-1,1))\n",
    " \n",
    "    g = sns.lmplot('rank', 'question_number', data=df, hue='activity', fit_reg=False, palette = col_list_palette, \n",
    "                   markers = 's',scatter_kws={\"s\": 10})\n",
    "    g.set(xticks=[])\n",
    "    g.set(yticks=[])\n",
    "    ax = plt.gca()\n",
    "    ax.invert_yaxis()\n",
    "    plt.gcf().suptitle(\"Residual Matrix\")\n",
    "    plt.show()"
   ]
  },
  {
   "cell_type": "code",
   "execution_count": 228,
   "metadata": {},
   "outputs": [
    {
     "name": "stderr",
     "output_type": "stream",
     "text": [
      "C:\\Users\\seungmi\\Anaconda3\\lib\\site-packages\\sklearn\\utils\\validation.py:475: DataConversionWarning: Data with input dtype int64 was converted to float64 by MinMaxScaler.\n",
      "  warnings.warn(msg, DataConversionWarning)\n"
     ]
    },
    {
     "data": {
      "image/png": "[encoded data removed]",
      "text/plain": [
       "<matplotlib.figure.Figure at 0x1e5810017f0>"
      ]
     },
     "metadata": {},
     "output_type": "display_data"
    }
   ],
   "source": [
    "residual_scatter_plot(d)"
   ]
  },
  {
   "cell_type": "code",
   "execution_count": null,
   "metadata": {},
   "outputs": [],
   "source": []
  },
  {
   "cell_type": "code",
   "execution_count": 3,
   "metadata": {},
   "outputs": [],
   "source": [
    "import scipy.sparse as sps\n",
    "import matplotlib.pyplot as plt\n",
    "from scipy.sparse import coo_matrix"
   ]
  },
  {
   "cell_type": "code",
   "execution_count": 4,
   "metadata": {},
   "outputs": [],
   "source": [
    "def plot_coo_matrix(m):\n",
    "    if not isinstance(m, coo_matrix):\n",
    "        m = coo_matrix(m)\n",
    "    fig = plt.figure()\n",
    "    ax = fig.add_subplot(111, axisbg='blue')\n",
    "    ax.plot(m.col, m.row, 's', color='white', ms=1)\n",
    "    ax.set_xlim(0, m.shape[1])\n",
    "    ax.set_ylim(0, m.shape[0])\n",
    "    ax.set_aspect('equal')\n",
    "    for spine in ax.spines.values():\n",
    "        spine.set_visible(False)\n",
    "    ax.invert_yaxis()\n",
    "    ax.set_aspect('equal')\n",
    "    ax.set_xticks([])\n",
    "    ax.set_yticks([])\n",
    "    return ax"
   ]
  },
  {
   "cell_type": "code",
   "execution_count": 5,
   "metadata": {},
   "outputs": [
    {
     "name": "stderr",
     "output_type": "stream",
     "text": [
      "C:\\Users\\seungmi\\Anaconda3\\lib\\site-packages\\matplotlib\\cbook\\deprecation.py:106: MatplotlibDeprecationWarning: The axisbg attribute was deprecated in version 2.0. Use facecolor instead.\n",
      "  warnings.warn(message, mplDeprecation, stacklevel=1)\n"
     ]
    },
    {
     "data": {
      "image/png": "[encoded data removed]",
      "text/plain": [
       "<matplotlib.figure.Figure at 0x1c29e41f2b0>"
      ]
     },
     "metadata": {},
     "output_type": "display_data"
    }
   ],
   "source": [
    "shape = (100000, 100000)\n",
    "rows = np.int_(np.round_(shape[0]*np.random.random(1000)))\n",
    "cols = np.int_(np.round_(shape[1]*np.random.random(1000)))\n",
    "vals = np.ones_like(rows)\n",
    "\n",
    "m = coo_matrix((vals, (rows, cols)), shape=shape)\n",
    "ax = plot_coo_matrix(m)\n",
    "plt.show()"
   ]
  },
  {
   "cell_type": "code",
   "execution_count": 6,
   "metadata": {},
   "outputs": [
    {
     "data": {
      "image/png": "[encoded data removed]",
      "text/plain": [
       "<matplotlib.figure.Figure at 0x1c29febe550>"
      ]
     },
     "metadata": {},
     "output_type": "display_data"
    }
   ],
   "source": [
    "# csr matrix\n",
    "A = sps.rand(20000,100000,density=0.00000003)\n",
    "M = sps.csr_matrix(A)\n",
    "plt.spy(M)\n",
    "plt.show()"
   ]
  },
  {
   "cell_type": "code",
   "execution_count": 35,
   "metadata": {},
   "outputs": [],
   "source": [
    "# sample\n",
    "M = np.int32(np.zeros((100000,1000)))\n",
    "rows = np.int_(np.round_(10000*np.random.random(100)))-1\n",
    "cols = np.int_(np.round_(1000*np.random.random(100)))-1\n",
    "vals = np.ones_like(rows)\n",
    "for i in rows:\n",
    "    for j in cols:\n",
    "        M[i,j] = 1\n",
    "aM = sps.coo_matrix(M)"
   ]
  },
  {
   "cell_type": "code",
   "execution_count": 36,
   "metadata": {},
   "outputs": [
    {
     "name": "stderr",
     "output_type": "stream",
     "text": [
      "C:\\Users\\seungmi\\Anaconda3\\lib\\site-packages\\matplotlib\\cbook\\deprecation.py:106: MatplotlibDeprecationWarning: The axisbg attribute was deprecated in version 2.0. Use facecolor instead.\n",
      "  warnings.warn(message, mplDeprecation, stacklevel=1)\n"
     ]
    },
    {
     "data": {
      "text/plain": [
       "<matplotlib.figure.Figure at 0x1c2a13ab438>"
      ]
     },
     "metadata": {},
     "output_type": "display_data"
    },
    {
     "data": {
      "image/png": "[encoded data removed]",
      "text/plain": [
       "<matplotlib.figure.Figure at 0x1c2a13ab048>"
      ]
     },
     "metadata": {},
     "output_type": "display_data"
    }
   ],
   "source": [
    "plt.figure(figsize = (15,20))\n",
    "ax = plot_coo_matrix(aM)\n",
    "plt.show()"
   ]
  },
  {
   "cell_type": "code",
   "execution_count": 27,
   "metadata": {},
   "outputs": [
    {
     "data": {
      "text/plain": [
       "<100000x100 sparse matrix of type '<class 'numpy.int32'>'\n",
       "\twith 6400 stored elements in COOrdinate format>"
      ]
     },
     "execution_count": 27,
     "metadata": {},
     "output_type": "execute_result"
    }
   ],
   "source": [
    "aM"
   ]
  },
  {
   "cell_type": "code",
   "execution_count": 10,
   "metadata": {},
   "outputs": [
    {
     "data": {
      "text/plain": [
       "<100000x100000 sparse matrix of type '<class 'numpy.int32'>'\n",
       "\twith 1000 stored elements in COOrdinate format>"
      ]
     },
     "execution_count": 10,
     "metadata": {},
     "output_type": "execute_result"
    }
   ],
   "source": [
    "m"
   ]
  },
  {
   "cell_type": "code",
   "execution_count": 12,
   "metadata": {},
   "outputs": [
    {
     "data": {
      "text/plain": [
       "1"
      ]
     },
     "execution_count": 12,
     "metadata": {},
     "output_type": "execute_result"
    }
   ],
   "source": [
    "np.int32(1)"
   ]
  },
  {
   "cell_type": "code",
   "execution_count": null,
   "metadata": {},
   "outputs": [],
   "source": []
  }
 ],
 "metadata": {
  "kernelspec": {
   "display_name": "Python 3",
   "language": "python",
   "name": "python3"
  },
  "language_info": {
   "codemirror_mode": {
    "name": "ipython",
    "version": 3
   },
   "file_extension": ".py",
   "mimetype": "text/x-python",
   "name": "python",
   "nbconvert_exporter": "python",
   "pygments_lexer": "ipython3",
   "version": "3.6.4"
  },
  "toc": {
   "base_numbering": 1,
   "nav_menu": {},
   "number_sections": true,
   "sideBar": true,
   "skip_h1_title": false,
   "title_cell": "Table of Contents",
   "title_sidebar": "Contents",
   "toc_cell": false,
   "toc_position": {},
   "toc_section_display": true,
   "toc_window_display": false
  }
 },
 "nbformat": 4,
 "nbformat_minor": 2
}
