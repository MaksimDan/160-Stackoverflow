{
 "cells": [
  {
   "cell_type": "code",
   "execution_count": 1,
   "metadata": {},
   "outputs": [],
   "source": [
    "%matplotlib inline\n",
    "#%install_ext https://raw.github.com/cpcloud/ipython-autotime/master/autotime.py\n",
    "#%load_ext autotime\n",
    "\n",
    "import pandas as pd \n",
    "import matplotlib.pyplot as plt\n",
    "import matplotlib as mpl\n",
    "mpl.rcParams['figure.figsize'] = (15, 10)\n",
    "import numpy as np\n",
    "import seaborn as sns"
   ]
  },
  {
   "cell_type": "markdown",
   "metadata": {},
   "source": [
    "# EDA\n",
    "## Load Data"
   ]
  },
  {
   "cell_type": "code",
   "execution_count": 2,
   "metadata": {},
   "outputs": [],
   "source": [
    "Posts = pd.read_csv('../../../160-Stackoverflow-Data/300000_rows/Posts.csv', \\\n",
    "                    dtype = {'LastEditorDisplayName': str, 'Tags': str})"
   ]
  },
  {
   "cell_type": "markdown",
   "metadata": {},
   "source": [
    "## Check NA of Posts"
   ]
  },
  {
   "cell_type": "code",
   "execution_count": 3,
   "metadata": {
    "scrolled": false
   },
   "outputs": [
    {
     "data": {
      "text/plain": [
       "Text(0.5,1,'Posts NA')"
      ]
     },
     "execution_count": 3,
     "metadata": {},
     "output_type": "execute_result"
    },
    {
     "data": {
      "image/png": "[encoded data removed]",
      "text/plain": [
       "<matplotlib.figure.Figure at 0x1a189e33c8>"
      ]
     },
     "metadata": {},
     "output_type": "display_data"
    }
   ],
   "source": [
    "sns.heatmap(Posts.isnull(), yticklabels=False, cbar=False)\n",
    "plt.title('Posts NA')"
   ]
  },
  {
   "cell_type": "code",
   "execution_count": 4,
   "metadata": {},
   "outputs": [
    {
     "name": "stdout",
     "output_type": "stream",
     "text": [
      "<class 'pandas.core.frame.DataFrame'>\n",
      "RangeIndex: 299999 entries, 0 to 299998\n",
      "Data columns (total 20 columns):\n",
      "Id                       299999 non-null int64\n",
      "PostTypeId               299999 non-null int64\n",
      "ParentID                 152190 non-null float64\n",
      "AcceptedAnswerId         41108 non-null float64\n",
      "CreationDate             299999 non-null object\n",
      "Score                    299999 non-null int64\n",
      "ViewCount                147447 non-null float64\n",
      "Body                     299813 non-null object\n",
      "OwnerUserId              299597 non-null float64\n",
      "LastEditorUserId         115234 non-null float64\n",
      "LastEditorDisplayName    116 non-null object\n",
      "LastEditDate             115344 non-null object\n",
      "LastActivityDate         299999 non-null object\n",
      "CommunityOwnedDate       239 non-null object\n",
      "ClosedDate               10922 non-null object\n",
      "Title                    147447 non-null object\n",
      "Tags                     147447 non-null object\n",
      "AnswerCount              147447 non-null float64\n",
      "CommentCount             299999 non-null int64\n",
      "FavoriteCount            13519 non-null float64\n",
      "dtypes: float64(7), int64(4), object(9)\n",
      "memory usage: 45.8+ MB\n"
     ]
    }
   ],
   "source": [
    "Posts.info()"
   ]
  },
  {
   "cell_type": "markdown",
   "metadata": {},
   "source": [
    "# Timely Collaboration and Values\n",
    "## Answers Posts"
   ]
  },
  {
   "cell_type": "code",
   "execution_count": 5,
   "metadata": {},
   "outputs": [],
   "source": [
    "import datetime\n",
    "import calendar\n",
    "\n",
    "#date to timestamp\n",
    "def date_ts(s):\n",
    "    \"\"\" \n",
    "    param s: str - date\n",
    "    returns: int - timestamp\n",
    "    \"\"\"\n",
    "    date = datetime.datetime.strptime(s, \"%Y-%m-%dT%H:%M:%S\")\n",
    "    st = calendar.timegm(date.utctimetuple())\n",
    "    return(st)"
   ]
  },
  {
   "cell_type": "code",
   "execution_count": 6,
   "metadata": {
    "scrolled": false
   },
   "outputs": [],
   "source": [
    "df_answers = Posts[Posts.PostTypeId == 2]"
   ]
  },
  {
   "cell_type": "code",
   "execution_count": 7,
   "metadata": {
    "scrolled": false
   },
   "outputs": [],
   "source": [
    "df_answers = df_answers.reset_index(drop=True)"
   ]
  },
  {
   "cell_type": "code",
   "execution_count": 8,
   "metadata": {},
   "outputs": [],
   "source": [
    "df_answers.CreationDate = df_answers.CreationDate.str[:-4]"
   ]
  },
  {
   "cell_type": "code",
   "execution_count": 9,
   "metadata": {},
   "outputs": [],
   "source": [
    "unix_ans = [date_ts(i) for i in df_answers.CreationDate]"
   ]
  },
  {
   "cell_type": "code",
   "execution_count": 10,
   "metadata": {},
   "outputs": [],
   "source": [
    "df_answers_time = pd.DataFrame({'ParentID':df_answers.ParentID, 'Cr_time':unix_ans})"
   ]
  },
  {
   "cell_type": "code",
   "execution_count": 11,
   "metadata": {},
   "outputs": [],
   "source": [
    "df_list = df_answers_time.groupby(df_answers_time.ParentID)"
   ]
  },
  {
   "cell_type": "code",
   "execution_count": 12,
   "metadata": {},
   "outputs": [],
   "source": [
    "uni_par_id = list(df_answers_time.ParentID.unique())"
   ]
  },
  {
   "cell_type": "code",
   "execution_count": 13,
   "metadata": {},
   "outputs": [],
   "source": [
    "ans_date = [list(df_list.get_group(i).Cr_time) for i in uni_par_id]"
   ]
  },
  {
   "cell_type": "code",
   "execution_count": 14,
   "metadata": {},
   "outputs": [
    {
     "name": "stdout",
     "output_type": "stream",
     "text": [
      "87571 26874\n"
     ]
    }
   ],
   "source": [
    "yes = 0\n",
    "no = 0\n",
    "for i in ans_date:\n",
    "    if len(i) == 1:\n",
    "        yes += 1\n",
    "    else:\n",
    "        no += 1\n",
    "print(yes, no)\n",
    "\n",
    "#there are 2917 posts with only 1 answer, 15773 posts with more than 1 answers."
   ]
  },
  {
   "cell_type": "code",
   "execution_count": 15,
   "metadata": {},
   "outputs": [],
   "source": [
    "#set 1-answer post sd to 0\n",
    "for i in ans_date:\n",
    "    if len(i) == 1:\n",
    "        i.append(i[0])\n",
    "    else:\n",
    "        i == i"
   ]
  },
  {
   "cell_type": "code",
   "execution_count": 16,
   "metadata": {},
   "outputs": [],
   "source": [
    "import statistics\n",
    "ans_time_sd = [statistics.stdev(i) for i in ans_date]"
   ]
  },
  {
   "cell_type": "code",
   "execution_count": 17,
   "metadata": {},
   "outputs": [],
   "source": [
    "post_Id = sorted(list(df_answers.ParentID.unique()))"
   ]
  },
  {
   "cell_type": "code",
   "execution_count": 18,
   "metadata": {},
   "outputs": [],
   "source": [
    "post_ans_sd = pd.DataFrame({'post_Id':post_Id, 'time_sd':ans_time_sd})"
   ]
  },
  {
   "cell_type": "code",
   "execution_count": 19,
   "metadata": {},
   "outputs": [
    {
     "data": {
      "text/html": [
       "<div>\n",
       "<style>\n",
       "    .dataframe thead tr:only-child th {\n",
       "        text-align: right;\n",
       "    }\n",
       "\n",
       "    .dataframe thead th {\n",
       "        text-align: left;\n",
       "    }\n",
       "\n",
       "    .dataframe tbody tr th {\n",
       "        vertical-align: top;\n",
       "    }\n",
       "</style>\n",
       "<table border=\"1\" class=\"dataframe\">\n",
       "  <thead>\n",
       "    <tr style=\"text-align: right;\">\n",
       "      <th></th>\n",
       "      <th>post_Id</th>\n",
       "      <th>time_sd</th>\n",
       "    </tr>\n",
       "  </thead>\n",
       "  <tbody>\n",
       "    <tr>\n",
       "      <th>0</th>\n",
       "      <td>1033.0</td>\n",
       "      <td>0.000000</td>\n",
       "    </tr>\n",
       "    <tr>\n",
       "      <th>1</th>\n",
       "      <td>2056.0</td>\n",
       "      <td>0.000000</td>\n",
       "    </tr>\n",
       "    <tr>\n",
       "      <th>2</th>\n",
       "      <td>2530.0</td>\n",
       "      <td>0.000000</td>\n",
       "    </tr>\n",
       "    <tr>\n",
       "      <th>3</th>\n",
       "      <td>4371.0</td>\n",
       "      <td>33.226495</td>\n",
       "    </tr>\n",
       "    <tr>\n",
       "      <th>4</th>\n",
       "      <td>5694.0</td>\n",
       "      <td>337954.962313</td>\n",
       "    </tr>\n",
       "    <tr>\n",
       "      <th>5</th>\n",
       "      <td>6414.0</td>\n",
       "      <td>0.000000</td>\n",
       "    </tr>\n",
       "    <tr>\n",
       "      <th>6</th>\n",
       "      <td>11345.0</td>\n",
       "      <td>0.000000</td>\n",
       "    </tr>\n",
       "    <tr>\n",
       "      <th>7</th>\n",
       "      <td>24853.0</td>\n",
       "      <td>0.000000</td>\n",
       "    </tr>\n",
       "    <tr>\n",
       "      <th>8</th>\n",
       "      <td>26733.0</td>\n",
       "      <td>0.000000</td>\n",
       "    </tr>\n",
       "    <tr>\n",
       "      <th>9</th>\n",
       "      <td>27509.0</td>\n",
       "      <td>136.469777</td>\n",
       "    </tr>\n",
       "  </tbody>\n",
       "</table>\n",
       "</div>"
      ],
      "text/plain": [
       "   post_Id        time_sd\n",
       "0   1033.0       0.000000\n",
       "1   2056.0       0.000000\n",
       "2   2530.0       0.000000\n",
       "3   4371.0      33.226495\n",
       "4   5694.0  337954.962313\n",
       "5   6414.0       0.000000\n",
       "6  11345.0       0.000000\n",
       "7  24853.0       0.000000\n",
       "8  26733.0       0.000000\n",
       "9  27509.0     136.469777"
      ]
     },
     "execution_count": 19,
     "metadata": {},
     "output_type": "execute_result"
    }
   ],
   "source": [
    "post_ans_sd.head(10)"
   ]
  },
  {
   "cell_type": "markdown",
   "metadata": {},
   "source": [
    "## Parents Posts"
   ]
  },
  {
   "cell_type": "code",
   "execution_count": 20,
   "metadata": {},
   "outputs": [],
   "source": [
    "Parents_post = Posts[Posts.PostTypeId == 1]"
   ]
  },
  {
   "cell_type": "code",
   "execution_count": 21,
   "metadata": {},
   "outputs": [],
   "source": [
    "Parents_post = Parents_post.reset_index(drop=True)"
   ]
  },
  {
   "cell_type": "code",
   "execution_count": 22,
   "metadata": {},
   "outputs": [
    {
     "name": "stdout",
     "output_type": "stream",
     "text": [
      "<class 'pandas.core.frame.DataFrame'>\n",
      "RangeIndex: 147447 entries, 0 to 147446\n",
      "Data columns (total 20 columns):\n",
      "Id                       147447 non-null int64\n",
      "PostTypeId               147447 non-null int64\n",
      "ParentID                 0 non-null float64\n",
      "AcceptedAnswerId         41108 non-null float64\n",
      "CreationDate             147447 non-null object\n",
      "Score                    147447 non-null int64\n",
      "ViewCount                147447 non-null float64\n",
      "Body                     147447 non-null object\n",
      "OwnerUserId              147167 non-null float64\n",
      "LastEditorUserId         73457 non-null float64\n",
      "LastEditorDisplayName    82 non-null object\n",
      "LastEditDate             73534 non-null object\n",
      "LastActivityDate         147447 non-null object\n",
      "CommunityOwnedDate       0 non-null object\n",
      "ClosedDate               10922 non-null object\n",
      "Title                    147447 non-null object\n",
      "Tags                     147447 non-null object\n",
      "AnswerCount              147447 non-null float64\n",
      "CommentCount             147447 non-null int64\n",
      "FavoriteCount            13519 non-null float64\n",
      "dtypes: float64(7), int64(4), object(9)\n",
      "memory usage: 22.5+ MB\n"
     ]
    }
   ],
   "source": [
    "Parents_post.info()"
   ]
  },
  {
   "cell_type": "code",
   "execution_count": 23,
   "metadata": {},
   "outputs": [],
   "source": [
    "df_parents = pd.DataFrame({'post_Id':Parents_post.Id, 'Views_count':Parents_post.ViewCount,\\\n",
    "                           'Score':Parents_post.Score, 'Comment_count':Parents_post.CommentCount})"
   ]
  },
  {
   "cell_type": "code",
   "execution_count": 24,
   "metadata": {},
   "outputs": [],
   "source": [
    "df_comb = df_parents.join(post_ans_sd.set_index('post_Id'), on='post_Id')"
   ]
  },
  {
   "cell_type": "code",
   "execution_count": 25,
   "metadata": {},
   "outputs": [],
   "source": [
    "df_comb = df_comb.dropna()\n",
    "df_comb = df_comb.reset_index(drop=True)"
   ]
  },
  {
   "cell_type": "markdown",
   "metadata": {},
   "source": [
    "## Plots"
   ]
  },
  {
   "cell_type": "code",
   "execution_count": 26,
   "metadata": {},
   "outputs": [
    {
     "data": {
      "text/plain": [
       "<matplotlib.axes._subplots.AxesSubplot at 0x1a23d84d68>"
      ]
     },
     "execution_count": 26,
     "metadata": {},
     "output_type": "execute_result"
    },
    {
     "data": {
      "image/png": "[encoded data removed]",
      "text/plain": [
       "<matplotlib.figure.Figure at 0x1a1fdafc50>"
      ]
     },
     "metadata": {},
     "output_type": "display_data"
    }
   ],
   "source": [
    "f, (ax1, ax2) = plt.subplots(nrows=2, figsize=(8,10))\n",
    "plt.suptitle(\"Question Value vs Timely Collaboration\", size=20)\n",
    "sns.regplot(df_comb.time_sd, df_comb.Score, marker=\".\", ax=ax1)\n",
    "sns.regplot(df_comb.time_sd, df_comb.Views_count, marker=\".\", ax=ax2)"
   ]
  },
  {
   "cell_type": "markdown",
   "metadata": {},
   "source": [
    "## Data transformation"
   ]
  },
  {
   "cell_type": "code",
   "execution_count": 27,
   "metadata": {},
   "outputs": [
    {
     "data": {
      "text/html": [
       "<div>\n",
       "<style>\n",
       "    .dataframe thead tr:only-child th {\n",
       "        text-align: right;\n",
       "    }\n",
       "\n",
       "    .dataframe thead th {\n",
       "        text-align: left;\n",
       "    }\n",
       "\n",
       "    .dataframe tbody tr th {\n",
       "        vertical-align: top;\n",
       "    }\n",
       "</style>\n",
       "<table border=\"1\" class=\"dataframe\">\n",
       "  <thead>\n",
       "    <tr style=\"text-align: right;\">\n",
       "      <th></th>\n",
       "      <th>Comment_count</th>\n",
       "      <th>Score</th>\n",
       "      <th>Views_count</th>\n",
       "      <th>post_Id</th>\n",
       "      <th>time_sd</th>\n",
       "    </tr>\n",
       "  </thead>\n",
       "  <tbody>\n",
       "    <tr>\n",
       "      <th>0</th>\n",
       "      <td>0</td>\n",
       "      <td>1</td>\n",
       "      <td>50.0</td>\n",
       "      <td>48870881</td>\n",
       "      <td>22807.022120</td>\n",
       "    </tr>\n",
       "    <tr>\n",
       "      <th>1</th>\n",
       "      <td>0</td>\n",
       "      <td>0</td>\n",
       "      <td>27.0</td>\n",
       "      <td>48870882</td>\n",
       "      <td>2110.006635</td>\n",
       "    </tr>\n",
       "    <tr>\n",
       "      <th>2</th>\n",
       "      <td>2</td>\n",
       "      <td>0</td>\n",
       "      <td>27.0</td>\n",
       "      <td>48870886</td>\n",
       "      <td>229137.245336</td>\n",
       "    </tr>\n",
       "    <tr>\n",
       "      <th>3</th>\n",
       "      <td>0</td>\n",
       "      <td>1</td>\n",
       "      <td>17.0</td>\n",
       "      <td>48870888</td>\n",
       "      <td>0.000000</td>\n",
       "    </tr>\n",
       "    <tr>\n",
       "      <th>4</th>\n",
       "      <td>0</td>\n",
       "      <td>0</td>\n",
       "      <td>20.0</td>\n",
       "      <td>48870892</td>\n",
       "      <td>52159.731709</td>\n",
       "    </tr>\n",
       "  </tbody>\n",
       "</table>\n",
       "</div>"
      ],
      "text/plain": [
       "   Comment_count  Score  Views_count   post_Id        time_sd\n",
       "0              0      1         50.0  48870881   22807.022120\n",
       "1              0      0         27.0  48870882    2110.006635\n",
       "2              2      0         27.0  48870886  229137.245336\n",
       "3              0      1         17.0  48870888       0.000000\n",
       "4              0      0         20.0  48870892   52159.731709"
      ]
     },
     "execution_count": 27,
     "metadata": {},
     "output_type": "execute_result"
    }
   ],
   "source": [
    "df_comb.head()"
   ]
  },
  {
   "cell_type": "code",
   "execution_count": 28,
   "metadata": {},
   "outputs": [
    {
     "data": {
      "text/plain": [
       "count    85059.000000\n",
       "mean         0.190421\n",
       "std          1.542484\n",
       "min        -16.000000\n",
       "25%          0.000000\n",
       "50%          0.000000\n",
       "75%          1.000000\n",
       "max         65.000000\n",
       "Name: Score, dtype: float64"
      ]
     },
     "execution_count": 28,
     "metadata": {},
     "output_type": "execute_result"
    }
   ],
   "source": [
    "df_comb.Score.describe()"
   ]
  },
  {
   "cell_type": "code",
   "execution_count": 29,
   "metadata": {},
   "outputs": [
    {
     "data": {
      "text/plain": [
       "count    85059.000000\n",
       "mean        38.351062\n",
       "std         78.506050\n",
       "min          3.000000\n",
       "25%         23.000000\n",
       "50%         32.000000\n",
       "75%         44.000000\n",
       "max       8821.000000\n",
       "Name: Views_count, dtype: float64"
      ]
     },
     "execution_count": 29,
     "metadata": {},
     "output_type": "execute_result"
    }
   ],
   "source": [
    "df_comb.Views_count.describe()"
   ]
  },
  {
   "cell_type": "code",
   "execution_count": 30,
   "metadata": {},
   "outputs": [],
   "source": [
    "import math\n",
    "def loga(x):\n",
    "    val = x+abs(min(df_comb.Score))+2\n",
    "    out = 1/math.log10(val)\n",
    "    return(out)"
   ]
  },
  {
   "cell_type": "code",
   "execution_count": 31,
   "metadata": {},
   "outputs": [
    {
     "data": {
      "text/plain": [
       "23.0"
      ]
     },
     "execution_count": 31,
     "metadata": {},
     "output_type": "execute_result"
    }
   ],
   "source": [
    "_min_score = abs(min(df_comb.Score)) + 2\n",
    "_min_view = abs(min(df_comb.Views_count)) + 20\n",
    "_min_view"
   ]
  },
  {
   "cell_type": "code",
   "execution_count": 32,
   "metadata": {},
   "outputs": [],
   "source": [
    "View_log = df_comb.Views_count.apply(lambda x: 1/math.log10(x + _min_score))"
   ]
  },
  {
   "cell_type": "code",
   "execution_count": 33,
   "metadata": {},
   "outputs": [],
   "source": [
    "Scores_log = df_comb.Score.apply(lambda x: 1/math.log10(x + _min_view))"
   ]
  },
  {
   "cell_type": "code",
   "execution_count": 34,
   "metadata": {},
   "outputs": [
    {
     "name": "stdout",
     "output_type": "stream",
     "text": [
      "12282 72777\n"
     ]
    }
   ],
   "source": [
    "yes = 0\n",
    "no = 0\n",
    "for i in df_comb.Score:\n",
    "    if i < 0:\n",
    "        yes += 1\n",
    "    else:\n",
    "        no += 1\n",
    "print(yes, no)"
   ]
  },
  {
   "cell_type": "markdown",
   "metadata": {},
   "source": [
    "## Plot of Transformed Data"
   ]
  },
  {
   "cell_type": "code",
   "execution_count": 35,
   "metadata": {},
   "outputs": [
    {
     "data": {
      "text/plain": [
       "<matplotlib.axes._subplots.AxesSubplot at 0x1a20c4f550>"
      ]
     },
     "execution_count": 35,
     "metadata": {},
     "output_type": "execute_result"
    },
    {
     "data": {
      "image/png": "[encoded data removed]",
      "text/plain": [
       "<matplotlib.figure.Figure at 0x1a0a79fba8>"
      ]
     },
     "metadata": {},
     "output_type": "display_data"
    }
   ],
   "source": [
    "f, (ax1, ax2) = plt.subplots(nrows=2, figsize=(8,10))\n",
    "plt.suptitle(\"Question Value vs Timely Collaboration\", size=20)\n",
    "sns.regplot(df_comb.time_sd, View_log, ax=ax1)\n",
    "sns.regplot(df_comb.time_sd, Scores_log, ax=ax2)"
   ]
  },
  {
   "cell_type": "markdown",
   "metadata": {},
   "source": [
    "## Linear Model Summary"
   ]
  },
  {
   "cell_type": "code",
   "execution_count": 36,
   "metadata": {},
   "outputs": [
    {
     "name": "stderr",
     "output_type": "stream",
     "text": [
      "/Users/esmondchu/anaconda3/lib/python3.6/site-packages/statsmodels/compat/pandas.py:56: FutureWarning: The pandas.core.datetools module is deprecated and will be removed in a future version. Please use the pandas.tseries module instead.\n",
      "  from pandas.core import datetools\n"
     ]
    }
   ],
   "source": [
    "from scipy import stats\n",
    "import statsmodels.api as sm"
   ]
  },
  {
   "cell_type": "code",
   "execution_count": 37,
   "metadata": {},
   "outputs": [],
   "source": [
    "#Views\n",
    "Views_model = sm.OLS(View_log, df_comb.time_sd)\n",
    "Views_result = Views_model.fit()\n",
    "#Score\n",
    "Score_model = sm.OLS(Scores_log, df_comb.time_sd)\n",
    "Score_result = Score_model.fit()"
   ]
  },
  {
   "cell_type": "code",
   "execution_count": 38,
   "metadata": {},
   "outputs": [
    {
     "name": "stdout",
     "output_type": "stream",
     "text": [
      "                            OLS Regression Results                            \n",
      "==============================================================================\n",
      "Dep. Variable:            Views_count   R-squared:                       0.024\n",
      "Model:                            OLS   Adj. R-squared:                  0.024\n",
      "Method:                 Least Squares   F-statistic:                     2125.\n",
      "Date:                Wed, 02 May 2018   Prob (F-statistic):               0.00\n",
      "Time:                        00:10:33   Log-Likelihood:                -74800.\n",
      "No. Observations:               85059   AIC:                         1.496e+05\n",
      "Df Residuals:                   85058   BIC:                         1.496e+05\n",
      "Df Model:                           1                                         \n",
      "Covariance Type:            nonrobust                                         \n",
      "==============================================================================\n",
      "                 coef    std err          t      P>|t|      [0.025      0.975]\n",
      "------------------------------------------------------------------------------\n",
      "time_sd     2.328e-06   5.05e-08     46.097      0.000    2.23e-06    2.43e-06\n",
      "==============================================================================\n",
      "Omnibus:                   111296.763   Durbin-Watson:                   0.060\n",
      "Prob(Omnibus):                  0.000   Jarque-Bera (JB):         26209487.458\n",
      "Skew:                          -7.370   Prob(JB):                         0.00\n",
      "Kurtosis:                      87.723   Cond. No.                         1.00\n",
      "==============================================================================\n",
      "\n",
      "Warnings:\n",
      "[1] Standard Errors assume that the covariance matrix of the errors is correctly specified.\n",
      "                            OLS Regression Results                            \n",
      "==============================================================================\n",
      "Dep. Variable:                  Score   R-squared:                       0.025\n",
      "Model:                            OLS   Adj. R-squared:                  0.025\n",
      "Method:                 Least Squares   F-statistic:                     2165.\n",
      "Date:                Wed, 02 May 2018   Prob (F-statistic):               0.00\n",
      "Time:                        00:10:33   Log-Likelihood:                -93246.\n",
      "No. Observations:               85059   AIC:                         1.865e+05\n",
      "Df Residuals:                   85058   BIC:                         1.865e+05\n",
      "Df Model:                           1                                         \n",
      "Covariance Type:            nonrobust                                         \n",
      "==============================================================================\n",
      "                 coef    std err          t      P>|t|      [0.025      0.975]\n",
      "------------------------------------------------------------------------------\n",
      "time_sd     2.919e-06   6.27e-08     46.532      0.000     2.8e-06    3.04e-06\n",
      "==============================================================================\n",
      "Omnibus:                   133835.524   Durbin-Watson:                   0.050\n",
      "Prob(Omnibus):                  0.000   Jarque-Bera (JB):         65171227.642\n",
      "Skew:                         -10.332   Prob(JB):                         0.00\n",
      "Kurtosis:                     137.020   Cond. No.                         1.00\n",
      "==============================================================================\n",
      "\n",
      "Warnings:\n",
      "[1] Standard Errors assume that the covariance matrix of the errors is correctly specified.\n"
     ]
    }
   ],
   "source": [
    "print(Views_result.summary())\n",
    "print(Score_result.summary())"
   ]
  },
  {
   "cell_type": "markdown",
   "metadata": {},
   "source": [
    "# Probability of a question being answered as a function of time in minutes\n",
    "eg. $P(\\text{question is answered}|t=0,...,n , n=1,...,1440)$ for "
   ]
  },
  {
   "cell_type": "markdown",
   "metadata": {},
   "source": [
    "## Parents Post Data Wrangling"
   ]
  },
  {
   "cell_type": "code",
   "execution_count": 39,
   "metadata": {},
   "outputs": [
    {
     "data": {
      "text/html": [
       "<div>\n",
       "<style>\n",
       "    .dataframe thead tr:only-child th {\n",
       "        text-align: right;\n",
       "    }\n",
       "\n",
       "    .dataframe thead th {\n",
       "        text-align: left;\n",
       "    }\n",
       "\n",
       "    .dataframe tbody tr th {\n",
       "        vertical-align: top;\n",
       "    }\n",
       "</style>\n",
       "<table border=\"1\" class=\"dataframe\">\n",
       "  <thead>\n",
       "    <tr style=\"text-align: right;\">\n",
       "      <th></th>\n",
       "      <th>Id</th>\n",
       "      <th>PostTypeId</th>\n",
       "      <th>ParentID</th>\n",
       "      <th>AcceptedAnswerId</th>\n",
       "      <th>CreationDate</th>\n",
       "      <th>Score</th>\n",
       "      <th>ViewCount</th>\n",
       "      <th>Body</th>\n",
       "      <th>OwnerUserId</th>\n",
       "      <th>LastEditorUserId</th>\n",
       "      <th>LastEditorDisplayName</th>\n",
       "      <th>LastEditDate</th>\n",
       "      <th>LastActivityDate</th>\n",
       "      <th>CommunityOwnedDate</th>\n",
       "      <th>ClosedDate</th>\n",
       "      <th>Title</th>\n",
       "      <th>Tags</th>\n",
       "      <th>AnswerCount</th>\n",
       "      <th>CommentCount</th>\n",
       "      <th>FavoriteCount</th>\n",
       "    </tr>\n",
       "  </thead>\n",
       "  <tbody>\n",
       "    <tr>\n",
       "      <th>0</th>\n",
       "      <td>48870883</td>\n",
       "      <td>2</td>\n",
       "      <td>48869547.0</td>\n",
       "      <td>NaN</td>\n",
       "      <td>2018-02-19T17:05:50</td>\n",
       "      <td>1</td>\n",
       "      <td>NaN</td>\n",
       "      <td>&lt;p&gt;Try to add hint to the query:&lt;/p&gt;\\r\\n\\r\\n&lt;p...</td>\n",
       "      <td>8214734.0</td>\n",
       "      <td>8214734.0</td>\n",
       "      <td>NaN</td>\n",
       "      <td>2018-02-20T10:20:21.007</td>\n",
       "      <td>2018-02-20T10:20:21.007</td>\n",
       "      <td>NaN</td>\n",
       "      <td>NaN</td>\n",
       "      <td>NaN</td>\n",
       "      <td>NaN</td>\n",
       "      <td>NaN</td>\n",
       "      <td>2</td>\n",
       "      <td>NaN</td>\n",
       "    </tr>\n",
       "    <tr>\n",
       "      <th>1</th>\n",
       "      <td>48870884</td>\n",
       "      <td>2</td>\n",
       "      <td>3865445.0</td>\n",
       "      <td>NaN</td>\n",
       "      <td>2018-02-19T17:05:50</td>\n",
       "      <td>0</td>\n",
       "      <td>NaN</td>\n",
       "      <td>In support of Sean's post:\\r\\n\\r\\n&lt;p&gt;The place...</td>\n",
       "      <td>2055283.0</td>\n",
       "      <td>NaN</td>\n",
       "      <td>NaN</td>\n",
       "      <td>NaN</td>\n",
       "      <td>2018-02-19T17:05:50.273</td>\n",
       "      <td>NaN</td>\n",
       "      <td>NaN</td>\n",
       "      <td>NaN</td>\n",
       "      <td>NaN</td>\n",
       "      <td>NaN</td>\n",
       "      <td>0</td>\n",
       "      <td>NaN</td>\n",
       "    </tr>\n",
       "    <tr>\n",
       "      <th>2</th>\n",
       "      <td>48870885</td>\n",
       "      <td>2</td>\n",
       "      <td>48870539.0</td>\n",
       "      <td>NaN</td>\n",
       "      <td>2018-02-19T17:05:51</td>\n",
       "      <td>0</td>\n",
       "      <td>NaN</td>\n",
       "      <td>&lt;p&gt;I discovered the convention (couldn't find ...</td>\n",
       "      <td>1052870.0</td>\n",
       "      <td>NaN</td>\n",
       "      <td>NaN</td>\n",
       "      <td>NaN</td>\n",
       "      <td>2018-02-19T17:05:51.300</td>\n",
       "      <td>NaN</td>\n",
       "      <td>NaN</td>\n",
       "      <td>NaN</td>\n",
       "      <td>NaN</td>\n",
       "      <td>NaN</td>\n",
       "      <td>1</td>\n",
       "      <td>NaN</td>\n",
       "    </tr>\n",
       "    <tr>\n",
       "      <th>3</th>\n",
       "      <td>48870889</td>\n",
       "      <td>2</td>\n",
       "      <td>48870709.0</td>\n",
       "      <td>NaN</td>\n",
       "      <td>2018-02-19T17:06:01</td>\n",
       "      <td>0</td>\n",
       "      <td>NaN</td>\n",
       "      <td>&lt;p&gt;Group by the user, then aggregate a list of...</td>\n",
       "      <td>3182843.0</td>\n",
       "      <td>NaN</td>\n",
       "      <td>NaN</td>\n",
       "      <td>NaN</td>\n",
       "      <td>2018-02-19T17:06:01.910</td>\n",
       "      <td>NaN</td>\n",
       "      <td>NaN</td>\n",
       "      <td>NaN</td>\n",
       "      <td>NaN</td>\n",
       "      <td>NaN</td>\n",
       "      <td>0</td>\n",
       "      <td>NaN</td>\n",
       "    </tr>\n",
       "    <tr>\n",
       "      <th>4</th>\n",
       "      <td>48870891</td>\n",
       "      <td>2</td>\n",
       "      <td>48870253.0</td>\n",
       "      <td>NaN</td>\n",
       "      <td>2018-02-19T17:06:16</td>\n",
       "      <td>12</td>\n",
       "      <td>NaN</td>\n",
       "      <td>&lt;p&gt;With combination of &lt;code&gt;re.findall()&lt;/cod...</td>\n",
       "      <td>3185459.0</td>\n",
       "      <td>3185459.0</td>\n",
       "      <td>NaN</td>\n",
       "      <td>2018-02-19T17:13:55.730</td>\n",
       "      <td>2018-02-19T17:13:55.730</td>\n",
       "      <td>NaN</td>\n",
       "      <td>NaN</td>\n",
       "      <td>NaN</td>\n",
       "      <td>NaN</td>\n",
       "      <td>NaN</td>\n",
       "      <td>8</td>\n",
       "      <td>NaN</td>\n",
       "    </tr>\n",
       "  </tbody>\n",
       "</table>\n",
       "</div>"
      ],
      "text/plain": [
       "         Id  PostTypeId    ParentID  AcceptedAnswerId         CreationDate  \\\n",
       "0  48870883           2  48869547.0               NaN  2018-02-19T17:05:50   \n",
       "1  48870884           2   3865445.0               NaN  2018-02-19T17:05:50   \n",
       "2  48870885           2  48870539.0               NaN  2018-02-19T17:05:51   \n",
       "3  48870889           2  48870709.0               NaN  2018-02-19T17:06:01   \n",
       "4  48870891           2  48870253.0               NaN  2018-02-19T17:06:16   \n",
       "\n",
       "   Score  ViewCount                                               Body  \\\n",
       "0      1        NaN  <p>Try to add hint to the query:</p>\\r\\n\\r\\n<p...   \n",
       "1      0        NaN  In support of Sean's post:\\r\\n\\r\\n<p>The place...   \n",
       "2      0        NaN  <p>I discovered the convention (couldn't find ...   \n",
       "3      0        NaN  <p>Group by the user, then aggregate a list of...   \n",
       "4     12        NaN  <p>With combination of <code>re.findall()</cod...   \n",
       "\n",
       "   OwnerUserId  LastEditorUserId LastEditorDisplayName  \\\n",
       "0    8214734.0         8214734.0                   NaN   \n",
       "1    2055283.0               NaN                   NaN   \n",
       "2    1052870.0               NaN                   NaN   \n",
       "3    3182843.0               NaN                   NaN   \n",
       "4    3185459.0         3185459.0                   NaN   \n",
       "\n",
       "              LastEditDate         LastActivityDate CommunityOwnedDate  \\\n",
       "0  2018-02-20T10:20:21.007  2018-02-20T10:20:21.007                NaN   \n",
       "1                      NaN  2018-02-19T17:05:50.273                NaN   \n",
       "2                      NaN  2018-02-19T17:05:51.300                NaN   \n",
       "3                      NaN  2018-02-19T17:06:01.910                NaN   \n",
       "4  2018-02-19T17:13:55.730  2018-02-19T17:13:55.730                NaN   \n",
       "\n",
       "  ClosedDate Title Tags  AnswerCount  CommentCount  FavoriteCount  \n",
       "0        NaN   NaN  NaN          NaN             2            NaN  \n",
       "1        NaN   NaN  NaN          NaN             0            NaN  \n",
       "2        NaN   NaN  NaN          NaN             1            NaN  \n",
       "3        NaN   NaN  NaN          NaN             0            NaN  \n",
       "4        NaN   NaN  NaN          NaN             8            NaN  "
      ]
     },
     "execution_count": 39,
     "metadata": {},
     "output_type": "execute_result"
    }
   ],
   "source": [
    "#Parents_post\n",
    "df_answers.head()"
   ]
  },
  {
   "cell_type": "code",
   "execution_count": 40,
   "metadata": {},
   "outputs": [
    {
     "data": {
      "text/html": [
       "<div>\n",
       "<style>\n",
       "    .dataframe thead tr:only-child th {\n",
       "        text-align: right;\n",
       "    }\n",
       "\n",
       "    .dataframe thead th {\n",
       "        text-align: left;\n",
       "    }\n",
       "\n",
       "    .dataframe tbody tr th {\n",
       "        vertical-align: top;\n",
       "    }\n",
       "</style>\n",
       "<table border=\"1\" class=\"dataframe\">\n",
       "  <thead>\n",
       "    <tr style=\"text-align: right;\">\n",
       "      <th></th>\n",
       "      <th>Cr_time</th>\n",
       "      <th>ParentID</th>\n",
       "    </tr>\n",
       "  </thead>\n",
       "  <tbody>\n",
       "    <tr>\n",
       "      <th>0</th>\n",
       "      <td>1519059950</td>\n",
       "      <td>48869547.0</td>\n",
       "    </tr>\n",
       "    <tr>\n",
       "      <th>1</th>\n",
       "      <td>1519059950</td>\n",
       "      <td>3865445.0</td>\n",
       "    </tr>\n",
       "    <tr>\n",
       "      <th>2</th>\n",
       "      <td>1519059951</td>\n",
       "      <td>48870539.0</td>\n",
       "    </tr>\n",
       "    <tr>\n",
       "      <th>3</th>\n",
       "      <td>1519059961</td>\n",
       "      <td>48870709.0</td>\n",
       "    </tr>\n",
       "    <tr>\n",
       "      <th>4</th>\n",
       "      <td>1519059976</td>\n",
       "      <td>48870253.0</td>\n",
       "    </tr>\n",
       "  </tbody>\n",
       "</table>\n",
       "</div>"
      ],
      "text/plain": [
       "      Cr_time    ParentID\n",
       "0  1519059950  48869547.0\n",
       "1  1519059950   3865445.0\n",
       "2  1519059951  48870539.0\n",
       "3  1519059961  48870709.0\n",
       "4  1519059976  48870253.0"
      ]
     },
     "execution_count": 40,
     "metadata": {},
     "output_type": "execute_result"
    }
   ],
   "source": [
    "df_answers_time.head()"
   ]
  },
  {
   "cell_type": "code",
   "execution_count": 41,
   "metadata": {},
   "outputs": [],
   "source": [
    "parents_time = Parents_post.CreationDate.str[:-4]"
   ]
  },
  {
   "cell_type": "code",
   "execution_count": 42,
   "metadata": {},
   "outputs": [],
   "source": [
    "unix_parents = [date_ts(i) for i in parents_time]"
   ]
  },
  {
   "cell_type": "code",
   "execution_count": 43,
   "metadata": {},
   "outputs": [],
   "source": [
    "df_parents_time = pd.DataFrame({'Cr_time_parents':unix_parents, 'ParentID':Parents_post.Id})"
   ]
  },
  {
   "cell_type": "code",
   "execution_count": 44,
   "metadata": {},
   "outputs": [
    {
     "data": {
      "text/html": [
       "<div>\n",
       "<style>\n",
       "    .dataframe thead tr:only-child th {\n",
       "        text-align: right;\n",
       "    }\n",
       "\n",
       "    .dataframe thead th {\n",
       "        text-align: left;\n",
       "    }\n",
       "\n",
       "    .dataframe tbody tr th {\n",
       "        vertical-align: top;\n",
       "    }\n",
       "</style>\n",
       "<table border=\"1\" class=\"dataframe\">\n",
       "  <thead>\n",
       "    <tr style=\"text-align: right;\">\n",
       "      <th></th>\n",
       "      <th>Cr_time_parents</th>\n",
       "      <th>ParentID</th>\n",
       "    </tr>\n",
       "  </thead>\n",
       "  <tbody>\n",
       "    <tr>\n",
       "      <th>0</th>\n",
       "      <td>1519059948</td>\n",
       "      <td>48870881</td>\n",
       "    </tr>\n",
       "    <tr>\n",
       "      <th>1</th>\n",
       "      <td>1519059949</td>\n",
       "      <td>48870882</td>\n",
       "    </tr>\n",
       "    <tr>\n",
       "      <th>2</th>\n",
       "      <td>1519059952</td>\n",
       "      <td>48870886</td>\n",
       "    </tr>\n",
       "    <tr>\n",
       "      <th>3</th>\n",
       "      <td>1519059961</td>\n",
       "      <td>48870888</td>\n",
       "    </tr>\n",
       "    <tr>\n",
       "      <th>4</th>\n",
       "      <td>1519059966</td>\n",
       "      <td>48870890</td>\n",
       "    </tr>\n",
       "  </tbody>\n",
       "</table>\n",
       "</div>"
      ],
      "text/plain": [
       "   Cr_time_parents  ParentID\n",
       "0       1519059948  48870881\n",
       "1       1519059949  48870882\n",
       "2       1519059952  48870886\n",
       "3       1519059961  48870888\n",
       "4       1519059966  48870890"
      ]
     },
     "execution_count": 44,
     "metadata": {},
     "output_type": "execute_result"
    }
   ],
   "source": [
    "df_parents_time.head()"
   ]
  },
  {
   "cell_type": "markdown",
   "metadata": {},
   "source": [
    "## Merge Table & Create Columns of mins and hours"
   ]
  },
  {
   "cell_type": "code",
   "execution_count": 45,
   "metadata": {},
   "outputs": [],
   "source": [
    "df_compare = pd.merge(df_parents_time, df_answers_time, on='ParentID')"
   ]
  },
  {
   "cell_type": "code",
   "execution_count": 46,
   "metadata": {},
   "outputs": [
    {
     "data": {
      "text/html": [
       "<div>\n",
       "<style>\n",
       "    .dataframe thead tr:only-child th {\n",
       "        text-align: right;\n",
       "    }\n",
       "\n",
       "    .dataframe thead th {\n",
       "        text-align: left;\n",
       "    }\n",
       "\n",
       "    .dataframe tbody tr th {\n",
       "        vertical-align: top;\n",
       "    }\n",
       "</style>\n",
       "<table border=\"1\" class=\"dataframe\">\n",
       "  <thead>\n",
       "    <tr style=\"text-align: right;\">\n",
       "      <th></th>\n",
       "      <th>Cr_time_parents</th>\n",
       "      <th>ParentID</th>\n",
       "      <th>Cr_time</th>\n",
       "    </tr>\n",
       "  </thead>\n",
       "  <tbody>\n",
       "    <tr>\n",
       "      <th>0</th>\n",
       "      <td>1519059948</td>\n",
       "      <td>48870881</td>\n",
       "      <td>1519060497</td>\n",
       "    </tr>\n",
       "    <tr>\n",
       "      <th>1</th>\n",
       "      <td>1519059948</td>\n",
       "      <td>48870881</td>\n",
       "      <td>1519061059</td>\n",
       "    </tr>\n",
       "    <tr>\n",
       "      <th>2</th>\n",
       "      <td>1519059949</td>\n",
       "      <td>48870882</td>\n",
       "      <td>1519060388</td>\n",
       "    </tr>\n",
       "    <tr>\n",
       "      <th>3</th>\n",
       "      <td>1519059949</td>\n",
       "      <td>48870882</td>\n",
       "      <td>1519060429</td>\n",
       "    </tr>\n",
       "    <tr>\n",
       "      <th>4</th>\n",
       "      <td>1519059952</td>\n",
       "      <td>48870886</td>\n",
       "      <td>1519060689</td>\n",
       "    </tr>\n",
       "  </tbody>\n",
       "</table>\n",
       "</div>"
      ],
      "text/plain": [
       "   Cr_time_parents  ParentID     Cr_time\n",
       "0       1519059948  48870881  1519060497\n",
       "1       1519059948  48870881  1519061059\n",
       "2       1519059949  48870882  1519060388\n",
       "3       1519059949  48870882  1519060429\n",
       "4       1519059952  48870886  1519060689"
      ]
     },
     "execution_count": 46,
     "metadata": {},
     "output_type": "execute_result"
    }
   ],
   "source": [
    "df_compare.head()"
   ]
  },
  {
   "cell_type": "code",
   "execution_count": 47,
   "metadata": {},
   "outputs": [],
   "source": [
    "df_compare['Duration'] = df_compare.Cr_time - df_compare.Cr_time_parents"
   ]
  },
  {
   "cell_type": "code",
   "execution_count": 48,
   "metadata": {},
   "outputs": [],
   "source": [
    "df_compare['Duration_mins'] = df_compare.Duration/60"
   ]
  },
  {
   "cell_type": "code",
   "execution_count": 49,
   "metadata": {
    "scrolled": false
   },
   "outputs": [],
   "source": [
    "df_compare['Duration_hours'] = df_compare.Duration_mins/60"
   ]
  },
  {
   "cell_type": "code",
   "execution_count": 50,
   "metadata": {},
   "outputs": [
    {
     "data": {
      "text/html": [
       "<div>\n",
       "<style>\n",
       "    .dataframe thead tr:only-child th {\n",
       "        text-align: right;\n",
       "    }\n",
       "\n",
       "    .dataframe thead th {\n",
       "        text-align: left;\n",
       "    }\n",
       "\n",
       "    .dataframe tbody tr th {\n",
       "        vertical-align: top;\n",
       "    }\n",
       "</style>\n",
       "<table border=\"1\" class=\"dataframe\">\n",
       "  <thead>\n",
       "    <tr style=\"text-align: right;\">\n",
       "      <th></th>\n",
       "      <th>Cr_time_parents</th>\n",
       "      <th>ParentID</th>\n",
       "      <th>Cr_time</th>\n",
       "      <th>Duration</th>\n",
       "      <th>Duration_mins</th>\n",
       "      <th>Duration_hours</th>\n",
       "    </tr>\n",
       "  </thead>\n",
       "  <tbody>\n",
       "    <tr>\n",
       "      <th>0</th>\n",
       "      <td>1519059948</td>\n",
       "      <td>48870881</td>\n",
       "      <td>1519060497</td>\n",
       "      <td>549</td>\n",
       "      <td>9.150000</td>\n",
       "      <td>0.152500</td>\n",
       "    </tr>\n",
       "    <tr>\n",
       "      <th>1</th>\n",
       "      <td>1519059948</td>\n",
       "      <td>48870881</td>\n",
       "      <td>1519061059</td>\n",
       "      <td>1111</td>\n",
       "      <td>18.516667</td>\n",
       "      <td>0.308611</td>\n",
       "    </tr>\n",
       "    <tr>\n",
       "      <th>2</th>\n",
       "      <td>1519059949</td>\n",
       "      <td>48870882</td>\n",
       "      <td>1519060388</td>\n",
       "      <td>439</td>\n",
       "      <td>7.316667</td>\n",
       "      <td>0.121944</td>\n",
       "    </tr>\n",
       "    <tr>\n",
       "      <th>3</th>\n",
       "      <td>1519059949</td>\n",
       "      <td>48870882</td>\n",
       "      <td>1519060429</td>\n",
       "      <td>480</td>\n",
       "      <td>8.000000</td>\n",
       "      <td>0.133333</td>\n",
       "    </tr>\n",
       "    <tr>\n",
       "      <th>4</th>\n",
       "      <td>1519059952</td>\n",
       "      <td>48870886</td>\n",
       "      <td>1519060689</td>\n",
       "      <td>737</td>\n",
       "      <td>12.283333</td>\n",
       "      <td>0.204722</td>\n",
       "    </tr>\n",
       "  </tbody>\n",
       "</table>\n",
       "</div>"
      ],
      "text/plain": [
       "   Cr_time_parents  ParentID     Cr_time  Duration  Duration_mins  \\\n",
       "0       1519059948  48870881  1519060497       549       9.150000   \n",
       "1       1519059948  48870881  1519061059      1111      18.516667   \n",
       "2       1519059949  48870882  1519060388       439       7.316667   \n",
       "3       1519059949  48870882  1519060429       480       8.000000   \n",
       "4       1519059952  48870886  1519060689       737      12.283333   \n",
       "\n",
       "   Duration_hours  \n",
       "0        0.152500  \n",
       "1        0.308611  \n",
       "2        0.121944  \n",
       "3        0.133333  \n",
       "4        0.204722  "
      ]
     },
     "execution_count": 50,
     "metadata": {},
     "output_type": "execute_result"
    }
   ],
   "source": [
    "df_compare.head()"
   ]
  },
  {
   "cell_type": "code",
   "execution_count": 90,
   "metadata": {},
   "outputs": [
    {
     "data": {
      "image/png": "[encoded data removed]",
      "text/plain": [
       "<matplotlib.figure.Figure at 0x1a30e1be10>"
      ]
     },
     "metadata": {},
     "output_type": "display_data"
    }
   ],
   "source": [
    "#Histogram\n",
    "df_compare.Duration_mins.plot(kind = 'hist', bins=5000, figsize=(8,6))\n",
    "plt.xlim(0,800)\n",
    "plt.xlabel('minutes')\n",
    "plt.title('Post answered in minutes')\n",
    "plt.grid()"
   ]
  },
  {
   "cell_type": "code",
   "execution_count": 67,
   "metadata": {},
   "outputs": [
    {
     "data": {
      "text/plain": [
       "count    121385.000000\n",
       "mean        609.633554\n",
       "std        1971.848971\n",
       "min           0.000000\n",
       "25%          11.166667\n",
       "50%          35.833333\n",
       "75%         216.283333\n",
       "max       55468.600000\n",
       "Name: Duration_mins, dtype: float64"
      ]
     },
     "execution_count": 67,
     "metadata": {},
     "output_type": "execute_result"
    }
   ],
   "source": [
    "df_compare.Duration_mins.describe()"
   ]
  },
  {
   "cell_type": "code",
   "execution_count": 68,
   "metadata": {},
   "outputs": [
    {
     "data": {
      "text/plain": [
       "count    121385.000000\n",
       "mean         10.160559\n",
       "std          32.864150\n",
       "min           0.000000\n",
       "25%           0.186111\n",
       "50%           0.597222\n",
       "75%           3.604722\n",
       "max         924.476667\n",
       "Name: Duration_hours, dtype: float64"
      ]
     },
     "execution_count": 68,
     "metadata": {},
     "output_type": "execute_result"
    }
   ],
   "source": [
    "df_compare.Duration_hours.describe()"
   ]
  },
  {
   "cell_type": "code",
   "execution_count": 69,
   "metadata": {},
   "outputs": [
    {
     "name": "stdout",
     "output_type": "stream",
     "text": [
      "121385 0\n"
     ]
    }
   ],
   "source": [
    "neg = 0\n",
    "pos = 0\n",
    "for i in df_compare.Duration_hours:\n",
    "    if i >= 0:\n",
    "        pos += 1\n",
    "    else:\n",
    "        neg += 1\n",
    "print(pos, neg)\n",
    "\n",
    "#15 negative duration, possibly an error from collecting data\n",
    "#ie. negative duration means answer being posted before the parents questions being posted (not possible)"
   ]
  },
  {
   "cell_type": "code",
   "execution_count": 70,
   "metadata": {},
   "outputs": [
    {
     "data": {
      "text/html": [
       "<div>\n",
       "<style>\n",
       "    .dataframe thead tr:only-child th {\n",
       "        text-align: right;\n",
       "    }\n",
       "\n",
       "    .dataframe thead th {\n",
       "        text-align: left;\n",
       "    }\n",
       "\n",
       "    .dataframe tbody tr th {\n",
       "        vertical-align: top;\n",
       "    }\n",
       "</style>\n",
       "<table border=\"1\" class=\"dataframe\">\n",
       "  <thead>\n",
       "    <tr style=\"text-align: right;\">\n",
       "      <th></th>\n",
       "      <th>Cr_time_parents</th>\n",
       "      <th>ParentID</th>\n",
       "      <th>Cr_time</th>\n",
       "      <th>Duration</th>\n",
       "      <th>Duration_mins</th>\n",
       "      <th>Duration_hours</th>\n",
       "    </tr>\n",
       "  </thead>\n",
       "  <tbody>\n",
       "    <tr>\n",
       "      <th>0</th>\n",
       "      <td>1519059948</td>\n",
       "      <td>48870881</td>\n",
       "      <td>1519060497</td>\n",
       "      <td>549</td>\n",
       "      <td>9.150000</td>\n",
       "      <td>0.152500</td>\n",
       "    </tr>\n",
       "    <tr>\n",
       "      <th>1</th>\n",
       "      <td>1519059948</td>\n",
       "      <td>48870881</td>\n",
       "      <td>1519061059</td>\n",
       "      <td>1111</td>\n",
       "      <td>18.516667</td>\n",
       "      <td>0.308611</td>\n",
       "    </tr>\n",
       "    <tr>\n",
       "      <th>2</th>\n",
       "      <td>1519059949</td>\n",
       "      <td>48870882</td>\n",
       "      <td>1519060388</td>\n",
       "      <td>439</td>\n",
       "      <td>7.316667</td>\n",
       "      <td>0.121944</td>\n",
       "    </tr>\n",
       "    <tr>\n",
       "      <th>3</th>\n",
       "      <td>1519059949</td>\n",
       "      <td>48870882</td>\n",
       "      <td>1519060429</td>\n",
       "      <td>480</td>\n",
       "      <td>8.000000</td>\n",
       "      <td>0.133333</td>\n",
       "    </tr>\n",
       "    <tr>\n",
       "      <th>4</th>\n",
       "      <td>1519059952</td>\n",
       "      <td>48870886</td>\n",
       "      <td>1519060689</td>\n",
       "      <td>737</td>\n",
       "      <td>12.283333</td>\n",
       "      <td>0.204722</td>\n",
       "    </tr>\n",
       "  </tbody>\n",
       "</table>\n",
       "</div>"
      ],
      "text/plain": [
       "   Cr_time_parents  ParentID     Cr_time  Duration  Duration_mins  \\\n",
       "0       1519059948  48870881  1519060497       549       9.150000   \n",
       "1       1519059948  48870881  1519061059      1111      18.516667   \n",
       "2       1519059949  48870882  1519060388       439       7.316667   \n",
       "3       1519059949  48870882  1519060429       480       8.000000   \n",
       "4       1519059952  48870886  1519060689       737      12.283333   \n",
       "\n",
       "   Duration_hours  \n",
       "0        0.152500  \n",
       "1        0.308611  \n",
       "2        0.121944  \n",
       "3        0.133333  \n",
       "4        0.204722  "
      ]
     },
     "execution_count": 70,
     "metadata": {},
     "output_type": "execute_result"
    }
   ],
   "source": [
    "df_compare.head()"
   ]
  },
  {
   "cell_type": "markdown",
   "metadata": {},
   "source": [
    "## Calculate Frequency and Probability of mins and hours"
   ]
  },
  {
   "cell_type": "code",
   "execution_count": 71,
   "metadata": {},
   "outputs": [],
   "source": [
    "Duration_mins_rounded = df_compare.Duration_mins.round()"
   ]
  },
  {
   "cell_type": "code",
   "execution_count": 72,
   "metadata": {},
   "outputs": [],
   "source": [
    "fre_mins = pd.DataFrame(Duration_mins_rounded.value_counts(), index=None)\n",
    "fre_mins['mins'] = fre_mins.index\n",
    "fre_mins = fre_mins.rename(columns={'Duration_mins':'Frequency','mins':'mins'})\n",
    "fre_mins.reset_index(inplace=True, drop=True)\n",
    "#drop negative mins\n",
    "fre_mins.drop(fre_mins[fre_mins.mins < 0].index, inplace=True)\n",
    "fre_mins = fre_mins.sort_values('mins')"
   ]
  },
  {
   "cell_type": "code",
   "execution_count": 73,
   "metadata": {},
   "outputs": [
    {
     "data": {
      "text/html": [
       "<div>\n",
       "<style>\n",
       "    .dataframe thead tr:only-child th {\n",
       "        text-align: right;\n",
       "    }\n",
       "\n",
       "    .dataframe thead th {\n",
       "        text-align: left;\n",
       "    }\n",
       "\n",
       "    .dataframe tbody tr th {\n",
       "        vertical-align: top;\n",
       "    }\n",
       "</style>\n",
       "<table border=\"1\" class=\"dataframe\">\n",
       "  <thead>\n",
       "    <tr style=\"text-align: right;\">\n",
       "      <th></th>\n",
       "      <th>Frequency</th>\n",
       "      <th>mins</th>\n",
       "    </tr>\n",
       "  </thead>\n",
       "  <tbody>\n",
       "    <tr>\n",
       "      <th>56</th>\n",
       "      <td>337</td>\n",
       "      <td>0.0</td>\n",
       "    </tr>\n",
       "    <tr>\n",
       "      <th>46</th>\n",
       "      <td>455</td>\n",
       "      <td>1.0</td>\n",
       "    </tr>\n",
       "    <tr>\n",
       "      <th>11</th>\n",
       "      <td>2027</td>\n",
       "      <td>2.0</td>\n",
       "    </tr>\n",
       "    <tr>\n",
       "      <th>5</th>\n",
       "      <td>3025</td>\n",
       "      <td>3.0</td>\n",
       "    </tr>\n",
       "    <tr>\n",
       "      <th>1</th>\n",
       "      <td>3583</td>\n",
       "      <td>4.0</td>\n",
       "    </tr>\n",
       "  </tbody>\n",
       "</table>\n",
       "</div>"
      ],
      "text/plain": [
       "    Frequency  mins\n",
       "56        337   0.0\n",
       "46        455   1.0\n",
       "11       2027   2.0\n",
       "5        3025   3.0\n",
       "1        3583   4.0"
      ]
     },
     "execution_count": 73,
     "metadata": {},
     "output_type": "execute_result"
    }
   ],
   "source": [
    "fre_mins.head()"
   ]
  },
  {
   "cell_type": "code",
   "execution_count": 74,
   "metadata": {
    "scrolled": true
   },
   "outputs": [],
   "source": [
    "fre_mins['Probabiity'] = fre_mins.Frequency/sum(fre_mins.Frequency)"
   ]
  },
  {
   "cell_type": "code",
   "execution_count": 75,
   "metadata": {},
   "outputs": [
    {
     "data": {
      "text/html": [
       "<div>\n",
       "<style>\n",
       "    .dataframe thead tr:only-child th {\n",
       "        text-align: right;\n",
       "    }\n",
       "\n",
       "    .dataframe thead th {\n",
       "        text-align: left;\n",
       "    }\n",
       "\n",
       "    .dataframe tbody tr th {\n",
       "        vertical-align: top;\n",
       "    }\n",
       "</style>\n",
       "<table border=\"1\" class=\"dataframe\">\n",
       "  <thead>\n",
       "    <tr style=\"text-align: right;\">\n",
       "      <th></th>\n",
       "      <th>Frequency</th>\n",
       "      <th>mins</th>\n",
       "      <th>Probabiity</th>\n",
       "    </tr>\n",
       "  </thead>\n",
       "  <tbody>\n",
       "    <tr>\n",
       "      <th>56</th>\n",
       "      <td>337</td>\n",
       "      <td>0.0</td>\n",
       "      <td>0.002776</td>\n",
       "    </tr>\n",
       "    <tr>\n",
       "      <th>46</th>\n",
       "      <td>455</td>\n",
       "      <td>1.0</td>\n",
       "      <td>0.003748</td>\n",
       "    </tr>\n",
       "    <tr>\n",
       "      <th>11</th>\n",
       "      <td>2027</td>\n",
       "      <td>2.0</td>\n",
       "      <td>0.016699</td>\n",
       "    </tr>\n",
       "    <tr>\n",
       "      <th>5</th>\n",
       "      <td>3025</td>\n",
       "      <td>3.0</td>\n",
       "      <td>0.024921</td>\n",
       "    </tr>\n",
       "    <tr>\n",
       "      <th>1</th>\n",
       "      <td>3583</td>\n",
       "      <td>4.0</td>\n",
       "      <td>0.029518</td>\n",
       "    </tr>\n",
       "  </tbody>\n",
       "</table>\n",
       "</div>"
      ],
      "text/plain": [
       "    Frequency  mins  Probabiity\n",
       "56        337   0.0    0.002776\n",
       "46        455   1.0    0.003748\n",
       "11       2027   2.0    0.016699\n",
       "5        3025   3.0    0.024921\n",
       "1        3583   4.0    0.029518"
      ]
     },
     "execution_count": 75,
     "metadata": {},
     "output_type": "execute_result"
    }
   ],
   "source": [
    "fre_mins.head()"
   ]
  },
  {
   "cell_type": "code",
   "execution_count": 76,
   "metadata": {},
   "outputs": [
    {
     "data": {
      "text/plain": [
       "count    7470.000000\n",
       "mean        0.000134\n",
       "std         0.001140\n",
       "min         0.000008\n",
       "25%         0.000008\n",
       "50%         0.000016\n",
       "75%         0.000033\n",
       "max         0.029600\n",
       "Name: Probabiity, dtype: float64"
      ]
     },
     "execution_count": 76,
     "metadata": {},
     "output_type": "execute_result"
    }
   ],
   "source": [
    "fre_mins.Probabiity.describe()"
   ]
  },
  {
   "cell_type": "markdown",
   "metadata": {},
   "source": [
    "## Plot (Probability)"
   ]
  },
  {
   "cell_type": "code",
   "execution_count": 77,
   "metadata": {},
   "outputs": [
    {
     "data": {
      "text/plain": [
       "Text(0.5,1,'Probability of Answered in terms of Minutes')"
      ]
     },
     "execution_count": 77,
     "metadata": {},
     "output_type": "execute_result"
    },
    {
     "data": {
      "image/png": "[encoded data removed]",
      "text/plain": [
       "<matplotlib.figure.Figure at 0x1a34263828>"
      ]
     },
     "metadata": {},
     "output_type": "display_data"
    }
   ],
   "source": [
    "fig=plt.figure(figsize=(8,6))\n",
    "plt.plot(fre_mins.mins, fre_mins.Probabiity)\n",
    "plt.xlim(0,100)\n",
    "plt.grid()\n",
    "plt.title('Probability of Answered in terms of Minutes')"
   ]
  },
  {
   "cell_type": "markdown",
   "metadata": {
    "collapsed": true
   },
   "source": [
    "## Cumulative Probability "
   ]
  },
  {
   "cell_type": "code",
   "execution_count": 78,
   "metadata": {},
   "outputs": [
    {
     "data": {
      "text/html": [
       "<div>\n",
       "<style>\n",
       "    .dataframe thead tr:only-child th {\n",
       "        text-align: right;\n",
       "    }\n",
       "\n",
       "    .dataframe thead th {\n",
       "        text-align: left;\n",
       "    }\n",
       "\n",
       "    .dataframe tbody tr th {\n",
       "        vertical-align: top;\n",
       "    }\n",
       "</style>\n",
       "<table border=\"1\" class=\"dataframe\">\n",
       "  <thead>\n",
       "    <tr style=\"text-align: right;\">\n",
       "      <th></th>\n",
       "      <th>Frequency</th>\n",
       "      <th>mins</th>\n",
       "      <th>Probabiity</th>\n",
       "    </tr>\n",
       "  </thead>\n",
       "  <tbody>\n",
       "    <tr>\n",
       "      <th>56</th>\n",
       "      <td>337</td>\n",
       "      <td>0.0</td>\n",
       "      <td>0.002776</td>\n",
       "    </tr>\n",
       "    <tr>\n",
       "      <th>46</th>\n",
       "      <td>455</td>\n",
       "      <td>1.0</td>\n",
       "      <td>0.003748</td>\n",
       "    </tr>\n",
       "    <tr>\n",
       "      <th>11</th>\n",
       "      <td>2027</td>\n",
       "      <td>2.0</td>\n",
       "      <td>0.016699</td>\n",
       "    </tr>\n",
       "    <tr>\n",
       "      <th>5</th>\n",
       "      <td>3025</td>\n",
       "      <td>3.0</td>\n",
       "      <td>0.024921</td>\n",
       "    </tr>\n",
       "    <tr>\n",
       "      <th>1</th>\n",
       "      <td>3583</td>\n",
       "      <td>4.0</td>\n",
       "      <td>0.029518</td>\n",
       "    </tr>\n",
       "  </tbody>\n",
       "</table>\n",
       "</div>"
      ],
      "text/plain": [
       "    Frequency  mins  Probabiity\n",
       "56        337   0.0    0.002776\n",
       "46        455   1.0    0.003748\n",
       "11       2027   2.0    0.016699\n",
       "5        3025   3.0    0.024921\n",
       "1        3583   4.0    0.029518"
      ]
     },
     "execution_count": 78,
     "metadata": {},
     "output_type": "execute_result"
    }
   ],
   "source": [
    "fre_mins.head()"
   ]
  },
  {
   "cell_type": "code",
   "execution_count": 79,
   "metadata": {},
   "outputs": [],
   "source": [
    "fre_mins['cum_pro'] = np.cumsum(list(fre_mins.Probabiity))"
   ]
  },
  {
   "cell_type": "code",
   "execution_count": 80,
   "metadata": {},
   "outputs": [
    {
     "data": {
      "text/html": [
       "<div>\n",
       "<style>\n",
       "    .dataframe thead tr:only-child th {\n",
       "        text-align: right;\n",
       "    }\n",
       "\n",
       "    .dataframe thead th {\n",
       "        text-align: left;\n",
       "    }\n",
       "\n",
       "    .dataframe tbody tr th {\n",
       "        vertical-align: top;\n",
       "    }\n",
       "</style>\n",
       "<table border=\"1\" class=\"dataframe\">\n",
       "  <thead>\n",
       "    <tr style=\"text-align: right;\">\n",
       "      <th></th>\n",
       "      <th>Frequency</th>\n",
       "      <th>mins</th>\n",
       "      <th>Probabiity</th>\n",
       "      <th>cum_pro</th>\n",
       "    </tr>\n",
       "  </thead>\n",
       "  <tbody>\n",
       "    <tr>\n",
       "      <th>56</th>\n",
       "      <td>337</td>\n",
       "      <td>0.0</td>\n",
       "      <td>0.002776</td>\n",
       "      <td>0.002776</td>\n",
       "    </tr>\n",
       "    <tr>\n",
       "      <th>46</th>\n",
       "      <td>455</td>\n",
       "      <td>1.0</td>\n",
       "      <td>0.003748</td>\n",
       "      <td>0.006525</td>\n",
       "    </tr>\n",
       "    <tr>\n",
       "      <th>11</th>\n",
       "      <td>2027</td>\n",
       "      <td>2.0</td>\n",
       "      <td>0.016699</td>\n",
       "      <td>0.023224</td>\n",
       "    </tr>\n",
       "    <tr>\n",
       "      <th>5</th>\n",
       "      <td>3025</td>\n",
       "      <td>3.0</td>\n",
       "      <td>0.024921</td>\n",
       "      <td>0.048144</td>\n",
       "    </tr>\n",
       "    <tr>\n",
       "      <th>1</th>\n",
       "      <td>3583</td>\n",
       "      <td>4.0</td>\n",
       "      <td>0.029518</td>\n",
       "      <td>0.077662</td>\n",
       "    </tr>\n",
       "  </tbody>\n",
       "</table>\n",
       "</div>"
      ],
      "text/plain": [
       "    Frequency  mins  Probabiity   cum_pro\n",
       "56        337   0.0    0.002776  0.002776\n",
       "46        455   1.0    0.003748  0.006525\n",
       "11       2027   2.0    0.016699  0.023224\n",
       "5        3025   3.0    0.024921  0.048144\n",
       "1        3583   4.0    0.029518  0.077662"
      ]
     },
     "execution_count": 80,
     "metadata": {},
     "output_type": "execute_result"
    }
   ],
   "source": [
    "fre_mins.head()"
   ]
  },
  {
   "cell_type": "code",
   "execution_count": 81,
   "metadata": {},
   "outputs": [
    {
     "data": {
      "text/plain": [
       "Text(0.5,0,'cumulative probability')"
      ]
     },
     "execution_count": 81,
     "metadata": {},
     "output_type": "execute_result"
    },
    {
     "data": {
      "image/png": "[encoded data removed]",
      "text/plain": [
       "<matplotlib.figure.Figure at 0x1a2a1214e0>"
      ]
     },
     "metadata": {},
     "output_type": "display_data"
    }
   ],
   "source": [
    "fig=plt.figure(figsize=(8,6))\n",
    "plt.plot(fre_mins.mins, fre_mins.cum_pro, color='red')\n",
    "plt.xlim(0,200)\n",
    "plt.grid()\n",
    "plt.title('cumulative probability')\n",
    "plt.xlabel('cumulative probability')"
   ]
  },
  {
   "cell_type": "markdown",
   "metadata": {},
   "source": [
    "## Summary of Probability Plots"
   ]
  },
  {
   "cell_type": "code",
   "execution_count": 91,
   "metadata": {},
   "outputs": [
    {
     "data": {
      "text/plain": [
       "Text(0.5,1,'cumulative probability')"
      ]
     },
     "execution_count": 91,
     "metadata": {},
     "output_type": "execute_result"
    },
    {
     "data": {
      "image/png": "[encoded data removed]",
      "text/plain": [
       "<matplotlib.figure.Figure at 0x1c426e1c18>"
      ]
     },
     "metadata": {},
     "output_type": "display_data"
    }
   ],
   "source": [
    "fig=plt.figure(figsize=(16,14))\n",
    "plt.subplot(221)\n",
    "plt.plot(fre_mins.mins, fre_mins.Probabiity)\n",
    "plt.xlim(0,200)\n",
    "plt.grid()\n",
    "plt.title('probability')\n",
    "plt.subplot(222)\n",
    "plt.plot(fre_mins.mins, fre_mins.cum_pro, color='red')\n",
    "plt.xlim(0,1000)\n",
    "plt.grid()\n",
    "plt.title('cumulative probability')"
   ]
  },
  {
   "cell_type": "markdown",
   "metadata": {},
   "source": [
    "# Similarity"
   ]
  },
  {
   "cell_type": "markdown",
   "metadata": {},
   "source": [
    "## Load Data"
   ]
  },
  {
   "cell_type": "code",
   "execution_count": 92,
   "metadata": {},
   "outputs": [],
   "source": [
    "import json\n",
    "with open('../../../160-Stackoverflow-Data/300000_rows/graph_dump_load.json',\\\n",
    "          'r') as json_file:\n",
    "    data = json.load(json_file)"
   ]
  },
  {
   "cell_type": "markdown",
   "metadata": {},
   "source": [
    "## Extract Content - Answers"
   ]
  },
  {
   "cell_type": "code",
   "execution_count": 93,
   "metadata": {},
   "outputs": [],
   "source": [
    "#user id (asks list)\n",
    "user_id_asks = [i for i in data if 'asks' in data[i].keys()]"
   ]
  },
  {
   "cell_type": "code",
   "execution_count": 94,
   "metadata": {},
   "outputs": [],
   "source": [
    "#post id (asks list)\n",
    "posts_id_asks = [data[i].get('asks') for i in data if 'asks' in data[i].keys()]"
   ]
  },
  {
   "cell_type": "code",
   "execution_count": 95,
   "metadata": {},
   "outputs": [],
   "source": [
    "#user id (answers list)\n",
    "user_id_answers = [i for i in data if 'answers' in data[i].keys()]"
   ]
  },
  {
   "cell_type": "code",
   "execution_count": 96,
   "metadata": {},
   "outputs": [],
   "source": [
    "#post id (answers list)\n",
    "posts_id_answers = [data[i].get('answers') for i in data if 'answers' in data[i].keys()]"
   ]
  },
  {
   "cell_type": "markdown",
   "metadata": {},
   "source": [
    "## Extract Body"
   ]
  },
  {
   "cell_type": "code",
   "execution_count": 97,
   "metadata": {},
   "outputs": [],
   "source": [
    "def get_body(x):\n",
    "    return(list(Posts[Posts.Id == x].Body))"
   ]
  },
  {
   "cell_type": "code",
   "execution_count": 98,
   "metadata": {
    "scrolled": false
   },
   "outputs": [],
   "source": [
    "#asks text body\n",
    "asks_body = [[get_body(posts_id_asks[j][i]) for i in range(len(posts_id_asks[j]))] for j in range(len(posts_id_asks))]"
   ]
  },
  {
   "cell_type": "code",
   "execution_count": 99,
   "metadata": {},
   "outputs": [],
   "source": [
    "#answers text body\n",
    "answers_body = [[get_body(posts_id_answers[j][i]) for i in range(len(posts_id_answers[j]))] for j in range(len(posts_id_answers))]"
   ]
  },
  {
   "cell_type": "markdown",
   "metadata": {},
   "source": [
    "## NLP"
   ]
  },
  {
   "cell_type": "code",
   "execution_count": null,
   "metadata": {},
   "outputs": [],
   "source": [
    "def flatten(word):\n",
    "    \"\"\"\n",
    "    param word: str in a list of list\n",
    "    return: str\n",
    "    \"\"\"\n",
    "    word = list(itertools.chain.from_iterable(word))\n",
    "    word = ' '.join(word)\n",
    "    return(word)"
   ]
  },
  {
   "cell_type": "code",
   "execution_count": 88,
   "metadata": {},
   "outputs": [],
   "source": [
    "import itertools\n",
    "import re\n",
    "import tokenize\n",
    "from nltk.corpus import stopwords\n",
    "from nltk.tokenize import TweetTokenizer\n",
    "from nltk import word_tokenize\n",
    "\n",
    "# characters to replace by space (for html)\n",
    "BRACKETS_RE = re.compile('[/(){}\\[\\]\\|@,;]:') \n",
    "# insignificant words\n",
    "\n",
    "STOPWORDS = stopwords.words('english')\n",
    "STOPWORDS.extend(['<p>','</p>','\\r','</code></pre>','p','<','>','``',\"''\"])\n",
    "def clean_and_tokenize_body(text):\n",
    "    \"\"\"\n",
    "    @param text: str - raw string\n",
    "    return: str - filtered, and tokenized string\n",
    "    \"\"\"\n",
    "    text = re.sub(BRACKETS_RE, ' ', text.lower())\n",
    "    return ' '.join([w for w in word_tokenize(text) if not w in STOPWORDS])"
   ]
  },
  {
   "cell_type": "markdown",
   "metadata": {},
   "source": [
    "## Calculating Similarity "
   ]
  },
  {
   "cell_type": "markdown",
   "metadata": {},
   "source": [
    "Dan takes over this parts, potential matrix run time being too long."
   ]
  },
  {
   "cell_type": "markdown",
   "metadata": {},
   "source": [
    "# Topical Strength"
   ]
  },
  {
   "cell_type": "markdown",
   "metadata": {},
   "source": [
    "## Functions"
   ]
  },
  {
   "cell_type": "code",
   "execution_count": 89,
   "metadata": {},
   "outputs": [],
   "source": [
    "TagSyn = pd.read_csv(\"../../../160-Stackoverflow-Data/tags/TagSynonyms.csv\")\n",
    "tagcols = pd.DataFrame(TagSyn.SourceTagName.values,TagSyn.TargetTagName,columns=['values'])"
   ]
  },
  {
   "cell_type": "code",
   "execution_count": 90,
   "metadata": {
    "scrolled": false
   },
   "outputs": [],
   "source": [
    "#Borrow Seungmi Functions\n",
    "def answers_user(user_id):\n",
    "    \"\"\"tags of 'question' posts that the user posted 'answers' to, \n",
    "    and count the number of the user's answers for each tag\n",
    "    \n",
    "    @param user_id: int \n",
    "    return: series \n",
    "    \"\"\"\n",
    "    filtered = []\n",
    "    pattern = '[<>]'\n",
    "    regex = re.compile(pattern, flags = re.IGNORECASE)\n",
    "    answers_id = list(Posts.loc[(Posts.OwnerUserId == user_id) &  (Posts.PostTypeId == 2)]['ParentID'])\n",
    "\n",
    "    for i in range(len(answers_id)):\n",
    "        tags = Posts.loc[(Posts.Id == answers_id[i])]['Tags'] #extracting tags from its parent post\n",
    "        \n",
    "        try:\n",
    "            tags1 = list(filter(None,regex.split(tags.iloc[0]))) \n",
    "            for i in range(len(tagcols)):\n",
    "                if tagcols['values'][i] in tags1:\n",
    "                    tags1[tags1.index(tagcols['values'][i])] = tagcols.index[i] #mapping tags to their simpliest reduction\n",
    "            filtered.extend(tags1)\n",
    "        except:\n",
    "            continue\n",
    "    freq_answers = pd.DataFrame({'Tag':filtered}).groupby('Tag').size()\n",
    "    return freq_answers"
   ]
  },
  {
   "cell_type": "code",
   "execution_count": 91,
   "metadata": {},
   "outputs": [],
   "source": [
    "#Borrow Seungmi Functions\n",
    "def accepted_ans(user_id):\n",
    "    \"\"\"tags of 'question' posts that the user's answer was accepted to('AcceptedAnswer'), \n",
    "    and count the number of the user's accepted answers for each tag\n",
    "    \n",
    "    @param user_id: int \n",
    "    return: series \n",
    "    \"\"\"\n",
    "    accepted_tags = []\n",
    "    pattern = '[<>]'\n",
    "\n",
    "    regex = re.compile(pattern, flags = re.IGNORECASE)\n",
    "    answers = Posts.loc[(Posts.OwnerUserId == user_id) &  (Posts.PostTypeId == 2)]\n",
    "\n",
    "    for i in range(len(answers)):\n",
    "        tags = Posts.loc[(Posts.AcceptedAnswerId == answers.Id.iloc[i])]['Tags']\n",
    "        try:\n",
    "            tags1 = list(filter(None,regex.split(tags.iloc[0]))) \n",
    "            for i in range(len(tagcols)):\n",
    "                if tagcols['values'][i] in tags1:\n",
    "                    #mapping tags to their simpliest reduction\n",
    "                    tags1[tags1.index(tagcols['values'][i])] = tagcols.index[i] \n",
    "            accepted_tags.extend(tags1)\n",
    "        except:\n",
    "            continue\n",
    "    freq_acanswers = pd.DataFrame({'Tag':accepted_tags}).groupby('Tag').size()\n",
    "    return freq_acanswers"
   ]
  },
  {
   "cell_type": "code",
   "execution_count": 92,
   "metadata": {},
   "outputs": [],
   "source": [
    "Comments = pd.read_csv('/Users/esmondchu/Dropbox/UC_Davis/STAT/STA160Spring18/160-Stackoverflow-Data/300000_rows/Comments.csv')"
   ]
  },
  {
   "cell_type": "code",
   "execution_count": 93,
   "metadata": {},
   "outputs": [],
   "source": [
    "#Borrow Seungmi Functions\n",
    "import re\n",
    "def comments_user(user_id):\n",
    "    \"\"\"tags of 'question' posts that the user posted 'comments' to, \n",
    "    and count the number of the user's comments for each tag\n",
    "    \n",
    "    @param user_id: int \n",
    "    return: series \n",
    "    \"\"\"\n",
    "    comments_tags = []\n",
    "    pattern = '[<>]'\n",
    "\n",
    "\n",
    "    regex = re.compile(pattern, flags = re.IGNORECASE)\n",
    "    comments = Comments.loc[(Comments.UserId == user_id)]['PostId']\n",
    "\n",
    "    for i in range(len(comments)):\n",
    "        tags = Posts.loc[(Posts.Id == comments.iloc[i])]['Tags']\n",
    "        try:\n",
    "            tags1 = list(filter(None,regex.split(tags.iloc[0]))) \n",
    "            for i in range(len(tagcols)):\n",
    "                if tagcols['values'][i] in tags1:\n",
    "                    tags1[tags1.index(tagcols['values'][i])] = tagcols.index[i] #mapping tags to their simpliest reduction\n",
    "            comments_tags.extend(tags1)\n",
    "        except:\n",
    "            continue\n",
    "    freq_comments = pd.DataFrame({'Tag':comments_tags}).groupby('Tag').size()\n",
    "    return freq_comments"
   ]
  },
  {
   "cell_type": "code",
   "execution_count": 94,
   "metadata": {},
   "outputs": [],
   "source": [
    "#Borrow Seungmi Functions\n",
    "def activities(user_id):\n",
    "    \"\"\"the number of activities such as answers, accepted answers and comments of the user for each tag\n",
    "    \n",
    "    @param user_id: int \n",
    "    return: dataframe\n",
    "    \"\"\"\n",
    "    answers = answers_user(user_id)\n",
    "    acc_answers = accepted_ans(user_id)\n",
    "    comments = comments_user(user_id)\n",
    "    user_table = pd.DataFrame({'Answers' : answers ,'Accepted Answers' : acc_answers , 'Comments': comments})\n",
    "    user_table = user_table.fillna(0)\n",
    "    if len(user_table) != 0 :\n",
    "        user_table['Total'] = user_table.apply(lambda row: (row['Answers'])+(row['Accepted Answers'])+(row['Comments']), axis=1)\n",
    "        \n",
    "    return user_table"
   ]
  },
  {
   "cell_type": "markdown",
   "metadata": {},
   "source": [
    "## Number of activities for a tags for a user vs max of this users"
   ]
  },
  {
   "cell_type": "code",
   "execution_count": 95,
   "metadata": {},
   "outputs": [],
   "source": [
    "#unique users list\n",
    "users_unique = list(Posts[Posts.PostTypeId == 2].OwnerUserId.unique())"
   ]
  },
  {
   "cell_type": "code",
   "execution_count": 96,
   "metadata": {},
   "outputs": [],
   "source": [
    "with open('../../../160-Stackoverflow-Data/tags/all_unique_tags.txt', 'r') as f:\n",
    "    tags_unique = f.readlines()"
   ]
  },
  {
   "cell_type": "code",
   "execution_count": null,
   "metadata": {
    "scrolled": false
   },
   "outputs": [],
   "source": [
    "#unique tags list\n",
    "tags_unique = [i.rstrip() for i in tags_unique]"
   ]
  },
  {
   "cell_type": "code",
   "execution_count": null,
   "metadata": {},
   "outputs": [],
   "source": [
    "#try not to attempt to run\n",
    "#outcome is a list with ~len(tags_unique)*len(users_unique)\n",
    "big_list = []\n",
    "for tags in tags_unique:\n",
    "    for users in users_unique:\n",
    "        if tags in activities(users).index:\n",
    "            spe_tags = {tags:{users:activities(users).loc[tags][3]}}\n",
    "            big_list.append(spe_tags)\n",
    "        else:\n",
    "            big_list = big_list\n",
    "max_users = max(big_list)\n",
    "users_tags_ratio = [i/max_users for i in big_list]"
   ]
  },
  {
   "cell_type": "code",
   "execution_count": null,
   "metadata": {},
   "outputs": [],
   "source": [
    "#subset version\n",
    "#still takes long time to run\n",
    "def topical_strength(tags):\n",
    "    \"\"\"\n",
    "    arguments:\n",
    "        tags (str): the target tags\n",
    "    returns:\n",
    "        list: a list with ratio of activities counts of each users/ max of the list for the input tag\n",
    "    \"\"\"\n",
    "    tags_users = []\n",
    "    for users in users_unique:\n",
    "        if tags in activities(users).index:\n",
    "            spe_tags = {tags:{users:activities(users).loc[tags][3]}}\n",
    "            tags_users.append(spe_tags)\n",
    "        else:\n",
    "            tags_users = tags_users\n",
    "    max_users = max(tags_users)\n",
    "    users_tags_ratio = [i/max_users for i in tags_users]\n",
    "    return(users_tags_ratio)"
   ]
  },
  {
   "cell_type": "markdown",
   "metadata": {},
   "source": [
    "# Sandbox"
   ]
  },
  {
   "cell_type": "code",
   "execution_count": null,
   "metadata": {},
   "outputs": [],
   "source": [
    "TagSyn_sub = pd.DataFrame({'Source':TagSyn.SourceTagName,'Target':TagSyn.TargetTagName})"
   ]
  },
  {
   "cell_type": "code",
   "execution_count": null,
   "metadata": {},
   "outputs": [],
   "source": [
    "#transformation to target tags\n",
    "def tags_syn(input_set):\n",
    "    \"\"\"change tags to target tag\n",
    "    \n",
    "    argument:\n",
    "        input_set - list, the list of input tags\n",
    "    returns:\n",
    "        list - the list with transformed target tags\n",
    "    \"\"\"\n",
    "    for i in range(len(TagSyn_sub)):\n",
    "        if TagSyn_sub.Source[i] in input_set:\n",
    "            input_set[input_set.index(TagSyn_sub.Source[i])] = TagSyn_sub.Target[i]\n",
    "    return(input_set)"
   ]
  }
 ],
 "metadata": {
  "kernelspec": {
   "display_name": "Python 3",
   "language": "python",
   "name": "python3"
  },
  "language_info": {
   "codemirror_mode": {
    "name": "ipython",
    "version": 3
   },
   "file_extension": ".py",
   "mimetype": "text/x-python",
   "name": "python",
   "nbconvert_exporter": "python",
   "pygments_lexer": "ipython3",
   "version": "3.6.4"
  },
  "toc": {
   "base_numbering": 1,
   "nav_menu": {},
   "number_sections": true,
   "sideBar": true,
   "skip_h1_title": false,
   "title_cell": "Table of Contents",
   "title_sidebar": "Contents",
   "toc_cell": false,
   "toc_position": {
    "height": "calc(100% - 180px)",
    "left": "10px",
    "top": "150px",
    "width": "202px"
   },
   "toc_section_display": true,
   "toc_window_display": true
  }
 },
 "nbformat": 4,
 "nbformat_minor": 2
}
