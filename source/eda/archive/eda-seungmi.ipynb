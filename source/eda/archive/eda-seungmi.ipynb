{
 "cells": [
  {
   "cell_type": "markdown",
   "metadata": {},
   "source": [
    "# User Availability"
   ]
  },
  {
   "cell_type": "code",
   "execution_count": 5,
   "metadata": {},
   "outputs": [],
   "source": [
    "import pandas as pd\n",
    "\n",
    "# load data\n",
    "Comments = pd.read_csv('../../160-Stackoverflow-Data/100000_rows_[168_MB]/Comments.csv')\n",
    "Posts = pd.read_csv('../../160-Stackoverflow-Data/100000_rows_[168_MB]/Posts.csv')\n",
    "\n",
    "# data preprocessing\n",
    "Comments['CreationDate'] = pd.to_datetime(Comments['CreationDate'], format=\"%Y-%m-%dT%H:%M:%S\")\n",
    "Posts['CreationDate'] = pd.to_datetime(Posts['CreationDate'], format=\"%Y-%m-%dT%H:%M:%S\")\n",
    "\n",
    "\n",
    "def user_avail(user_id):\n",
    "    \"\"\"\n",
    "    :param user_id: int - userId\n",
    "    :return: pd.Series - frequency of user activities\n",
    "    \"\"\"\n",
    "    user_questions_answers = Posts.loc[(Posts.OwnerUserId == user_id) & \n",
    "                                       ((Posts.PostTypeId == 1) | (Posts.PostTypeId == 2)), \n",
    "                                       ['CreationDate']]\n",
    "    user_comments = Comments.loc[Comments.UserId == user_id, ['CreationDate']]\n",
    "    user_activities = user_questions_answers.append(user_comments)\n",
    "    return user_activities['CreationDate'].dt.hour.value_counts()"
   ]
  },
  {
   "cell_type": "code",
   "execution_count": 6,
   "metadata": {},
   "outputs": [
    {
     "data": {
      "text/plain": [
       "[Text(0,0.5,'Frequency'),\n",
       " Text(0.5,0,'Hour of the Day'),\n",
       " Text(0.5,1,'Active Hours for User 23')]"
      ]
     },
     "execution_count": 6,
     "metadata": {},
     "output_type": "execute_result"
    },
    {
     "data": {
      "image/png": "[encoded data removed]",
      "text/plain": [
       "<matplotlib.figure.Figure at 0x23282fd9f60>"
      ]
     },
     "metadata": {},
     "output_type": "display_data"
    }
   ],
   "source": [
    "## example\n",
    "user23_avail = user_avail(3434)\n",
    "ax = user23_avail.sort_index().plot.bar()\n",
    "ax.set_xticklabels(labels=user23_avail.sort_index().index, rotation=0, fontsize=10)\n",
    "ax.set(xlabel='Hour of the Day', ylabel='Frequency', \n",
    "        title='Active Hours for User 23')"
   ]
  }
 ],
 "metadata": {
  "kernelspec": {
   "display_name": "Python 3",
   "language": "python",
   "name": "python3"
  },
  "language_info": {
   "codemirror_mode": {
    "name": "ipython",
    "version": 3
   },
   "file_extension": ".py",
   "mimetype": "text/x-python",
   "name": "python",
   "nbconvert_exporter": "python",
   "pygments_lexer": "ipython3",
   "version": "3.6.4"
  },
  "toc": {
   "base_numbering": 1,
   "nav_menu": {},
   "number_sections": true,
   "sideBar": true,
   "skip_h1_title": false,
   "title_cell": "Table of Contents",
   "title_sidebar": "Contents",
   "toc_cell": false,
   "toc_position": {},
   "toc_section_display": true,
   "toc_window_display": true
  }
 },
 "nbformat": 4,
 "nbformat_minor": 2
}
