{
 "cells": [
  {
   "cell_type": "markdown",
   "metadata": {},
   "source": [
    "# User Availability"
   ]
  },
  {
   "cell_type": "code",
   "execution_count": 1,
   "metadata": {},
   "outputs": [],
   "source": [
    "import pandas as pd\n",
    "\n",
    "# load data\n",
    "Questions2012 = pd.read_csv('../../160-Stackoverflow-Data/train_test/X_train.csv' ,\\\n",
    "                    dtype = {'LastEditorDisplayName': str, 'Tags': str})\n",
    "Answers2012 = pd.read_csv('../../160-Stackoverflow-Data/train_test/Answers.csv' ,\\\n",
    "                    dtype = {'LastEditorDisplayName': str, 'Tags': str})\n",
    "Users = pd.read_csv('../../160-Stackoverflow-Data/train_test/User.csv')\n",
    "\n",
    "# data preprocessing\n",
    "Questions2012['CreationDate'] = pd.to_datetime(Questions2012['CreationDate'], format=\"%Y-%m-%dT%H:%M:%S\")\n",
    "Answers2012['CreationDate'] = pd.to_datetime(Answers2012['CreationDate'], format=\"%Y-%m-%dT%H:%M:%S\")\n",
    "Users['CreationDate'] = pd.to_datetime(Users['CreationDate'], format=\"%Y-%m-%dT%H:%M:%S\")\n",
    "\n",
    "\n",
    "def user_avail(user_id):\n",
    "    \"\"\"\n",
    "    :param user_id: int - userId\n",
    "    :return: pd.Series - frequency of user activities\n",
    "    \"\"\"\n",
    "    user_questions = Questions2012.loc[(Questions2012.OwnerUserId == user_id),['CreationDate']]\n",
    "    user_answers = Answers2012.loc[Answers2012.OwnerUserId == user_id, ['CreationDate']]\n",
    "    user_activities = user_questions.append(user_answers)\n",
    "    return user_activities['CreationDate'].dt.hour.value_counts()"
   ]
  },
  {
   "cell_type": "code",
   "execution_count": 6,
   "metadata": {},
   "outputs": [
    {
     "data": {
      "text/plain": [
       "[Text(0,0.5,'Frequency'),\n",
       " Text(0.5,0,'Hour of the Day'),\n",
       " Text(0.5,1,'Active Hours for User 23')]"
      ]
     },
     "execution_count": 6,
     "metadata": {},
     "output_type": "execute_result"
    },
    {
     "data": {
      "image/png": "[encoded data removed]",
      "text/plain": [
       "<matplotlib.figure.Figure at 0x144a2a2cbe0>"
      ]
     },
     "metadata": {},
     "output_type": "display_data"
    }
   ],
   "source": [
    "# example\n",
    "user23_avail = user_avail(3434)\n",
    "ax = user23_avail.sort_index().plot.bar()\n",
    "ax.set_xticklabels(labels=user23_avail.sort_index().index, rotation=0, fontsize=10)\n",
    "ax.set(xlabel='Hour of the Day', ylabel='Frequency', \n",
    "        title='Active Hours for User 23')"
   ]
  },
  {
   "cell_type": "code",
   "execution_count": null,
   "metadata": {},
   "outputs": [],
   "source": []
  }
 ],
 "metadata": {
  "kernelspec": {
   "display_name": "Python 3",
   "language": "python",
   "name": "python3"
  },
  "language_info": {
   "codemirror_mode": {
    "name": "ipython",
    "version": 3
   },
   "file_extension": ".py",
   "mimetype": "text/x-python",
   "name": "python",
   "nbconvert_exporter": "python",
   "pygments_lexer": "ipython3",
   "version": "3.6.4"
  },
  "toc": {
   "base_numbering": 1,
   "nav_menu": {},
   "number_sections": true,
   "sideBar": true,
   "skip_h1_title": false,
   "title_cell": "Table of Contents",
   "title_sidebar": "Contents",
   "toc_cell": false,
   "toc_position": {},
   "toc_section_display": true,
   "toc_window_display": false
  }
 },
 "nbformat": 4,
 "nbformat_minor": 2
}
