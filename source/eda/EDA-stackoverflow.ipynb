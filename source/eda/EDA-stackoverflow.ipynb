{
 "cells": [
  {
   "cell_type": "markdown",
   "metadata": {},
   "source": [
    "# EDA-Stackoverflow"
   ]
  },
  {
   "cell_type": "code",
   "execution_count": null,
   "metadata": {
    "collapsed": true
   },
   "outputs": [],
   "source": [
    "#data structures\n",
    "import pandas as pd\n",
    "import numpy as np\n",
    "from collections import defaultdict\n",
    "from collections import Counter\n",
    "import string\n",
    "import json\n",
    "\n",
    "# html\n",
    "import requests \n",
    "import requests_cache\n",
    "from bs4 import BeautifulSoup\n",
    "\n",
    "# visualization\n",
    "import matplotlib as mpl\n",
    "from pprint import pprint\n",
    "import matplotlib.pyplot as plt\n",
    "import seaborn as sns\n",
    "\n",
    "# statistics\n",
    "from sklearn.feature_extraction.text import TfidfVectorizer\n",
    "from scipy import stats\n",
    "import statistics\n",
    "\n",
    "# text processing\n",
    "import nltk\n",
    "from textblob import TextBlob\n",
    "from nltk import corpus\n",
    "from sklearn.feature_extraction.text import TfidfVectorizer\n",
    "from nltk.corpus import stopwords\n",
    "import re\n",
    "\n",
    "# other\n",
    "import time\n",
    "import pprint as pp\n",
    "import operator\n",
    "import progressbar\n",
    "import itertools\n",
    "from time import sleep\n",
    "import datetime\n",
    "import calendar\n",
    "from collections import Counter, defaultdict\n",
    "\n",
    "from pprint import pprint\n",
    "\n",
    "\n",
    "from math import isnan"
   ]
  },
  {
   "cell_type": "code",
   "execution_count": null,
   "metadata": {
    "collapsed": true
   },
   "outputs": [],
   "source": [
    "# setup\n",
    "requests_cache.install_cache('aggie_cache')\n",
    "plt.style.use('ggplot')"
   ]
  },
  {
   "cell_type": "code",
   "execution_count": null,
   "metadata": {
    "collapsed": false
   },
   "outputs": [],
   "source": [
    "#packages used by textblob\n",
    "nltk.download(\"punkt\")\n",
    "nltk.download(\"averaged_perceptron_tagger\")\n",
    "nltk.download(\"brown\")\n",
    "nltk.download(\"wordnet\")\n",
    "nltk.download(\"stopwords\")"
   ]
  },
  {
   "cell_type": "markdown",
   "metadata": {},
   "source": [
    "## Load Data"
   ]
  },
  {
   "cell_type": "code",
   "execution_count": null,
   "metadata": {
    "collapsed": true
   },
   "outputs": [],
   "source": [
    "Posts = pd.read_csv('../../160-Stackoverflow-Data/300000_rows/Posts.csv', \\\n",
    "                    dtype = {'LastEditorDisplayName': str, 'Tags': str})\n",
    "Comments = pd.read_csv('../../160-Stackoverflow-Data/300000_rows/Comments.csv')\n",
    "Votes = pd.read_csv('../../160-Stackoverflow-Data/300000_rows/Votes.csv')"
   ]
  },
  {
   "cell_type": "markdown",
   "metadata": {},
   "source": [
    "## Timely Collaboration and Values"
   ]
  },
  {
   "cell_type": "code",
   "execution_count": null,
   "metadata": {
    "collapsed": true
   },
   "outputs": [],
   "source": [
    "#date to timestamp\n",
    "def date_ts(s):\n",
    "    \"\"\" \n",
    "    param s: str - date\n",
    "    returns: int - timestamp\n",
    "    \"\"\"\n",
    "    date = datetime.datetime.strptime(s, \"%Y-%m-%dT%H:%M:%S\")\n",
    "    st = calendar.timegm(date.utctimetuple())\n",
    "    return(st)"
   ]
  },
  {
   "cell_type": "code",
   "execution_count": null,
   "metadata": {
    "collapsed": true
   },
   "outputs": [],
   "source": [
    "#Answer posts\n",
    "df_answers = Posts[Posts.PostTypeId == 2]"
   ]
  },
  {
   "cell_type": "code",
   "execution_count": null,
   "metadata": {
    "collapsed": true
   },
   "outputs": [],
   "source": [
    "df_answers = df_answers.reset_index(drop=True)"
   ]
  },
  {
   "cell_type": "code",
   "execution_count": null,
   "metadata": {
    "collapsed": false
   },
   "outputs": [],
   "source": [
    "df_answers.info()"
   ]
  },
  {
   "cell_type": "code",
   "execution_count": null,
   "metadata": {
    "collapsed": true
   },
   "outputs": [],
   "source": [
    "df_answers.CreationDate = df_answers.CreationDate.str[:-4]"
   ]
  },
  {
   "cell_type": "code",
   "execution_count": null,
   "metadata": {
    "collapsed": true
   },
   "outputs": [],
   "source": [
    "unix_ans = [date_ts(i) for i in df_answers.CreationDate]"
   ]
  },
  {
   "cell_type": "code",
   "execution_count": null,
   "metadata": {
    "collapsed": true
   },
   "outputs": [],
   "source": [
    "df_answers_time = pd.DataFrame({'ParentID':df_answers.ParentID, 'Cr_time':unix_ans})"
   ]
  },
  {
   "cell_type": "code",
   "execution_count": null,
   "metadata": {
    "collapsed": true
   },
   "outputs": [],
   "source": [
    "df_list = df_answers_time.groupby(df_answers_time.ParentID)"
   ]
  },
  {
   "cell_type": "code",
   "execution_count": null,
   "metadata": {
    "collapsed": true
   },
   "outputs": [],
   "source": [
    "uni_par_id = list(df_answers_time.ParentID.unique())"
   ]
  },
  {
   "cell_type": "code",
   "execution_count": null,
   "metadata": {
    "collapsed": true
   },
   "outputs": [],
   "source": [
    "ans_date = [list(df_list.get_group(i).Cr_time) for i in uni_par_id]"
   ]
  },
  {
   "cell_type": "code",
   "execution_count": null,
   "metadata": {
    "collapsed": false
   },
   "outputs": [],
   "source": [
    "yes = 0\n",
    "no = 0\n",
    "for i in ans_date:\n",
    "    if len(i) == 1:\n",
    "        yes += 1\n",
    "    else:\n",
    "        no += 1\n",
    "print(yes, no)\n",
    "\n",
    "#there are 2917 posts with only 1 answer, 15773 posts with more than 1 answers."
   ]
  },
  {
   "cell_type": "code",
   "execution_count": null,
   "metadata": {
    "collapsed": true
   },
   "outputs": [],
   "source": [
    "#set 1-answer post sd to 0\n",
    "for i in ans_date:\n",
    "    if len(i) == 1:\n",
    "        i.append(i[0])\n",
    "    else:\n",
    "        i == i"
   ]
  },
  {
   "cell_type": "code",
   "execution_count": null,
   "metadata": {
    "collapsed": true
   },
   "outputs": [],
   "source": [
    "#Get standard deviation for answers\n",
    "ans_time_sd = [statistics.stdev(i) for i in ans_date]"
   ]
  },
  {
   "cell_type": "code",
   "execution_count": null,
   "metadata": {
    "collapsed": true
   },
   "outputs": [],
   "source": [
    "post_Id = sorted(list(df_answers.ParentID.unique()))"
   ]
  },
  {
   "cell_type": "code",
   "execution_count": null,
   "metadata": {
    "collapsed": true
   },
   "outputs": [],
   "source": [
    "post_ans_sd = pd.DataFrame({'post_Id':post_Id, 'time_sd':ans_time_sd})"
   ]
  },
  {
   "cell_type": "code",
   "execution_count": null,
   "metadata": {
    "collapsed": true
   },
   "outputs": [],
   "source": [
    "#Parents posts\n",
    "Parents_post = Posts[Posts.PostTypeId == 1]"
   ]
  },
  {
   "cell_type": "code",
   "execution_count": null,
   "metadata": {
    "collapsed": true
   },
   "outputs": [],
   "source": [
    "Parents_post = Parents_post.reset_index(drop=True)"
   ]
  },
  {
   "cell_type": "code",
   "execution_count": null,
   "metadata": {
    "collapsed": false
   },
   "outputs": [],
   "source": [
    "Parents_post.info()"
   ]
  },
  {
   "cell_type": "code",
   "execution_count": null,
   "metadata": {
    "collapsed": true
   },
   "outputs": [],
   "source": [
    "df_parents = pd.DataFrame({'post_Id':Parents_post.Id, 'Views_count':Parents_post.ViewCount,\\\n",
    "                           'Score':Parents_post.Score, 'Comment_count':Parents_post.CommentCount})"
   ]
  },
  {
   "cell_type": "code",
   "execution_count": null,
   "metadata": {
    "collapsed": true
   },
   "outputs": [],
   "source": [
    "df_comb = df_parents.join(post_ans_sd.set_index('post_Id'), on='post_Id')"
   ]
  },
  {
   "cell_type": "code",
   "execution_count": null,
   "metadata": {
    "collapsed": true
   },
   "outputs": [],
   "source": [
    "df_comb = df_comb.dropna()\n",
    "df_comb = df_comb.reset_index(drop=True)"
   ]
  },
  {
   "cell_type": "code",
   "execution_count": null,
   "metadata": {
    "collapsed": false
   },
   "outputs": [],
   "source": [
    "f, (ax1, ax2) = plt.subplots(nrows=2, figsize=(8,10))\n",
    "plt.suptitle(\"Question Value vs Timely Collaboration\", size=20)\n",
    "sns.regplot(df_comb.time_sd, df_comb.Score, marker=\".\", ax=ax1)\n",
    "sns.regplot(df_comb.time_sd, df_comb.Views_count, marker=\".\", ax=ax2)"
   ]
  },
  {
   "cell_type": "markdown",
   "metadata": {},
   "source": [
    "## How many questions are left unanswered?"
   ]
  },
  {
   "cell_type": "code",
   "execution_count": null,
   "metadata": {
    "collapsed": false
   },
   "outputs": [],
   "source": [
    "n_questions = len(Posts.loc[Posts.PostTypeId == 1])\n",
    "n_unanswered = len(Posts.loc[(Posts.PostTypeId == 1) & (Posts.AcceptedAnswerId.isnull())])\n",
    "print(f'Approximately {n_unanswered/n_questions*100}% of questions remain with nonaccepted answers.')"
   ]
  },
  {
   "cell_type": "code",
   "execution_count": null,
   "metadata": {
    "collapsed": false
   },
   "outputs": [],
   "source": [
    "# in what context does only 28% of questions get answered?\n",
    "Posts.CreationDate = pd.to_datetime(Posts.CreationDate, format=\"%Y-%m-%dT%H:%M:%S\")\n",
    "Posts_sorted = Posts.sort_values(by=['CreationDate'])\n",
    "earliest_date = Posts_sorted.iloc[0]['CreationDate']\n",
    "latest_date = Posts_sorted.iloc[-1]['CreationDate']\n",
    "\n",
    "print(f'In the context of our sample, the earliest post was {earliest_date} and the latest post was {latest_date}.')\n",
    "print('Which suggests that within a 3 month timespan only a quarter of posted questions get answered.')"
   ]
  },
  {
   "cell_type": "code",
   "execution_count": null,
   "metadata": {
    "collapsed": false
   },
   "outputs": [],
   "source": [
    "# how many questions get absolutely no answers?\n",
    "# there should only ever be a unique post id per question\n",
    "n_questions = len(Posts.loc[Posts.PostTypeId == 1])\n",
    "\n",
    "# to obtain the number of answers, we count the number of unique parent ids,\n",
    "n_answers = len(set(Posts.loc[(Posts.PostTypeId == 2)].ParentID.values))\n",
    "print(f'Approximately {(1 - (n_answers/n_questions))*100}% of questions remain unanswered.')"
   ]
  },
  {
   "cell_type": "markdown",
   "metadata": {},
   "source": [
    "## What is the ratio of questions without an accepted answer?"
   ]
  },
  {
   "cell_type": "code",
   "execution_count": null,
   "metadata": {
    "collapsed": true
   },
   "outputs": [],
   "source": [
    "QUESTION = 1\n",
    "ANSWER = 2\n",
    "UP = 2\n",
    "DOWN = 3"
   ]
  },
  {
   "cell_type": "code",
   "execution_count": null,
   "metadata": {
    "collapsed": true
   },
   "outputs": [],
   "source": [
    "Posts['ParentID'] = Posts['ParentID'].fillna(0).astype(int)\n",
    "Posts['AcceptedAnswerId'] = Posts['AcceptedAnswerId'].fillna(0).astype(int)"
   ]
  },
  {
   "cell_type": "code",
   "execution_count": null,
   "metadata": {
    "collapsed": true
   },
   "outputs": [],
   "source": [
    "questions = Posts[Posts['PostTypeId'] == 1]\n",
    "unanswered = questions[questions['AcceptedAnswerId'] == 0]"
   ]
  },
  {
   "cell_type": "code",
   "execution_count": null,
   "metadata": {
    "collapsed": false
   },
   "outputs": [],
   "source": [
    "print('The ratio of questions without an accepted answer: ', len(unanswered) / len(questions))"
   ]
  },
  {
   "cell_type": "markdown",
   "metadata": {},
   "source": [
    "## 15 most upvoted questions that are unanswered."
   ]
  },
  {
   "cell_type": "code",
   "execution_count": null,
   "metadata": {
    "collapsed": false
   },
   "outputs": [],
   "source": [
    "unanswered.rename(columns = {'Id':'PostId'}, inplace = True)\n",
    "upvotes = Votes[Votes['VoteTypeId'] == UP]"
   ]
  },
  {
   "cell_type": "code",
   "execution_count": null,
   "metadata": {
    "collapsed": false
   },
   "outputs": [],
   "source": [
    "no_ans_q = questions[questions['AnswerCount'] == 0]\n",
    "no_ans_q.rename(columns = {'Id':'PostId'}, inplace = True)\n",
    "uv_no_ans = upvotes.join(no_ans_q.set_index('PostId'), on='PostId', how='inner', lsuffix='_x')"
   ]
  },
  {
   "cell_type": "code",
   "execution_count": null,
   "metadata": {
    "collapsed": true
   },
   "outputs": [],
   "source": [
    "top_uv_no_ans = Counter(uv_no_ans['PostId']).most_common(15)"
   ]
  },
  {
   "cell_type": "code",
   "execution_count": null,
   "metadata": {
    "collapsed": false
   },
   "outputs": [],
   "source": [
    "unanswered.sort_values(by='Score',ascending=False)[:15]"
   ]
  },
  {
   "cell_type": "markdown",
   "metadata": {},
   "source": [
    "## What is the mean and median response for a question for each of the 20 most popular tags?"
   ]
  },
  {
   "cell_type": "code",
   "execution_count": null,
   "metadata": {
    "collapsed": true
   },
   "outputs": [],
   "source": [
    "#need to upload later"
   ]
  },
  {
   "cell_type": "markdown",
   "metadata": {},
   "source": [
    "## Probability of a question being answered as a function of time in minutes"
   ]
  },
  {
   "cell_type": "code",
   "execution_count": null,
   "metadata": {
    "collapsed": true
   },
   "outputs": [],
   "source": [
    "#rerun\n",
    "Posts = pd.read_csv('../../160-Stackoverflow-Data/300000_rows/Posts.csv', \\\n",
    "                    dtype = {'LastEditorDisplayName': str, 'Tags': str})"
   ]
  },
  {
   "cell_type": "code",
   "execution_count": null,
   "metadata": {
    "collapsed": true
   },
   "outputs": [],
   "source": [
    "#Parents Post Data Wrangling\n",
    "parents_time = Parents_post.CreationDate.str[:-4]"
   ]
  },
  {
   "cell_type": "code",
   "execution_count": null,
   "metadata": {
    "collapsed": true
   },
   "outputs": [],
   "source": [
    "unix_parents = [date_ts(i) for i in parents_time]"
   ]
  },
  {
   "cell_type": "code",
   "execution_count": null,
   "metadata": {
    "collapsed": true
   },
   "outputs": [],
   "source": [
    "df_parents_time = pd.DataFrame({'Cr_time_parents':unix_parents, 'ParentID':Parents_post.Id})"
   ]
  },
  {
   "cell_type": "code",
   "execution_count": null,
   "metadata": {
    "collapsed": true
   },
   "outputs": [],
   "source": [
    "#Merge Table & Create Columns of mins and hours¶\n",
    "df_compare = pd.merge(df_parents_time, df_answers_time, on='ParentID')"
   ]
  },
  {
   "cell_type": "code",
   "execution_count": null,
   "metadata": {
    "collapsed": true
   },
   "outputs": [],
   "source": [
    "df_compare['Duration'] = df_compare.Cr_time - df_compare.Cr_time_parents"
   ]
  },
  {
   "cell_type": "code",
   "execution_count": null,
   "metadata": {
    "collapsed": true
   },
   "outputs": [],
   "source": [
    "df_compare['Duration_mins'] = df_compare.Duration/60"
   ]
  },
  {
   "cell_type": "code",
   "execution_count": null,
   "metadata": {
    "collapsed": false
   },
   "outputs": [],
   "source": [
    "#Histogram\n",
    "df_compare.Duration_mins.plot(kind = 'hist', bins=5000, figsize=(8,6))\n",
    "plt.xlim(0,800)\n",
    "plt.xlabel('minutes')\n",
    "plt.title('Post answered in minutes')\n",
    "plt.grid()"
   ]
  },
  {
   "cell_type": "code",
   "execution_count": null,
   "metadata": {
    "collapsed": false
   },
   "outputs": [],
   "source": [
    "df_compare.Duration_mins.describe()"
   ]
  },
  {
   "cell_type": "code",
   "execution_count": null,
   "metadata": {
    "collapsed": true
   },
   "outputs": [],
   "source": [
    "#Calculate Frequency and Probability of mins"
   ]
  },
  {
   "cell_type": "code",
   "execution_count": null,
   "metadata": {
    "collapsed": true
   },
   "outputs": [],
   "source": [
    "Duration_mins_rounded = df_compare.Duration_mins.round()"
   ]
  },
  {
   "cell_type": "code",
   "execution_count": null,
   "metadata": {
    "collapsed": true
   },
   "outputs": [],
   "source": [
    "fre_mins = pd.DataFrame(Duration_mins_rounded.value_counts(), index=None)\n",
    "fre_mins['mins'] = fre_mins.index\n",
    "fre_mins = fre_mins.rename(columns={'Duration_mins':'Frequency','mins':'mins'})\n",
    "fre_mins.reset_index(inplace=True, drop=True)\n",
    "fre_mins = fre_mins.sort_values('mins')"
   ]
  },
  {
   "cell_type": "code",
   "execution_count": null,
   "metadata": {
    "collapsed": true
   },
   "outputs": [],
   "source": [
    "fre_mins['Probabiity'] = fre_mins.Frequency/sum(fre_mins.Frequency)"
   ]
  },
  {
   "cell_type": "code",
   "execution_count": null,
   "metadata": {
    "collapsed": false
   },
   "outputs": [],
   "source": [
    "fre_mins.Probabiity.describe()"
   ]
  },
  {
   "cell_type": "code",
   "execution_count": null,
   "metadata": {
    "collapsed": true
   },
   "outputs": [],
   "source": [
    "#Cumulative Probability\n",
    "fre_mins['cum_pro'] = np.cumsum(list(fre_mins.Probabiity))"
   ]
  },
  {
   "cell_type": "code",
   "execution_count": null,
   "metadata": {
    "collapsed": false
   },
   "outputs": [],
   "source": [
    "fig=plt.figure(figsize=(16,14))\n",
    "plt.subplot(221)\n",
    "plt.plot(fre_mins.mins, fre_mins.cum_pro, color='red')\n",
    "plt.xlim(0,1000)\n",
    "plt.grid()\n",
    "plt.title('cumulative probability')\n",
    "plt.subplot(222)\n",
    "plt.plot(fre_mins.mins, fre_mins.cum_pro, color='blue')\n",
    "plt.grid()\n",
    "plt.title('cumulative probability')"
   ]
  }
 ],
 "metadata": {
  "kernelspec": {
   "display_name": "venv",
   "language": "python",
   "name": "venv"
  },
  "language_info": {
   "codemirror_mode": {
    "name": "ipython",
    "version": 3
   },
   "file_extension": ".py",
   "mimetype": "text/x-python",
   "name": "python",
   "nbconvert_exporter": "python",
   "pygments_lexer": "ipython3",
   "version": "3.6.3"
  },
  "toc": {
   "base_numbering": 1,
   "nav_menu": {},
   "number_sections": true,
   "sideBar": true,
   "skip_h1_title": false,
   "title_cell": "Table of Contents",
   "title_sidebar": "Contents",
   "toc_cell": false,
   "toc_position": {},
   "toc_section_display": true,
   "toc_window_display": false
  }
 },
 "nbformat": 4,
 "nbformat_minor": 2
}
