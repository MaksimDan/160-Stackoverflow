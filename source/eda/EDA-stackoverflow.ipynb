{
 "cells": [
  {
   "cell_type": "markdown",
   "metadata": {},
   "source": [
    "# EDA-Stackoverflow"
   ]
  },
  {
   "cell_type": "code",
   "execution_count": 83,
   "metadata": {
    "collapsed": true
   },
   "outputs": [],
   "source": [
    "#data structures\n",
    "import pandas as pd\n",
    "import numpy as np\n",
    "from collections import defaultdict\n",
    "from collections import Counter\n",
    "import string\n",
    "import json\n",
    "\n",
    "# html\n",
    "import requests \n",
    "import requests_cache\n",
    "from bs4 import BeautifulSoup\n",
    "\n",
    "# visualization\n",
    "import matplotlib as mpl\n",
    "from pprint import pprint\n",
    "import matplotlib.pyplot as plt\n",
    "import seaborn as sns\n",
    "\n",
    "# statistics\n",
    "from sklearn.feature_extraction.text import TfidfVectorizer\n",
    "from scipy import stats\n",
    "import statistics\n",
    "\n",
    "# text processing\n",
    "import nltk\n",
    "from textblob import TextBlob\n",
    "from nltk import corpus\n",
    "from sklearn.feature_extraction.text import TfidfVectorizer\n",
    "from nltk.corpus import stopwords\n",
    "import re\n",
    "\n",
    "# other\n",
    "import time\n",
    "import pprint as pp\n",
    "import operator\n",
    "import progressbar\n",
    "import itertools\n",
    "from time import sleep\n",
    "import datetime\n",
    "import calendar\n",
    "from collections import Counter, defaultdict\n",
    "\n",
    "from pprint import pprint\n",
    "\n",
    "\n",
    "from math import isnan"
   ]
  },
  {
   "cell_type": "code",
   "execution_count": 53,
   "metadata": {
    "collapsed": true
   },
   "outputs": [],
   "source": [
    "# setup\n",
    "requests_cache.install_cache('aggie_cache')\n",
    "plt.style.use('ggplot')"
   ]
  },
  {
   "cell_type": "code",
   "execution_count": 55,
   "metadata": {},
   "outputs": [
    {
     "name": "stdout",
     "output_type": "stream",
     "text": [
      "[nltk_data] Downloading package punkt to /Users/esmondchu/nltk_data...\n",
      "[nltk_data]   Package punkt is already up-to-date!\n",
      "[nltk_data] Downloading package averaged_perceptron_tagger to\n",
      "[nltk_data]     /Users/esmondchu/nltk_data...\n",
      "[nltk_data]   Package averaged_perceptron_tagger is already up-to-\n",
      "[nltk_data]       date!\n",
      "[nltk_data] Downloading package brown to /Users/esmondchu/nltk_data...\n",
      "[nltk_data]   Package brown is already up-to-date!\n",
      "[nltk_data] Downloading package wordnet to\n",
      "[nltk_data]     /Users/esmondchu/nltk_data...\n",
      "[nltk_data]   Package wordnet is already up-to-date!\n",
      "[nltk_data] Downloading package stopwords to\n",
      "[nltk_data]     /Users/esmondchu/nltk_data...\n",
      "[nltk_data]   Package stopwords is already up-to-date!\n"
     ]
    },
    {
     "data": {
      "text/plain": [
       "True"
      ]
     },
     "execution_count": 55,
     "metadata": {},
     "output_type": "execute_result"
    }
   ],
   "source": [
    "#packages used by textblob\n",
    "nltk.download(\"punkt\")\n",
    "nltk.download(\"averaged_perceptron_tagger\")\n",
    "nltk.download(\"brown\")\n",
    "nltk.download(\"wordnet\")\n",
    "nltk.download(\"stopwords\")"
   ]
  },
  {
   "cell_type": "markdown",
   "metadata": {},
   "source": [
    "## Load Data"
   ]
  },
  {
   "cell_type": "code",
   "execution_count": 104,
   "metadata": {
    "collapsed": true
   },
   "outputs": [],
   "source": [
    "Posts = pd.read_csv('../../160-Stackoverflow-Data/300000_rows/Posts.csv', \\\n",
    "                    dtype = {'LastEditorDisplayName': str, 'Tags': str})\n",
    "Comments = pd.read_csv('../../160-Stackoverflow-Data/300000_rows/Comments.csv')\n",
    "Votes = pd.read_csv('../../160-Stackoverflow-Data/300000_rows/Votes.csv')"
   ]
  },
  {
   "cell_type": "markdown",
   "metadata": {},
   "source": [
    "## Timely Collaboration and Values"
   ]
  },
  {
   "cell_type": "code",
   "execution_count": 9,
   "metadata": {
    "collapsed": true
   },
   "outputs": [],
   "source": [
    "#date to timestamp\n",
    "def date_ts(s):\n",
    "    \"\"\" \n",
    "    param s: str - date\n",
    "    returns: int - timestamp\n",
    "    \"\"\"\n",
    "    date = datetime.datetime.strptime(s, \"%Y-%m-%dT%H:%M:%S\")\n",
    "    st = calendar.timegm(date.utctimetuple())\n",
    "    return(st)"
   ]
  },
  {
   "cell_type": "code",
   "execution_count": 10,
   "metadata": {
    "collapsed": true
   },
   "outputs": [],
   "source": [
    "#Answer posts\n",
    "df_answers = Posts[Posts.PostTypeId == 2]"
   ]
  },
  {
   "cell_type": "code",
   "execution_count": 11,
   "metadata": {
    "collapsed": true
   },
   "outputs": [],
   "source": [
    "df_answers = df_answers.reset_index(drop=True)"
   ]
  },
  {
   "cell_type": "code",
   "execution_count": 27,
   "metadata": {},
   "outputs": [
    {
     "name": "stdout",
     "output_type": "stream",
     "text": [
      "<class 'pandas.core.frame.DataFrame'>\n",
      "RangeIndex: 152190 entries, 0 to 152189\n",
      "Data columns (total 20 columns):\n",
      "Id                       152190 non-null int64\n",
      "PostTypeId               152190 non-null int64\n",
      "ParentID                 152190 non-null float64\n",
      "AcceptedAnswerId         0 non-null float64\n",
      "CreationDate             152190 non-null object\n",
      "Score                    152190 non-null int64\n",
      "ViewCount                0 non-null float64\n",
      "Body                     152190 non-null object\n",
      "OwnerUserId              152068 non-null float64\n",
      "LastEditorUserId         41415 non-null float64\n",
      "LastEditorDisplayName    34 non-null object\n",
      "LastEditDate             41448 non-null object\n",
      "LastActivityDate         152190 non-null object\n",
      "CommunityOwnedDate       239 non-null object\n",
      "ClosedDate               0 non-null object\n",
      "Title                    0 non-null object\n",
      "Tags                     0 non-null object\n",
      "AnswerCount              0 non-null float64\n",
      "CommentCount             152190 non-null int64\n",
      "FavoriteCount            0 non-null float64\n",
      "dtypes: float64(7), int64(4), object(9)\n",
      "memory usage: 23.2+ MB\n"
     ]
    }
   ],
   "source": [
    "df_answers.info()"
   ]
  },
  {
   "cell_type": "code",
   "execution_count": 12,
   "metadata": {
    "collapsed": true
   },
   "outputs": [],
   "source": [
    "df_answers.CreationDate = df_answers.CreationDate.str[:-4]"
   ]
  },
  {
   "cell_type": "code",
   "execution_count": 13,
   "metadata": {
    "collapsed": true
   },
   "outputs": [],
   "source": [
    "unix_ans = [date_ts(i) for i in df_answers.CreationDate]"
   ]
  },
  {
   "cell_type": "code",
   "execution_count": 14,
   "metadata": {
    "collapsed": true
   },
   "outputs": [],
   "source": [
    "df_answers_time = pd.DataFrame({'ParentID':df_answers.ParentID, 'Cr_time':unix_ans})"
   ]
  },
  {
   "cell_type": "code",
   "execution_count": 15,
   "metadata": {
    "collapsed": true
   },
   "outputs": [],
   "source": [
    "df_list = df_answers_time.groupby(df_answers_time.ParentID)"
   ]
  },
  {
   "cell_type": "code",
   "execution_count": 16,
   "metadata": {
    "collapsed": true
   },
   "outputs": [],
   "source": [
    "uni_par_id = list(df_answers_time.ParentID.unique())"
   ]
  },
  {
   "cell_type": "code",
   "execution_count": 17,
   "metadata": {
    "collapsed": true
   },
   "outputs": [],
   "source": [
    "ans_date = [list(df_list.get_group(i).Cr_time) for i in uni_par_id]"
   ]
  },
  {
   "cell_type": "code",
   "execution_count": 18,
   "metadata": {},
   "outputs": [
    {
     "name": "stdout",
     "output_type": "stream",
     "text": [
      "87571 26874\n"
     ]
    }
   ],
   "source": [
    "yes = 0\n",
    "no = 0\n",
    "for i in ans_date:\n",
    "    if len(i) == 1:\n",
    "        yes += 1\n",
    "    else:\n",
    "        no += 1\n",
    "print(yes, no)\n",
    "\n",
    "#there are 2917 posts with only 1 answer, 15773 posts with more than 1 answers."
   ]
  },
  {
   "cell_type": "code",
   "execution_count": 19,
   "metadata": {
    "collapsed": true
   },
   "outputs": [],
   "source": [
    "#set 1-answer post sd to 0\n",
    "for i in ans_date:\n",
    "    if len(i) == 1:\n",
    "        i.append(i[0])\n",
    "    else:\n",
    "        i == i"
   ]
  },
  {
   "cell_type": "code",
   "execution_count": 21,
   "metadata": {
    "collapsed": true
   },
   "outputs": [],
   "source": [
    "#Get standard deviation for answers\n",
    "ans_time_sd = [statistics.stdev(i) for i in ans_date]"
   ]
  },
  {
   "cell_type": "code",
   "execution_count": 22,
   "metadata": {
    "collapsed": true
   },
   "outputs": [],
   "source": [
    "post_Id = sorted(list(df_answers.ParentID.unique()))"
   ]
  },
  {
   "cell_type": "code",
   "execution_count": 23,
   "metadata": {
    "collapsed": true
   },
   "outputs": [],
   "source": [
    "post_ans_sd = pd.DataFrame({'post_Id':post_Id, 'time_sd':ans_time_sd})"
   ]
  },
  {
   "cell_type": "code",
   "execution_count": 24,
   "metadata": {
    "collapsed": true
   },
   "outputs": [],
   "source": [
    "#Parents posts\n",
    "Parents_post = Posts[Posts.PostTypeId == 1]"
   ]
  },
  {
   "cell_type": "code",
   "execution_count": 25,
   "metadata": {
    "collapsed": true
   },
   "outputs": [],
   "source": [
    "Parents_post = Parents_post.reset_index(drop=True)"
   ]
  },
  {
   "cell_type": "code",
   "execution_count": 26,
   "metadata": {},
   "outputs": [
    {
     "name": "stdout",
     "output_type": "stream",
     "text": [
      "<class 'pandas.core.frame.DataFrame'>\n",
      "RangeIndex: 147447 entries, 0 to 147446\n",
      "Data columns (total 20 columns):\n",
      "Id                       147447 non-null int64\n",
      "PostTypeId               147447 non-null int64\n",
      "ParentID                 0 non-null float64\n",
      "AcceptedAnswerId         41108 non-null float64\n",
      "CreationDate             147447 non-null object\n",
      "Score                    147447 non-null int64\n",
      "ViewCount                147447 non-null float64\n",
      "Body                     147447 non-null object\n",
      "OwnerUserId              147167 non-null float64\n",
      "LastEditorUserId         73457 non-null float64\n",
      "LastEditorDisplayName    82 non-null object\n",
      "LastEditDate             73534 non-null object\n",
      "LastActivityDate         147447 non-null object\n",
      "CommunityOwnedDate       0 non-null object\n",
      "ClosedDate               10922 non-null object\n",
      "Title                    147447 non-null object\n",
      "Tags                     147447 non-null object\n",
      "AnswerCount              147447 non-null float64\n",
      "CommentCount             147447 non-null int64\n",
      "FavoriteCount            13519 non-null float64\n",
      "dtypes: float64(7), int64(4), object(9)\n",
      "memory usage: 22.5+ MB\n"
     ]
    }
   ],
   "source": [
    "Parents_post.info()"
   ]
  },
  {
   "cell_type": "code",
   "execution_count": 28,
   "metadata": {
    "collapsed": true
   },
   "outputs": [],
   "source": [
    "df_parents = pd.DataFrame({'post_Id':Parents_post.Id, 'Views_count':Parents_post.ViewCount,\\\n",
    "                           'Score':Parents_post.Score, 'Comment_count':Parents_post.CommentCount})"
   ]
  },
  {
   "cell_type": "code",
   "execution_count": 29,
   "metadata": {
    "collapsed": true
   },
   "outputs": [],
   "source": [
    "df_comb = df_parents.join(post_ans_sd.set_index('post_Id'), on='post_Id')"
   ]
  },
  {
   "cell_type": "code",
   "execution_count": 30,
   "metadata": {
    "collapsed": true
   },
   "outputs": [],
   "source": [
    "df_comb = df_comb.dropna()\n",
    "df_comb = df_comb.reset_index(drop=True)"
   ]
  },
  {
   "cell_type": "code",
   "execution_count": 31,
   "metadata": {},
   "outputs": [
    {
     "data": {
      "text/plain": [
       "<matplotlib.axes._subplots.AxesSubplot at 0x1a1c3b6160>"
      ]
     },
     "execution_count": 31,
     "metadata": {},
     "output_type": "execute_result"
    },
    {
     "data": {
      "image/png": "[encoded data removed]",
      "text/plain": [
       "<matplotlib.figure.Figure at 0x1a1c3ed278>"
      ]
     },
     "metadata": {},
     "output_type": "display_data"
    }
   ],
   "source": [
    "f, (ax1, ax2) = plt.subplots(nrows=2, figsize=(8,10))\n",
    "plt.suptitle(\"Question Value vs Timely Collaboration\", size=20)\n",
    "sns.regplot(df_comb.time_sd, df_comb.Score, marker=\".\", ax=ax1)\n",
    "sns.regplot(df_comb.time_sd, df_comb.Views_count, marker=\".\", ax=ax2)"
   ]
  },
  {
   "cell_type": "markdown",
   "metadata": {},
   "source": [
    "## How many questions are left unanswered?"
   ]
  },
  {
   "cell_type": "code",
   "execution_count": 65,
   "metadata": {},
   "outputs": [
    {
     "name": "stdout",
     "output_type": "stream",
     "text": [
      "Approximately 72.12015164771071% of questions remain with nonaccepted answers.\n"
     ]
    }
   ],
   "source": [
    "n_questions = len(Posts.loc[Posts.PostTypeId == 1])\n",
    "n_unanswered = len(Posts.loc[(Posts.PostTypeId == 1) & (Posts.AcceptedAnswerId.isnull())])\n",
    "print(f'Approximately {n_unanswered/n_questions*100}% of questions remain with nonaccepted answers.')"
   ]
  },
  {
   "cell_type": "code",
   "execution_count": 66,
   "metadata": {},
   "outputs": [
    {
     "name": "stdout",
     "output_type": "stream",
     "text": [
      "In the context of our sample, the earliest post was 2018-01-26 19:05:05.213000 and the latest post was 2018-03-11 04:55:43.843000.\n",
      "Which suggests that within a 3 month timespan only a quarter of posted questions get answered.\n"
     ]
    }
   ],
   "source": [
    "# in what context does only 28% of questions get answered?\n",
    "Posts.CreationDate = pd.to_datetime(Posts.CreationDate, format=\"%Y-%m-%dT%H:%M:%S\")\n",
    "Posts_sorted = Posts.sort_values(by=['CreationDate'])\n",
    "earliest_date = Posts_sorted.iloc[0]['CreationDate']\n",
    "latest_date = Posts_sorted.iloc[-1]['CreationDate']\n",
    "\n",
    "print(f'In the context of our sample, the earliest post was {earliest_date} and the latest post was {latest_date}.')\n",
    "print('Which suggests that within a 3 month timespan only a quarter of posted questions get answered.')"
   ]
  },
  {
   "cell_type": "code",
   "execution_count": 67,
   "metadata": {},
   "outputs": [
    {
     "name": "stdout",
     "output_type": "stream",
     "text": [
      "Approximately 22.382279734413046% of questions remain unanswered.\n"
     ]
    }
   ],
   "source": [
    "# how many questions get absolutely no answers?\n",
    "# there should only ever be a unique post id per question\n",
    "n_questions = len(Posts.loc[Posts.PostTypeId == 1])\n",
    "\n",
    "# to obtain the number of answers, we count the number of unique parent ids,\n",
    "n_answers = len(set(Posts.loc[(Posts.PostTypeId == 2)].ParentID.values))\n",
    "print(f'Approximately {(1 - (n_answers/n_questions))*100}% of questions remain unanswered.')"
   ]
  },
  {
   "cell_type": "markdown",
   "metadata": {},
   "source": [
    "## What is the ratio of questions without an accepted answer?"
   ]
  },
  {
   "cell_type": "code",
   "execution_count": 86,
   "metadata": {
    "collapsed": true
   },
   "outputs": [],
   "source": [
    "QUESTION = 1\n",
    "ANSWER = 2\n",
    "UP = 2\n",
    "DOWN = 3"
   ]
  },
  {
   "cell_type": "code",
   "execution_count": 87,
   "metadata": {
    "collapsed": true
   },
   "outputs": [],
   "source": [
    "Posts['ParentID'] = Posts['ParentID'].fillna(0).astype(int)\n",
    "Posts['AcceptedAnswerId'] = Posts['AcceptedAnswerId'].fillna(0).astype(int)"
   ]
  },
  {
   "cell_type": "code",
   "execution_count": 88,
   "metadata": {
    "collapsed": true
   },
   "outputs": [],
   "source": [
    "questions = Posts[Posts['PostTypeId'] == 1]\n",
    "unanswered = questions[questions['AcceptedAnswerId'] == 0]"
   ]
  },
  {
   "cell_type": "code",
   "execution_count": 92,
   "metadata": {},
   "outputs": [
    {
     "name": "stdout",
     "output_type": "stream",
     "text": [
      "The ratio of questions without an accepted answer:  0.7212015164771071\n"
     ]
    }
   ],
   "source": [
    "print('The ratio of questions without an accepted answer: ', len(unanswered) / len(questions))"
   ]
  },
  {
   "cell_type": "markdown",
   "metadata": {},
   "source": [
    "## 15 most upvoted questions that are unanswered."
   ]
  },
  {
   "cell_type": "code",
   "execution_count": 94,
   "metadata": {},
   "outputs": [
    {
     "name": "stderr",
     "output_type": "stream",
     "text": [
      "/Users/esmondchu/anaconda3/lib/python3.6/site-packages/pandas/core/frame.py:2746: SettingWithCopyWarning: \n",
      "A value is trying to be set on a copy of a slice from a DataFrame\n",
      "\n",
      "See the caveats in the documentation: http://pandas.pydata.org/pandas-docs/stable/indexing.html#indexing-view-versus-copy\n",
      "  **kwargs)\n"
     ]
    }
   ],
   "source": [
    "unanswered.rename(columns = {'Id':'PostId'}, inplace = True)\n",
    "upvotes = Votes[Votes['VoteTypeId'] == UP]"
   ]
  },
  {
   "cell_type": "code",
   "execution_count": 96,
   "metadata": {},
   "outputs": [
    {
     "name": "stderr",
     "output_type": "stream",
     "text": [
      "/Users/esmondchu/anaconda3/lib/python3.6/site-packages/pandas/core/frame.py:2746: SettingWithCopyWarning: \n",
      "A value is trying to be set on a copy of a slice from a DataFrame\n",
      "\n",
      "See the caveats in the documentation: http://pandas.pydata.org/pandas-docs/stable/indexing.html#indexing-view-versus-copy\n",
      "  **kwargs)\n"
     ]
    }
   ],
   "source": [
    "no_ans_q = questions[questions['AnswerCount'] == 0]\n",
    "no_ans_q.rename(columns = {'Id':'PostId'}, inplace = True)\n",
    "uv_no_ans = upvotes.join(no_ans_q.set_index('PostId'), on='PostId', how='inner', lsuffix='_x')"
   ]
  },
  {
   "cell_type": "code",
   "execution_count": 97,
   "metadata": {
    "collapsed": true
   },
   "outputs": [],
   "source": [
    "top_uv_no_ans = Counter(uv_no_ans['PostId']).most_common(15)"
   ]
  },
  {
   "cell_type": "code",
   "execution_count": 98,
   "metadata": {},
   "outputs": [
    {
     "data": {
      "text/html": [
       "<div>\n",
       "<style>\n",
       "    .dataframe thead tr:only-child th {\n",
       "        text-align: right;\n",
       "    }\n",
       "\n",
       "    .dataframe thead th {\n",
       "        text-align: left;\n",
       "    }\n",
       "\n",
       "    .dataframe tbody tr th {\n",
       "        vertical-align: top;\n",
       "    }\n",
       "</style>\n",
       "<table border=\"1\" class=\"dataframe\">\n",
       "  <thead>\n",
       "    <tr style=\"text-align: right;\">\n",
       "      <th></th>\n",
       "      <th>PostId</th>\n",
       "      <th>PostTypeId</th>\n",
       "      <th>ParentID</th>\n",
       "      <th>AcceptedAnswerId</th>\n",
       "      <th>CreationDate</th>\n",
       "      <th>Score</th>\n",
       "      <th>ViewCount</th>\n",
       "      <th>Body</th>\n",
       "      <th>OwnerUserId</th>\n",
       "      <th>LastEditorUserId</th>\n",
       "      <th>LastEditorDisplayName</th>\n",
       "      <th>LastEditDate</th>\n",
       "      <th>LastActivityDate</th>\n",
       "      <th>CommunityOwnedDate</th>\n",
       "      <th>ClosedDate</th>\n",
       "      <th>Title</th>\n",
       "      <th>Tags</th>\n",
       "      <th>AnswerCount</th>\n",
       "      <th>CommentCount</th>\n",
       "      <th>FavoriteCount</th>\n",
       "    </tr>\n",
       "  </thead>\n",
       "  <tbody>\n",
       "    <tr>\n",
       "      <th>8705</th>\n",
       "      <td>48881018</td>\n",
       "      <td>1</td>\n",
       "      <td>0</td>\n",
       "      <td>0</td>\n",
       "      <td>2018-02-20T08:45:23.187</td>\n",
       "      <td>45</td>\n",
       "      <td>3840.0</td>\n",
       "      <td>&lt;p&gt;I stumbled through an example from \"&lt;em&gt;Eff...</td>\n",
       "      <td>6098812.0</td>\n",
       "      <td>3982001.0</td>\n",
       "      <td>NaN</td>\n",
       "      <td>2018-03-08T13:55:12.227</td>\n",
       "      <td>2018-03-08T13:55:12.227</td>\n",
       "      <td>NaN</td>\n",
       "      <td>NaN</td>\n",
       "      <td>Cost of Default parameters in C++</td>\n",
       "      <td>&lt;c++&gt;&lt;performance&gt;&lt;default-parameters&gt;</td>\n",
       "      <td>3.0</td>\n",
       "      <td>12</td>\n",
       "      <td>4.0</td>\n",
       "    </tr>\n",
       "    <tr>\n",
       "      <th>147255</th>\n",
       "      <td>49043684</td>\n",
       "      <td>1</td>\n",
       "      <td>0</td>\n",
       "      <td>0</td>\n",
       "      <td>2018-03-01T06:18:10.773</td>\n",
       "      <td>40</td>\n",
       "      <td>815.0</td>\n",
       "      <td>&lt;p&gt;A grid is implemented using the CSS flexbox...</td>\n",
       "      <td>247243.0</td>\n",
       "      <td>8620333.0</td>\n",
       "      <td>NaN</td>\n",
       "      <td>2018-03-03T20:53:38.007</td>\n",
       "      <td>2018-03-10T16:16:15.097</td>\n",
       "      <td>NaN</td>\n",
       "      <td>NaN</td>\n",
       "      <td>How to calculate the amount of flexbox items i...</td>\n",
       "      <td>&lt;javascript&gt;&lt;html&gt;&lt;css&gt;&lt;css3&gt;&lt;flexbox&gt;</td>\n",
       "      <td>11.0</td>\n",
       "      <td>8</td>\n",
       "      <td>13.0</td>\n",
       "    </tr>\n",
       "    <tr>\n",
       "      <th>202788</th>\n",
       "      <td>49107252</td>\n",
       "      <td>1</td>\n",
       "      <td>0</td>\n",
       "      <td>0</td>\n",
       "      <td>2018-03-05T09:36:49.347</td>\n",
       "      <td>33</td>\n",
       "      <td>2081.0</td>\n",
       "      <td>&lt;p&gt;I want to know if it's possible to change t...</td>\n",
       "      <td>1734974.0</td>\n",
       "      <td>NaN</td>\n",
       "      <td>NaN</td>\n",
       "      <td>NaN</td>\n",
       "      <td>2018-03-07T22:46:52.477</td>\n",
       "      <td>NaN</td>\n",
       "      <td>NaN</td>\n",
       "      <td>Change text size and color incrementally</td>\n",
       "      <td>&lt;javascript&gt;&lt;html&gt;&lt;css&gt;</td>\n",
       "      <td>5.0</td>\n",
       "      <td>4</td>\n",
       "      <td>9.0</td>\n",
       "    </tr>\n",
       "    <tr>\n",
       "      <th>30347</th>\n",
       "      <td>48906338</td>\n",
       "      <td>1</td>\n",
       "      <td>0</td>\n",
       "      <td>0</td>\n",
       "      <td>2018-02-21T12:47:11.460</td>\n",
       "      <td>28</td>\n",
       "      <td>580.0</td>\n",
       "      <td>&lt;pre&gt;&lt;code&gt;#include &amp;lt;cstdio&amp;gt;\\r\\n#include...</td>\n",
       "      <td>4140668.0</td>\n",
       "      <td>4140668.0</td>\n",
       "      <td>NaN</td>\n",
       "      <td>2018-03-01T04:26:08.500</td>\n",
       "      <td>2018-03-01T04:26:08.500</td>\n",
       "      <td>NaN</td>\n",
       "      <td>NaN</td>\n",
       "      <td>Why can't gcc devirtualize this function call?</td>\n",
       "      <td>&lt;c++&gt;&lt;gcc&gt;&lt;compiler-optimization&gt;</td>\n",
       "      <td>2.0</td>\n",
       "      <td>8</td>\n",
       "      <td>3.0</td>\n",
       "    </tr>\n",
       "    <tr>\n",
       "      <th>123355</th>\n",
       "      <td>49015858</td>\n",
       "      <td>1</td>\n",
       "      <td>0</td>\n",
       "      <td>0</td>\n",
       "      <td>2018-02-27T18:46:25.080</td>\n",
       "      <td>25</td>\n",
       "      <td>2386.0</td>\n",
       "      <td>&lt;p&gt;I have searched and searched for an answer ...</td>\n",
       "      <td>9420401.0</td>\n",
       "      <td>9420401.0</td>\n",
       "      <td>NaN</td>\n",
       "      <td>2018-02-27T18:48:59.570</td>\n",
       "      <td>2018-03-04T11:28:10.013</td>\n",
       "      <td>NaN</td>\n",
       "      <td>2018-02-28T03:14:22.233</td>\n",
       "      <td>What real use does a double pointer have?</td>\n",
       "      <td>&lt;c++&gt;&lt;pointers&gt;</td>\n",
       "      <td>11.0</td>\n",
       "      <td>11</td>\n",
       "      <td>1.0</td>\n",
       "    </tr>\n",
       "    <tr>\n",
       "      <th>156521</th>\n",
       "      <td>49054406</td>\n",
       "      <td>1</td>\n",
       "      <td>0</td>\n",
       "      <td>0</td>\n",
       "      <td>2018-03-01T16:31:23.937</td>\n",
       "      <td>22</td>\n",
       "      <td>404.0</td>\n",
       "      <td>&lt;h1&gt;How to get rid of unnecessary root layouts...</td>\n",
       "      <td>9280279.0</td>\n",
       "      <td>9280279.0</td>\n",
       "      <td>NaN</td>\n",
       "      <td>2018-03-08T12:15:25.130</td>\n",
       "      <td>2018-03-10T13:32:17.427</td>\n",
       "      <td>NaN</td>\n",
       "      <td>NaN</td>\n",
       "      <td>Get rid of unnecessary root layouts for fullsc...</td>\n",
       "      <td>&lt;android&gt;&lt;android-layout&gt;&lt;android-activity&gt;&lt;ko...</td>\n",
       "      <td>4.0</td>\n",
       "      <td>2</td>\n",
       "      <td>4.0</td>\n",
       "    </tr>\n",
       "    <tr>\n",
       "      <th>64636</th>\n",
       "      <td>48946639</td>\n",
       "      <td>1</td>\n",
       "      <td>0</td>\n",
       "      <td>0</td>\n",
       "      <td>2018-02-23T11:16:48.907</td>\n",
       "      <td>21</td>\n",
       "      <td>293.0</td>\n",
       "      <td>&lt;p&gt;The command &lt;code&gt;jupyter notebook&lt;/code&gt; w...</td>\n",
       "      <td>1585017.0</td>\n",
       "      <td>1585017.0</td>\n",
       "      <td>NaN</td>\n",
       "      <td>2018-02-23T14:28:07.030</td>\n",
       "      <td>2018-03-06T07:46:36.467</td>\n",
       "      <td>NaN</td>\n",
       "      <td>NaN</td>\n",
       "      <td>How to create and open a jupyter notebook ipyn...</td>\n",
       "      <td>&lt;python&gt;&lt;terminal&gt;&lt;jupyter-notebook&gt;</td>\n",
       "      <td>5.0</td>\n",
       "      <td>0</td>\n",
       "      <td>0.0</td>\n",
       "    </tr>\n",
       "    <tr>\n",
       "      <th>135129</th>\n",
       "      <td>49029515</td>\n",
       "      <td>1</td>\n",
       "      <td>0</td>\n",
       "      <td>0</td>\n",
       "      <td>2018-02-28T12:23:18.837</td>\n",
       "      <td>18</td>\n",
       "      <td>800.0</td>\n",
       "      <td>&lt;p&gt;Objective-C declares a class function, init...</td>\n",
       "      <td>64949.0</td>\n",
       "      <td>603977.0</td>\n",
       "      <td>NaN</td>\n",
       "      <td>2018-03-04T16:40:48.727</td>\n",
       "      <td>2018-03-09T17:18:11.513</td>\n",
       "      <td>NaN</td>\n",
       "      <td>NaN</td>\n",
       "      <td>Is there an alternative to initialize() in mac...</td>\n",
       "      <td>&lt;swift&gt;&lt;macos&gt;&lt;swizzling&gt;</td>\n",
       "      <td>5.0</td>\n",
       "      <td>11</td>\n",
       "      <td>5.0</td>\n",
       "    </tr>\n",
       "    <tr>\n",
       "      <th>14510</th>\n",
       "      <td>48887802</td>\n",
       "      <td>1</td>\n",
       "      <td>0</td>\n",
       "      <td>0</td>\n",
       "      <td>2018-02-20T14:42:27.910</td>\n",
       "      <td>18</td>\n",
       "      <td>922.0</td>\n",
       "      <td>&lt;p&gt;Is there a function which accepts a referen...</td>\n",
       "      <td>4990642.0</td>\n",
       "      <td>964243.0</td>\n",
       "      <td>NaN</td>\n",
       "      <td>2018-02-21T13:09:57.703</td>\n",
       "      <td>2018-02-26T06:36:52.513</td>\n",
       "      <td>NaN</td>\n",
       "      <td>NaN</td>\n",
       "      <td>Determine if a lambda expression is stateless ...</td>\n",
       "      <td>&lt;java&gt;&lt;lambda&gt;&lt;java-8&gt;&lt;java-9&gt;</td>\n",
       "      <td>4.0</td>\n",
       "      <td>14</td>\n",
       "      <td>8.0</td>\n",
       "    </tr>\n",
       "    <tr>\n",
       "      <th>16183</th>\n",
       "      <td>48889736</td>\n",
       "      <td>1</td>\n",
       "      <td>0</td>\n",
       "      <td>0</td>\n",
       "      <td>2018-02-20T16:22:29.503</td>\n",
       "      <td>16</td>\n",
       "      <td>137.0</td>\n",
       "      <td>&lt;p&gt;The &lt;a href=\"https://github.com/webpack-con...</td>\n",
       "      <td>4046605.0</td>\n",
       "      <td>2501450.0</td>\n",
       "      <td>NaN</td>\n",
       "      <td>2018-02-22T14:40:58.697</td>\n",
       "      <td>2018-03-01T17:03:00.623</td>\n",
       "      <td>NaN</td>\n",
       "      <td>NaN</td>\n",
       "      <td>css-loader localIdentName: is a hash necessary...</td>\n",
       "      <td>&lt;css&gt;&lt;reactjs&gt;&lt;webpack&gt;&lt;css-modules&gt;&lt;css-loader&gt;</td>\n",
       "      <td>2.0</td>\n",
       "      <td>0</td>\n",
       "      <td>NaN</td>\n",
       "    </tr>\n",
       "    <tr>\n",
       "      <th>19795</th>\n",
       "      <td>48893928</td>\n",
       "      <td>1</td>\n",
       "      <td>0</td>\n",
       "      <td>0</td>\n",
       "      <td>2018-02-20T20:46:10.043</td>\n",
       "      <td>16</td>\n",
       "      <td>279.0</td>\n",
       "      <td>&lt;p&gt;Consider the following program:&lt;/p&gt;\\r\\n\\r\\n...</td>\n",
       "      <td>8605791.0</td>\n",
       "      <td>8605791.0</td>\n",
       "      <td>NaN</td>\n",
       "      <td>2018-02-20T23:08:21.743</td>\n",
       "      <td>2018-02-21T12:52:04.293</td>\n",
       "      <td>NaN</td>\n",
       "      <td>NaN</td>\n",
       "      <td>Can variadic template template parameter be pa...</td>\n",
       "      <td>&lt;c++&gt;&lt;templates&gt;&lt;clang&gt;&lt;language-lawyer&gt;&lt;templ...</td>\n",
       "      <td>1.0</td>\n",
       "      <td>8</td>\n",
       "      <td>5.0</td>\n",
       "    </tr>\n",
       "    <tr>\n",
       "      <th>89324</th>\n",
       "      <td>48976026</td>\n",
       "      <td>1</td>\n",
       "      <td>0</td>\n",
       "      <td>0</td>\n",
       "      <td>2018-02-25T16:54:26.680</td>\n",
       "      <td>14</td>\n",
       "      <td>232.0</td>\n",
       "      <td>&lt;p&gt;I am trying to following this react router ...</td>\n",
       "      <td>39677.0</td>\n",
       "      <td>39677.0</td>\n",
       "      <td>NaN</td>\n",
       "      <td>2018-03-01T17:08:07.110</td>\n",
       "      <td>2018-03-07T09:51:27.117</td>\n",
       "      <td>NaN</td>\n",
       "      <td>NaN</td>\n",
       "      <td>Trying to setup redux history so I can redirect</td>\n",
       "      <td>&lt;reactjs&gt;&lt;react-router&gt;&lt;react-redux&gt;&lt;react-rou...</td>\n",
       "      <td>2.0</td>\n",
       "      <td>10</td>\n",
       "      <td>1.0</td>\n",
       "    </tr>\n",
       "    <tr>\n",
       "      <th>218566</th>\n",
       "      <td>49125165</td>\n",
       "      <td>1</td>\n",
       "      <td>0</td>\n",
       "      <td>0</td>\n",
       "      <td>2018-03-06T07:08:09.677</td>\n",
       "      <td>14</td>\n",
       "      <td>1146.0</td>\n",
       "      <td>&lt;p&gt;We recently found some code submitted to ou...</td>\n",
       "      <td>14860.0</td>\n",
       "      <td>15168.0</td>\n",
       "      <td>NaN</td>\n",
       "      <td>2018-03-06T07:18:16.687</td>\n",
       "      <td>2018-03-06T18:20:52.377</td>\n",
       "      <td>NaN</td>\n",
       "      <td>NaN</td>\n",
       "      <td>Does packing a structure affect sub-structures?</td>\n",
       "      <td>&lt;c&gt;&lt;windows&gt;&lt;visual-studio-2015&gt;</td>\n",
       "      <td>5.0</td>\n",
       "      <td>5</td>\n",
       "      <td>NaN</td>\n",
       "    </tr>\n",
       "    <tr>\n",
       "      <th>198630</th>\n",
       "      <td>49102553</td>\n",
       "      <td>1</td>\n",
       "      <td>0</td>\n",
       "      <td>0</td>\n",
       "      <td>2018-03-05T02:13:02.643</td>\n",
       "      <td>14</td>\n",
       "      <td>222.0</td>\n",
       "      <td>&lt;p&gt;Java 10 comes with the new Local Variable T...</td>\n",
       "      <td>2556520.0</td>\n",
       "      <td>2556520.0</td>\n",
       "      <td>NaN</td>\n",
       "      <td>2018-03-05T03:42:30.527</td>\n",
       "      <td>2018-03-07T15:07:59.577</td>\n",
       "      <td>NaN</td>\n",
       "      <td>NaN</td>\n",
       "      <td>What is the conceptual difference between a \"r...</td>\n",
       "      <td>&lt;java&gt;&lt;java-10&gt;</td>\n",
       "      <td>1.0</td>\n",
       "      <td>12</td>\n",
       "      <td>4.0</td>\n",
       "    </tr>\n",
       "    <tr>\n",
       "      <th>173744</th>\n",
       "      <td>49074069</td>\n",
       "      <td>1</td>\n",
       "      <td>0</td>\n",
       "      <td>0</td>\n",
       "      <td>2018-03-02T17:11:47.737</td>\n",
       "      <td>13</td>\n",
       "      <td>227.0</td>\n",
       "      <td>&lt;p&gt;I've been importing photos with the 'pictur...</td>\n",
       "      <td>2705886.0</td>\n",
       "      <td>NaN</td>\n",
       "      <td>NaN</td>\n",
       "      <td>NaN</td>\n",
       "      <td>2018-03-06T05:30:58.463</td>\n",
       "      <td>NaN</td>\n",
       "      <td>NaN</td>\n",
       "      <td>Why is the LinkedIn API's 'picture-urls::(orig...</td>\n",
       "      <td>&lt;linkedin&gt;&lt;linkedin-api&gt;</td>\n",
       "      <td>0.0</td>\n",
       "      <td>6</td>\n",
       "      <td>7.0</td>\n",
       "    </tr>\n",
       "  </tbody>\n",
       "</table>\n",
       "</div>"
      ],
      "text/plain": [
       "          PostId  PostTypeId  ParentID  AcceptedAnswerId  \\\n",
       "8705    48881018           1         0                 0   \n",
       "147255  49043684           1         0                 0   \n",
       "202788  49107252           1         0                 0   \n",
       "30347   48906338           1         0                 0   \n",
       "123355  49015858           1         0                 0   \n",
       "156521  49054406           1         0                 0   \n",
       "64636   48946639           1         0                 0   \n",
       "135129  49029515           1         0                 0   \n",
       "14510   48887802           1         0                 0   \n",
       "16183   48889736           1         0                 0   \n",
       "19795   48893928           1         0                 0   \n",
       "89324   48976026           1         0                 0   \n",
       "218566  49125165           1         0                 0   \n",
       "198630  49102553           1         0                 0   \n",
       "173744  49074069           1         0                 0   \n",
       "\n",
       "                   CreationDate  Score  ViewCount  \\\n",
       "8705    2018-02-20T08:45:23.187     45     3840.0   \n",
       "147255  2018-03-01T06:18:10.773     40      815.0   \n",
       "202788  2018-03-05T09:36:49.347     33     2081.0   \n",
       "30347   2018-02-21T12:47:11.460     28      580.0   \n",
       "123355  2018-02-27T18:46:25.080     25     2386.0   \n",
       "156521  2018-03-01T16:31:23.937     22      404.0   \n",
       "64636   2018-02-23T11:16:48.907     21      293.0   \n",
       "135129  2018-02-28T12:23:18.837     18      800.0   \n",
       "14510   2018-02-20T14:42:27.910     18      922.0   \n",
       "16183   2018-02-20T16:22:29.503     16      137.0   \n",
       "19795   2018-02-20T20:46:10.043     16      279.0   \n",
       "89324   2018-02-25T16:54:26.680     14      232.0   \n",
       "218566  2018-03-06T07:08:09.677     14     1146.0   \n",
       "198630  2018-03-05T02:13:02.643     14      222.0   \n",
       "173744  2018-03-02T17:11:47.737     13      227.0   \n",
       "\n",
       "                                                     Body  OwnerUserId  \\\n",
       "8705    <p>I stumbled through an example from \"<em>Eff...    6098812.0   \n",
       "147255  <p>A grid is implemented using the CSS flexbox...     247243.0   \n",
       "202788  <p>I want to know if it's possible to change t...    1734974.0   \n",
       "30347   <pre><code>#include &lt;cstdio&gt;\\r\\n#include...    4140668.0   \n",
       "123355  <p>I have searched and searched for an answer ...    9420401.0   \n",
       "156521  <h1>How to get rid of unnecessary root layouts...    9280279.0   \n",
       "64636   <p>The command <code>jupyter notebook</code> w...    1585017.0   \n",
       "135129  <p>Objective-C declares a class function, init...      64949.0   \n",
       "14510   <p>Is there a function which accepts a referen...    4990642.0   \n",
       "16183   <p>The <a href=\"https://github.com/webpack-con...    4046605.0   \n",
       "19795   <p>Consider the following program:</p>\\r\\n\\r\\n...    8605791.0   \n",
       "89324   <p>I am trying to following this react router ...      39677.0   \n",
       "218566  <p>We recently found some code submitted to ou...      14860.0   \n",
       "198630  <p>Java 10 comes with the new Local Variable T...    2556520.0   \n",
       "173744  <p>I've been importing photos with the 'pictur...    2705886.0   \n",
       "\n",
       "        LastEditorUserId LastEditorDisplayName             LastEditDate  \\\n",
       "8705           3982001.0                   NaN  2018-03-08T13:55:12.227   \n",
       "147255         8620333.0                   NaN  2018-03-03T20:53:38.007   \n",
       "202788               NaN                   NaN                      NaN   \n",
       "30347          4140668.0                   NaN  2018-03-01T04:26:08.500   \n",
       "123355         9420401.0                   NaN  2018-02-27T18:48:59.570   \n",
       "156521         9280279.0                   NaN  2018-03-08T12:15:25.130   \n",
       "64636          1585017.0                   NaN  2018-02-23T14:28:07.030   \n",
       "135129          603977.0                   NaN  2018-03-04T16:40:48.727   \n",
       "14510           964243.0                   NaN  2018-02-21T13:09:57.703   \n",
       "16183          2501450.0                   NaN  2018-02-22T14:40:58.697   \n",
       "19795          8605791.0                   NaN  2018-02-20T23:08:21.743   \n",
       "89324            39677.0                   NaN  2018-03-01T17:08:07.110   \n",
       "218566           15168.0                   NaN  2018-03-06T07:18:16.687   \n",
       "198630         2556520.0                   NaN  2018-03-05T03:42:30.527   \n",
       "173744               NaN                   NaN                      NaN   \n",
       "\n",
       "               LastActivityDate CommunityOwnedDate               ClosedDate  \\\n",
       "8705    2018-03-08T13:55:12.227                NaN                      NaN   \n",
       "147255  2018-03-10T16:16:15.097                NaN                      NaN   \n",
       "202788  2018-03-07T22:46:52.477                NaN                      NaN   \n",
       "30347   2018-03-01T04:26:08.500                NaN                      NaN   \n",
       "123355  2018-03-04T11:28:10.013                NaN  2018-02-28T03:14:22.233   \n",
       "156521  2018-03-10T13:32:17.427                NaN                      NaN   \n",
       "64636   2018-03-06T07:46:36.467                NaN                      NaN   \n",
       "135129  2018-03-09T17:18:11.513                NaN                      NaN   \n",
       "14510   2018-02-26T06:36:52.513                NaN                      NaN   \n",
       "16183   2018-03-01T17:03:00.623                NaN                      NaN   \n",
       "19795   2018-02-21T12:52:04.293                NaN                      NaN   \n",
       "89324   2018-03-07T09:51:27.117                NaN                      NaN   \n",
       "218566  2018-03-06T18:20:52.377                NaN                      NaN   \n",
       "198630  2018-03-07T15:07:59.577                NaN                      NaN   \n",
       "173744  2018-03-06T05:30:58.463                NaN                      NaN   \n",
       "\n",
       "                                                    Title  \\\n",
       "8705                    Cost of Default parameters in C++   \n",
       "147255  How to calculate the amount of flexbox items i...   \n",
       "202788           Change text size and color incrementally   \n",
       "30347      Why can't gcc devirtualize this function call?   \n",
       "123355          What real use does a double pointer have?   \n",
       "156521  Get rid of unnecessary root layouts for fullsc...   \n",
       "64636   How to create and open a jupyter notebook ipyn...   \n",
       "135129  Is there an alternative to initialize() in mac...   \n",
       "14510   Determine if a lambda expression is stateless ...   \n",
       "16183   css-loader localIdentName: is a hash necessary...   \n",
       "19795   Can variadic template template parameter be pa...   \n",
       "89324     Trying to setup redux history so I can redirect   \n",
       "218566    Does packing a structure affect sub-structures?   \n",
       "198630  What is the conceptual difference between a \"r...   \n",
       "173744  Why is the LinkedIn API's 'picture-urls::(orig...   \n",
       "\n",
       "                                                     Tags  AnswerCount  \\\n",
       "8705               <c++><performance><default-parameters>          3.0   \n",
       "147255             <javascript><html><css><css3><flexbox>         11.0   \n",
       "202788                            <javascript><html><css>          5.0   \n",
       "30347                   <c++><gcc><compiler-optimization>          2.0   \n",
       "123355                                    <c++><pointers>         11.0   \n",
       "156521  <android><android-layout><android-activity><ko...          4.0   \n",
       "64636                <python><terminal><jupyter-notebook>          5.0   \n",
       "135129                          <swift><macos><swizzling>          5.0   \n",
       "14510                      <java><lambda><java-8><java-9>          4.0   \n",
       "16183    <css><reactjs><webpack><css-modules><css-loader>          2.0   \n",
       "19795   <c++><templates><clang><language-lawyer><templ...          1.0   \n",
       "89324   <reactjs><react-router><react-redux><react-rou...          2.0   \n",
       "218566                   <c><windows><visual-studio-2015>          5.0   \n",
       "198630                                    <java><java-10>          1.0   \n",
       "173744                           <linkedin><linkedin-api>          0.0   \n",
       "\n",
       "        CommentCount  FavoriteCount  \n",
       "8705              12            4.0  \n",
       "147255             8           13.0  \n",
       "202788             4            9.0  \n",
       "30347              8            3.0  \n",
       "123355            11            1.0  \n",
       "156521             2            4.0  \n",
       "64636              0            0.0  \n",
       "135129            11            5.0  \n",
       "14510             14            8.0  \n",
       "16183              0            NaN  \n",
       "19795              8            5.0  \n",
       "89324             10            1.0  \n",
       "218566             5            NaN  \n",
       "198630            12            4.0  \n",
       "173744             6            7.0  "
      ]
     },
     "execution_count": 98,
     "metadata": {},
     "output_type": "execute_result"
    }
   ],
   "source": [
    "unanswered.sort_values(by='Score',ascending=False)[:15]"
   ]
  },
  {
   "cell_type": "markdown",
   "metadata": {},
   "source": [
    "## What is the mean and median response for a question for each of the 20 most popular tags?"
   ]
  },
  {
   "cell_type": "code",
   "execution_count": 101,
   "metadata": {
    "collapsed": true
   },
   "outputs": [],
   "source": [
    "#need to upload later"
   ]
  },
  {
   "cell_type": "markdown",
   "metadata": {},
   "source": [
    "## Probability of a question being answered as a function of time in minutes"
   ]
  },
  {
   "cell_type": "code",
   "execution_count": 99,
   "metadata": {
    "collapsed": true
   },
   "outputs": [],
   "source": [
    "#rerun\n",
    "Posts = pd.read_csv('../../160-Stackoverflow-Data/300000_rows/Posts.csv', \\\n",
    "                    dtype = {'LastEditorDisplayName': str, 'Tags': str})"
   ]
  },
  {
   "cell_type": "code",
   "execution_count": 32,
   "metadata": {
    "collapsed": true
   },
   "outputs": [],
   "source": [
    "#Parents Post Data Wrangling\n",
    "parents_time = Parents_post.CreationDate.str[:-4]"
   ]
  },
  {
   "cell_type": "code",
   "execution_count": 33,
   "metadata": {
    "collapsed": true
   },
   "outputs": [],
   "source": [
    "unix_parents = [date_ts(i) for i in parents_time]"
   ]
  },
  {
   "cell_type": "code",
   "execution_count": 34,
   "metadata": {
    "collapsed": true
   },
   "outputs": [],
   "source": [
    "df_parents_time = pd.DataFrame({'Cr_time_parents':unix_parents, 'ParentID':Parents_post.Id})"
   ]
  },
  {
   "cell_type": "code",
   "execution_count": 35,
   "metadata": {
    "collapsed": true
   },
   "outputs": [],
   "source": [
    "#Merge Table & Create Columns of mins and hours¶\n",
    "df_compare = pd.merge(df_parents_time, df_answers_time, on='ParentID')"
   ]
  },
  {
   "cell_type": "code",
   "execution_count": 36,
   "metadata": {
    "collapsed": true
   },
   "outputs": [],
   "source": [
    "df_compare['Duration'] = df_compare.Cr_time - df_compare.Cr_time_parents"
   ]
  },
  {
   "cell_type": "code",
   "execution_count": 37,
   "metadata": {
    "collapsed": true
   },
   "outputs": [],
   "source": [
    "df_compare['Duration_mins'] = df_compare.Duration/60"
   ]
  },
  {
   "cell_type": "code",
   "execution_count": 38,
   "metadata": {},
   "outputs": [
    {
     "data": {
      "image/png": "[encoded data removed]",
      "text/plain": [
       "<matplotlib.figure.Figure at 0x1a1cdb85c0>"
      ]
     },
     "metadata": {},
     "output_type": "display_data"
    }
   ],
   "source": [
    "#Histogram\n",
    "df_compare.Duration_mins.plot(kind = 'hist', bins=5000, figsize=(8,6))\n",
    "plt.xlim(0,800)\n",
    "plt.xlabel('minutes')\n",
    "plt.title('Post answered in minutes')\n",
    "plt.grid()"
   ]
  },
  {
   "cell_type": "code",
   "execution_count": 39,
   "metadata": {},
   "outputs": [
    {
     "data": {
      "text/plain": [
       "count    121385.000000\n",
       "mean        609.633554\n",
       "std        1971.848971\n",
       "min           0.000000\n",
       "25%          11.166667\n",
       "50%          35.833333\n",
       "75%         216.283333\n",
       "max       55468.600000\n",
       "Name: Duration_mins, dtype: float64"
      ]
     },
     "execution_count": 39,
     "metadata": {},
     "output_type": "execute_result"
    }
   ],
   "source": [
    "df_compare.Duration_mins.describe()"
   ]
  },
  {
   "cell_type": "code",
   "execution_count": 42,
   "metadata": {
    "collapsed": true
   },
   "outputs": [],
   "source": [
    "#Calculate Frequency and Probability of mins"
   ]
  },
  {
   "cell_type": "code",
   "execution_count": 43,
   "metadata": {
    "collapsed": true
   },
   "outputs": [],
   "source": [
    "Duration_mins_rounded = df_compare.Duration_mins.round()"
   ]
  },
  {
   "cell_type": "code",
   "execution_count": 44,
   "metadata": {
    "collapsed": true
   },
   "outputs": [],
   "source": [
    "fre_mins = pd.DataFrame(Duration_mins_rounded.value_counts(), index=None)\n",
    "fre_mins['mins'] = fre_mins.index\n",
    "fre_mins = fre_mins.rename(columns={'Duration_mins':'Frequency','mins':'mins'})\n",
    "fre_mins.reset_index(inplace=True, drop=True)\n",
    "fre_mins = fre_mins.sort_values('mins')"
   ]
  },
  {
   "cell_type": "code",
   "execution_count": 46,
   "metadata": {
    "collapsed": true
   },
   "outputs": [],
   "source": [
    "fre_mins['Probabiity'] = fre_mins.Frequency/sum(fre_mins.Frequency)"
   ]
  },
  {
   "cell_type": "code",
   "execution_count": 48,
   "metadata": {},
   "outputs": [
    {
     "data": {
      "text/plain": [
       "count    7470.000000\n",
       "mean        0.000134\n",
       "std         0.001140\n",
       "min         0.000008\n",
       "25%         0.000008\n",
       "50%         0.000016\n",
       "75%         0.000033\n",
       "max         0.029600\n",
       "Name: Probabiity, dtype: float64"
      ]
     },
     "execution_count": 48,
     "metadata": {},
     "output_type": "execute_result"
    }
   ],
   "source": [
    "fre_mins.Probabiity.describe()"
   ]
  },
  {
   "cell_type": "code",
   "execution_count": 49,
   "metadata": {
    "collapsed": true
   },
   "outputs": [],
   "source": [
    "#Cumulative Probability\n",
    "fre_mins['cum_pro'] = np.cumsum(list(fre_mins.Probabiity))"
   ]
  },
  {
   "cell_type": "code",
   "execution_count": 51,
   "metadata": {},
   "outputs": [
    {
     "data": {
      "text/plain": [
       "Text(0.5,1,'cumulative probability')"
      ]
     },
     "execution_count": 51,
     "metadata": {},
     "output_type": "execute_result"
    },
    {
     "data": {
      "image/png": "[encoded data removed]",
      "text/plain": [
       "<matplotlib.figure.Figure at 0x1a1cde1ac8>"
      ]
     },
     "metadata": {},
     "output_type": "display_data"
    }
   ],
   "source": [
    "fig=plt.figure(figsize=(16,14))\n",
    "plt.subplot(221)\n",
    "plt.plot(fre_mins.mins, fre_mins.cum_pro, color='red')\n",
    "plt.xlim(0,1000)\n",
    "plt.grid()\n",
    "plt.title('cumulative probability')\n",
    "plt.subplot(222)\n",
    "plt.plot(fre_mins.mins, fre_mins.cum_pro, color='blue')\n",
    "plt.grid()\n",
    "plt.title('cumulative probability')"
   ]
  }
 ],
 "metadata": {
  "kernelspec": {
   "display_name": "Python 3",
   "language": "python",
   "name": "python3"
  },
  "language_info": {
   "codemirror_mode": {
    "name": "ipython",
    "version": 3
   },
   "file_extension": ".py",
   "mimetype": "text/x-python",
   "name": "python",
   "nbconvert_exporter": "python",
   "pygments_lexer": "ipython3",
   "version": "3.6.4"
  },
  "toc": {
   "base_numbering": 1,
   "nav_menu": {},
   "number_sections": true,
   "sideBar": true,
   "skip_h1_title": false,
   "title_cell": "Table of Contents",
   "title_sidebar": "Contents",
   "toc_cell": false,
   "toc_position": {},
   "toc_section_display": true,
   "toc_window_display": false
  }
 },
 "nbformat": 4,
 "nbformat_minor": 2
}
