{
 "cells": [
  {
   "cell_type": "code",
   "execution_count": 23,
   "metadata": {},
   "outputs": [],
   "source": [
    "%matplotlib inline\n",
    "\n",
    "import pandas as pd \n",
    "import matplotlib.pyplot as plt\n",
    "import matplotlib as mpl\n",
    "mpl.rcParams['figure.figsize'] = (15, 10)\n",
    "import numpy as np\n",
    "import seaborn as sns"
   ]
  },
  {
   "cell_type": "markdown",
   "metadata": {},
   "source": [
    "## EDA"
   ]
  },
  {
   "cell_type": "code",
   "execution_count": 25,
   "metadata": {},
   "outputs": [],
   "source": [
    "Badges = pd.read_csv('/Users/esmondchu/Dropbox/160-Stackoverflow-Data/100000_rows_[168_MB]/Badges.csv')\n",
    "Comments = pd.read_csv('/Users/esmondchu/Dropbox/160-Stackoverflow-Data/100000_rows_[168_MB]/Comments.csv')\n",
    "PostHistory = pd.read_csv('/Users/esmondchu/Dropbox/160-Stackoverflow-Data/100000_rows_[168_MB]/PostHistory.csv')\n",
    "Postlinks = pd.read_csv('/Users/esmondchu/Dropbox/160-Stackoverflow-Data/100000_rows_[168_MB]/Postlinks.csv')\n",
    "Posts = pd.read_csv('/Users/esmondchu/Dropbox/160-Stackoverflow-Data/100000_rows_[168_MB]/Posts.csv')\n",
    "Users = pd.read_csv('/Users/esmondchu/Dropbox/160-Stackoverflow-Data/100000_rows_[168_MB]/Users.csv')\n",
    "Votes = pd.read_csv('/Users/esmondchu/Dropbox/160-Stackoverflow-Data/100000_rows_[168_MB]/Votes.csv')"
   ]
  },
  {
   "cell_type": "code",
   "execution_count": 26,
   "metadata": {
    "scrolled": false
   },
   "outputs": [
    {
     "data": {
      "text/plain": [
       "Text(0.5,1,'Posts NA')"
      ]
     },
     "execution_count": 26,
     "metadata": {},
     "output_type": "execute_result"
    },
    {
     "data": {
      "image/png": "[encoded data removed]",
      "text/plain": [
       "<matplotlib.figure.Figure at 0x1a0a1e4860>"
      ]
     },
     "metadata": {},
     "output_type": "display_data"
    }
   ],
   "source": [
    "sns.heatmap(Posts.isnull(), yticklabels=False, cbar=False)\n",
    "plt.title('Posts NA')"
   ]
  },
  {
   "cell_type": "code",
   "execution_count": 308,
   "metadata": {},
   "outputs": [
    {
     "name": "stdout",
     "output_type": "stream",
     "text": [
      "<class 'pandas.core.frame.DataFrame'>\n",
      "RangeIndex: 100000 entries, 0 to 99999\n",
      "Data columns (total 20 columns):\n",
      "Id                       100000 non-null int64\n",
      "PostTypeId               100000 non-null int64\n",
      "ParentID                 81053 non-null float64\n",
      "AcceptedAnswerId         15069 non-null float64\n",
      "CreationDate             100000 non-null object\n",
      "Score                    100000 non-null int64\n",
      "ViewCount                18947 non-null float64\n",
      "Body                     100000 non-null object\n",
      "OwnerUserId              96210 non-null float64\n",
      "LastEditorUserId         35095 non-null float64\n",
      "LastEditorDisplayName    21143 non-null object\n",
      "LastEditDate             35478 non-null object\n",
      "LastActivityDate         100000 non-null object\n",
      "CommunityOwnedDate       5502 non-null object\n",
      "ClosedDate               2047 non-null object\n",
      "Title                    18947 non-null object\n",
      "Tags                     18947 non-null object\n",
      "AnswerCount              18947 non-null float64\n",
      "CommentCount             100000 non-null int64\n",
      "FavoriteCount            12767 non-null float64\n",
      "dtypes: float64(7), int64(4), object(9)\n",
      "memory usage: 15.3+ MB\n"
     ]
    }
   ],
   "source": [
    "Posts.info()"
   ]
  },
  {
   "cell_type": "markdown",
   "metadata": {},
   "source": [
    "### Answers Posts"
   ]
  },
  {
   "cell_type": "code",
   "execution_count": 213,
   "metadata": {},
   "outputs": [],
   "source": [
    "import datetime\n",
    "import calendar\n",
    "\n",
    "#date to timestamp\n",
    "def date_ts(s):\n",
    "    \"\"\" \n",
    "    param s: str - date\n",
    "    returns: int - timestamp\n",
    "    \"\"\"\n",
    "    date = datetime.datetime.strptime(s, \"%Y-%m-%dT%H:%M:%S\")\n",
    "    st = calendar.timegm(date.utctimetuple())\n",
    "    return(st)"
   ]
  },
  {
   "cell_type": "code",
   "execution_count": 218,
   "metadata": {
    "scrolled": false
   },
   "outputs": [],
   "source": [
    "df_answers = Posts[Posts.PostTypeId == 2]"
   ]
  },
  {
   "cell_type": "code",
   "execution_count": 219,
   "metadata": {
    "scrolled": false
   },
   "outputs": [],
   "source": [
    "df_answers = df_answers.reset_index(drop=True)"
   ]
  },
  {
   "cell_type": "code",
   "execution_count": 220,
   "metadata": {},
   "outputs": [],
   "source": [
    "df_answers.CreationDate = df_answers.CreationDate.str[:-4]"
   ]
  },
  {
   "cell_type": "code",
   "execution_count": 222,
   "metadata": {},
   "outputs": [],
   "source": [
    "timestamp = [date_ts(i) for i in df_answers.CreationDate]"
   ]
  },
  {
   "cell_type": "code",
   "execution_count": 224,
   "metadata": {},
   "outputs": [],
   "source": [
    "df_answers_time = pd.DataFrame({'ParentID':df_answers.ParentID, 'Cr_time':timestamp})"
   ]
  },
  {
   "cell_type": "code",
   "execution_count": 226,
   "metadata": {},
   "outputs": [],
   "source": [
    "df_list = df_answers_time.groupby(df_answers_time.ParentID)"
   ]
  },
  {
   "cell_type": "code",
   "execution_count": 228,
   "metadata": {},
   "outputs": [],
   "source": [
    "uni_par_id = list(df_answers_time.ParentID.unique())"
   ]
  },
  {
   "cell_type": "code",
   "execution_count": 290,
   "metadata": {},
   "outputs": [],
   "source": [
    "ans_date = [list(df_list.get_group(i).Cr_time) for i in uni_par_id]"
   ]
  },
  {
   "cell_type": "code",
   "execution_count": 291,
   "metadata": {},
   "outputs": [
    {
     "name": "stdout",
     "output_type": "stream",
     "text": [
      "2917 15773\n"
     ]
    }
   ],
   "source": [
    "yes = 0\n",
    "no = 0\n",
    "for i in ans_date:\n",
    "    if len(i) == 1:\n",
    "        yes += 1\n",
    "    else:\n",
    "        no += 1\n",
    "print(yes, no)\n",
    "\n",
    "#there are 2917 posts with only 1 answer, 15773 posts with more than 1 answers."
   ]
  },
  {
   "cell_type": "code",
   "execution_count": 293,
   "metadata": {},
   "outputs": [],
   "source": [
    "#set 1-answer post sd to 0\n",
    "for i in ans_date:\n",
    "    if len(i) == 1:\n",
    "        i.append(i[0])\n",
    "    else:\n",
    "        i == i"
   ]
  },
  {
   "cell_type": "code",
   "execution_count": 295,
   "metadata": {},
   "outputs": [],
   "source": [
    "import statistics\n",
    "ans_time_sd = [statistics.stdev(i) for i in ans_date]"
   ]
  },
  {
   "cell_type": "code",
   "execution_count": 304,
   "metadata": {},
   "outputs": [],
   "source": [
    "post_Id = sorted(list(df_answers.ParentID.unique()))"
   ]
  },
  {
   "cell_type": "code",
   "execution_count": 305,
   "metadata": {},
   "outputs": [],
   "source": [
    "post_ans_sd = pd.DataFrame({'post_Id':post_Id, 'time_sd':ans_time_sd})"
   ]
  },
  {
   "cell_type": "code",
   "execution_count": 320,
   "metadata": {},
   "outputs": [
    {
     "data": {
      "text/html": [
       "<div>\n",
       "<style>\n",
       "    .dataframe thead tr:only-child th {\n",
       "        text-align: right;\n",
       "    }\n",
       "\n",
       "    .dataframe thead th {\n",
       "        text-align: left;\n",
       "    }\n",
       "\n",
       "    .dataframe tbody tr th {\n",
       "        vertical-align: top;\n",
       "    }\n",
       "</style>\n",
       "<table border=\"1\" class=\"dataframe\">\n",
       "  <thead>\n",
       "    <tr style=\"text-align: right;\">\n",
       "      <th></th>\n",
       "      <th>post_Id</th>\n",
       "      <th>time_sd</th>\n",
       "    </tr>\n",
       "  </thead>\n",
       "  <tbody>\n",
       "    <tr>\n",
       "      <th>0</th>\n",
       "      <td>4.0</td>\n",
       "      <td>1.724331e+06</td>\n",
       "    </tr>\n",
       "    <tr>\n",
       "      <th>1</th>\n",
       "      <td>6.0</td>\n",
       "      <td>1.628865e+06</td>\n",
       "    </tr>\n",
       "    <tr>\n",
       "      <th>2</th>\n",
       "      <td>9.0</td>\n",
       "      <td>2.005625e+06</td>\n",
       "    </tr>\n",
       "    <tr>\n",
       "      <th>3</th>\n",
       "      <td>11.0</td>\n",
       "      <td>1.567259e+06</td>\n",
       "    </tr>\n",
       "    <tr>\n",
       "      <th>4</th>\n",
       "      <td>13.0</td>\n",
       "      <td>9.701637e+05</td>\n",
       "    </tr>\n",
       "  </tbody>\n",
       "</table>\n",
       "</div>"
      ],
      "text/plain": [
       "   post_Id       time_sd\n",
       "0      4.0  1.724331e+06\n",
       "1      6.0  1.628865e+06\n",
       "2      9.0  2.005625e+06\n",
       "3     11.0  1.567259e+06\n",
       "4     13.0  9.701637e+05"
      ]
     },
     "execution_count": 320,
     "metadata": {},
     "output_type": "execute_result"
    }
   ],
   "source": [
    "post_ans_sd.head()"
   ]
  },
  {
   "cell_type": "markdown",
   "metadata": {},
   "source": [
    "### Parents Posts"
   ]
  },
  {
   "cell_type": "code",
   "execution_count": 309,
   "metadata": {},
   "outputs": [],
   "source": [
    "Parents_post = Posts[Posts.PostTypeId == 1]"
   ]
  },
  {
   "cell_type": "code",
   "execution_count": 316,
   "metadata": {},
   "outputs": [],
   "source": [
    "Parents_post = Parents_post.reset_index(drop=True)"
   ]
  },
  {
   "cell_type": "code",
   "execution_count": 317,
   "metadata": {},
   "outputs": [
    {
     "name": "stdout",
     "output_type": "stream",
     "text": [
      "<class 'pandas.core.frame.DataFrame'>\n",
      "RangeIndex: 18947 entries, 0 to 18946\n",
      "Data columns (total 20 columns):\n",
      "Id                       18947 non-null int64\n",
      "PostTypeId               18947 non-null int64\n",
      "ParentID                 0 non-null float64\n",
      "AcceptedAnswerId         15069 non-null float64\n",
      "CreationDate             18947 non-null object\n",
      "Score                    18947 non-null int64\n",
      "ViewCount                18947 non-null float64\n",
      "Body                     18947 non-null object\n",
      "OwnerUserId              17701 non-null float64\n",
      "LastEditorUserId         14223 non-null float64\n",
      "LastEditorDisplayName    9820 non-null object\n",
      "LastEditDate             14381 non-null object\n",
      "LastActivityDate         18947 non-null object\n",
      "CommunityOwnedDate       715 non-null object\n",
      "ClosedDate               2047 non-null object\n",
      "Title                    18947 non-null object\n",
      "Tags                     18947 non-null object\n",
      "AnswerCount              18947 non-null float64\n",
      "CommentCount             18947 non-null int64\n",
      "FavoriteCount            12767 non-null float64\n",
      "dtypes: float64(7), int64(4), object(9)\n",
      "memory usage: 2.9+ MB\n"
     ]
    }
   ],
   "source": [
    "Parents_post.info()"
   ]
  },
  {
   "cell_type": "code",
   "execution_count": 318,
   "metadata": {},
   "outputs": [],
   "source": [
    "df_parents = pd.DataFrame({'post_Id':Parents_post.Id, 'Views_count':Parents_post.ViewCount,\\\n",
    "                           'Score':Parents_post.Score, 'Comment_count':Parents_post.CommentCount})"
   ]
  },
  {
   "cell_type": "code",
   "execution_count": 323,
   "metadata": {},
   "outputs": [],
   "source": [
    "df_comb = df_parents.join(post_ans_sd.set_index('post_Id'), on='post_Id')"
   ]
  },
  {
   "cell_type": "code",
   "execution_count": 325,
   "metadata": {},
   "outputs": [
    {
     "data": {
      "text/html": [
       "<div>\n",
       "<style>\n",
       "    .dataframe thead tr:only-child th {\n",
       "        text-align: right;\n",
       "    }\n",
       "\n",
       "    .dataframe thead th {\n",
       "        text-align: left;\n",
       "    }\n",
       "\n",
       "    .dataframe tbody tr th {\n",
       "        vertical-align: top;\n",
       "    }\n",
       "</style>\n",
       "<table border=\"1\" class=\"dataframe\">\n",
       "  <thead>\n",
       "    <tr style=\"text-align: right;\">\n",
       "      <th></th>\n",
       "      <th>Comment_count</th>\n",
       "      <th>Score</th>\n",
       "      <th>Views_count</th>\n",
       "      <th>post_Id</th>\n",
       "      <th>time_sd</th>\n",
       "    </tr>\n",
       "  </thead>\n",
       "  <tbody>\n",
       "    <tr>\n",
       "      <th>0</th>\n",
       "      <td>1</td>\n",
       "      <td>543</td>\n",
       "      <td>34799.0</td>\n",
       "      <td>4</td>\n",
       "      <td>1.724331e+06</td>\n",
       "    </tr>\n",
       "    <tr>\n",
       "      <th>1</th>\n",
       "      <td>0</td>\n",
       "      <td>241</td>\n",
       "      <td>15696.0</td>\n",
       "      <td>6</td>\n",
       "      <td>1.628865e+06</td>\n",
       "    </tr>\n",
       "    <tr>\n",
       "      <th>2</th>\n",
       "      <td>16</td>\n",
       "      <td>1716</td>\n",
       "      <td>439828.0</td>\n",
       "      <td>9</td>\n",
       "      <td>2.005625e+06</td>\n",
       "    </tr>\n",
       "    <tr>\n",
       "      <th>3</th>\n",
       "      <td>3</td>\n",
       "      <td>1286</td>\n",
       "      <td>130055.0</td>\n",
       "      <td>11</td>\n",
       "      <td>1.567259e+06</td>\n",
       "    </tr>\n",
       "    <tr>\n",
       "      <th>4</th>\n",
       "      <td>6</td>\n",
       "      <td>519</td>\n",
       "      <td>149911.0</td>\n",
       "      <td>13</td>\n",
       "      <td>9.701637e+05</td>\n",
       "    </tr>\n",
       "  </tbody>\n",
       "</table>\n",
       "</div>"
      ],
      "text/plain": [
       "   Comment_count  Score  Views_count post_Id       time_sd\n",
       "0              1    543      34799.0       4  1.724331e+06\n",
       "1              0    241      15696.0       6  1.628865e+06\n",
       "2             16   1716     439828.0       9  2.005625e+06\n",
       "3              3   1286     130055.0      11  1.567259e+06\n",
       "4              6    519     149911.0      13  9.701637e+05"
      ]
     },
     "execution_count": 325,
     "metadata": {},
     "output_type": "execute_result"
    }
   ],
   "source": [
    "df_comb.head()"
   ]
  },
  {
   "cell_type": "code",
   "execution_count": 338,
   "metadata": {},
   "outputs": [
    {
     "data": {
      "text/plain": [
       "<matplotlib.collections.PathCollection at 0x1a38f4d128>"
      ]
     },
     "execution_count": 338,
     "metadata": {},
     "output_type": "execute_result"
    },
    {
     "data": {
      "image/png": "[encoded data removed]",
      "text/plain": [
       "<matplotlib.figure.Figure at 0x1a38b46e80>"
      ]
     },
     "metadata": {},
     "output_type": "display_data"
    }
   ],
   "source": [
    "fig=plt.figure(figsize=(20,18))\n",
    "plt.suptitle(\"Question Value vs Timely Collaboration\", size=20)\n",
    "plt.subplot(221)\n",
    "plt.scatter(df_comb.time_sd, df_comb.Score)\n",
    "plt.title('sd vs score')\n",
    "plt.xlabel('sd')\n",
    "plt.ylabel('score')\n",
    "plt.subplot(222)\n",
    "plt.title('sd vs views')\n",
    "plt.xlabel('sd')\n",
    "plt.ylabel('views')\n",
    "plt.scatter(df_comb.time_sd, df_comb.Views_count)"
   ]
  },
  {
   "cell_type": "code",
   "execution_count": null,
   "metadata": {},
   "outputs": [],
   "source": []
  }
 ],
 "metadata": {
  "kernelspec": {
   "display_name": "Python 3",
   "language": "python",
   "name": "python3"
  }
 },
 "nbformat": 4,
 "nbformat_minor": 2
}
