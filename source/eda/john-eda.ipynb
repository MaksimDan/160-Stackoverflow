{
 "cells": [
  {
   "cell_type": "code",
   "execution_count": null,
   "metadata": {
    "collapsed": true
   },
   "outputs": [],
   "source": [
    "\"\"\"\n",
    "TODOs:\n",
    "Build a graph where nodes are master tags, and edges are relational strength between two tags \n",
    "(for example, np-array and np-matrix as two individual tags that are highly coorelated with one another). \n",
    "As a measure of strength between tags, see cosine similiarity. \n",
    "Since there are a constant number of tags (roughly 6000), represent the graph as an adjacency matrix.\n",
    "\n",
    "Notes:\n",
    "https://tinyurl.com/y9hcxglo\n",
    "\"\"\""
   ]
  },
  {
   "cell_type": "code",
   "execution_count": 1,
   "metadata": {
    "collapsed": true
   },
   "outputs": [],
   "source": [
    "import pandas as pd\n",
    "from collections import Counter, defaultdict\n",
    "import json\n",
    "from pprint import pprint\n",
    "import seaborn as sns\n",
    "import matplotlib.pyplot as plt\n",
    "import numpy as np\n",
    "PATH = '/Users/John/PycharmProjects/160-Stackoverflow/source/sandbox/300000_rows/'\n",
    "QUESTION = 1\n",
    "ANSWER = 2\n",
    "UP = 2\n",
    "DOWN = 3\n",
    "path = lambda x: PATH + x"
   ]
  },
  {
   "cell_type": "code",
   "execution_count": null,
   "metadata": {
    "collapsed": false
   },
   "outputs": [],
   "source": [
    "posts = pd.read_csv(path('Posts.csv'))\n",
    "votes = pd.read_csv(path('Votes.csv'))"
   ]
  },
  {
   "cell_type": "code",
   "execution_count": null,
   "metadata": {
    "collapsed": true
   },
   "outputs": [],
   "source": [
    "posts['ParentID'] = posts['ParentID'].fillna(0).astype(int)\n",
    "posts['AcceptedAnswerId'] = posts['AcceptedAnswerId'].fillna(0).astype(int)"
   ]
  },
  {
   "cell_type": "markdown",
   "metadata": {},
   "source": [
    "### What is the ratio of questions left answered?"
   ]
  },
  {
   "cell_type": "code",
   "execution_count": null,
   "metadata": {
    "collapsed": true
   },
   "outputs": [],
   "source": [
    "questions = posts[posts['PostTypeId'] == QUESTION]\n",
    "unanswered = questions[questions['AcceptedAnswerId'] == 0]\n",
    "#len(questions[questions['AnswerCount'] == 0]) / len(questions)"
   ]
  },
  {
   "cell_type": "markdown",
   "metadata": {},
   "source": [
    "### What is the ratio of questions without an accepted answer?"
   ]
  },
  {
   "cell_type": "code",
   "execution_count": null,
   "metadata": {
    "collapsed": true
   },
   "outputs": [],
   "source": [
    "len(unanswered) / len(questions)"
   ]
  },
  {
   "cell_type": "code",
   "execution_count": null,
   "metadata": {
    "collapsed": true
   },
   "outputs": [],
   "source": [
    "unanswered.rename(columns = {'Id':'PostId'}, inplace = True)\n",
    "upvotes = votes[votes['VoteTypeId'] == UP]"
   ]
  },
  {
   "cell_type": "code",
   "execution_count": null,
   "metadata": {
    "collapsed": true
   },
   "outputs": [],
   "source": [
    "no_ans_q = questions[questions['AnswerCount'] == 0]\n",
    "no_ans_q.rename(columns = {'Id':'PostId'}, inplace = True)\n",
    "uv_no_ans = upvotes.join(no_ans_q.set_index('PostId'), on='PostId', how='inner', lsuffix='_x')"
   ]
  },
  {
   "cell_type": "code",
   "execution_count": null,
   "metadata": {
    "collapsed": true
   },
   "outputs": [],
   "source": [
    "# List the 15 most upvoted questions that are unanswered.\n",
    "top_uv_no_ans = Counter(uv_no_ans['PostId']).most_common(15)"
   ]
  },
  {
   "cell_type": "markdown",
   "metadata": {},
   "source": [
    "### List the 15 most upvoted questions that are unanswered."
   ]
  },
  {
   "cell_type": "code",
   "execution_count": null,
   "metadata": {
    "collapsed": true
   },
   "outputs": [],
   "source": [
    "unanswered.sort_values(by='Score',ascending=False)[:15]"
   ]
  },
  {
   "cell_type": "code",
   "execution_count": null,
   "metadata": {
    "collapsed": true
   },
   "outputs": [],
   "source": [
    "posts['CreationDate'] = pd.to_datetime(posts.CreationDate)\n",
    "#posts.sort_values(by='CreationDate')[:10]"
   ]
  },
  {
   "cell_type": "markdown",
   "metadata": {},
   "source": [
    "### What is the mean and median response for a question for each of the 20 most popular tags?\n",
    "The mean and median response is the difference between when the question is asked and when the first answer is. "
   ]
  },
  {
   "cell_type": "code",
   "execution_count": null,
   "metadata": {
    "collapsed": true
   },
   "outputs": [],
   "source": [
    "tags = pd.read_csv('/Users/John/PycharmProjects/160-Stackoverflow/source/sandbox/tags/tag_distribution.csv')"
   ]
  },
  {
   "cell_type": "code",
   "execution_count": null,
   "metadata": {
    "collapsed": true
   },
   "outputs": [],
   "source": [
    "top_tags = tags.sort_values(by='frequency', ascending=False)[:20]"
   ]
  },
  {
   "cell_type": "markdown",
   "metadata": {},
   "source": [
    "#### Getting the time between the question is asked and the accepted answer "
   ]
  },
  {
   "cell_type": "code",
   "execution_count": null,
   "metadata": {
    "collapsed": true
   },
   "outputs": [],
   "source": [
    "answers = posts[posts['PostTypeId'] == ANSWER] \n",
    "def time_diff(question_row):\n",
    "    answer_row = answers.loc[answers['Id'] == question_row['AcceptedAnswerId']]\n",
    "    return answer_row.get_value(answer_row.index.values[0], 'CreationDate') - question_row.get_value(4)"
   ]
  },
  {
   "cell_type": "code",
   "execution_count": null,
   "metadata": {
    "collapsed": false
   },
   "outputs": [],
   "source": [
    "questions['CreationDate'] = pd.to_datetime(questions['CreationDate'])"
   ]
  },
  {
   "cell_type": "code",
   "execution_count": null,
   "metadata": {
    "collapsed": false,
    "scrolled": true
   },
   "outputs": [],
   "source": [
    "answered_questions = questions[questions['AcceptedAnswerId'] != 0]\n",
    "answered_questions['AcceptedAnswerTime'] = answered_questions.apply(time_diff, axis=1)"
   ]
  },
  {
   "cell_type": "code",
   "execution_count": null,
   "metadata": {
    "collapsed": true
   },
   "outputs": [],
   "source": [
    "tag_dict = json.load(open('/Users/John/PycharmProjects/160-Stackoverflow/source/sandbox/tag_network_load.json'))"
   ]
  },
  {
   "cell_type": "code",
   "execution_count": null,
   "metadata": {
    "collapsed": true
   },
   "outputs": [],
   "source": [
    "# tag with accepted answer time in hours\n",
    "post_by_tags = pd.DataFrame(columns=list(top_tags['tag']))\n",
    "for tag in top_tags['tag']:\n",
    "    rows = answered_questions.loc[posts['Id'].isin(tag_dict[tag])]\n",
    "    # convert to hours\n",
    "    post_by_tags[tag] = rows['AcceptedAnswerTime'].apply(lambda x: x.seconds / 3600)"
   ]
  },
  {
   "cell_type": "code",
   "execution_count": null,
   "metadata": {
    "collapsed": false
   },
   "outputs": [],
   "source": [
    "fig=plt.figure(figsize=(18, 16), dpi= 80, facecolor='w', edgecolor='k')\n",
    "mean_responses = post_by_tags.mean().sort_values()\n",
    "sns.set(context='notebook', style='whitegrid')\n",
    "sns.utils.axlabel(xlabel=\"Tags\", ylabel=\"Time in Hours\",fontsize=16)\n",
    "ax = sns.boxplot(x=mean_responses.axes[0].values, y=list(mean_responses),palette=\"Set3\")\n",
    "ax.set_title('Top 20 Tags Mean Accepted Answer Response Time')\n",
    "plt.show()"
   ]
  },
  {
   "cell_type": "code",
   "execution_count": null,
   "metadata": {
    "collapsed": false
   },
   "outputs": [],
   "source": [
    "fig=plt.figure(figsize=(18, 16), dpi= 80, facecolor='w', edgecolor='k')\n",
    "median_responses = post_by_tags.median().sort_values()\n",
    "sns.set(context='notebook', style='whitegrid')\n",
    "sns.utils.axlabel(xlabel=\"Tags\", ylabel=\"Time in Hours\",fontsize=16)\n",
    "ax = sns.boxplot(x=median_responses.axes[0].values, y=list(median_responses),palette=\"Set3\")\n",
    "ax.set_title('Top 20 Tags Median Accepted Answer Response Time')\n",
    "plt.show()"
   ]
  },
  {
   "cell_type": "markdown",
   "metadata": {},
   "source": [
    "## Tag Network\n",
    "\n",
    "https://trello.com/c/kxI21E3n"
   ]
  },
  {
   "cell_type": "code",
   "execution_count": 81,
   "metadata": {
    "collapsed": false
   },
   "outputs": [],
   "source": [
    "tags = pd.read_csv('/Users/John/PycharmProjects/160-Stackoverflow/source/sandbox/tags/tag_distribution.csv')\n",
    "tag_dict = json.load(open('/Users/John/PycharmProjects/160-Stackoverflow/source/sandbox/tag_network_load.json'))\n",
    "\n",
    "# store the cosine(tag1, tag2)\n",
    "n = 1000\n",
    "all_tags = tags['tag'].tolist()\n",
    "tag_similarity = pd.DataFrame([],columns=all_tags[:n], index=all_tags[:n])\n",
    "\n",
    "def cosine_sim(tag1, tag2, tag_dict):\n",
    "    tag1_set = set(tag_dict[tag1])\n",
    "    tag2_set = set(tag_dict[tag2])\n",
    "    num =  len(tag1_set & tag2_set)\n",
    "    den = (len(tag1_set)**2)**5 * (len(tag2_set)**2)**.5\n",
    "    return num / den \n",
    "\n",
    "for i in range(n):\n",
    "    tag1 = all_tags[i]\n",
    "    for j in range(i+1, n):\n",
    "        tag2 = all_tags[j]\n",
    "        try:\n",
    "            tag_similarity.at[tag1,tag2] = cosine_sim(tag1, tag2, tag_dict)\n",
    "        except Exception as e:\n",
    "            continue\n",
    "def build_graph():\n",
    "    graph = defaultdict(dict)\n",
    "    for i in range(n):\n",
    "        tag = all_tags[i]\n",
    "        similar_tags = tag_similarity.loc[tag,:].nlargest(n=15)\n",
    "        graph[tag] = {'similar_tags' :[(a, b) for a, b in zip(similar_tags.axes[0].tolist(), similar_tags.values.tolist())]}\n",
    "    return graph\n",
    "\n",
    "tag_similarity = tag_similarity.astype(float)\n",
    "graph = build_graph()\n",
    "\n",
    "import json\n",
    "with open('tag_network.json', 'w+') as outfile:\n",
    "    json.dump(graph, outfile)"
   ]
  },
  {
   "cell_type": "code",
   "execution_count": null,
   "metadata": {
    "collapsed": true
   },
   "outputs": [],
   "source": []
  }
 ],
 "metadata": {
  "kernelspec": {
   "display_name": "venv",
   "language": "python",
   "name": "venv"
  },
  "language_info": {
   "codemirror_mode": {
    "name": "ipython",
    "version": 3
   },
   "file_extension": ".py",
   "mimetype": "text/x-python",
   "name": "python",
   "nbconvert_exporter": "python",
   "pygments_lexer": "ipython3",
   "version": "3.6.3"
  },
  "toc": {
   "nav_menu": {},
   "number_sections": true,
   "sideBar": true,
   "skip_h1_title": false,
   "title_cell": "Table of Contents",
   "title_sidebar": "Contents",
   "toc_cell": false,
   "toc_position": {},
   "toc_section_display": true,
   "toc_window_display": true
  }
 },
 "nbformat": 4,
 "nbformat_minor": 1
}
