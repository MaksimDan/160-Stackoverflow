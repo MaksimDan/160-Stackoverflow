{
 "cells": [
  {
   "cell_type": "markdown",
   "metadata": {},
   "source": [
    "Id | Name\n",
    "-- | ----------------------\n",
    "1  | AcceptedByOriginator\n",
    "2  | UpMod\n",
    "3  | DownMod\n",
    "4  | Offensive\n",
    "5  | Favorite\n",
    "6  | Close\n",
    "7  | Reopen\n",
    "8  | BountyStart\n",
    "9  | BountyClose\n",
    "10 | Deletion\n",
    "11 | Undeletion\n",
    "12 | Spam\n",
    "15 | ModeratorReview\n",
    "16 | ApproveEditSuggestion"
   ]
  },
  {
   "cell_type": "code",
   "execution_count": 99,
   "metadata": {
    "collapsed": false
   },
   "outputs": [],
   "source": [
    "import pandas as pd\n",
    "import re\n",
    "from sklearn.model_selection import train_test_split\n",
    "from copy import copy\n",
    "import progressbar\n",
    "import json \n",
    "from collections import defaultdict\n",
    "import jsonpickle\n",
    "\n",
    "# raw input\n",
    "Post_his = pd.read_csv('~/Dropbox/160-Stackoverflow-Data/train_test/PostsHistory_2012.csv')[:1000]"
   ]
  },
  {
   "cell_type": "code",
   "execution_count": null,
   "metadata": {
    "collapsed": false
   },
   "outputs": [],
   "source": [
    "ps = Post_his[:1000]"
   ]
  },
  {
   "cell_type": "code",
   "execution_count": null,
   "metadata": {
    "collapsed": false
   },
   "outputs": [],
   "source": [
    "Posts_full.dropna(subset=['OwnerUserId'], inplace=True)\n",
    "\n",
    "def get_edit_activity(ps, activity):\n",
    "    ps = ps[(ps['PostHistoryTypeId'] >= 4) & (ps['PostHistoryTypeId'] <= 6)].drop('Unnamed: 0', axis=1)     \n",
    "    ps.apply(lambda row: activity[row.PostId]['editers'].append(row.UserId), axis=1)"
   ]
  },
  {
   "cell_type": "code",
   "execution_count": 146,
   "metadata": {
    "collapsed": false
   },
   "outputs": [],
   "source": [
    "Posts_full = pd.read_csv('~/Dropbox/160-Stackoverflow-Data/train_test/Posts_Clean.csv')[:1000]\n",
    "Votes = pd.read_csv('~/Dropbox/160-Stackoverflow-Data/train_test/Votes.csv')[:1000]\n",
    "Comments = pd.read_csv('~/Dropbox/160-Stackoverflow-Data/train_test/Comments.csv')[:1000]"
   ]
  },
  {
   "cell_type": "code",
   "execution_count": null,
   "metadata": {
    "collapsed": false
   },
   "outputs": [],
   "source": [
    "Votes = Votes[Votes['VoteTypeId'].isin([1, 2, 3, 5])]\n",
    "Votes.apply(lambda row : activity[row.PostId][str(row.VoteTypeId)].append(row.UserId), axis=1)"
   ]
  },
  {
   "cell_type": "code",
   "execution_count": null,
   "metadata": {
    "collapsed": false
   },
   "outputs": [],
   "source": [
    "activity = defaultdict(lambda :{'1' : [], '2': [], '3': [], '5': [], 'edit' : [], 'comments': []})\n",
    "Comments.apply(lambda row: activity[row.PostId]['commenters'].append(row.UserId), axis=1)"
   ]
  },
  {
   "cell_type": "code",
   "execution_count": null,
   "metadata": {
    "collapsed": false
   },
   "outputs": [],
   "source": [
    "def get_answers(row):\n",
    "    if not pd.isnull(row.OwnerUserId):\n",
    "        activity[row.Id]['answerers'].append(row.OwnerUserId)\n",
    "Posts_full['ParentId'] = Posts_full['ParentId'].astype(str).apply(lambda row : row.rstrip(\".0\"))\n",
    "Posts_full[Posts_full['PostTypeId'] == 2].apply(get_answers, axis=1)"
   ]
  },
  {
   "cell_type": "code",
   "execution_count": null,
   "metadata": {
    "collapsed": true
   },
   "outputs": [],
   "source": [
    "Votes.dropna(subset=['UserId'], inplace=True)"
   ]
  },
  {
   "cell_type": "code",
   "execution_count": null,
   "metadata": {
    "collapsed": true
   },
   "outputs": [],
   "source": []
  }
 ],
 "metadata": {
  "kernelspec": {
   "display_name": "venv",
   "language": "python",
   "name": "venv"
  },
  "language_info": {
   "codemirror_mode": {
    "name": "ipython",
    "version": 3
   },
   "file_extension": ".py",
   "mimetype": "text/x-python",
   "name": "python",
   "nbconvert_exporter": "python",
   "pygments_lexer": "ipython3",
   "version": "3.6.3"
  }
 },
 "nbformat": 4,
 "nbformat_minor": 0
}
