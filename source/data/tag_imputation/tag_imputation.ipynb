{
 "cells": [
  {
   "cell_type": "markdown",
   "metadata": {},
   "source": [
    "# Stack Overflow Tag Imputation using Multi-label Classification"
   ]
  },
  {
   "cell_type": "markdown",
   "metadata": {},
   "source": [
    "## Imports"
   ]
  },
  {
   "cell_type": "code",
   "execution_count": 87,
   "metadata": {},
   "outputs": [],
   "source": [
    "# data structures\n",
    "import pandas as pd\n",
    "from tqdm import tqdm, tqdm_pandas\n",
    "from collections import Counter\n",
    "\n",
    "# iterators\n",
    "import itertools\n",
    "\n",
    "# text\n",
    "import re\n",
    "import nltk\n",
    "from nltk.tokenize import word_tokenize\n",
    "from nltk.corpus import stopwords"
   ]
  },
  {
   "cell_type": "markdown",
   "metadata": {},
   "source": [
    "## Settings"
   ]
  },
  {
   "cell_type": "code",
   "execution_count": 63,
   "metadata": {},
   "outputs": [
    {
     "name": "stdout",
     "output_type": "stream",
     "text": [
      "[nltk_data] Downloading package stopwords to\n",
      "[nltk_data]     C:\\Users\\maksi\\AppData\\Roaming\\nltk_data...\n",
      "[nltk_data]   Package stopwords is already up-to-date!\n",
      "[nltk_data] Downloading package punkt to\n",
      "[nltk_data]     C:\\Users\\maksi\\AppData\\Roaming\\nltk_data...\n",
      "[nltk_data]   Package punkt is already up-to-date!\n"
     ]
    },
    {
     "name": "stderr",
     "output_type": "stream",
     "text": [
      "\n",
      "\n",
      "0it [00:00, ?it/s]\n",
      "TqdmDeprecationWarning: Please use `tqdm.pandas(...)` instead of `tqdm_pandas(tqdm(...))`.\n",
      "\n"
     ]
    }
   ],
   "source": [
    "# download\n",
    "nltk.download('stopwords')\n",
    "nltk.download('punkt')\n",
    "\n",
    "# create and register a new `tqdm` instance with `pandas`\n",
    "tqdm_pandas(tqdm())"
   ]
  },
  {
   "cell_type": "markdown",
   "metadata": {},
   "source": [
    "## Data Preprocessing"
   ]
  },
  {
   "cell_type": "code",
   "execution_count": 64,
   "metadata": {},
   "outputs": [],
   "source": [
    "# to build and traing our model, we are going to have to work with posts have labeled tags\n",
    "# posts = pd.read_csv(\"../../../../160-Stackoverflow-Data/300000_rows/Posts.csv\", \n",
    "#                     dtype={'LastEditorDisplayName': str})\n",
    "posts = pd.read_csv(\"../../../../160-Stackoverflow-Data/100000_rows/Posts.csv\", \n",
    "                    dtype={'LastEditorDisplayName': str})\n",
    "sub_posts = posts[['Id', 'Body', 'Title', 'Tags']]\n",
    "sub_posts = sub_posts[~sub_posts['Tags'].isnull()]"
   ]
  },
  {
   "cell_type": "code",
   "execution_count": 65,
   "metadata": {},
   "outputs": [
    {
     "name": "stdout",
     "output_type": "stream",
     "text": [
      "(50053, 4)\n"
     ]
    },
    {
     "data": {
      "text/html": [
       "<div>\n",
       "<style scoped>\n",
       "    .dataframe tbody tr th:only-of-type {\n",
       "        vertical-align: middle;\n",
       "    }\n",
       "\n",
       "    .dataframe tbody tr th {\n",
       "        vertical-align: top;\n",
       "    }\n",
       "\n",
       "    .dataframe thead th {\n",
       "        text-align: right;\n",
       "    }\n",
       "</style>\n",
       "<table border=\"1\" class=\"dataframe\">\n",
       "  <thead>\n",
       "    <tr style=\"text-align: right;\">\n",
       "      <th></th>\n",
       "      <th>Id</th>\n",
       "      <th>Body</th>\n",
       "      <th>Title</th>\n",
       "      <th>Tags</th>\n",
       "    </tr>\n",
       "  </thead>\n",
       "  <tbody>\n",
       "    <tr>\n",
       "      <th>0</th>\n",
       "      <td>49104125</td>\n",
       "      <td>&lt;p&gt;Am new to jquery. \\r\\n    I try to create m...</td>\n",
       "      <td>down caret rotating not working</td>\n",
       "      <td>&lt;jquery&gt;&lt;css&gt;&lt;asp.net&gt;&lt;html5&gt;</td>\n",
       "    </tr>\n",
       "    <tr>\n",
       "      <th>1</th>\n",
       "      <td>49104126</td>\n",
       "      <td>&lt;p&gt;We are working on rewrite of an existing ap...</td>\n",
       "      <td>Parallel job execution with split-and-aggregat...</td>\n",
       "      <td>&lt;java&gt;&lt;multithreading&gt;&lt;jobs&gt;</td>\n",
       "    </tr>\n",
       "    <tr>\n",
       "      <th>2</th>\n",
       "      <td>49104127</td>\n",
       "      <td>&lt;p&gt;In Graph Explorer, when logged in as a user...</td>\n",
       "      <td>Microsoft Graph: \"Unknown Error\" when calling ...</td>\n",
       "      <td>&lt;azure&gt;&lt;active-directory&gt;&lt;microsoft-graph&gt;&lt;msal&gt;</td>\n",
       "    </tr>\n",
       "    <tr>\n",
       "      <th>6</th>\n",
       "      <td>49104131</td>\n",
       "      <td>&lt;p&gt;I'm currently using Google Drive SDK in my ...</td>\n",
       "      <td>Class implemented in both Derived Data and App...</td>\n",
       "      <td>&lt;ios&gt;&lt;swift&gt;&lt;xcode&gt;&lt;google-drive-sdk&gt;</td>\n",
       "    </tr>\n",
       "    <tr>\n",
       "      <th>7</th>\n",
       "      <td>49104132</td>\n",
       "      <td>&lt;p&gt;I have 3 Spinners citySpinner, regionSpinne...</td>\n",
       "      <td>How to filter spinner based on other spinner s...</td>\n",
       "      <td>&lt;android&gt;&lt;json&gt;</td>\n",
       "    </tr>\n",
       "  </tbody>\n",
       "</table>\n",
       "</div>"
      ],
      "text/plain": [
       "         Id                                               Body  \\\n",
       "0  49104125  <p>Am new to jquery. \\r\\n    I try to create m...   \n",
       "1  49104126  <p>We are working on rewrite of an existing ap...   \n",
       "2  49104127  <p>In Graph Explorer, when logged in as a user...   \n",
       "6  49104131  <p>I'm currently using Google Drive SDK in my ...   \n",
       "7  49104132  <p>I have 3 Spinners citySpinner, regionSpinne...   \n",
       "\n",
       "                                               Title  \\\n",
       "0                    down caret rotating not working   \n",
       "1  Parallel job execution with split-and-aggregat...   \n",
       "2  Microsoft Graph: \"Unknown Error\" when calling ...   \n",
       "6  Class implemented in both Derived Data and App...   \n",
       "7  How to filter spinner based on other spinner s...   \n",
       "\n",
       "                                               Tags  \n",
       "0                     <jquery><css><asp.net><html5>  \n",
       "1                      <java><multithreading><jobs>  \n",
       "2  <azure><active-directory><microsoft-graph><msal>  \n",
       "6             <ios><swift><xcode><google-drive-sdk>  \n",
       "7                                   <android><json>  "
      ]
     },
     "execution_count": 65,
     "metadata": {},
     "output_type": "execute_result"
    }
   ],
   "source": [
    "print(sub_posts.shape)\n",
    "sub_posts.head()"
   ]
  },
  {
   "cell_type": "markdown",
   "metadata": {},
   "source": [
    "## Data Cleaning\n",
    "\n",
    "The body of our dataframe is encoded in html. Additionally, we will have to remove stop words."
   ]
  },
  {
   "cell_type": "code",
   "execution_count": 66,
   "metadata": {},
   "outputs": [
    {
     "name": "stdout",
     "output_type": "stream",
     "text": [
      "sql server equivalent excels choose function\n",
      "free c++ memory vectorint arr\n"
     ]
    }
   ],
   "source": [
    "# characters to replace by space (for html)\n",
    "BRACKETS_RE = re.compile('[/(){}\\[\\]\\|@,;]') \n",
    "\n",
    "# identify irrelevent characters\n",
    "BAD_SYMBOLS_RE = re.compile('[^0-9a-z #+_]')\n",
    "\n",
    "# insignificant words\n",
    "STOPWORDS = set(stopwords.words('english'))\n",
    "\n",
    "def clean_and_tokenize_body(text):\n",
    "    \"\"\"\n",
    "    @param text: str - raw string\n",
    "    return: str - filtered, and tokenized string\n",
    "    \"\"\"\n",
    "    text = re.sub(BRACKETS_RE, ' ', text.lower())\n",
    "    text = re.sub(BAD_SYMBOLS_RE, '', text)\n",
    "    return ' '.join([w for w in word_tokenize(text) if not w in STOPWORDS])\n",
    "\n",
    "\n",
    "# sample function test\n",
    "examples = [\"SQL Server -{any equivalent of Excel's} CHOOSE function?\",\n",
    "            \"How to free c++ memory vector<int> * (arr)?\"]\n",
    "for e in examples:\n",
    "    print(clean_and_tokenize_body(e))"
   ]
  },
  {
   "cell_type": "code",
   "execution_count": 67,
   "metadata": {},
   "outputs": [],
   "source": [
    "# now apple on the main dataframe\n",
    "# progress_apply is an alternative to apply offered by tqdm\n",
    "sub_posts['Body'] = sub_posts['Body'].apply(lambda t: clean_and_tokenize_body(t))\n",
    "sub_posts['Title'] = sub_posts['Title'].apply(lambda t: clean_and_tokenize_body(t))\n",
    "sub_posts['Tags'] = sub_posts['Tags'].apply(lambda t: ' '.join(re.findall(r\"\\<(\\w+)\\>\", t)))"
   ]
  },
  {
   "cell_type": "code",
   "execution_count": 68,
   "metadata": {},
   "outputs": [
    {
     "data": {
      "text/html": [
       "<div>\n",
       "<style scoped>\n",
       "    .dataframe tbody tr th:only-of-type {\n",
       "        vertical-align: middle;\n",
       "    }\n",
       "\n",
       "    .dataframe tbody tr th {\n",
       "        vertical-align: top;\n",
       "    }\n",
       "\n",
       "    .dataframe thead th {\n",
       "        text-align: right;\n",
       "    }\n",
       "</style>\n",
       "<table border=\"1\" class=\"dataframe\">\n",
       "  <thead>\n",
       "    <tr style=\"text-align: right;\">\n",
       "      <th></th>\n",
       "      <th>Id</th>\n",
       "      <th>Body</th>\n",
       "      <th>Title</th>\n",
       "      <th>Tags</th>\n",
       "    </tr>\n",
       "  </thead>\n",
       "  <tbody>\n",
       "    <tr>\n",
       "      <th>0</th>\n",
       "      <td>49104125</td>\n",
       "      <td>pam new jquery try create menu arrow click nee...</td>\n",
       "      <td>caret rotating working</td>\n",
       "      <td>jquery css html5</td>\n",
       "    </tr>\n",
       "    <tr>\n",
       "      <th>1</th>\n",
       "      <td>49104126</td>\n",
       "      <td>pwe working rewrite existing application need ...</td>\n",
       "      <td>parallel job execution splitandaggregate java</td>\n",
       "      <td>java multithreading jobs</td>\n",
       "    </tr>\n",
       "    <tr>\n",
       "      <th>2</th>\n",
       "      <td>49104127</td>\n",
       "      <td>pin graph explorer logged user application use...</td>\n",
       "      <td>microsoft graph unknown error calling contacts</td>\n",
       "      <td>azure msal</td>\n",
       "    </tr>\n",
       "    <tr>\n",
       "      <th>6</th>\n",
       "      <td>49104131</td>\n",
       "      <td>pim currently using google drive sdk ios app x...</td>\n",
       "      <td>class implemented derived data application ios...</td>\n",
       "      <td>ios swift xcode</td>\n",
       "    </tr>\n",
       "    <tr>\n",
       "      <th>7</th>\n",
       "      <td>49104132</td>\n",
       "      <td>pi 3 spinners cityspinner regionspinner branch...</td>\n",
       "      <td>filter spinner based spinner selection</td>\n",
       "      <td>android json</td>\n",
       "    </tr>\n",
       "  </tbody>\n",
       "</table>\n",
       "</div>"
      ],
      "text/plain": [
       "         Id                                               Body  \\\n",
       "0  49104125  pam new jquery try create menu arrow click nee...   \n",
       "1  49104126  pwe working rewrite existing application need ...   \n",
       "2  49104127  pin graph explorer logged user application use...   \n",
       "6  49104131  pim currently using google drive sdk ios app x...   \n",
       "7  49104132  pi 3 spinners cityspinner regionspinner branch...   \n",
       "\n",
       "                                               Title                      Tags  \n",
       "0                             caret rotating working          jquery css html5  \n",
       "1      parallel job execution splitandaggregate java  java multithreading jobs  \n",
       "2     microsoft graph unknown error calling contacts                azure msal  \n",
       "6  class implemented derived data application ios...           ios swift xcode  \n",
       "7             filter spinner based spinner selection              android json  "
      ]
     },
     "execution_count": 68,
     "metadata": {},
     "output_type": "execute_result"
    }
   ],
   "source": [
    "sub_posts.head()"
   ]
  },
  {
   "cell_type": "markdown",
   "metadata": {},
   "source": [
    "# Building a Bag of Words Model\n",
    "\n",
    "We will build a set of vectors $[i_0, i_1, i_2, \\dots, i_k]$ where $k$ is an integer that maps to the word corpus and $i_k$ represents the frequency of the mapped word for each post. "
   ]
  },
  {
   "cell_type": "code",
   "execution_count": 83,
   "metadata": {},
   "outputs": [],
   "source": [
    "# first count all the words globally\n",
    "word_count = Counter()\n",
    "for body in sub_posts['Body']:\n",
    "    word_count.update(Counter(body.split()))\n",
    "\n",
    "# lets give titles twice the weight because they are more important\n",
    "for title in sub_posts['Title']:\n",
    "    word_count.update(Counter(title.split() + title.split()))"
   ]
  },
  {
   "cell_type": "code",
   "execution_count": 98,
   "metadata": {},
   "outputs": [
    {
     "name": "stdout",
     "output_type": "stream",
     "text": [
      "Total number of unique tags 7805\n",
      "Ratio unique tag:total unique words 0.07616491827274945\n"
     ]
    }
   ],
   "source": [
    "# how many unique tags are there?\n",
    "tags_joined = list(itertools.chain.from_iterable([tag.split() for tag in sub_posts['Tags']]))\n",
    "n_unique_tags = set(tags_joined)\n",
    "print('Total number of unique tags', len(n_unique_tags))\n",
    "print('Ration: unique tag to total unique words', len(n_unique_tags)/len(tags_joined))"
   ]
  },
  {
   "cell_type": "code",
   "execution_count": 96,
   "metadata": {},
   "outputs": [
    {
     "name": "stdout",
     "output_type": "stream",
     "text": [
      "lt : 163657\n",
      "code : 147541\n",
      "gt : 61111\n",
      "p : 49782\n"
     ]
    }
   ],
   "source": [
    "# sort the words by frequency and limit to the number of tags we have in total\n",
    "most_common_words = sorted(word_count.items(), key=lambda x: -x[1])[:len(n_unique_tags)]\n",
    "\n",
    "# print the first few as an example\n",
    "count = 1\n",
    "for key, value in most_common_words:\n",
    "    if count < 5:\n",
    "        print(key, ':', value)\n",
    "        count += 1\n",
    "    else:\n",
    "        break"
   ]
  },
  {
   "cell_type": "code",
   "execution_count": null,
   "metadata": {},
   "outputs": [],
   "source": []
  }
 ],
 "metadata": {
  "kernelspec": {
   "display_name": "Python 3",
   "language": "python",
   "name": "python3"
  },
  "language_info": {
   "codemirror_mode": {
    "name": "ipython",
    "version": 3
   },
   "file_extension": ".py",
   "mimetype": "text/x-python",
   "name": "python",
   "nbconvert_exporter": "python",
   "pygments_lexer": "ipython3",
   "version": "3.6.4"
  },
  "toc": {
   "nav_menu": {},
   "number_sections": true,
   "sideBar": true,
   "skip_h1_title": false,
   "title_cell": "Table of Contents",
   "title_sidebar": "Contents",
   "toc_cell": false,
   "toc_position": {},
   "toc_section_display": true,
   "toc_window_display": true
  }
 },
 "nbformat": 4,
 "nbformat_minor": 2
}
