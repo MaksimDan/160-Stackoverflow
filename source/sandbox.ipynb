{
 "cells": [
  {
   "cell_type": "code",
   "execution_count": null,
   "metadata": {
    "collapsed": true
   },
   "outputs": [],
   "source": [
    "\"\"\"\n",
    "TODOs:\n",
    "What is the ratio of questions left answered? Len(unanswered q)/len(questions)\n",
    "len(questions[questions['AnswerCount'] == 0]) / len(questions)\n",
    "0.47054122630012185\n",
    "What is the ratio of questions without an accepted answer?\n",
    "len(unaswered) / len(questions)\n",
    "0.0006393223183425569\n",
    "What are some examples of interesting questions? \n",
    "List the 15 most upvoted questions that are unanswered.\n",
    "\"\"\""
   ]
  },
  {
   "cell_type": "code",
   "execution_count": null,
   "metadata": {
    "collapsed": true
   },
   "outputs": [],
   "source": [
    "import pandas as pd\n",
    "from collections import Counter\n",
    "PATH = '/Users/John/PycharmProjects/160-Stackoverflow/source/sandbox/300000_rows/'\n",
    "QUESTION = 1\n",
    "ANSWER = 2\n",
    "UP = 2\n",
    "DOWN = 3\n",
    "path = lambda x: PATH + x"
   ]
  },
  {
   "cell_type": "code",
   "execution_count": null,
   "metadata": {
    "collapsed": false
   },
   "outputs": [],
   "source": [
    "posts = pd.read_csv(path('Posts.csv'))\n",
    "votes = pd.read_csv(path('Votes.csv'))"
   ]
  },
  {
   "cell_type": "markdown",
   "metadata": {},
   "source": [
    "### What is the ratio of questions left answered?"
   ]
  },
  {
   "cell_type": "code",
   "execution_count": null,
   "metadata": {
    "collapsed": true
   },
   "outputs": [],
   "source": [
    "len(questions[questions['AnswerCount'] == 0]) / len(questions)"
   ]
  },
  {
   "cell_type": "code",
   "execution_count": null,
   "metadata": {
    "collapsed": false
   },
   "outputs": [],
   "source": [
    "questions = posts[posts['PostTypeId'] == QUESTION]\n",
    "unanswered = questions[questions['AcceptedAnswerId'].isna()]"
   ]
  },
  {
   "cell_type": "markdown",
   "metadata": {},
   "source": [
    "### What is the ratio of questions without an accepted answer?"
   ]
  },
  {
   "cell_type": "code",
   "execution_count": null,
   "metadata": {
    "collapsed": true
   },
   "outputs": [],
   "source": [
    "len(unaswered) / len(questions)"
   ]
  },
  {
   "cell_type": "code",
   "execution_count": null,
   "metadata": {
    "collapsed": false
   },
   "outputs": [],
   "source": [
    "unanswered.rename(columns = {'Id':'PostId'}, inplace = True)\n",
    "upvotes = votes[votes['VoteTypeId'] == UP]"
   ]
  },
  {
   "cell_type": "code",
   "execution_count": null,
   "metadata": {
    "collapsed": false
   },
   "outputs": [],
   "source": [
    "no_ans_q = questions[questions['AnswerCount'] == 0]\n",
    "no_ans_q.rename(columns = {'Id':'PostId'}, inplace = True)\n",
    "uv_no_ans = upvotes.join(no_ans_q.set_index('PostId'), on='PostId', how='inner', lsuffix='_x')"
   ]
  },
  {
   "cell_type": "code",
   "execution_count": null,
   "metadata": {
    "collapsed": false
   },
   "outputs": [],
   "source": [
    "# List the 15 most upvoted questions that are unanswered.\n",
    "top_uv_no_ans = Counter(uv_no_ans['PostId']).most_common(15)"
   ]
  },
  {
   "cell_type": "markdown",
   "metadata": {},
   "source": [
    "### List the 15 most upvoted questions that are unanswered."
   ]
  },
  {
   "cell_type": "code",
   "execution_count": null,
   "metadata": {
    "collapsed": false
   },
   "outputs": [],
   "source": [
    "unanswered.sort_values(by='Score',ascending=False)[:15]"
   ]
  },
  {
   "cell_type": "code",
   "execution_count": null,
   "metadata": {
    "collapsed": false
   },
   "outputs": [],
   "source": [
    "posts['CreationDate'] = pd.to_datetime(posts.CreationDate)\n",
    "posts.sort_values(by='CreationDate')[:10]"
   ]
  },
  {
   "cell_type": "code",
   "execution_count": null,
   "metadata": {
    "collapsed": false
   },
   "outputs": [],
   "source": [
    "posts.set_index('CreationDate',inplace=True)"
   ]
  },
  {
   "cell_type": "code",
   "execution_count": null,
   "metadata": {
    "collapsed": false
   },
   "outputs": [],
   "source": [
    "df['date_minus_time'] = df[\"CreationDate\"].apply( lambda df : \n",
    "datetime.datetime(year=df.year, month=df.month, day=df.day))\n",
    "df.set_index(df[\"date_minus_time\"],inplace=True)"
   ]
  },
  {
   "cell_type": "code",
   "execution_count": null,
   "metadata": {
    "collapsed": false
   },
   "outputs": [],
   "source": []
  },
  {
   "cell_type": "code",
   "execution_count": null,
   "metadata": {
    "collapsed": true
   },
   "outputs": [],
   "source": []
  }
 ],
 "metadata": {
  "kernelspec": {
   "display_name": "venv",
   "language": "python",
   "name": "venv"
  },
  "language_info": {
   "codemirror_mode": {
    "name": "ipython",
    "version": 3
   },
   "file_extension": ".py",
   "mimetype": "text/x-python",
   "name": "python",
   "nbconvert_exporter": "python",
   "pygments_lexer": "ipython3",
   "version": "3.6.3"
  }
 },
 "nbformat": 4,
 "nbformat_minor": 0
}
